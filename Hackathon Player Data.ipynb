{
 "cells": [
  {
   "cell_type": "code",
   "execution_count": 1,
   "metadata": {},
   "outputs": [],
   "source": [
    "from bs4 import BeautifulSoup\n",
    "from selenium  import webdriver\n",
    "from selenium.webdriver.common.by import By\n",
    "from selenium.common.exceptions import NoSuchElementException\n",
    "from selenium.webdriver.support.ui import WebDriverWait\n",
    "from selenium.webdriver.support import expected_conditions as EC\n",
    "import time \n",
    "import numpy as np\n",
    "import pandas as pd\n",
    "import matplotlib.pyplot as plt\n",
    "import seaborn as sns\n",
    "import warnings\n",
    "import requests\n",
    "\n",
    "\n",
    "warnings.filterwarnings('ignore')\n",
    "pd.set_option('display.max_columns', 200)\n",
    "pd.set_option('display.max_rows', 400)"
   ]
  },
  {
   "cell_type": "markdown",
   "metadata": {},
   "source": [
    "###### Collect Player Statistics for: Matches Played, Total Points, Successul Raids, Raid Points, Average Raid Points, Do or Die Raids, Super Raids, Super 10s"
   ]
  },
  {
   "cell_type": "markdown",
   "metadata": {},
   "source": [
    "###### Launch Web Browser (Chrome) using Selenium and launch the URL for player statistics"
   ]
  },
  {
   "cell_type": "code",
   "execution_count": 2,
   "metadata": {},
   "outputs": [],
   "source": [
    "driver = webdriver.Chrome()\n",
    "driver.get('https://www.prokabaddi.com/stats/0-102-total-points-statistics')\n",
    "time.sleep(10)"
   ]
  },
  {
   "cell_type": "code",
   "execution_count": 337,
   "metadata": {},
   "outputs": [],
   "source": [
    "#Select \"All Seasons\" data\n",
    "season = driver.find_element_by_id(\"season_dropdown\")\n",
    "season.send_keys(\"All Seasons\")\n",
    "time.sleep(5)"
   ]
  },
  {
   "cell_type": "markdown",
   "metadata": {},
   "source": [
    "###### Generate Total Points Data for each player and load to dataframe"
   ]
  },
  {
   "cell_type": "code",
   "execution_count": 338,
   "metadata": {},
   "outputs": [],
   "source": [
    "element = driver.find_element_by_id('load_more')\n",
    "while (driver.find_element_by_id('load_more')):\n",
    "       try:\n",
    "              element.click()\n",
    "       except Exception as e:\n",
    "           break\n",
    "\n",
    "time.sleep(5)\n",
    "\n",
    "player_name=[]\n",
    "soup = BeautifulSoup(driver.page_source)\n",
    "player_name = soup.findAll('div',attrs={'class':'sipk-lb-playerName'})\n",
    "x_player_name = list()\n",
    "for i in range(0, len(player_name)):\n",
    "    x_player_name.append(player_name[i].span.string.strip())\n",
    "\n",
    "\n",
    "player_rank=[]\n",
    "soup = BeautifulSoup(driver.page_source)\n",
    "player_rank = soup.findAll('div',attrs={'class':'sipk-lb-rank'})\n",
    "x_player_rank = list()\n",
    "for i in range(0, len(player_rank)):\n",
    "    x_player_rank.append(player_rank[i].span.string.strip())\n",
    "    \n",
    "player_matches_played=[]\n",
    "soup = BeautifulSoup(driver.page_source)\n",
    "player_matches_played = soup.findAll('div',attrs={'class':'sipk-lb-matchedPlayed'})\n",
    "x_player_matches_played = list()\n",
    "for i in range(0, len(player_matches_played)):\n",
    "    x_player_matches_played.append(player_matches_played[i].span.string.strip())\n",
    "    \n",
    "player_raid_points=[]\n",
    "soup = BeautifulSoup(driver.page_source)\n",
    "player_raid_points = soup.findAll('div',attrs={'class':'sipk-lb-raidPoints'})\n",
    "x_player_raid_points = list()\n",
    "for i in range(0, len(player_raid_points)):\n",
    "    x_player_raid_points.append(player_raid_points[i].span.string.strip())\n",
    "    \n",
    "player_latest_team=[]\n",
    "soup = BeautifulSoup(driver.page_source)\n",
    "player_latest_team = soup.findAll('a',attrs={'class':'sipk-lb-detailBlock sipk-lb-team'})\n",
    "x_player_latest_team = list()\n",
    "for i in range(0, len(player_latest_team)):\n",
    "    x_player_latest_team.append(player_latest_team[i].attrs['href'])\n",
    "for i in range(0, len(x_player_latest_team)):\n",
    "    if (x_player_latest_team[i].find('patna') != -1):\n",
    "        x_player_latest_team[i] = 'Patna Pirates'\n",
    "    elif (x_player_latest_team[i].find('tamil') != -1):\n",
    "        x_player_latest_team[i] = 'Tamil Thalaivas'\n",
    "    elif (x_player_latest_team[i].find('bengaluru') != -1):\n",
    "        x_player_latest_team[i] = 'Bengaluru Bulls'\n",
    "    elif (x_player_latest_team[i].find('jaipur') != -1):\n",
    "        x_player_latest_team[i] = 'Jaipur Pink Panthers'\n",
    "    elif (x_player_latest_team[i].find('bengal') != -1):\n",
    "        x_player_latest_team[i] = 'Bengal Warriors'\n",
    "    elif (x_player_latest_team[i].find('up-yoddha') != -1):\n",
    "        x_player_latest_team[i] = 'UP Yoddhas'\n",
    "    elif (x_player_latest_team[i].find('u-mumba') != -1):\n",
    "        x_player_latest_team[i] = 'U Mumba'\n",
    "    elif (x_player_latest_team[i].find('gujarat') != -1):\n",
    "        x_player_latest_team[i] = 'Gujarat Fortune Giants'\n",
    "    elif (x_player_latest_team[i].find('puneri') != -1):\n",
    "        x_player_latest_team[i] = 'Puneri Paltan'\n",
    "    elif (x_player_latest_team[i].find('dabang') != -1):\n",
    "        x_player_latest_team[i] = 'Delhi Dabangs'\n",
    "    elif (x_player_latest_team[i].find('haryana') != -1):\n",
    "        x_player_latest_team[i] = 'Haryana Steelers'\n",
    "    elif (x_player_latest_team[i].find('telugu') != -1):\n",
    "        x_player_latest_team[i] = 'Telugu Titans'\n",
    "\n",
    "all_seasons_player_total_points = pd.DataFrame()\n",
    "all_seasons_player_total_points['Player Rank'] = x_player_rank\n",
    "all_seasons_player_total_points['Player Name'] = x_player_name\n",
    "all_seasons_player_total_points['Latest Team'] = x_player_latest_team\n",
    "all_seasons_player_total_points['Matches Played'] = x_player_matches_played\n",
    "all_seasons_player_total_points['Total Points'] = x_player_raid_points\n",
    "\n",
    "all_seasons_player_total_points['Player Rank'] = all_seasons_player_total_points['Player Rank'].astype('float64')\n",
    "all_seasons_player_total_points['Player Rank'] = all_seasons_player_total_points['Player Rank'].astype('int64')\n",
    "all_seasons_player_total_points['Matches Played'] = all_seasons_player_total_points['Matches Played'].astype('int64')\n",
    "all_seasons_player_total_points['Total Points'] = all_seasons_player_total_points['Total Points'].astype('int64')"
   ]
  },
  {
   "cell_type": "code",
   "execution_count": 339,
   "metadata": {},
   "outputs": [
    {
     "data": {
      "text/html": [
       "<div>\n",
       "<style scoped>\n",
       "    .dataframe tbody tr th:only-of-type {\n",
       "        vertical-align: middle;\n",
       "    }\n",
       "\n",
       "    .dataframe tbody tr th {\n",
       "        vertical-align: top;\n",
       "    }\n",
       "\n",
       "    .dataframe thead th {\n",
       "        text-align: right;\n",
       "    }\n",
       "</style>\n",
       "<table border=\"1\" class=\"dataframe\">\n",
       "  <thead>\n",
       "    <tr style=\"text-align: right;\">\n",
       "      <th></th>\n",
       "      <th>Player Rank</th>\n",
       "      <th>Player Name</th>\n",
       "      <th>Latest Team</th>\n",
       "      <th>Matches Played</th>\n",
       "      <th>Total Points</th>\n",
       "    </tr>\n",
       "  </thead>\n",
       "  <tbody>\n",
       "    <tr>\n",
       "      <th>0</th>\n",
       "      <td>1</td>\n",
       "      <td>Pardeep Narwal</td>\n",
       "      <td>Patna Pirates</td>\n",
       "      <td>101</td>\n",
       "      <td>1055</td>\n",
       "    </tr>\n",
       "    <tr>\n",
       "      <th>1</th>\n",
       "      <td>2</td>\n",
       "      <td>Rahul Chaudhari</td>\n",
       "      <td>Tamil Thalaivas</td>\n",
       "      <td>117</td>\n",
       "      <td>991</td>\n",
       "    </tr>\n",
       "    <tr>\n",
       "      <th>2</th>\n",
       "      <td>3</td>\n",
       "      <td>Deepak Niwas Hooda</td>\n",
       "      <td>Jaipur Pink Panthers</td>\n",
       "      <td>119</td>\n",
       "      <td>905</td>\n",
       "    </tr>\n",
       "    <tr>\n",
       "      <th>3</th>\n",
       "      <td>4</td>\n",
       "      <td>Ajay Thakur</td>\n",
       "      <td>Tamil Thalaivas</td>\n",
       "      <td>115</td>\n",
       "      <td>811</td>\n",
       "    </tr>\n",
       "    <tr>\n",
       "      <th>4</th>\n",
       "      <td>5</td>\n",
       "      <td>Rohit Kumar</td>\n",
       "      <td>Bengaluru Bulls</td>\n",
       "      <td>88</td>\n",
       "      <td>689</td>\n",
       "    </tr>\n",
       "  </tbody>\n",
       "</table>\n",
       "</div>"
      ],
      "text/plain": [
       "   Player Rank         Player Name           Latest Team  Matches Played  \\\n",
       "0            1      Pardeep Narwal         Patna Pirates             101   \n",
       "1            2     Rahul Chaudhari       Tamil Thalaivas             117   \n",
       "2            3  Deepak Niwas Hooda  Jaipur Pink Panthers             119   \n",
       "3            4         Ajay Thakur       Tamil Thalaivas             115   \n",
       "4            5         Rohit Kumar       Bengaluru Bulls              88   \n",
       "\n",
       "   Total Points  \n",
       "0          1055  \n",
       "1           991  \n",
       "2           905  \n",
       "3           811  \n",
       "4           689  "
      ]
     },
     "execution_count": 339,
     "metadata": {},
     "output_type": "execute_result"
    }
   ],
   "source": [
    "all_seasons_player_total_points.head()"
   ]
  },
  {
   "cell_type": "code",
   "execution_count": 340,
   "metadata": {},
   "outputs": [
    {
     "name": "stdout",
     "output_type": "stream",
     "text": [
      "<class 'pandas.core.frame.DataFrame'>\n",
      "RangeIndex: 389 entries, 0 to 388\n",
      "Data columns (total 5 columns):\n",
      "Player Rank       389 non-null int64\n",
      "Player Name       389 non-null object\n",
      "Latest Team       389 non-null object\n",
      "Matches Played    389 non-null int64\n",
      "Total Points      389 non-null int64\n",
      "dtypes: int64(3), object(2)\n",
      "memory usage: 15.3+ KB\n"
     ]
    }
   ],
   "source": [
    "all_seasons_player_total_points.info()"
   ]
  },
  {
   "cell_type": "code",
   "execution_count": 341,
   "metadata": {},
   "outputs": [],
   "source": [
    "del x_player_rank, player_rank, x_player_name, player_name, x_player_latest_team, player_latest_team, x_player_matches_played, player_matches_played, x_player_raid_points, player_raid_points"
   ]
  },
  {
   "cell_type": "code",
   "execution_count": 342,
   "metadata": {},
   "outputs": [
    {
     "data": {
      "text/plain": [
       "False    372\n",
       "True      17\n",
       "Name: Player Name, dtype: int64"
      ]
     },
     "execution_count": 342,
     "metadata": {},
     "output_type": "execute_result"
    }
   ],
   "source": [
    "all_seasons_player_total_points['Player Name'].duplicated().value_counts()"
   ]
  },
  {
   "cell_type": "code",
   "execution_count": 343,
   "metadata": {},
   "outputs": [
    {
     "data": {
      "text/plain": [
       "False    388\n",
       "True       1\n",
       "dtype: int64"
      ]
     },
     "execution_count": 343,
     "metadata": {},
     "output_type": "execute_result"
    }
   ],
   "source": [
    "all_seasons_player_total_points[['Player Name', 'Matches Played']].duplicated().value_counts()"
   ]
  },
  {
   "cell_type": "markdown",
   "metadata": {},
   "source": [
    "###### Unique combination is Player Name, Matches Played"
   ]
  },
  {
   "cell_type": "markdown",
   "metadata": {},
   "source": [
    "###### Drop last duplicate row"
   ]
  },
  {
   "cell_type": "code",
   "execution_count": 344,
   "metadata": {},
   "outputs": [],
   "source": [
    "all_seasons_player_total_points.drop_duplicates(subset=['Player Name', 'Matches Played'], keep='first', inplace=True)"
   ]
  },
  {
   "cell_type": "code",
   "execution_count": 345,
   "metadata": {},
   "outputs": [
    {
     "data": {
      "text/plain": [
       "False    388\n",
       "dtype: int64"
      ]
     },
     "execution_count": 345,
     "metadata": {},
     "output_type": "execute_result"
    }
   ],
   "source": [
    "all_seasons_player_total_points[['Player Name', 'Matches Played']].duplicated().value_counts()"
   ]
  },
  {
   "cell_type": "code",
   "execution_count": 346,
   "metadata": {},
   "outputs": [
    {
     "name": "stdout",
     "output_type": "stream",
     "text": [
      "<class 'pandas.core.frame.DataFrame'>\n",
      "Int64Index: 388 entries, 0 to 388\n",
      "Data columns (total 5 columns):\n",
      "Player Rank       388 non-null int64\n",
      "Player Name       388 non-null object\n",
      "Latest Team       388 non-null object\n",
      "Matches Played    388 non-null int64\n",
      "Total Points      388 non-null int64\n",
      "dtypes: int64(3), object(2)\n",
      "memory usage: 18.2+ KB\n"
     ]
    }
   ],
   "source": [
    "all_seasons_player_total_points.info()"
   ]
  },
  {
   "cell_type": "markdown",
   "metadata": {},
   "source": [
    "###### Generate Sucessful Raids Data for each player and load to dataframe"
   ]
  },
  {
   "cell_type": "code",
   "execution_count": 347,
   "metadata": {},
   "outputs": [],
   "source": [
    "category = driver.find_element_by_id(\"si_dropdown\")\n",
    "category.send_keys(\"Successful Raids\")\n",
    "time.sleep(5)\n",
    "\n",
    "element = driver.find_element_by_id('load_more')\n",
    "while (driver.find_element_by_id('load_more')):\n",
    "       try:\n",
    "              element.click()\n",
    "       except Exception as e:\n",
    "           break\n",
    "\n",
    "player_name=[]\n",
    "soup = BeautifulSoup(driver.page_source)\n",
    "player_name = soup.findAll('div',attrs={'class':'sipk-lb-playerName'})\n",
    "x_player_name = list()\n",
    "for i in range(0, len(player_name)):\n",
    "    x_player_name.append(player_name[i].span.string.strip())\n",
    "\n",
    "\n",
    "player_rank=[]\n",
    "soup = BeautifulSoup(driver.page_source)\n",
    "player_rank = soup.findAll('div',attrs={'class':'sipk-lb-rank'})\n",
    "x_player_rank = list()\n",
    "for i in range(0, len(player_rank)):\n",
    "    x_player_rank.append(player_rank[i].span.string.strip())\n",
    "    \n",
    "player_matches_played=[]\n",
    "soup = BeautifulSoup(driver.page_source)\n",
    "player_matches_played = soup.findAll('div',attrs={'class':'sipk-lb-matchedPlayed'})\n",
    "x_player_matches_played = list()\n",
    "for i in range(0, len(player_matches_played)):\n",
    "    x_player_matches_played.append(player_matches_played[i].span.string.strip())\n",
    "    \n",
    "player_succeesful_raids=[]\n",
    "soup = BeautifulSoup(driver.page_source)\n",
    "player_succeesful_raids = soup.findAll('div',attrs={'class':'sipk-lb-raidPoints'})\n",
    "x_player_succeesful_raids = list()\n",
    "for i in range(0, len(player_succeesful_raids)):\n",
    "    x_player_succeesful_raids.append(player_succeesful_raids[i].span.string.strip())\n",
    "    \n",
    "player_latest_team=[]\n",
    "soup = BeautifulSoup(driver.page_source)\n",
    "player_latest_team = soup.findAll('a',attrs={'class':'sipk-lb-detailBlock sipk-lb-team'})\n",
    "x_player_latest_team = list()\n",
    "for i in range(0, len(player_latest_team)):\n",
    "    x_player_latest_team.append(player_latest_team[i].attrs['href'])\n",
    "for i in range(0, len(x_player_latest_team)):\n",
    "    if (x_player_latest_team[i].find('patna') != -1):\n",
    "        x_player_latest_team[i] = 'Patna Pirates'\n",
    "    elif (x_player_latest_team[i].find('tamil') != -1):\n",
    "        x_player_latest_team[i] = 'Tamil Thalaivas'\n",
    "    elif (x_player_latest_team[i].find('bengaluru') != -1):\n",
    "        x_player_latest_team[i] = 'Bengaluru Bulls'\n",
    "    elif (x_player_latest_team[i].find('jaipur') != -1):\n",
    "        x_player_latest_team[i] = 'Jaipur Pink Panthers'\n",
    "    elif (x_player_latest_team[i].find('bengal') != -1):\n",
    "        x_player_latest_team[i] = 'Bengal Warriors'\n",
    "    elif (x_player_latest_team[i].find('up-yoddha') != -1):\n",
    "        x_player_latest_team[i] = 'UP Yoddhas'\n",
    "    elif (x_player_latest_team[i].find('u-mumba') != -1):\n",
    "        x_player_latest_team[i] = 'U Mumba'\n",
    "    elif (x_player_latest_team[i].find('gujarat') != -1):\n",
    "        x_player_latest_team[i] = 'Gujarat Fortune Giants'\n",
    "    elif (x_player_latest_team[i].find('puneri') != -1):\n",
    "        x_player_latest_team[i] = 'Puneri Paltan'\n",
    "    elif (x_player_latest_team[i].find('dabang') != -1):\n",
    "        x_player_latest_team[i] = 'Delhi Dabangs'\n",
    "    elif (x_player_latest_team[i].find('haryana') != -1):\n",
    "        x_player_latest_team[i] = 'Haryana Steelers'\n",
    "    elif (x_player_latest_team[i].find('telugu') != -1):\n",
    "        x_player_latest_team[i] = 'Telugu Titans'\n",
    "\n",
    "all_seasons_player_successful_raids = pd.DataFrame()\n",
    "all_seasons_player_successful_raids['Player Rank'] = x_player_rank\n",
    "all_seasons_player_successful_raids['Player Name'] = x_player_name\n",
    "all_seasons_player_successful_raids['Latest Team'] = x_player_latest_team\n",
    "all_seasons_player_successful_raids['Matches Played'] = x_player_matches_played\n",
    "all_seasons_player_successful_raids['Successful Raids'] = x_player_succeesful_raids\n",
    "\n",
    "all_seasons_player_successful_raids['Player Rank'] = all_seasons_player_successful_raids['Player Rank'].astype('float64')\n",
    "all_seasons_player_successful_raids['Player Rank'] = all_seasons_player_successful_raids['Player Rank'].astype('int64')\n",
    "all_seasons_player_successful_raids['Matches Played'] = all_seasons_player_successful_raids['Matches Played'].astype('int64')\n",
    "all_seasons_player_successful_raids['Successful Raids'] = all_seasons_player_successful_raids['Successful Raids'].astype('int64')"
   ]
  },
  {
   "cell_type": "code",
   "execution_count": 348,
   "metadata": {},
   "outputs": [
    {
     "data": {
      "text/html": [
       "<div>\n",
       "<style scoped>\n",
       "    .dataframe tbody tr th:only-of-type {\n",
       "        vertical-align: middle;\n",
       "    }\n",
       "\n",
       "    .dataframe tbody tr th {\n",
       "        vertical-align: top;\n",
       "    }\n",
       "\n",
       "    .dataframe thead th {\n",
       "        text-align: right;\n",
       "    }\n",
       "</style>\n",
       "<table border=\"1\" class=\"dataframe\">\n",
       "  <thead>\n",
       "    <tr style=\"text-align: right;\">\n",
       "      <th></th>\n",
       "      <th>Player Rank</th>\n",
       "      <th>Player Name</th>\n",
       "      <th>Latest Team</th>\n",
       "      <th>Matches Played</th>\n",
       "      <th>Successful Raids</th>\n",
       "    </tr>\n",
       "  </thead>\n",
       "  <tbody>\n",
       "    <tr>\n",
       "      <th>0</th>\n",
       "      <td>1</td>\n",
       "      <td>Pardeep Narwal</td>\n",
       "      <td>Patna Pirates</td>\n",
       "      <td>101</td>\n",
       "      <td>798</td>\n",
       "    </tr>\n",
       "    <tr>\n",
       "      <th>1</th>\n",
       "      <td>2</td>\n",
       "      <td>Rahul Chaudhari</td>\n",
       "      <td>Tamil Thalaivas</td>\n",
       "      <td>117</td>\n",
       "      <td>766</td>\n",
       "    </tr>\n",
       "    <tr>\n",
       "      <th>2</th>\n",
       "      <td>3</td>\n",
       "      <td>Deepak Niwas Hooda</td>\n",
       "      <td>Jaipur Pink Panthers</td>\n",
       "      <td>119</td>\n",
       "      <td>670</td>\n",
       "    </tr>\n",
       "    <tr>\n",
       "      <th>3</th>\n",
       "      <td>4</td>\n",
       "      <td>Ajay Thakur</td>\n",
       "      <td>Tamil Thalaivas</td>\n",
       "      <td>115</td>\n",
       "      <td>640</td>\n",
       "    </tr>\n",
       "    <tr>\n",
       "      <th>4</th>\n",
       "      <td>5</td>\n",
       "      <td>Rohit Kumar</td>\n",
       "      <td>Bengaluru Bulls</td>\n",
       "      <td>88</td>\n",
       "      <td>535</td>\n",
       "    </tr>\n",
       "  </tbody>\n",
       "</table>\n",
       "</div>"
      ],
      "text/plain": [
       "   Player Rank         Player Name           Latest Team  Matches Played  \\\n",
       "0            1      Pardeep Narwal         Patna Pirates             101   \n",
       "1            2     Rahul Chaudhari       Tamil Thalaivas             117   \n",
       "2            3  Deepak Niwas Hooda  Jaipur Pink Panthers             119   \n",
       "3            4         Ajay Thakur       Tamil Thalaivas             115   \n",
       "4            5         Rohit Kumar       Bengaluru Bulls              88   \n",
       "\n",
       "   Successful Raids  \n",
       "0               798  \n",
       "1               766  \n",
       "2               670  \n",
       "3               640  \n",
       "4               535  "
      ]
     },
     "execution_count": 348,
     "metadata": {},
     "output_type": "execute_result"
    }
   ],
   "source": [
    "all_seasons_player_successful_raids.head()"
   ]
  },
  {
   "cell_type": "code",
   "execution_count": 349,
   "metadata": {},
   "outputs": [
    {
     "name": "stdout",
     "output_type": "stream",
     "text": [
      "<class 'pandas.core.frame.DataFrame'>\n",
      "RangeIndex: 270 entries, 0 to 269\n",
      "Data columns (total 5 columns):\n",
      "Player Rank         270 non-null int64\n",
      "Player Name         270 non-null object\n",
      "Latest Team         270 non-null object\n",
      "Matches Played      270 non-null int64\n",
      "Successful Raids    270 non-null int64\n",
      "dtypes: int64(3), object(2)\n",
      "memory usage: 10.6+ KB\n"
     ]
    }
   ],
   "source": [
    "all_seasons_player_successful_raids.info()"
   ]
  },
  {
   "cell_type": "code",
   "execution_count": 350,
   "metadata": {},
   "outputs": [],
   "source": [
    "del x_player_rank, player_rank, x_player_name, player_name, x_player_latest_team, player_latest_team, x_player_matches_played, player_matches_played, x_player_succeesful_raids, player_succeesful_raids"
   ]
  },
  {
   "cell_type": "code",
   "execution_count": 351,
   "metadata": {},
   "outputs": [
    {
     "data": {
      "text/plain": [
       "False    263\n",
       "True       7\n",
       "Name: Player Name, dtype: int64"
      ]
     },
     "execution_count": 351,
     "metadata": {},
     "output_type": "execute_result"
    }
   ],
   "source": [
    "all_seasons_player_successful_raids['Player Name'].duplicated().value_counts()"
   ]
  },
  {
   "cell_type": "code",
   "execution_count": 352,
   "metadata": {},
   "outputs": [
    {
     "data": {
      "text/plain": [
       "False    269\n",
       "True       1\n",
       "dtype: int64"
      ]
     },
     "execution_count": 352,
     "metadata": {},
     "output_type": "execute_result"
    }
   ],
   "source": [
    "all_seasons_player_successful_raids[['Player Name', 'Matches Played']].duplicated().value_counts()"
   ]
  },
  {
   "cell_type": "code",
   "execution_count": 353,
   "metadata": {},
   "outputs": [
    {
     "data": {
      "text/plain": [
       "False    268\n",
       "True       2\n",
       "dtype: int64"
      ]
     },
     "execution_count": 353,
     "metadata": {},
     "output_type": "execute_result"
    }
   ],
   "source": [
    "all_seasons_player_successful_raids[['Player Name', 'Latest Team']].duplicated().value_counts()"
   ]
  },
  {
   "cell_type": "markdown",
   "metadata": {},
   "source": [
    "###### Unique combination is Player Name, Matches Played"
   ]
  },
  {
   "cell_type": "markdown",
   "metadata": {},
   "source": [
    "###### Drop last duplicate row"
   ]
  },
  {
   "cell_type": "code",
   "execution_count": 354,
   "metadata": {},
   "outputs": [],
   "source": [
    "all_seasons_player_successful_raids.drop_duplicates(subset=['Player Name', 'Matches Played'], keep='first', inplace=True)"
   ]
  },
  {
   "cell_type": "code",
   "execution_count": 355,
   "metadata": {},
   "outputs": [
    {
     "data": {
      "text/plain": [
       "False    269\n",
       "dtype: int64"
      ]
     },
     "execution_count": 355,
     "metadata": {},
     "output_type": "execute_result"
    }
   ],
   "source": [
    "all_seasons_player_successful_raids[['Player Name', 'Matches Played']].duplicated().value_counts()"
   ]
  },
  {
   "cell_type": "code",
   "execution_count": 356,
   "metadata": {},
   "outputs": [
    {
     "name": "stdout",
     "output_type": "stream",
     "text": [
      "<class 'pandas.core.frame.DataFrame'>\n",
      "Int64Index: 269 entries, 0 to 269\n",
      "Data columns (total 5 columns):\n",
      "Player Rank         269 non-null int64\n",
      "Player Name         269 non-null object\n",
      "Latest Team         269 non-null object\n",
      "Matches Played      269 non-null int64\n",
      "Successful Raids    269 non-null int64\n",
      "dtypes: int64(3), object(2)\n",
      "memory usage: 12.6+ KB\n"
     ]
    }
   ],
   "source": [
    "all_seasons_player_successful_raids.info()"
   ]
  },
  {
   "cell_type": "markdown",
   "metadata": {},
   "source": [
    "###### Generate Raid Points Data for each player and load to dataframe"
   ]
  },
  {
   "cell_type": "code",
   "execution_count": 357,
   "metadata": {},
   "outputs": [],
   "source": [
    "category = driver.find_element_by_id(\"si_dropdown\")\n",
    "category.send_keys(\"Raid Points\")\n",
    "time.sleep(5)\n",
    "\n",
    "element = driver.find_element_by_id('load_more')\n",
    "while (driver.find_element_by_id('load_more')):\n",
    "       try:\n",
    "              element.click()\n",
    "       except Exception as e:\n",
    "           break\n",
    "\n",
    "time.sleep(5)\n",
    "\n",
    "player_name=[]\n",
    "soup = BeautifulSoup(driver.page_source)\n",
    "player_name = soup.findAll('div',attrs={'class':'sipk-lb-playerName'})\n",
    "x_player_name = list()\n",
    "for i in range(0, len(player_name)):\n",
    "    x_player_name.append(player_name[i].span.string.strip())\n",
    "\n",
    "\n",
    "player_rank=[]\n",
    "soup = BeautifulSoup(driver.page_source)\n",
    "player_rank = soup.findAll('div',attrs={'class':'sipk-lb-rank'})\n",
    "x_player_rank = list()\n",
    "for i in range(0, len(player_rank)):\n",
    "    x_player_rank.append(player_rank[i].span.string.strip())\n",
    "    \n",
    "player_matches_played=[]\n",
    "soup = BeautifulSoup(driver.page_source)\n",
    "player_matches_played = soup.findAll('div',attrs={'class':'sipk-lb-matchedPlayed'})\n",
    "x_player_matches_played = list()\n",
    "for i in range(0, len(player_matches_played)):\n",
    "    x_player_matches_played.append(player_matches_played[i].span.string.strip())\n",
    "    \n",
    "player_raid_points=[]\n",
    "soup = BeautifulSoup(driver.page_source)\n",
    "player_raid_points = soup.findAll('div',attrs={'class':'sipk-lb-raidPoints'})\n",
    "x_player_raid_points = list()\n",
    "for i in range(0, len(player_raid_points)):\n",
    "    x_player_raid_points.append(player_raid_points[i].span.string.strip())\n",
    "    \n",
    "player_latest_team=[]\n",
    "soup = BeautifulSoup(driver.page_source)\n",
    "player_latest_team = soup.findAll('a',attrs={'class':'sipk-lb-detailBlock sipk-lb-team'})\n",
    "x_player_latest_team = list()\n",
    "for i in range(0, len(player_latest_team)):\n",
    "    x_player_latest_team.append(player_latest_team[i].attrs['href'])\n",
    "for i in range(0, len(x_player_latest_team)):\n",
    "    if (x_player_latest_team[i].find('patna') != -1):\n",
    "        x_player_latest_team[i] = 'Patna Pirates'\n",
    "    elif (x_player_latest_team[i].find('tamil') != -1):\n",
    "        x_player_latest_team[i] = 'Tamil Thalaivas'\n",
    "    elif (x_player_latest_team[i].find('bengaluru') != -1):\n",
    "        x_player_latest_team[i] = 'Bengaluru Bulls'\n",
    "    elif (x_player_latest_team[i].find('jaipur') != -1):\n",
    "        x_player_latest_team[i] = 'Jaipur Pink Panthers'\n",
    "    elif (x_player_latest_team[i].find('bengal') != -1):\n",
    "        x_player_latest_team[i] = 'Bengal Warriors'\n",
    "    elif (x_player_latest_team[i].find('up-yoddha') != -1):\n",
    "        x_player_latest_team[i] = 'UP Yoddhas'\n",
    "    elif (x_player_latest_team[i].find('u-mumba') != -1):\n",
    "        x_player_latest_team[i] = 'U Mumba'\n",
    "    elif (x_player_latest_team[i].find('gujarat') != -1):\n",
    "        x_player_latest_team[i] = 'Gujarat Fortune Giants'\n",
    "    elif (x_player_latest_team[i].find('puneri') != -1):\n",
    "        x_player_latest_team[i] = 'Puneri Paltan'\n",
    "    elif (x_player_latest_team[i].find('dabang') != -1):\n",
    "        x_player_latest_team[i] = 'Delhi Dabangs'\n",
    "    elif (x_player_latest_team[i].find('haryana') != -1):\n",
    "        x_player_latest_team[i] = 'Haryana Steelers'\n",
    "    elif (x_player_latest_team[i].find('telugu') != -1):\n",
    "        x_player_latest_team[i] = 'Telugu Titans'\n",
    "\n",
    "all_seasons_player_raid_points = pd.DataFrame()\n",
    "all_seasons_player_raid_points['Player Rank'] = x_player_rank\n",
    "all_seasons_player_raid_points['Player Name'] = x_player_name\n",
    "all_seasons_player_raid_points['Latest Team'] = x_player_latest_team\n",
    "all_seasons_player_raid_points['Matches Played'] = x_player_matches_played\n",
    "all_seasons_player_raid_points['Raid Points'] = x_player_raid_points\n",
    "\n",
    "all_seasons_player_raid_points['Player Rank'] = all_seasons_player_raid_points['Player Rank'].astype('float64')\n",
    "all_seasons_player_raid_points['Player Rank'] = all_seasons_player_raid_points['Player Rank'].astype('int64')\n",
    "all_seasons_player_raid_points['Matches Played'] = all_seasons_player_raid_points['Matches Played'].astype('int64')\n",
    "all_seasons_player_raid_points['Raid Points'] = all_seasons_player_raid_points['Raid Points'].astype('int64')"
   ]
  },
  {
   "cell_type": "code",
   "execution_count": 358,
   "metadata": {},
   "outputs": [
    {
     "data": {
      "text/html": [
       "<div>\n",
       "<style scoped>\n",
       "    .dataframe tbody tr th:only-of-type {\n",
       "        vertical-align: middle;\n",
       "    }\n",
       "\n",
       "    .dataframe tbody tr th {\n",
       "        vertical-align: top;\n",
       "    }\n",
       "\n",
       "    .dataframe thead th {\n",
       "        text-align: right;\n",
       "    }\n",
       "</style>\n",
       "<table border=\"1\" class=\"dataframe\">\n",
       "  <thead>\n",
       "    <tr style=\"text-align: right;\">\n",
       "      <th></th>\n",
       "      <th>Player Rank</th>\n",
       "      <th>Player Name</th>\n",
       "      <th>Latest Team</th>\n",
       "      <th>Matches Played</th>\n",
       "      <th>Raid Points</th>\n",
       "    </tr>\n",
       "  </thead>\n",
       "  <tbody>\n",
       "    <tr>\n",
       "      <th>0</th>\n",
       "      <td>1</td>\n",
       "      <td>Pardeep Narwal</td>\n",
       "      <td>Patna Pirates</td>\n",
       "      <td>101</td>\n",
       "      <td>1048</td>\n",
       "    </tr>\n",
       "    <tr>\n",
       "      <th>1</th>\n",
       "      <td>2</td>\n",
       "      <td>Rahul Chaudhari</td>\n",
       "      <td>Tamil Thalaivas</td>\n",
       "      <td>117</td>\n",
       "      <td>933</td>\n",
       "    </tr>\n",
       "    <tr>\n",
       "      <th>2</th>\n",
       "      <td>3</td>\n",
       "      <td>Deepak Niwas Hooda</td>\n",
       "      <td>Jaipur Pink Panthers</td>\n",
       "      <td>119</td>\n",
       "      <td>820</td>\n",
       "    </tr>\n",
       "    <tr>\n",
       "      <th>3</th>\n",
       "      <td>4</td>\n",
       "      <td>Ajay Thakur</td>\n",
       "      <td>Tamil Thalaivas</td>\n",
       "      <td>115</td>\n",
       "      <td>790</td>\n",
       "    </tr>\n",
       "    <tr>\n",
       "      <th>4</th>\n",
       "      <td>5</td>\n",
       "      <td>Maninder Singh</td>\n",
       "      <td>Bengal Warriors</td>\n",
       "      <td>75</td>\n",
       "      <td>664</td>\n",
       "    </tr>\n",
       "  </tbody>\n",
       "</table>\n",
       "</div>"
      ],
      "text/plain": [
       "   Player Rank         Player Name           Latest Team  Matches Played  \\\n",
       "0            1      Pardeep Narwal         Patna Pirates             101   \n",
       "1            2     Rahul Chaudhari       Tamil Thalaivas             117   \n",
       "2            3  Deepak Niwas Hooda  Jaipur Pink Panthers             119   \n",
       "3            4         Ajay Thakur       Tamil Thalaivas             115   \n",
       "4            5      Maninder Singh       Bengal Warriors              75   \n",
       "\n",
       "   Raid Points  \n",
       "0         1048  \n",
       "1          933  \n",
       "2          820  \n",
       "3          790  \n",
       "4          664  "
      ]
     },
     "execution_count": 358,
     "metadata": {},
     "output_type": "execute_result"
    }
   ],
   "source": [
    "all_seasons_player_raid_points.head()"
   ]
  },
  {
   "cell_type": "code",
   "execution_count": 359,
   "metadata": {},
   "outputs": [
    {
     "name": "stdout",
     "output_type": "stream",
     "text": [
      "<class 'pandas.core.frame.DataFrame'>\n",
      "RangeIndex: 285 entries, 0 to 284\n",
      "Data columns (total 5 columns):\n",
      "Player Rank       285 non-null int64\n",
      "Player Name       285 non-null object\n",
      "Latest Team       285 non-null object\n",
      "Matches Played    285 non-null int64\n",
      "Raid Points       285 non-null int64\n",
      "dtypes: int64(3), object(2)\n",
      "memory usage: 11.2+ KB\n"
     ]
    }
   ],
   "source": [
    "all_seasons_player_raid_points.info()"
   ]
  },
  {
   "cell_type": "code",
   "execution_count": 360,
   "metadata": {},
   "outputs": [],
   "source": [
    "del x_player_rank, player_rank, x_player_name, player_name, x_player_latest_team, player_latest_team, x_player_matches_played, player_matches_played, x_player_raid_points, player_raid_points"
   ]
  },
  {
   "cell_type": "code",
   "execution_count": 361,
   "metadata": {},
   "outputs": [
    {
     "data": {
      "text/plain": [
       "False    276\n",
       "True       9\n",
       "Name: Player Name, dtype: int64"
      ]
     },
     "execution_count": 361,
     "metadata": {},
     "output_type": "execute_result"
    }
   ],
   "source": [
    "all_seasons_player_raid_points['Player Name'].duplicated().value_counts()"
   ]
  },
  {
   "cell_type": "code",
   "execution_count": 362,
   "metadata": {},
   "outputs": [
    {
     "data": {
      "text/plain": [
       "False    284\n",
       "True       1\n",
       "dtype: int64"
      ]
     },
     "execution_count": 362,
     "metadata": {},
     "output_type": "execute_result"
    }
   ],
   "source": [
    "all_seasons_player_raid_points[['Player Name', 'Matches Played']].duplicated().value_counts()"
   ]
  },
  {
   "cell_type": "markdown",
   "metadata": {},
   "source": [
    "###### Unique combination is Player Name, Matches Played"
   ]
  },
  {
   "cell_type": "markdown",
   "metadata": {},
   "source": [
    "###### Drop last duplicate row"
   ]
  },
  {
   "cell_type": "code",
   "execution_count": 363,
   "metadata": {},
   "outputs": [],
   "source": [
    "all_seasons_player_raid_points.drop_duplicates(subset=['Player Name', 'Matches Played'], keep='first', inplace=True)"
   ]
  },
  {
   "cell_type": "code",
   "execution_count": 364,
   "metadata": {},
   "outputs": [
    {
     "data": {
      "text/plain": [
       "False    284\n",
       "dtype: int64"
      ]
     },
     "execution_count": 364,
     "metadata": {},
     "output_type": "execute_result"
    }
   ],
   "source": [
    "all_seasons_player_raid_points[['Player Name', 'Matches Played']].duplicated().value_counts()"
   ]
  },
  {
   "cell_type": "code",
   "execution_count": 365,
   "metadata": {},
   "outputs": [
    {
     "name": "stdout",
     "output_type": "stream",
     "text": [
      "<class 'pandas.core.frame.DataFrame'>\n",
      "Int64Index: 284 entries, 0 to 284\n",
      "Data columns (total 5 columns):\n",
      "Player Rank       284 non-null int64\n",
      "Player Name       284 non-null object\n",
      "Latest Team       284 non-null object\n",
      "Matches Played    284 non-null int64\n",
      "Raid Points       284 non-null int64\n",
      "dtypes: int64(3), object(2)\n",
      "memory usage: 13.3+ KB\n"
     ]
    }
   ],
   "source": [
    "all_seasons_player_raid_points.info()"
   ]
  },
  {
   "cell_type": "code",
   "execution_count": 366,
   "metadata": {},
   "outputs": [],
   "source": [
    "category = driver.find_element_by_id(\"si_dropdown\")\n",
    "category.send_keys(\"Avg raid points\")\n",
    "time.sleep(5)\n",
    "\n",
    "element = driver.find_element_by_id('load_more')\n",
    "while (driver.find_element_by_id('load_more')):\n",
    "       try:\n",
    "              element.click()\n",
    "       except Exception as e:\n",
    "           break\n",
    "\n",
    "time.sleep(5)\n",
    "\n",
    "player_name=[]\n",
    "soup = BeautifulSoup(driver.page_source)\n",
    "player_name = soup.findAll('div',attrs={'class':'sipk-lb-playerName'})\n",
    "x_player_name = list()\n",
    "for i in range(0, len(player_name)):\n",
    "    x_player_name.append(player_name[i].span.string.strip())\n",
    "\n",
    "\n",
    "player_rank=[]\n",
    "soup = BeautifulSoup(driver.page_source)\n",
    "player_rank = soup.findAll('div',attrs={'class':'sipk-lb-rank'})\n",
    "x_player_rank = list()\n",
    "for i in range(0, len(player_rank)):\n",
    "    x_player_rank.append(player_rank[i].span.string.strip())\n",
    "    \n",
    "player_matches_played=[]\n",
    "soup = BeautifulSoup(driver.page_source)\n",
    "player_matches_played = soup.findAll('div',attrs={'class':'sipk-lb-matchedPlayed'})\n",
    "x_player_matches_played = list()\n",
    "for i in range(0, len(player_matches_played)):\n",
    "    x_player_matches_played.append(player_matches_played[i].span.string.strip())\n",
    "    \n",
    "player_average_raid_points=[]\n",
    "soup = BeautifulSoup(driver.page_source)\n",
    "player_average_raid_points = soup.findAll('div',attrs={'class':'sipk-lb-raidPoints'})\n",
    "x_player_average_raid_points = list()\n",
    "for i in range(0, len(player_average_raid_points)):\n",
    "    x_player_average_raid_points.append(player_average_raid_points[i].span.string.strip())\n",
    "    \n",
    "player_latest_team=[]\n",
    "soup = BeautifulSoup(driver.page_source)\n",
    "player_latest_team = soup.findAll('a',attrs={'class':'sipk-lb-detailBlock sipk-lb-team'})\n",
    "x_player_latest_team = list()\n",
    "for i in range(0, len(player_latest_team)):\n",
    "    x_player_latest_team.append(player_latest_team[i].attrs['href'])\n",
    "for i in range(0, len(x_player_latest_team)):\n",
    "    if (x_player_latest_team[i].find('patna') != -1):\n",
    "        x_player_latest_team[i] = 'Patna Pirates'\n",
    "    elif (x_player_latest_team[i].find('tamil') != -1):\n",
    "        x_player_latest_team[i] = 'Tamil Thalaivas'\n",
    "    elif (x_player_latest_team[i].find('bengaluru') != -1):\n",
    "        x_player_latest_team[i] = 'Bengaluru Bulls'\n",
    "    elif (x_player_latest_team[i].find('jaipur') != -1):\n",
    "        x_player_latest_team[i] = 'Jaipur Pink Panthers'\n",
    "    elif (x_player_latest_team[i].find('bengal') != -1):\n",
    "        x_player_latest_team[i] = 'Bengal Warriors'\n",
    "    elif (x_player_latest_team[i].find('up-yoddha') != -1):\n",
    "        x_player_latest_team[i] = 'UP Yoddhas'\n",
    "    elif (x_player_latest_team[i].find('u-mumba') != -1):\n",
    "        x_player_latest_team[i] = 'U Mumba'\n",
    "    elif (x_player_latest_team[i].find('gujarat') != -1):\n",
    "        x_player_latest_team[i] = 'Gujarat Fortune Giants'\n",
    "    elif (x_player_latest_team[i].find('puneri') != -1):\n",
    "        x_player_latest_team[i] = 'Puneri Paltan'\n",
    "    elif (x_player_latest_team[i].find('dabang') != -1):\n",
    "        x_player_latest_team[i] = 'Delhi Dabangs'\n",
    "    elif (x_player_latest_team[i].find('haryana') != -1):\n",
    "        x_player_latest_team[i] = 'Haryana Steelers'\n",
    "    elif (x_player_latest_team[i].find('telugu') != -1):\n",
    "        x_player_latest_team[i] = 'Telugu Titans'\n",
    "\n",
    "all_seasons_player_average_raid_points = pd.DataFrame()\n",
    "all_seasons_player_average_raid_points['Player Rank'] = x_player_rank\n",
    "all_seasons_player_average_raid_points['Player Name'] = x_player_name\n",
    "all_seasons_player_average_raid_points['Latest Team'] = x_player_latest_team\n",
    "all_seasons_player_average_raid_points['Matches Played'] = x_player_matches_played\n",
    "all_seasons_player_average_raid_points['Average Raid Points'] = x_player_average_raid_points\n",
    "\n",
    "all_seasons_player_average_raid_points['Player Rank'] = all_seasons_player_average_raid_points['Player Rank'].astype('float64')\n",
    "all_seasons_player_average_raid_points['Player Rank'] = all_seasons_player_average_raid_points['Player Rank'].astype('int64')\n",
    "all_seasons_player_average_raid_points['Matches Played'] = all_seasons_player_average_raid_points['Matches Played'].astype('int64')\n",
    "all_seasons_player_average_raid_points['Average Raid Points'] = all_seasons_player_average_raid_points['Average Raid Points'].astype('float64')"
   ]
  },
  {
   "cell_type": "code",
   "execution_count": 367,
   "metadata": {},
   "outputs": [
    {
     "data": {
      "text/html": [
       "<div>\n",
       "<style scoped>\n",
       "    .dataframe tbody tr th:only-of-type {\n",
       "        vertical-align: middle;\n",
       "    }\n",
       "\n",
       "    .dataframe tbody tr th {\n",
       "        vertical-align: top;\n",
       "    }\n",
       "\n",
       "    .dataframe thead th {\n",
       "        text-align: right;\n",
       "    }\n",
       "</style>\n",
       "<table border=\"1\" class=\"dataframe\">\n",
       "  <thead>\n",
       "    <tr style=\"text-align: right;\">\n",
       "      <th></th>\n",
       "      <th>Player Rank</th>\n",
       "      <th>Player Name</th>\n",
       "      <th>Latest Team</th>\n",
       "      <th>Matches Played</th>\n",
       "      <th>Average Raid Points</th>\n",
       "    </tr>\n",
       "  </thead>\n",
       "  <tbody>\n",
       "    <tr>\n",
       "      <th>0</th>\n",
       "      <td>1</td>\n",
       "      <td>Pardeep Narwal</td>\n",
       "      <td>Patna Pirates</td>\n",
       "      <td>101</td>\n",
       "      <td>10.48</td>\n",
       "    </tr>\n",
       "    <tr>\n",
       "      <th>1</th>\n",
       "      <td>2</td>\n",
       "      <td>Naveen Kumar</td>\n",
       "      <td>Delhi Dabangs</td>\n",
       "      <td>38</td>\n",
       "      <td>9.71</td>\n",
       "    </tr>\n",
       "    <tr>\n",
       "      <th>2</th>\n",
       "      <td>3</td>\n",
       "      <td>Siddharth Sirish Desai</td>\n",
       "      <td>Telugu Titans</td>\n",
       "      <td>36</td>\n",
       "      <td>9.53</td>\n",
       "    </tr>\n",
       "    <tr>\n",
       "      <th>3</th>\n",
       "      <td>4</td>\n",
       "      <td>Maninder Singh</td>\n",
       "      <td>Bengal Warriors</td>\n",
       "      <td>75</td>\n",
       "      <td>8.85</td>\n",
       "    </tr>\n",
       "    <tr>\n",
       "      <th>4</th>\n",
       "      <td>5</td>\n",
       "      <td>Rahul Chaudhari</td>\n",
       "      <td>Tamil Thalaivas</td>\n",
       "      <td>117</td>\n",
       "      <td>7.97</td>\n",
       "    </tr>\n",
       "  </tbody>\n",
       "</table>\n",
       "</div>"
      ],
      "text/plain": [
       "   Player Rank             Player Name      Latest Team  Matches Played  \\\n",
       "0            1          Pardeep Narwal    Patna Pirates             101   \n",
       "1            2            Naveen Kumar    Delhi Dabangs              38   \n",
       "2            3  Siddharth Sirish Desai    Telugu Titans              36   \n",
       "3            4          Maninder Singh  Bengal Warriors              75   \n",
       "4            5         Rahul Chaudhari  Tamil Thalaivas             117   \n",
       "\n",
       "   Average Raid Points  \n",
       "0                10.48  \n",
       "1                 9.71  \n",
       "2                 9.53  \n",
       "3                 8.85  \n",
       "4                 7.97  "
      ]
     },
     "execution_count": 367,
     "metadata": {},
     "output_type": "execute_result"
    }
   ],
   "source": [
    "all_seasons_player_average_raid_points.head()"
   ]
  },
  {
   "cell_type": "code",
   "execution_count": 368,
   "metadata": {},
   "outputs": [
    {
     "name": "stdout",
     "output_type": "stream",
     "text": [
      "<class 'pandas.core.frame.DataFrame'>\n",
      "RangeIndex: 255 entries, 0 to 254\n",
      "Data columns (total 5 columns):\n",
      "Player Rank            255 non-null int64\n",
      "Player Name            255 non-null object\n",
      "Latest Team            255 non-null object\n",
      "Matches Played         255 non-null int64\n",
      "Average Raid Points    255 non-null float64\n",
      "dtypes: float64(1), int64(2), object(2)\n",
      "memory usage: 10.0+ KB\n"
     ]
    }
   ],
   "source": [
    "all_seasons_player_average_raid_points.info()"
   ]
  },
  {
   "cell_type": "code",
   "execution_count": 369,
   "metadata": {},
   "outputs": [],
   "source": [
    "del x_player_rank, player_rank, x_player_name, player_name, x_player_latest_team, player_latest_team, x_player_matches_played, player_matches_played, x_player_average_raid_points, player_average_raid_points"
   ]
  },
  {
   "cell_type": "code",
   "execution_count": 370,
   "metadata": {},
   "outputs": [
    {
     "data": {
      "text/plain": [
       "False    249\n",
       "True       6\n",
       "Name: Player Name, dtype: int64"
      ]
     },
     "execution_count": 370,
     "metadata": {},
     "output_type": "execute_result"
    }
   ],
   "source": [
    "all_seasons_player_average_raid_points['Player Name'].duplicated().value_counts()"
   ]
  },
  {
   "cell_type": "code",
   "execution_count": 371,
   "metadata": {},
   "outputs": [
    {
     "data": {
      "text/plain": [
       "False    254\n",
       "True       1\n",
       "dtype: int64"
      ]
     },
     "execution_count": 371,
     "metadata": {},
     "output_type": "execute_result"
    }
   ],
   "source": [
    "all_seasons_player_average_raid_points[['Player Name', 'Matches Played']].duplicated().value_counts()"
   ]
  },
  {
   "cell_type": "markdown",
   "metadata": {},
   "source": [
    "###### Unique combination is Player Name, Matches Played"
   ]
  },
  {
   "cell_type": "markdown",
   "metadata": {},
   "source": [
    "###### Drop last duplicate row"
   ]
  },
  {
   "cell_type": "code",
   "execution_count": 372,
   "metadata": {},
   "outputs": [],
   "source": [
    "all_seasons_player_average_raid_points.drop_duplicates(subset=['Player Name', 'Matches Played'], keep='first', inplace=True)"
   ]
  },
  {
   "cell_type": "code",
   "execution_count": 373,
   "metadata": {},
   "outputs": [
    {
     "data": {
      "text/plain": [
       "False    254\n",
       "dtype: int64"
      ]
     },
     "execution_count": 373,
     "metadata": {},
     "output_type": "execute_result"
    }
   ],
   "source": [
    "all_seasons_player_average_raid_points[['Player Name', 'Matches Played']].duplicated().value_counts()"
   ]
  },
  {
   "cell_type": "code",
   "execution_count": 374,
   "metadata": {},
   "outputs": [
    {
     "name": "stdout",
     "output_type": "stream",
     "text": [
      "<class 'pandas.core.frame.DataFrame'>\n",
      "Int64Index: 254 entries, 0 to 254\n",
      "Data columns (total 5 columns):\n",
      "Player Rank            254 non-null int64\n",
      "Player Name            254 non-null object\n",
      "Latest Team            254 non-null object\n",
      "Matches Played         254 non-null int64\n",
      "Average Raid Points    254 non-null float64\n",
      "dtypes: float64(1), int64(2), object(2)\n",
      "memory usage: 11.9+ KB\n"
     ]
    }
   ],
   "source": [
    "all_seasons_player_average_raid_points.info()"
   ]
  },
  {
   "cell_type": "markdown",
   "metadata": {},
   "source": [
    "###### Generate Do or Die Raid Points Data for each player and load to dataframe"
   ]
  },
  {
   "cell_type": "code",
   "execution_count": 375,
   "metadata": {},
   "outputs": [],
   "source": [
    "category = driver.find_element_by_id(\"si_dropdown\")\n",
    "category.send_keys(\"Do or Die raid points\")\n",
    "time.sleep(5)\n",
    "\n",
    "element = driver.find_element_by_id('load_more')\n",
    "while (driver.find_element_by_id('load_more')):\n",
    "       try:\n",
    "              element.click()\n",
    "       except Exception as e:\n",
    "           break\n",
    "\n",
    "time.sleep(5)\n",
    "\n",
    "player_name=[]\n",
    "soup = BeautifulSoup(driver.page_source)\n",
    "player_name = soup.findAll('div',attrs={'class':'sipk-lb-playerName'})\n",
    "x_player_name = list()\n",
    "for i in range(0, len(player_name)):\n",
    "    x_player_name.append(player_name[i].span.string.strip())\n",
    "\n",
    "\n",
    "player_rank=[]\n",
    "soup = BeautifulSoup(driver.page_source)\n",
    "player_rank = soup.findAll('div',attrs={'class':'sipk-lb-rank'})\n",
    "x_player_rank = list()\n",
    "for i in range(0, len(player_rank)):\n",
    "    x_player_rank.append(player_rank[i].span.string.strip())\n",
    "    \n",
    "player_matches_played=[]\n",
    "soup = BeautifulSoup(driver.page_source)\n",
    "player_matches_played = soup.findAll('div',attrs={'class':'sipk-lb-matchedPlayed'})\n",
    "x_player_matches_played = list()\n",
    "for i in range(0, len(player_matches_played)):\n",
    "    x_player_matches_played.append(player_matches_played[i].span.string.strip())\n",
    "    \n",
    "player_do_or_die_raid_points=[]\n",
    "soup = BeautifulSoup(driver.page_source)\n",
    "player_do_or_die_raid_points = soup.findAll('div',attrs={'class':'sipk-lb-raidPoints'})\n",
    "x_player_do_or_die_raid_points = list()\n",
    "for i in range(0, len(player_do_or_die_raid_points)):\n",
    "    x_player_do_or_die_raid_points.append(player_do_or_die_raid_points[i].span.string.strip())\n",
    "    \n",
    "player_latest_team=[]\n",
    "soup = BeautifulSoup(driver.page_source)\n",
    "player_latest_team = soup.findAll('a',attrs={'class':'sipk-lb-detailBlock sipk-lb-team'})\n",
    "x_player_latest_team = list()\n",
    "for i in range(0, len(player_latest_team)):\n",
    "    x_player_latest_team.append(player_latest_team[i].attrs['href'])\n",
    "for i in range(0, len(x_player_latest_team)):\n",
    "    if (x_player_latest_team[i].find('patna') != -1):\n",
    "        x_player_latest_team[i] = 'Patna Pirates'\n",
    "    elif (x_player_latest_team[i].find('tamil') != -1):\n",
    "        x_player_latest_team[i] = 'Tamil Thalaivas'\n",
    "    elif (x_player_latest_team[i].find('bengaluru') != -1):\n",
    "        x_player_latest_team[i] = 'Bengaluru Bulls'\n",
    "    elif (x_player_latest_team[i].find('jaipur') != -1):\n",
    "        x_player_latest_team[i] = 'Jaipur Pink Panthers'\n",
    "    elif (x_player_latest_team[i].find('bengal') != -1):\n",
    "        x_player_latest_team[i] = 'Bengal Warriors'\n",
    "    elif (x_player_latest_team[i].find('up-yoddha') != -1):\n",
    "        x_player_latest_team[i] = 'UP Yoddhas'\n",
    "    elif (x_player_latest_team[i].find('u-mumba') != -1):\n",
    "        x_player_latest_team[i] = 'U Mumba'\n",
    "    elif (x_player_latest_team[i].find('gujarat') != -1):\n",
    "        x_player_latest_team[i] = 'Gujarat Fortune Giants'\n",
    "    elif (x_player_latest_team[i].find('puneri') != -1):\n",
    "        x_player_latest_team[i] = 'Puneri Paltan'\n",
    "    elif (x_player_latest_team[i].find('dabang') != -1):\n",
    "        x_player_latest_team[i] = 'Delhi Dabangs'\n",
    "    elif (x_player_latest_team[i].find('haryana') != -1):\n",
    "        x_player_latest_team[i] = 'Haryana Steelers'\n",
    "    elif (x_player_latest_team[i].find('telugu') != -1):\n",
    "        x_player_latest_team[i] = 'Telugu Titans'\n",
    "\n",
    "all_seasons_player_do_or_die_raid_points = pd.DataFrame()\n",
    "all_seasons_player_do_or_die_raid_points['Player Rank'] = x_player_rank\n",
    "all_seasons_player_do_or_die_raid_points['Player Name'] = x_player_name\n",
    "all_seasons_player_do_or_die_raid_points['Latest Team'] = x_player_latest_team\n",
    "all_seasons_player_do_or_die_raid_points['Matches Played'] = x_player_matches_played\n",
    "all_seasons_player_do_or_die_raid_points['Do or Die Raid Points'] = x_player_do_or_die_raid_points\n",
    "\n",
    "all_seasons_player_do_or_die_raid_points['Player Rank'] = all_seasons_player_do_or_die_raid_points['Player Rank'].astype('float64')\n",
    "all_seasons_player_do_or_die_raid_points['Player Rank'] = all_seasons_player_do_or_die_raid_points['Player Rank'].astype('int64')\n",
    "all_seasons_player_do_or_die_raid_points['Matches Played'] = all_seasons_player_do_or_die_raid_points['Matches Played'].astype('int64')\n",
    "all_seasons_player_do_or_die_raid_points['Do or Die Raid Points'] = all_seasons_player_do_or_die_raid_points['Do or Die Raid Points'].astype('int64')"
   ]
  },
  {
   "cell_type": "code",
   "execution_count": 376,
   "metadata": {},
   "outputs": [
    {
     "data": {
      "text/html": [
       "<div>\n",
       "<style scoped>\n",
       "    .dataframe tbody tr th:only-of-type {\n",
       "        vertical-align: middle;\n",
       "    }\n",
       "\n",
       "    .dataframe tbody tr th {\n",
       "        vertical-align: top;\n",
       "    }\n",
       "\n",
       "    .dataframe thead th {\n",
       "        text-align: right;\n",
       "    }\n",
       "</style>\n",
       "<table border=\"1\" class=\"dataframe\">\n",
       "  <thead>\n",
       "    <tr style=\"text-align: right;\">\n",
       "      <th></th>\n",
       "      <th>Player Rank</th>\n",
       "      <th>Player Name</th>\n",
       "      <th>Latest Team</th>\n",
       "      <th>Matches Played</th>\n",
       "      <th>Do or Die Raid Points</th>\n",
       "    </tr>\n",
       "  </thead>\n",
       "  <tbody>\n",
       "    <tr>\n",
       "      <th>0</th>\n",
       "      <td>1</td>\n",
       "      <td>Ajay Thakur</td>\n",
       "      <td>Tamil Thalaivas</td>\n",
       "      <td>115</td>\n",
       "      <td>163</td>\n",
       "    </tr>\n",
       "    <tr>\n",
       "      <th>1</th>\n",
       "      <td>2</td>\n",
       "      <td>Deepak Niwas Hooda</td>\n",
       "      <td>Jaipur Pink Panthers</td>\n",
       "      <td>119</td>\n",
       "      <td>161</td>\n",
       "    </tr>\n",
       "    <tr>\n",
       "      <th>2</th>\n",
       "      <td>2</td>\n",
       "      <td>Rahul Chaudhari</td>\n",
       "      <td>Tamil Thalaivas</td>\n",
       "      <td>117</td>\n",
       "      <td>161</td>\n",
       "    </tr>\n",
       "    <tr>\n",
       "      <th>3</th>\n",
       "      <td>4</td>\n",
       "      <td>Pardeep Narwal</td>\n",
       "      <td>Patna Pirates</td>\n",
       "      <td>101</td>\n",
       "      <td>133</td>\n",
       "    </tr>\n",
       "    <tr>\n",
       "      <th>4</th>\n",
       "      <td>5</td>\n",
       "      <td>Rishank Devadiga</td>\n",
       "      <td>UP Yoddhas</td>\n",
       "      <td>115</td>\n",
       "      <td>127</td>\n",
       "    </tr>\n",
       "  </tbody>\n",
       "</table>\n",
       "</div>"
      ],
      "text/plain": [
       "   Player Rank         Player Name           Latest Team  Matches Played  \\\n",
       "0            1         Ajay Thakur       Tamil Thalaivas             115   \n",
       "1            2  Deepak Niwas Hooda  Jaipur Pink Panthers             119   \n",
       "2            2     Rahul Chaudhari       Tamil Thalaivas             117   \n",
       "3            4      Pardeep Narwal         Patna Pirates             101   \n",
       "4            5    Rishank Devadiga            UP Yoddhas             115   \n",
       "\n",
       "   Do or Die Raid Points  \n",
       "0                    163  \n",
       "1                    161  \n",
       "2                    161  \n",
       "3                    133  \n",
       "4                    127  "
      ]
     },
     "execution_count": 376,
     "metadata": {},
     "output_type": "execute_result"
    }
   ],
   "source": [
    "all_seasons_player_do_or_die_raid_points.head()"
   ]
  },
  {
   "cell_type": "code",
   "execution_count": 377,
   "metadata": {},
   "outputs": [
    {
     "name": "stdout",
     "output_type": "stream",
     "text": [
      "<class 'pandas.core.frame.DataFrame'>\n",
      "RangeIndex: 200 entries, 0 to 199\n",
      "Data columns (total 5 columns):\n",
      "Player Rank              200 non-null int64\n",
      "Player Name              200 non-null object\n",
      "Latest Team              200 non-null object\n",
      "Matches Played           200 non-null int64\n",
      "Do or Die Raid Points    200 non-null int64\n",
      "dtypes: int64(3), object(2)\n",
      "memory usage: 7.9+ KB\n"
     ]
    }
   ],
   "source": [
    "all_seasons_player_do_or_die_raid_points.info()"
   ]
  },
  {
   "cell_type": "code",
   "execution_count": 378,
   "metadata": {},
   "outputs": [],
   "source": [
    "del x_player_rank, player_rank, x_player_name, player_name, x_player_latest_team, player_latest_team, x_player_matches_played, player_matches_played, x_player_do_or_die_raid_points, player_do_or_die_raid_points"
   ]
  },
  {
   "cell_type": "code",
   "execution_count": 379,
   "metadata": {},
   "outputs": [
    {
     "data": {
      "text/plain": [
       "False    195\n",
       "True       5\n",
       "Name: Player Name, dtype: int64"
      ]
     },
     "execution_count": 379,
     "metadata": {},
     "output_type": "execute_result"
    }
   ],
   "source": [
    "all_seasons_player_do_or_die_raid_points['Player Name'].duplicated().value_counts()"
   ]
  },
  {
   "cell_type": "code",
   "execution_count": 380,
   "metadata": {},
   "outputs": [
    {
     "data": {
      "text/plain": [
       "False    199\n",
       "True       1\n",
       "dtype: int64"
      ]
     },
     "execution_count": 380,
     "metadata": {},
     "output_type": "execute_result"
    }
   ],
   "source": [
    "all_seasons_player_do_or_die_raid_points[['Player Name', 'Matches Played']].duplicated().value_counts()"
   ]
  },
  {
   "cell_type": "markdown",
   "metadata": {},
   "source": [
    "###### Unique combination is Player Name, Matches Played"
   ]
  },
  {
   "cell_type": "markdown",
   "metadata": {},
   "source": [
    "###### Drop last duplicate row"
   ]
  },
  {
   "cell_type": "code",
   "execution_count": 381,
   "metadata": {},
   "outputs": [],
   "source": [
    "all_seasons_player_do_or_die_raid_points.drop_duplicates(subset=['Player Name', 'Matches Played'], keep='first', inplace=True)"
   ]
  },
  {
   "cell_type": "code",
   "execution_count": 382,
   "metadata": {},
   "outputs": [
    {
     "data": {
      "text/plain": [
       "False    199\n",
       "dtype: int64"
      ]
     },
     "execution_count": 382,
     "metadata": {},
     "output_type": "execute_result"
    }
   ],
   "source": [
    "all_seasons_player_do_or_die_raid_points[['Player Name', 'Matches Played']].duplicated().value_counts()"
   ]
  },
  {
   "cell_type": "code",
   "execution_count": 383,
   "metadata": {},
   "outputs": [
    {
     "name": "stdout",
     "output_type": "stream",
     "text": [
      "<class 'pandas.core.frame.DataFrame'>\n",
      "Int64Index: 199 entries, 0 to 199\n",
      "Data columns (total 5 columns):\n",
      "Player Rank              199 non-null int64\n",
      "Player Name              199 non-null object\n",
      "Latest Team              199 non-null object\n",
      "Matches Played           199 non-null int64\n",
      "Do or Die Raid Points    199 non-null int64\n",
      "dtypes: int64(3), object(2)\n",
      "memory usage: 9.3+ KB\n"
     ]
    }
   ],
   "source": [
    "all_seasons_player_do_or_die_raid_points.info()"
   ]
  },
  {
   "cell_type": "markdown",
   "metadata": {},
   "source": [
    "###### Generate Total Super Raids Data for each player and load to dataframe"
   ]
  },
  {
   "cell_type": "code",
   "execution_count": 384,
   "metadata": {},
   "outputs": [],
   "source": [
    "category = driver.find_element_by_id(\"si_dropdown\")\n",
    "category.send_keys(\"Super raids\")\n",
    "time.sleep(5)\n",
    "\n",
    "element = driver.find_element_by_id('load_more')\n",
    "while (driver.find_element_by_id('load_more')):\n",
    "       try:\n",
    "              element.click()\n",
    "       except Exception as e:\n",
    "           break\n",
    "\n",
    "time.sleep(5)\n",
    "\n",
    "player_name=[]\n",
    "soup = BeautifulSoup(driver.page_source)\n",
    "player_name = soup.findAll('div',attrs={'class':'sipk-lb-playerName'})\n",
    "x_player_name = list()\n",
    "for i in range(0, len(player_name)):\n",
    "    x_player_name.append(player_name[i].span.string.strip())\n",
    "\n",
    "\n",
    "player_rank=[]\n",
    "soup = BeautifulSoup(driver.page_source)\n",
    "player_rank = soup.findAll('div',attrs={'class':'sipk-lb-rank'})\n",
    "x_player_rank = list()\n",
    "for i in range(0, len(player_rank)):\n",
    "    x_player_rank.append(player_rank[i].span.string.strip())\n",
    "    \n",
    "player_matches_played=[]\n",
    "soup = BeautifulSoup(driver.page_source)\n",
    "player_matches_played = soup.findAll('div',attrs={'class':'sipk-lb-matchedPlayed'})\n",
    "x_player_matches_played = list()\n",
    "for i in range(0, len(player_matches_played)):\n",
    "    x_player_matches_played.append(player_matches_played[i].span.string.strip())\n",
    "    \n",
    "player_super_raids=[]\n",
    "soup = BeautifulSoup(driver.page_source)\n",
    "player_super_raids = soup.findAll('div',attrs={'class':'sipk-lb-raidPoints'})\n",
    "x_player_super_raids = list()\n",
    "for i in range(0, len(player_super_raids)):\n",
    "    x_player_super_raids.append(player_super_raids[i].span.string.strip())\n",
    "    \n",
    "player_latest_team=[]\n",
    "soup = BeautifulSoup(driver.page_source)\n",
    "player_latest_team = soup.findAll('a',attrs={'class':'sipk-lb-detailBlock sipk-lb-team'})\n",
    "x_player_latest_team = list()\n",
    "for i in range(0, len(player_latest_team)):\n",
    "    x_player_latest_team.append(player_latest_team[i].attrs['href'])\n",
    "for i in range(0, len(x_player_latest_team)):\n",
    "    if (x_player_latest_team[i].find('patna') != -1):\n",
    "        x_player_latest_team[i] = 'Patna Pirates'\n",
    "    elif (x_player_latest_team[i].find('tamil') != -1):\n",
    "        x_player_latest_team[i] = 'Tamil Thalaivas'\n",
    "    elif (x_player_latest_team[i].find('bengaluru') != -1):\n",
    "        x_player_latest_team[i] = 'Bengaluru Bulls'\n",
    "    elif (x_player_latest_team[i].find('jaipur') != -1):\n",
    "        x_player_latest_team[i] = 'Jaipur Pink Panthers'\n",
    "    elif (x_player_latest_team[i].find('bengal') != -1):\n",
    "        x_player_latest_team[i] = 'Bengal Warriors'\n",
    "    elif (x_player_latest_team[i].find('up-yoddha') != -1):\n",
    "        x_player_latest_team[i] = 'UP Yoddhas'\n",
    "    elif (x_player_latest_team[i].find('u-mumba') != -1):\n",
    "        x_player_latest_team[i] = 'U Mumba'\n",
    "    elif (x_player_latest_team[i].find('gujarat') != -1):\n",
    "        x_player_latest_team[i] = 'Gujarat Fortune Giants'\n",
    "    elif (x_player_latest_team[i].find('puneri') != -1):\n",
    "        x_player_latest_team[i] = 'Puneri Paltan'\n",
    "    elif (x_player_latest_team[i].find('dabang') != -1):\n",
    "        x_player_latest_team[i] = 'Delhi Dabangs'\n",
    "    elif (x_player_latest_team[i].find('haryana') != -1):\n",
    "        x_player_latest_team[i] = 'Haryana Steelers'\n",
    "    elif (x_player_latest_team[i].find('telugu') != -1):\n",
    "        x_player_latest_team[i] = 'Telugu Titans'\n",
    "\n",
    "all_seasons_player_super_raids = pd.DataFrame()\n",
    "all_seasons_player_super_raids['Player Rank'] = x_player_rank\n",
    "all_seasons_player_super_raids['Player Name'] = x_player_name\n",
    "all_seasons_player_super_raids['Latest Team'] = x_player_latest_team\n",
    "all_seasons_player_super_raids['Matches Played'] = x_player_matches_played\n",
    "all_seasons_player_super_raids['Super Raids'] = x_player_super_raids\n",
    "\n",
    "all_seasons_player_super_raids['Player Rank'] = all_seasons_player_super_raids['Player Rank'].astype('float64')\n",
    "all_seasons_player_super_raids['Player Rank'] = all_seasons_player_super_raids['Player Rank'].astype('int64')\n",
    "all_seasons_player_super_raids['Matches Played'] = all_seasons_player_super_raids['Matches Played'].astype('int64')\n",
    "all_seasons_player_super_raids['Super Raids'] = all_seasons_player_super_raids['Super Raids'].astype('int64')"
   ]
  },
  {
   "cell_type": "code",
   "execution_count": 385,
   "metadata": {},
   "outputs": [
    {
     "data": {
      "text/html": [
       "<div>\n",
       "<style scoped>\n",
       "    .dataframe tbody tr th:only-of-type {\n",
       "        vertical-align: middle;\n",
       "    }\n",
       "\n",
       "    .dataframe tbody tr th {\n",
       "        vertical-align: top;\n",
       "    }\n",
       "\n",
       "    .dataframe thead th {\n",
       "        text-align: right;\n",
       "    }\n",
       "</style>\n",
       "<table border=\"1\" class=\"dataframe\">\n",
       "  <thead>\n",
       "    <tr style=\"text-align: right;\">\n",
       "      <th></th>\n",
       "      <th>Player Rank</th>\n",
       "      <th>Player Name</th>\n",
       "      <th>Latest Team</th>\n",
       "      <th>Matches Played</th>\n",
       "      <th>Super Raids</th>\n",
       "    </tr>\n",
       "  </thead>\n",
       "  <tbody>\n",
       "    <tr>\n",
       "      <th>0</th>\n",
       "      <td>1</td>\n",
       "      <td>Pardeep Narwal</td>\n",
       "      <td>Patna Pirates</td>\n",
       "      <td>101</td>\n",
       "      <td>46</td>\n",
       "    </tr>\n",
       "    <tr>\n",
       "      <th>1</th>\n",
       "      <td>2</td>\n",
       "      <td>Rishank Devadiga</td>\n",
       "      <td>UP Yoddhas</td>\n",
       "      <td>115</td>\n",
       "      <td>25</td>\n",
       "    </tr>\n",
       "    <tr>\n",
       "      <th>2</th>\n",
       "      <td>3</td>\n",
       "      <td>Rahul Chaudhari</td>\n",
       "      <td>Tamil Thalaivas</td>\n",
       "      <td>117</td>\n",
       "      <td>24</td>\n",
       "    </tr>\n",
       "    <tr>\n",
       "      <th>3</th>\n",
       "      <td>4</td>\n",
       "      <td>Ajay Thakur</td>\n",
       "      <td>Tamil Thalaivas</td>\n",
       "      <td>115</td>\n",
       "      <td>23</td>\n",
       "    </tr>\n",
       "    <tr>\n",
       "      <th>4</th>\n",
       "      <td>4</td>\n",
       "      <td>Kashiling Adake</td>\n",
       "      <td>Bengaluru Bulls</td>\n",
       "      <td>92</td>\n",
       "      <td>23</td>\n",
       "    </tr>\n",
       "  </tbody>\n",
       "</table>\n",
       "</div>"
      ],
      "text/plain": [
       "   Player Rank       Player Name      Latest Team  Matches Played  Super Raids\n",
       "0            1    Pardeep Narwal    Patna Pirates             101           46\n",
       "1            2  Rishank Devadiga       UP Yoddhas             115           25\n",
       "2            3   Rahul Chaudhari  Tamil Thalaivas             117           24\n",
       "3            4       Ajay Thakur  Tamil Thalaivas             115           23\n",
       "4            4   Kashiling Adake  Bengaluru Bulls              92           23"
      ]
     },
     "execution_count": 385,
     "metadata": {},
     "output_type": "execute_result"
    }
   ],
   "source": [
    "all_seasons_player_super_raids.head()"
   ]
  },
  {
   "cell_type": "code",
   "execution_count": 386,
   "metadata": {},
   "outputs": [
    {
     "name": "stdout",
     "output_type": "stream",
     "text": [
      "<class 'pandas.core.frame.DataFrame'>\n",
      "RangeIndex: 113 entries, 0 to 112\n",
      "Data columns (total 5 columns):\n",
      "Player Rank       113 non-null int64\n",
      "Player Name       113 non-null object\n",
      "Latest Team       113 non-null object\n",
      "Matches Played    113 non-null int64\n",
      "Super Raids       113 non-null int64\n",
      "dtypes: int64(3), object(2)\n",
      "memory usage: 4.5+ KB\n"
     ]
    }
   ],
   "source": [
    "all_seasons_player_super_raids.info()"
   ]
  },
  {
   "cell_type": "code",
   "execution_count": 387,
   "metadata": {},
   "outputs": [],
   "source": [
    "del x_player_rank, player_rank, x_player_name, player_name, x_player_latest_team, player_latest_team, x_player_matches_played, player_matches_played, x_player_super_raids, player_super_raids"
   ]
  },
  {
   "cell_type": "code",
   "execution_count": 388,
   "metadata": {},
   "outputs": [
    {
     "data": {
      "text/plain": [
       "False    111\n",
       "True       2\n",
       "Name: Player Name, dtype: int64"
      ]
     },
     "execution_count": 388,
     "metadata": {},
     "output_type": "execute_result"
    }
   ],
   "source": [
    "all_seasons_player_super_raids['Player Name'].duplicated().value_counts()"
   ]
  },
  {
   "cell_type": "code",
   "execution_count": 389,
   "metadata": {},
   "outputs": [
    {
     "data": {
      "text/plain": [
       "False    112\n",
       "True       1\n",
       "dtype: int64"
      ]
     },
     "execution_count": 389,
     "metadata": {},
     "output_type": "execute_result"
    }
   ],
   "source": [
    "all_seasons_player_super_raids[['Player Name', 'Matches Played']].duplicated().value_counts()"
   ]
  },
  {
   "cell_type": "markdown",
   "metadata": {},
   "source": [
    "###### Unique combination is Player Name, Matches Played"
   ]
  },
  {
   "cell_type": "markdown",
   "metadata": {},
   "source": [
    "###### Drop last duplicate row"
   ]
  },
  {
   "cell_type": "code",
   "execution_count": 390,
   "metadata": {},
   "outputs": [],
   "source": [
    "all_seasons_player_super_raids.drop_duplicates(subset=['Player Name', 'Matches Played'], keep='first', inplace=True)"
   ]
  },
  {
   "cell_type": "code",
   "execution_count": 391,
   "metadata": {},
   "outputs": [
    {
     "data": {
      "text/plain": [
       "False    112\n",
       "dtype: int64"
      ]
     },
     "execution_count": 391,
     "metadata": {},
     "output_type": "execute_result"
    }
   ],
   "source": [
    "all_seasons_player_super_raids[['Player Name', 'Matches Played']].duplicated().value_counts()"
   ]
  },
  {
   "cell_type": "code",
   "execution_count": 392,
   "metadata": {},
   "outputs": [
    {
     "name": "stdout",
     "output_type": "stream",
     "text": [
      "<class 'pandas.core.frame.DataFrame'>\n",
      "Int64Index: 112 entries, 0 to 111\n",
      "Data columns (total 5 columns):\n",
      "Player Rank       112 non-null int64\n",
      "Player Name       112 non-null object\n",
      "Latest Team       112 non-null object\n",
      "Matches Played    112 non-null int64\n",
      "Super Raids       112 non-null int64\n",
      "dtypes: int64(3), object(2)\n",
      "memory usage: 5.2+ KB\n"
     ]
    }
   ],
   "source": [
    "all_seasons_player_super_raids.info()"
   ]
  },
  {
   "cell_type": "markdown",
   "metadata": {},
   "source": [
    "###### Generate Total Super 10s Data for each player and load to dataframe"
   ]
  },
  {
   "cell_type": "code",
   "execution_count": 393,
   "metadata": {},
   "outputs": [],
   "source": [
    "category = driver.find_element_by_id(\"si_dropdown\")\n",
    "category.send_keys(\"Super 10s\")\n",
    "time.sleep(10)\n",
    "\n",
    "element = driver.find_element_by_id('load_more')\n",
    "while (driver.find_element_by_id('load_more')):\n",
    "       try:\n",
    "              element.click()\n",
    "       except Exception as e:\n",
    "           break\n",
    "\n",
    "time.sleep(5)\n",
    "\n",
    "player_name=[]\n",
    "soup = BeautifulSoup(driver.page_source)\n",
    "player_name = soup.findAll('div',attrs={'class':'sipk-lb-playerName'})\n",
    "x_player_name = list()\n",
    "for i in range(0, len(player_name)):\n",
    "    x_player_name.append(player_name[i].span.string.strip())\n",
    "\n",
    "\n",
    "player_rank=[]\n",
    "soup = BeautifulSoup(driver.page_source)\n",
    "player_rank = soup.findAll('div',attrs={'class':'sipk-lb-rank'})\n",
    "x_player_rank = list()\n",
    "for i in range(0, len(player_rank)):\n",
    "    x_player_rank.append(player_rank[i].span.string.strip())\n",
    "    \n",
    "player_matches_played=[]\n",
    "soup = BeautifulSoup(driver.page_source)\n",
    "player_matches_played = soup.findAll('div',attrs={'class':'sipk-lb-matchedPlayed'})\n",
    "x_player_matches_played = list()\n",
    "for i in range(0, len(player_matches_played)):\n",
    "    x_player_matches_played.append(player_matches_played[i].span.string.strip())\n",
    "    \n",
    "player_super_10s=[]\n",
    "soup = BeautifulSoup(driver.page_source)\n",
    "player_super_10s = soup.findAll('div',attrs={'class':'sipk-lb-raidPoints'})\n",
    "x_player_super_10s = list()\n",
    "for i in range(0, len(player_super_10s)):\n",
    "    x_player_super_10s.append(player_super_10s[i].span.string.strip())\n",
    "    \n",
    "player_latest_team=[]\n",
    "soup = BeautifulSoup(driver.page_source)\n",
    "player_latest_team = soup.findAll('a',attrs={'class':'sipk-lb-detailBlock sipk-lb-team'})\n",
    "x_player_latest_team = list()\n",
    "for i in range(0, len(player_latest_team)):\n",
    "    x_player_latest_team.append(player_latest_team[i].attrs['href'])\n",
    "for i in range(0, len(x_player_latest_team)):\n",
    "    if (x_player_latest_team[i].find('patna') != -1):\n",
    "        x_player_latest_team[i] = 'Patna Pirates'\n",
    "    elif (x_player_latest_team[i].find('tamil') != -1):\n",
    "        x_player_latest_team[i] = 'Tamil Thalaivas'\n",
    "    elif (x_player_latest_team[i].find('bengaluru') != -1):\n",
    "        x_player_latest_team[i] = 'Bengaluru Bulls'\n",
    "    elif (x_player_latest_team[i].find('jaipur') != -1):\n",
    "        x_player_latest_team[i] = 'Jaipur Pink Panthers'\n",
    "    elif (x_player_latest_team[i].find('bengal') != -1):\n",
    "        x_player_latest_team[i] = 'Bengal Warriors'\n",
    "    elif (x_player_latest_team[i].find('up-yoddha') != -1):\n",
    "        x_player_latest_team[i] = 'UP Yoddhas'\n",
    "    elif (x_player_latest_team[i].find('u-mumba') != -1):\n",
    "        x_player_latest_team[i] = 'U Mumba'\n",
    "    elif (x_player_latest_team[i].find('gujarat') != -1):\n",
    "        x_player_latest_team[i] = 'Gujarat Fortune Giants'\n",
    "    elif (x_player_latest_team[i].find('puneri') != -1):\n",
    "        x_player_latest_team[i] = 'Puneri Paltan'\n",
    "    elif (x_player_latest_team[i].find('dabang') != -1):\n",
    "        x_player_latest_team[i] = 'Delhi Dabangs'\n",
    "    elif (x_player_latest_team[i].find('haryana') != -1):\n",
    "        x_player_latest_team[i] = 'Haryana Steelers'\n",
    "    elif (x_player_latest_team[i].find('telugu') != -1):\n",
    "        x_player_latest_team[i] = 'Telugu Titans'\n",
    "\n",
    "all_seasons_player_super_10s = pd.DataFrame()\n",
    "all_seasons_player_super_10s['Player Rank'] = x_player_rank\n",
    "all_seasons_player_super_10s['Player Name'] = x_player_name\n",
    "all_seasons_player_super_10s['Latest Team'] = x_player_latest_team\n",
    "all_seasons_player_super_10s['Matches Played'] = x_player_matches_played\n",
    "all_seasons_player_super_10s['Super 10s'] = x_player_super_10s\n",
    "\n",
    "all_seasons_player_super_10s['Player Rank'] = all_seasons_player_super_10s['Player Rank'].astype('float64')\n",
    "all_seasons_player_super_10s['Player Rank'] = all_seasons_player_super_10s['Player Rank'].astype('int64')\n",
    "all_seasons_player_super_10s['Matches Played'] = all_seasons_player_super_10s['Matches Played'].astype('int64')\n",
    "all_seasons_player_super_10s['Super 10s'] = all_seasons_player_super_10s['Super 10s'].astype('int64')"
   ]
  },
  {
   "cell_type": "code",
   "execution_count": 394,
   "metadata": {},
   "outputs": [
    {
     "data": {
      "text/html": [
       "<div>\n",
       "<style scoped>\n",
       "    .dataframe tbody tr th:only-of-type {\n",
       "        vertical-align: middle;\n",
       "    }\n",
       "\n",
       "    .dataframe tbody tr th {\n",
       "        vertical-align: top;\n",
       "    }\n",
       "\n",
       "    .dataframe thead th {\n",
       "        text-align: right;\n",
       "    }\n",
       "</style>\n",
       "<table border=\"1\" class=\"dataframe\">\n",
       "  <thead>\n",
       "    <tr style=\"text-align: right;\">\n",
       "      <th></th>\n",
       "      <th>Player Rank</th>\n",
       "      <th>Player Name</th>\n",
       "      <th>Latest Team</th>\n",
       "      <th>Matches Played</th>\n",
       "      <th>Super 10s</th>\n",
       "    </tr>\n",
       "  </thead>\n",
       "  <tbody>\n",
       "    <tr>\n",
       "      <th>0</th>\n",
       "      <td>1</td>\n",
       "      <td>Pardeep Narwal</td>\n",
       "      <td>Patna Pirates</td>\n",
       "      <td>101</td>\n",
       "      <td>54</td>\n",
       "    </tr>\n",
       "    <tr>\n",
       "      <th>1</th>\n",
       "      <td>2</td>\n",
       "      <td>Rahul Chaudhari</td>\n",
       "      <td>Tamil Thalaivas</td>\n",
       "      <td>117</td>\n",
       "      <td>40</td>\n",
       "    </tr>\n",
       "    <tr>\n",
       "      <th>2</th>\n",
       "      <td>3</td>\n",
       "      <td>Ajay Thakur</td>\n",
       "      <td>Tamil Thalaivas</td>\n",
       "      <td>115</td>\n",
       "      <td>29</td>\n",
       "    </tr>\n",
       "    <tr>\n",
       "      <th>3</th>\n",
       "      <td>3</td>\n",
       "      <td>Deepak Niwas Hooda</td>\n",
       "      <td>Jaipur Pink Panthers</td>\n",
       "      <td>119</td>\n",
       "      <td>29</td>\n",
       "    </tr>\n",
       "    <tr>\n",
       "      <th>4</th>\n",
       "      <td>3</td>\n",
       "      <td>Maninder Singh</td>\n",
       "      <td>Bengal Warriors</td>\n",
       "      <td>75</td>\n",
       "      <td>29</td>\n",
       "    </tr>\n",
       "  </tbody>\n",
       "</table>\n",
       "</div>"
      ],
      "text/plain": [
       "   Player Rank         Player Name           Latest Team  Matches Played  \\\n",
       "0            1      Pardeep Narwal         Patna Pirates             101   \n",
       "1            2     Rahul Chaudhari       Tamil Thalaivas             117   \n",
       "2            3         Ajay Thakur       Tamil Thalaivas             115   \n",
       "3            3  Deepak Niwas Hooda  Jaipur Pink Panthers             119   \n",
       "4            3      Maninder Singh       Bengal Warriors              75   \n",
       "\n",
       "   Super 10s  \n",
       "0         54  \n",
       "1         40  \n",
       "2         29  \n",
       "3         29  \n",
       "4         29  "
      ]
     },
     "execution_count": 394,
     "metadata": {},
     "output_type": "execute_result"
    }
   ],
   "source": [
    "all_seasons_player_super_10s.head()"
   ]
  },
  {
   "cell_type": "code",
   "execution_count": 395,
   "metadata": {},
   "outputs": [
    {
     "name": "stdout",
     "output_type": "stream",
     "text": [
      "<class 'pandas.core.frame.DataFrame'>\n",
      "RangeIndex: 69 entries, 0 to 68\n",
      "Data columns (total 5 columns):\n",
      "Player Rank       69 non-null int64\n",
      "Player Name       69 non-null object\n",
      "Latest Team       69 non-null object\n",
      "Matches Played    69 non-null int64\n",
      "Super 10s         69 non-null int64\n",
      "dtypes: int64(3), object(2)\n",
      "memory usage: 2.8+ KB\n"
     ]
    }
   ],
   "source": [
    "all_seasons_player_super_10s.info()"
   ]
  },
  {
   "cell_type": "code",
   "execution_count": 396,
   "metadata": {},
   "outputs": [],
   "source": [
    "del x_player_rank, player_rank, x_player_name, player_name, x_player_latest_team, player_latest_team, x_player_matches_played, player_matches_played, x_player_super_10s, player_super_10s"
   ]
  },
  {
   "cell_type": "code",
   "execution_count": 397,
   "metadata": {},
   "outputs": [
    {
     "data": {
      "text/plain": [
       "False    69\n",
       "dtype: int64"
      ]
     },
     "execution_count": 397,
     "metadata": {},
     "output_type": "execute_result"
    }
   ],
   "source": [
    "all_seasons_player_super_10s.duplicated(['Player Name']).value_counts()"
   ]
  },
  {
   "cell_type": "code",
   "execution_count": 398,
   "metadata": {},
   "outputs": [
    {
     "data": {
      "text/plain": [
       "False    69\n",
       "dtype: int64"
      ]
     },
     "execution_count": 398,
     "metadata": {},
     "output_type": "execute_result"
    }
   ],
   "source": [
    "all_seasons_player_super_10s[['Player Name', 'Matches Played']].duplicated().value_counts()"
   ]
  },
  {
   "cell_type": "markdown",
   "metadata": {},
   "source": [
    "###### Unique combination is Player Name, Matches Played"
   ]
  },
  {
   "cell_type": "markdown",
   "metadata": {},
   "source": [
    "###### Drop last duplicate row"
   ]
  },
  {
   "cell_type": "code",
   "execution_count": 399,
   "metadata": {},
   "outputs": [],
   "source": [
    "all_seasons_player_super_10s.drop_duplicates(subset=['Player Name', 'Matches Played'], keep='first', inplace=True)"
   ]
  },
  {
   "cell_type": "code",
   "execution_count": 400,
   "metadata": {},
   "outputs": [
    {
     "data": {
      "text/plain": [
       "False    69\n",
       "dtype: int64"
      ]
     },
     "execution_count": 400,
     "metadata": {},
     "output_type": "execute_result"
    }
   ],
   "source": [
    "all_seasons_player_super_10s[['Player Name', 'Matches Played']].duplicated().value_counts()"
   ]
  },
  {
   "cell_type": "markdown",
   "metadata": {},
   "source": [
    "###### Generate Successful Tackles Data for each player and load to dataframe"
   ]
  },
  {
   "cell_type": "code",
   "execution_count": 401,
   "metadata": {},
   "outputs": [],
   "source": [
    "category = driver.find_element_by_id(\"si_dropdown\")\n",
    "category.send_keys(\"Successful tackles\")\n",
    "time.sleep(10)\n",
    "\n",
    "element = driver.find_element_by_id('load_more')\n",
    "while (driver.find_element_by_id('load_more')):\n",
    "       try:\n",
    "              element.click()\n",
    "       except Exception as e:\n",
    "           break\n",
    "\n",
    "time.sleep(5)\n",
    "\n",
    "player_name=[]\n",
    "soup = BeautifulSoup(driver.page_source)\n",
    "player_name = soup.findAll('div',attrs={'class':'sipk-lb-playerName'})\n",
    "x_player_name = list()\n",
    "for i in range(0, len(player_name)):\n",
    "    x_player_name.append(player_name[i].span.string.strip())\n",
    "\n",
    "\n",
    "player_rank=[]\n",
    "soup = BeautifulSoup(driver.page_source)\n",
    "player_rank = soup.findAll('div',attrs={'class':'sipk-lb-rank'})\n",
    "x_player_rank = list()\n",
    "for i in range(0, len(player_rank)):\n",
    "    x_player_rank.append(player_rank[i].span.string.strip())\n",
    "    \n",
    "player_matches_played=[]\n",
    "soup = BeautifulSoup(driver.page_source)\n",
    "player_matches_played = soup.findAll('div',attrs={'class':'sipk-lb-matchedPlayed'})\n",
    "x_player_matches_played = list()\n",
    "for i in range(0, len(player_matches_played)):\n",
    "    x_player_matches_played.append(player_matches_played[i].span.string.strip())\n",
    "    \n",
    "player_tackles=[]\n",
    "soup = BeautifulSoup(driver.page_source)\n",
    "player_tackles = soup.findAll('div',attrs={'class':'sipk-lb-raidPoints'})\n",
    "x_player_tackles = list()\n",
    "for i in range(0, len(player_tackles)):\n",
    "    x_player_tackles.append(player_tackles[i].span.string.strip())\n",
    "    \n",
    "player_latest_team=[]\n",
    "soup = BeautifulSoup(driver.page_source)\n",
    "player_latest_team = soup.findAll('a',attrs={'class':'sipk-lb-detailBlock sipk-lb-team'})\n",
    "x_player_latest_team = list()\n",
    "for i in range(0, len(player_latest_team)):\n",
    "    x_player_latest_team.append(player_latest_team[i].attrs['href'])\n",
    "for i in range(0, len(x_player_latest_team)):\n",
    "    if (x_player_latest_team[i].find('patna') != -1):\n",
    "        x_player_latest_team[i] = 'Patna Pirates'\n",
    "    elif (x_player_latest_team[i].find('tamil') != -1):\n",
    "        x_player_latest_team[i] = 'Tamil Thalaivas'\n",
    "    elif (x_player_latest_team[i].find('bengaluru') != -1):\n",
    "        x_player_latest_team[i] = 'Bengaluru Bulls'\n",
    "    elif (x_player_latest_team[i].find('jaipur') != -1):\n",
    "        x_player_latest_team[i] = 'Jaipur Pink Panthers'\n",
    "    elif (x_player_latest_team[i].find('bengal') != -1):\n",
    "        x_player_latest_team[i] = 'Bengal Warriors'\n",
    "    elif (x_player_latest_team[i].find('up-yoddha') != -1):\n",
    "        x_player_latest_team[i] = 'UP Yoddhas'\n",
    "    elif (x_player_latest_team[i].find('u-mumba') != -1):\n",
    "        x_player_latest_team[i] = 'U Mumba'\n",
    "    elif (x_player_latest_team[i].find('gujarat') != -1):\n",
    "        x_player_latest_team[i] = 'Gujarat Fortune Giants'\n",
    "    elif (x_player_latest_team[i].find('puneri') != -1):\n",
    "        x_player_latest_team[i] = 'Puneri Paltan'\n",
    "    elif (x_player_latest_team[i].find('dabang') != -1):\n",
    "        x_player_latest_team[i] = 'Delhi Dabangs'\n",
    "    elif (x_player_latest_team[i].find('haryana') != -1):\n",
    "        x_player_latest_team[i] = 'Haryana Steelers'\n",
    "    elif (x_player_latest_team[i].find('telugu') != -1):\n",
    "        x_player_latest_team[i] = 'Telugu Titans'\n",
    "\n",
    "all_seasons_player_successful_tackles = pd.DataFrame()\n",
    "all_seasons_player_successful_tackles['Player Rank'] = x_player_rank\n",
    "all_seasons_player_successful_tackles['Player Name'] = x_player_name\n",
    "all_seasons_player_successful_tackles['Latest Team'] = x_player_latest_team\n",
    "all_seasons_player_successful_tackles['Matches Played'] = x_player_matches_played\n",
    "all_seasons_player_successful_tackles['Successful Tackles'] = x_player_tackles\n",
    "\n",
    "all_seasons_player_successful_tackles['Player Rank'] = all_seasons_player_successful_tackles['Player Rank'].astype('float64')\n",
    "all_seasons_player_successful_tackles['Player Rank'] = all_seasons_player_successful_tackles['Player Rank'].astype('int64')\n",
    "all_seasons_player_successful_tackles['Matches Played'] = all_seasons_player_successful_tackles['Matches Played'].astype('int64')\n",
    "all_seasons_player_successful_tackles['Successful Tackles'] = all_seasons_player_successful_tackles['Successful Tackles'].astype('int64')"
   ]
  },
  {
   "cell_type": "code",
   "execution_count": 402,
   "metadata": {},
   "outputs": [
    {
     "data": {
      "text/html": [
       "<div>\n",
       "<style scoped>\n",
       "    .dataframe tbody tr th:only-of-type {\n",
       "        vertical-align: middle;\n",
       "    }\n",
       "\n",
       "    .dataframe tbody tr th {\n",
       "        vertical-align: top;\n",
       "    }\n",
       "\n",
       "    .dataframe thead th {\n",
       "        text-align: right;\n",
       "    }\n",
       "</style>\n",
       "<table border=\"1\" class=\"dataframe\">\n",
       "  <thead>\n",
       "    <tr style=\"text-align: right;\">\n",
       "      <th></th>\n",
       "      <th>Player Rank</th>\n",
       "      <th>Player Name</th>\n",
       "      <th>Latest Team</th>\n",
       "      <th>Matches Played</th>\n",
       "      <th>Successful Tackles</th>\n",
       "    </tr>\n",
       "  </thead>\n",
       "  <tbody>\n",
       "    <tr>\n",
       "      <th>0</th>\n",
       "      <td>1</td>\n",
       "      <td>Manjeet Chhillar</td>\n",
       "      <td>Tamil Thalaivas</td>\n",
       "      <td>107</td>\n",
       "      <td>324</td>\n",
       "    </tr>\n",
       "    <tr>\n",
       "      <th>1</th>\n",
       "      <td>2</td>\n",
       "      <td>Ravinder Pahal</td>\n",
       "      <td>Delhi Dabangs</td>\n",
       "      <td>105</td>\n",
       "      <td>288</td>\n",
       "    </tr>\n",
       "    <tr>\n",
       "      <th>2</th>\n",
       "      <td>3</td>\n",
       "      <td>Fazel Atrachali</td>\n",
       "      <td>U Mumba</td>\n",
       "      <td>95</td>\n",
       "      <td>270</td>\n",
       "    </tr>\n",
       "    <tr>\n",
       "      <th>3</th>\n",
       "      <td>4</td>\n",
       "      <td>Sandeep Narwal</td>\n",
       "      <td>U Mumba</td>\n",
       "      <td>117</td>\n",
       "      <td>265</td>\n",
       "    </tr>\n",
       "    <tr>\n",
       "      <th>4</th>\n",
       "      <td>5</td>\n",
       "      <td>Mohit Chhillar</td>\n",
       "      <td>Tamil Thalaivas</td>\n",
       "      <td>107</td>\n",
       "      <td>253</td>\n",
       "    </tr>\n",
       "  </tbody>\n",
       "</table>\n",
       "</div>"
      ],
      "text/plain": [
       "   Player Rank       Player Name      Latest Team  Matches Played  \\\n",
       "0            1  Manjeet Chhillar  Tamil Thalaivas             107   \n",
       "1            2    Ravinder Pahal    Delhi Dabangs             105   \n",
       "2            3   Fazel Atrachali          U Mumba              95   \n",
       "3            4    Sandeep Narwal          U Mumba             117   \n",
       "4            5    Mohit Chhillar  Tamil Thalaivas             107   \n",
       "\n",
       "   Successful Tackles  \n",
       "0                 324  \n",
       "1                 288  \n",
       "2                 270  \n",
       "3                 265  \n",
       "4                 253  "
      ]
     },
     "execution_count": 402,
     "metadata": {},
     "output_type": "execute_result"
    }
   ],
   "source": [
    "all_seasons_player_successful_tackles.head()"
   ]
  },
  {
   "cell_type": "code",
   "execution_count": 403,
   "metadata": {},
   "outputs": [
    {
     "name": "stdout",
     "output_type": "stream",
     "text": [
      "<class 'pandas.core.frame.DataFrame'>\n",
      "RangeIndex: 328 entries, 0 to 327\n",
      "Data columns (total 5 columns):\n",
      "Player Rank           328 non-null int64\n",
      "Player Name           328 non-null object\n",
      "Latest Team           328 non-null object\n",
      "Matches Played        328 non-null int64\n",
      "Successful Tackles    328 non-null int64\n",
      "dtypes: int64(3), object(2)\n",
      "memory usage: 12.9+ KB\n"
     ]
    }
   ],
   "source": [
    "all_seasons_player_successful_tackles.info()"
   ]
  },
  {
   "cell_type": "code",
   "execution_count": 404,
   "metadata": {},
   "outputs": [],
   "source": [
    "del x_player_rank, player_rank, x_player_name, player_name, x_player_latest_team, player_latest_team, x_player_matches_played, player_matches_played, x_player_tackles, player_tackles"
   ]
  },
  {
   "cell_type": "code",
   "execution_count": 405,
   "metadata": {},
   "outputs": [
    {
     "data": {
      "text/plain": [
       "False    312\n",
       "True      16\n",
       "Name: Player Name, dtype: int64"
      ]
     },
     "execution_count": 405,
     "metadata": {},
     "output_type": "execute_result"
    }
   ],
   "source": [
    "all_seasons_player_successful_tackles['Player Name'].duplicated().value_counts()"
   ]
  },
  {
   "cell_type": "code",
   "execution_count": 406,
   "metadata": {},
   "outputs": [
    {
     "data": {
      "text/plain": [
       "False    327\n",
       "True       1\n",
       "dtype: int64"
      ]
     },
     "execution_count": 406,
     "metadata": {},
     "output_type": "execute_result"
    }
   ],
   "source": [
    "all_seasons_player_successful_tackles[['Player Name', 'Matches Played']].duplicated().value_counts()"
   ]
  },
  {
   "cell_type": "markdown",
   "metadata": {},
   "source": [
    "###### Drop last duplicate row"
   ]
  },
  {
   "cell_type": "code",
   "execution_count": 407,
   "metadata": {},
   "outputs": [],
   "source": [
    "all_seasons_player_successful_tackles.drop_duplicates(subset=['Player Name', 'Matches Played'], keep='first', inplace=True)"
   ]
  },
  {
   "cell_type": "code",
   "execution_count": 408,
   "metadata": {},
   "outputs": [
    {
     "data": {
      "text/plain": [
       "False    327\n",
       "dtype: int64"
      ]
     },
     "execution_count": 408,
     "metadata": {},
     "output_type": "execute_result"
    }
   ],
   "source": [
    "all_seasons_player_successful_tackles[['Player Name', 'Matches Played']].duplicated().value_counts()"
   ]
  },
  {
   "cell_type": "code",
   "execution_count": 409,
   "metadata": {},
   "outputs": [
    {
     "name": "stdout",
     "output_type": "stream",
     "text": [
      "<class 'pandas.core.frame.DataFrame'>\n",
      "Int64Index: 327 entries, 0 to 327\n",
      "Data columns (total 5 columns):\n",
      "Player Rank           327 non-null int64\n",
      "Player Name           327 non-null object\n",
      "Latest Team           327 non-null object\n",
      "Matches Played        327 non-null int64\n",
      "Successful Tackles    327 non-null int64\n",
      "dtypes: int64(3), object(2)\n",
      "memory usage: 15.3+ KB\n"
     ]
    }
   ],
   "source": [
    "all_seasons_player_successful_tackles.info()"
   ]
  },
  {
   "cell_type": "markdown",
   "metadata": {},
   "source": [
    "###### Generate Tackle Points Data for each player and load to dataframe"
   ]
  },
  {
   "cell_type": "code",
   "execution_count": 410,
   "metadata": {},
   "outputs": [],
   "source": [
    "category = driver.find_element_by_id(\"si_dropdown\")\n",
    "category.send_keys(\"Tackle points\")\n",
    "time.sleep(10)\n",
    "\n",
    "element = driver.find_element_by_id('load_more')\n",
    "while (driver.find_element_by_id('load_more')):\n",
    "       try:\n",
    "              element.click()\n",
    "       except Exception as e:\n",
    "           break\n",
    "\n",
    "time.sleep(5)\n",
    "\n",
    "player_name=[]\n",
    "soup = BeautifulSoup(driver.page_source)\n",
    "player_name = soup.findAll('div',attrs={'class':'sipk-lb-playerName'})\n",
    "x_player_name = list()\n",
    "for i in range(0, len(player_name)):\n",
    "    x_player_name.append(player_name[i].span.string.strip())\n",
    "\n",
    "\n",
    "player_rank=[]\n",
    "soup = BeautifulSoup(driver.page_source)\n",
    "player_rank = soup.findAll('div',attrs={'class':'sipk-lb-rank'})\n",
    "x_player_rank = list()\n",
    "for i in range(0, len(player_rank)):\n",
    "    x_player_rank.append(player_rank[i].span.string.strip())\n",
    "    \n",
    "player_matches_played=[]\n",
    "soup = BeautifulSoup(driver.page_source)\n",
    "player_matches_played = soup.findAll('div',attrs={'class':'sipk-lb-matchedPlayed'})\n",
    "x_player_matches_played = list()\n",
    "for i in range(0, len(player_matches_played)):\n",
    "    x_player_matches_played.append(player_matches_played[i].span.string.strip())\n",
    "    \n",
    "player_tackle_points=[]\n",
    "soup = BeautifulSoup(driver.page_source)\n",
    "player_tackle_points = soup.findAll('div',attrs={'class':'sipk-lb-raidPoints'})\n",
    "x_player_tackle_points = list()\n",
    "for i in range(0, len(player_tackle_points)):\n",
    "    x_player_tackle_points.append(player_tackle_points[i].span.string.strip())\n",
    "    \n",
    "player_latest_team=[]\n",
    "soup = BeautifulSoup(driver.page_source)\n",
    "player_latest_team = soup.findAll('a',attrs={'class':'sipk-lb-detailBlock sipk-lb-team'})\n",
    "x_player_latest_team = list()\n",
    "for i in range(0, len(player_latest_team)):\n",
    "    x_player_latest_team.append(player_latest_team[i].attrs['href'])\n",
    "for i in range(0, len(x_player_latest_team)):\n",
    "    if (x_player_latest_team[i].find('patna') != -1):\n",
    "        x_player_latest_team[i] = 'Patna Pirates'\n",
    "    elif (x_player_latest_team[i].find('tamil') != -1):\n",
    "        x_player_latest_team[i] = 'Tamil Thalaivas'\n",
    "    elif (x_player_latest_team[i].find('bengaluru') != -1):\n",
    "        x_player_latest_team[i] = 'Bengaluru Bulls'\n",
    "    elif (x_player_latest_team[i].find('jaipur') != -1):\n",
    "        x_player_latest_team[i] = 'Jaipur Pink Panthers'\n",
    "    elif (x_player_latest_team[i].find('bengal') != -1):\n",
    "        x_player_latest_team[i] = 'Bengal Warriors'\n",
    "    elif (x_player_latest_team[i].find('up-yoddha') != -1):\n",
    "        x_player_latest_team[i] = 'UP Yoddhas'\n",
    "    elif (x_player_latest_team[i].find('u-mumba') != -1):\n",
    "        x_player_latest_team[i] = 'U Mumba'\n",
    "    elif (x_player_latest_team[i].find('gujarat') != -1):\n",
    "        x_player_latest_team[i] = 'Gujarat Fortune Giants'\n",
    "    elif (x_player_latest_team[i].find('puneri') != -1):\n",
    "        x_player_latest_team[i] = 'Puneri Paltan'\n",
    "    elif (x_player_latest_team[i].find('dabang') != -1):\n",
    "        x_player_latest_team[i] = 'Delhi Dabangs'\n",
    "    elif (x_player_latest_team[i].find('haryana') != -1):\n",
    "        x_player_latest_team[i] = 'Haryana Steelers'\n",
    "    elif (x_player_latest_team[i].find('telugu') != -1):\n",
    "        x_player_latest_team[i] = 'Telugu Titans'\n",
    "\n",
    "all_seasons_player_tackle_points = pd.DataFrame()\n",
    "all_seasons_player_tackle_points['Player Rank'] = x_player_rank\n",
    "all_seasons_player_tackle_points['Player Name'] = x_player_name\n",
    "all_seasons_player_tackle_points['Latest Team'] = x_player_latest_team\n",
    "all_seasons_player_tackle_points['Matches Played'] = x_player_matches_played\n",
    "all_seasons_player_tackle_points['Tackle Points'] = x_player_tackle_points\n",
    "\n",
    "all_seasons_player_tackle_points['Player Rank'] = all_seasons_player_tackle_points['Player Rank'].astype('float64')\n",
    "all_seasons_player_tackle_points['Player Rank'] = all_seasons_player_tackle_points['Player Rank'].astype('int64')\n",
    "all_seasons_player_tackle_points['Matches Played'] = all_seasons_player_tackle_points['Matches Played'].astype('int64')\n",
    "all_seasons_player_tackle_points['Tackle Points'] = all_seasons_player_tackle_points['Tackle Points'].astype('int64')"
   ]
  },
  {
   "cell_type": "code",
   "execution_count": 411,
   "metadata": {},
   "outputs": [
    {
     "data": {
      "text/html": [
       "<div>\n",
       "<style scoped>\n",
       "    .dataframe tbody tr th:only-of-type {\n",
       "        vertical-align: middle;\n",
       "    }\n",
       "\n",
       "    .dataframe tbody tr th {\n",
       "        vertical-align: top;\n",
       "    }\n",
       "\n",
       "    .dataframe thead th {\n",
       "        text-align: right;\n",
       "    }\n",
       "</style>\n",
       "<table border=\"1\" class=\"dataframe\">\n",
       "  <thead>\n",
       "    <tr style=\"text-align: right;\">\n",
       "      <th></th>\n",
       "      <th>Player Rank</th>\n",
       "      <th>Player Name</th>\n",
       "      <th>Latest Team</th>\n",
       "      <th>Matches Played</th>\n",
       "      <th>Tackle Points</th>\n",
       "    </tr>\n",
       "  </thead>\n",
       "  <tbody>\n",
       "    <tr>\n",
       "      <th>0</th>\n",
       "      <td>1</td>\n",
       "      <td>Manjeet Chhillar</td>\n",
       "      <td>Tamil Thalaivas</td>\n",
       "      <td>107</td>\n",
       "      <td>339</td>\n",
       "    </tr>\n",
       "    <tr>\n",
       "      <th>1</th>\n",
       "      <td>2</td>\n",
       "      <td>Ravinder Pahal</td>\n",
       "      <td>Delhi Dabangs</td>\n",
       "      <td>105</td>\n",
       "      <td>307</td>\n",
       "    </tr>\n",
       "    <tr>\n",
       "      <th>2</th>\n",
       "      <td>3</td>\n",
       "      <td>Sandeep Narwal</td>\n",
       "      <td>U Mumba</td>\n",
       "      <td>117</td>\n",
       "      <td>293</td>\n",
       "    </tr>\n",
       "    <tr>\n",
       "      <th>3</th>\n",
       "      <td>4</td>\n",
       "      <td>Fazel Atrachali</td>\n",
       "      <td>U Mumba</td>\n",
       "      <td>95</td>\n",
       "      <td>288</td>\n",
       "    </tr>\n",
       "    <tr>\n",
       "      <th>4</th>\n",
       "      <td>5</td>\n",
       "      <td>Mohit Chhillar</td>\n",
       "      <td>Tamil Thalaivas</td>\n",
       "      <td>107</td>\n",
       "      <td>276</td>\n",
       "    </tr>\n",
       "  </tbody>\n",
       "</table>\n",
       "</div>"
      ],
      "text/plain": [
       "   Player Rank       Player Name      Latest Team  Matches Played  \\\n",
       "0            1  Manjeet Chhillar  Tamil Thalaivas             107   \n",
       "1            2    Ravinder Pahal    Delhi Dabangs             105   \n",
       "2            3    Sandeep Narwal          U Mumba             117   \n",
       "3            4   Fazel Atrachali          U Mumba              95   \n",
       "4            5    Mohit Chhillar  Tamil Thalaivas             107   \n",
       "\n",
       "   Tackle Points  \n",
       "0            339  \n",
       "1            307  \n",
       "2            293  \n",
       "3            288  \n",
       "4            276  "
      ]
     },
     "execution_count": 411,
     "metadata": {},
     "output_type": "execute_result"
    }
   ],
   "source": [
    "all_seasons_player_tackle_points.head()"
   ]
  },
  {
   "cell_type": "code",
   "execution_count": 412,
   "metadata": {},
   "outputs": [
    {
     "name": "stdout",
     "output_type": "stream",
     "text": [
      "<class 'pandas.core.frame.DataFrame'>\n",
      "RangeIndex: 328 entries, 0 to 327\n",
      "Data columns (total 5 columns):\n",
      "Player Rank       328 non-null int64\n",
      "Player Name       328 non-null object\n",
      "Latest Team       328 non-null object\n",
      "Matches Played    328 non-null int64\n",
      "Tackle Points     328 non-null int64\n",
      "dtypes: int64(3), object(2)\n",
      "memory usage: 12.9+ KB\n"
     ]
    }
   ],
   "source": [
    "all_seasons_player_tackle_points.info()"
   ]
  },
  {
   "cell_type": "code",
   "execution_count": 413,
   "metadata": {},
   "outputs": [],
   "source": [
    "del x_player_rank, player_rank, x_player_name, player_name, x_player_latest_team, player_latest_team, x_player_matches_played, player_matches_played, x_player_tackle_points, player_tackle_points"
   ]
  },
  {
   "cell_type": "code",
   "execution_count": 414,
   "metadata": {},
   "outputs": [
    {
     "data": {
      "text/plain": [
       "False    312\n",
       "True      16\n",
       "Name: Player Name, dtype: int64"
      ]
     },
     "execution_count": 414,
     "metadata": {},
     "output_type": "execute_result"
    }
   ],
   "source": [
    "all_seasons_player_tackle_points['Player Name'].duplicated().value_counts()"
   ]
  },
  {
   "cell_type": "code",
   "execution_count": 415,
   "metadata": {},
   "outputs": [
    {
     "data": {
      "text/plain": [
       "False    327\n",
       "True       1\n",
       "dtype: int64"
      ]
     },
     "execution_count": 415,
     "metadata": {},
     "output_type": "execute_result"
    }
   ],
   "source": [
    "all_seasons_player_tackle_points[['Player Name', 'Matches Played']].duplicated().value_counts()"
   ]
  },
  {
   "cell_type": "markdown",
   "metadata": {},
   "source": [
    "###### Drop last duplicate row"
   ]
  },
  {
   "cell_type": "code",
   "execution_count": 416,
   "metadata": {},
   "outputs": [],
   "source": [
    "all_seasons_player_tackle_points.drop_duplicates(subset=['Player Name', 'Matches Played'], keep='first', inplace=True)"
   ]
  },
  {
   "cell_type": "code",
   "execution_count": 417,
   "metadata": {},
   "outputs": [
    {
     "data": {
      "text/plain": [
       "False    327\n",
       "dtype: int64"
      ]
     },
     "execution_count": 417,
     "metadata": {},
     "output_type": "execute_result"
    }
   ],
   "source": [
    "all_seasons_player_tackle_points[['Player Name', 'Matches Played']].duplicated().value_counts()"
   ]
  },
  {
   "cell_type": "code",
   "execution_count": 418,
   "metadata": {},
   "outputs": [
    {
     "name": "stdout",
     "output_type": "stream",
     "text": [
      "<class 'pandas.core.frame.DataFrame'>\n",
      "Int64Index: 327 entries, 0 to 327\n",
      "Data columns (total 5 columns):\n",
      "Player Rank       327 non-null int64\n",
      "Player Name       327 non-null object\n",
      "Latest Team       327 non-null object\n",
      "Matches Played    327 non-null int64\n",
      "Tackle Points     327 non-null int64\n",
      "dtypes: int64(3), object(2)\n",
      "memory usage: 15.3+ KB\n"
     ]
    }
   ],
   "source": [
    "all_seasons_player_tackle_points.info()"
   ]
  },
  {
   "cell_type": "markdown",
   "metadata": {},
   "source": [
    "###### Generate Average Tackle Points Data for each player and load to dataframe"
   ]
  },
  {
   "cell_type": "code",
   "execution_count": 419,
   "metadata": {},
   "outputs": [],
   "source": [
    "category = driver.find_element_by_id(\"si_dropdown\")\n",
    "category.send_keys(\"Avg tackle points\")\n",
    "time.sleep(5)\n",
    "\n",
    "element = driver.find_element_by_id('load_more')\n",
    "while (driver.find_element_by_id('load_more')):\n",
    "       try:\n",
    "              element.click()\n",
    "       except Exception as e:\n",
    "           break\n",
    "\n",
    "time.sleep(5)\n",
    "\n",
    "player_name=[]\n",
    "soup = BeautifulSoup(driver.page_source)\n",
    "player_name = soup.findAll('div',attrs={'class':'sipk-lb-playerName'})\n",
    "x_player_name = list()\n",
    "for i in range(0, len(player_name)):\n",
    "    x_player_name.append(player_name[i].span.string.strip())\n",
    "\n",
    "\n",
    "player_rank=[]\n",
    "soup = BeautifulSoup(driver.page_source)\n",
    "player_rank = soup.findAll('div',attrs={'class':'sipk-lb-rank'})\n",
    "x_player_rank = list()\n",
    "for i in range(0, len(player_rank)):\n",
    "    x_player_rank.append(player_rank[i].span.string.strip())\n",
    "    \n",
    "player_matches_played=[]\n",
    "soup = BeautifulSoup(driver.page_source)\n",
    "player_matches_played = soup.findAll('div',attrs={'class':'sipk-lb-matchedPlayed'})\n",
    "x_player_matches_played = list()\n",
    "for i in range(0, len(player_matches_played)):\n",
    "    x_player_matches_played.append(player_matches_played[i].span.string.strip())\n",
    "    \n",
    "player_average_tackle_points=[]\n",
    "soup = BeautifulSoup(driver.page_source)\n",
    "player_average_tackle_points = soup.findAll('div',attrs={'class':'sipk-lb-raidPoints'})\n",
    "x_player_average_tackle_points = list()\n",
    "for i in range(0, len(player_average_tackle_points)):\n",
    "    x_player_average_tackle_points.append(player_average_tackle_points[i].span.string.strip())\n",
    "    \n",
    "player_latest_team=[]\n",
    "soup = BeautifulSoup(driver.page_source)\n",
    "player_latest_team = soup.findAll('a',attrs={'class':'sipk-lb-detailBlock sipk-lb-team'})\n",
    "x_player_latest_team = list()\n",
    "for i in range(0, len(player_latest_team)):\n",
    "    x_player_latest_team.append(player_latest_team[i].attrs['href'])\n",
    "for i in range(0, len(x_player_latest_team)):\n",
    "    if (x_player_latest_team[i].find('patna') != -1):\n",
    "        x_player_latest_team[i] = 'Patna Pirates'\n",
    "    elif (x_player_latest_team[i].find('tamil') != -1):\n",
    "        x_player_latest_team[i] = 'Tamil Thalaivas'\n",
    "    elif (x_player_latest_team[i].find('bengaluru') != -1):\n",
    "        x_player_latest_team[i] = 'Bengaluru Bulls'\n",
    "    elif (x_player_latest_team[i].find('jaipur') != -1):\n",
    "        x_player_latest_team[i] = 'Jaipur Pink Panthers'\n",
    "    elif (x_player_latest_team[i].find('bengal') != -1):\n",
    "        x_player_latest_team[i] = 'Bengal Warriors'\n",
    "    elif (x_player_latest_team[i].find('up-yoddha') != -1):\n",
    "        x_player_latest_team[i] = 'UP Yoddhas'\n",
    "    elif (x_player_latest_team[i].find('u-mumba') != -1):\n",
    "        x_player_latest_team[i] = 'U Mumba'\n",
    "    elif (x_player_latest_team[i].find('gujarat') != -1):\n",
    "        x_player_latest_team[i] = 'Gujarat Fortune Giants'\n",
    "    elif (x_player_latest_team[i].find('puneri') != -1):\n",
    "        x_player_latest_team[i] = 'Puneri Paltan'\n",
    "    elif (x_player_latest_team[i].find('dabang') != -1):\n",
    "        x_player_latest_team[i] = 'Delhi Dabangs'\n",
    "    elif (x_player_latest_team[i].find('haryana') != -1):\n",
    "        x_player_latest_team[i] = 'Haryana Steelers'\n",
    "    elif (x_player_latest_team[i].find('telugu') != -1):\n",
    "        x_player_latest_team[i] = 'Telugu Titans'\n",
    "\n",
    "all_seasons_player_average_tackle_points = pd.DataFrame()\n",
    "all_seasons_player_average_tackle_points['Player Rank'] = x_player_rank\n",
    "all_seasons_player_average_tackle_points['Player Name'] = x_player_name\n",
    "all_seasons_player_average_tackle_points['Latest Team'] = x_player_latest_team\n",
    "all_seasons_player_average_tackle_points['Matches Played'] = x_player_matches_played\n",
    "all_seasons_player_average_tackle_points['Average Tackle Points'] = x_player_average_tackle_points\n",
    "\n",
    "all_seasons_player_average_tackle_points['Player Rank'] = all_seasons_player_average_tackle_points['Player Rank'].astype('float64')\n",
    "all_seasons_player_average_tackle_points['Player Rank'] = all_seasons_player_average_tackle_points['Player Rank'].astype('int64')\n",
    "all_seasons_player_average_tackle_points['Matches Played'] = all_seasons_player_average_tackle_points['Matches Played'].astype('int64')\n",
    "all_seasons_player_average_tackle_points['Average Tackle Points'] = all_seasons_player_average_tackle_points['Average Tackle Points'].astype('float64')"
   ]
  },
  {
   "cell_type": "code",
   "execution_count": 420,
   "metadata": {},
   "outputs": [
    {
     "data": {
      "text/html": [
       "<div>\n",
       "<style scoped>\n",
       "    .dataframe tbody tr th:only-of-type {\n",
       "        vertical-align: middle;\n",
       "    }\n",
       "\n",
       "    .dataframe tbody tr th {\n",
       "        vertical-align: top;\n",
       "    }\n",
       "\n",
       "    .dataframe thead th {\n",
       "        text-align: right;\n",
       "    }\n",
       "</style>\n",
       "<table border=\"1\" class=\"dataframe\">\n",
       "  <thead>\n",
       "    <tr style=\"text-align: right;\">\n",
       "      <th></th>\n",
       "      <th>Player Rank</th>\n",
       "      <th>Player Name</th>\n",
       "      <th>Latest Team</th>\n",
       "      <th>Matches Played</th>\n",
       "      <th>Average Tackle Points</th>\n",
       "    </tr>\n",
       "  </thead>\n",
       "  <tbody>\n",
       "    <tr>\n",
       "      <th>0</th>\n",
       "      <td>1</td>\n",
       "      <td>Sandeep Kandola</td>\n",
       "      <td>Telugu Titans</td>\n",
       "      <td>16</td>\n",
       "      <td>3.69</td>\n",
       "    </tr>\n",
       "    <tr>\n",
       "      <th>1</th>\n",
       "      <td>2</td>\n",
       "      <td>Vishal Bhardwaj</td>\n",
       "      <td>Telugu Titans</td>\n",
       "      <td>56</td>\n",
       "      <td>3.41</td>\n",
       "    </tr>\n",
       "    <tr>\n",
       "      <th>2</th>\n",
       "      <td>3</td>\n",
       "      <td>Sumit</td>\n",
       "      <td>UP Yoddhas</td>\n",
       "      <td>16</td>\n",
       "      <td>3.31</td>\n",
       "    </tr>\n",
       "    <tr>\n",
       "      <th>3</th>\n",
       "      <td>4</td>\n",
       "      <td>Sandeep Kumar Dhull</td>\n",
       "      <td>Jaipur Pink Panthers</td>\n",
       "      <td>60</td>\n",
       "      <td>3.18</td>\n",
       "    </tr>\n",
       "    <tr>\n",
       "      <th>4</th>\n",
       "      <td>5</td>\n",
       "      <td>Manjeet Chhillar</td>\n",
       "      <td>Tamil Thalaivas</td>\n",
       "      <td>107</td>\n",
       "      <td>3.17</td>\n",
       "    </tr>\n",
       "  </tbody>\n",
       "</table>\n",
       "</div>"
      ],
      "text/plain": [
       "   Player Rank          Player Name           Latest Team  Matches Played  \\\n",
       "0            1      Sandeep Kandola         Telugu Titans              16   \n",
       "1            2      Vishal Bhardwaj         Telugu Titans              56   \n",
       "2            3                Sumit            UP Yoddhas              16   \n",
       "3            4  Sandeep Kumar Dhull  Jaipur Pink Panthers              60   \n",
       "4            5     Manjeet Chhillar       Tamil Thalaivas             107   \n",
       "\n",
       "   Average Tackle Points  \n",
       "0                   3.69  \n",
       "1                   3.41  \n",
       "2                   3.31  \n",
       "3                   3.18  \n",
       "4                   3.17  "
      ]
     },
     "execution_count": 420,
     "metadata": {},
     "output_type": "execute_result"
    }
   ],
   "source": [
    "all_seasons_player_average_tackle_points.head()"
   ]
  },
  {
   "cell_type": "code",
   "execution_count": 421,
   "metadata": {},
   "outputs": [
    {
     "name": "stdout",
     "output_type": "stream",
     "text": [
      "<class 'pandas.core.frame.DataFrame'>\n",
      "RangeIndex: 302 entries, 0 to 301\n",
      "Data columns (total 5 columns):\n",
      "Player Rank              302 non-null int64\n",
      "Player Name              302 non-null object\n",
      "Latest Team              302 non-null object\n",
      "Matches Played           302 non-null int64\n",
      "Average Tackle Points    302 non-null float64\n",
      "dtypes: float64(1), int64(2), object(2)\n",
      "memory usage: 11.9+ KB\n"
     ]
    }
   ],
   "source": [
    "all_seasons_player_average_tackle_points.info()"
   ]
  },
  {
   "cell_type": "code",
   "execution_count": 422,
   "metadata": {},
   "outputs": [],
   "source": [
    "del x_player_rank, player_rank, x_player_name, player_name, x_player_latest_team, player_latest_team, x_player_matches_played, player_matches_played, x_player_average_tackle_points, player_average_tackle_points"
   ]
  },
  {
   "cell_type": "code",
   "execution_count": 423,
   "metadata": {},
   "outputs": [
    {
     "data": {
      "text/plain": [
       "False    288\n",
       "True      14\n",
       "dtype: int64"
      ]
     },
     "execution_count": 423,
     "metadata": {},
     "output_type": "execute_result"
    }
   ],
   "source": [
    "all_seasons_player_average_tackle_points[['Player Name']].duplicated().value_counts()"
   ]
  },
  {
   "cell_type": "code",
   "execution_count": 424,
   "metadata": {},
   "outputs": [
    {
     "data": {
      "text/plain": [
       "False    301\n",
       "True       1\n",
       "dtype: int64"
      ]
     },
     "execution_count": 424,
     "metadata": {},
     "output_type": "execute_result"
    }
   ],
   "source": [
    "all_seasons_player_average_tackle_points[['Player Name', 'Matches Played']].duplicated().value_counts()"
   ]
  },
  {
   "cell_type": "markdown",
   "metadata": {},
   "source": [
    "###### Drop last duplicate row"
   ]
  },
  {
   "cell_type": "code",
   "execution_count": 425,
   "metadata": {},
   "outputs": [],
   "source": [
    "all_seasons_player_average_tackle_points.drop_duplicates(subset=['Player Name', 'Matches Played'], keep='first', inplace=True)"
   ]
  },
  {
   "cell_type": "code",
   "execution_count": 426,
   "metadata": {},
   "outputs": [
    {
     "data": {
      "text/plain": [
       "False    301\n",
       "dtype: int64"
      ]
     },
     "execution_count": 426,
     "metadata": {},
     "output_type": "execute_result"
    }
   ],
   "source": [
    "all_seasons_player_average_tackle_points[['Player Name', 'Matches Played']].duplicated().value_counts()"
   ]
  },
  {
   "cell_type": "code",
   "execution_count": 427,
   "metadata": {},
   "outputs": [
    {
     "name": "stdout",
     "output_type": "stream",
     "text": [
      "<class 'pandas.core.frame.DataFrame'>\n",
      "Int64Index: 301 entries, 0 to 301\n",
      "Data columns (total 5 columns):\n",
      "Player Rank              301 non-null int64\n",
      "Player Name              301 non-null object\n",
      "Latest Team              301 non-null object\n",
      "Matches Played           301 non-null int64\n",
      "Average Tackle Points    301 non-null float64\n",
      "dtypes: float64(1), int64(2), object(2)\n",
      "memory usage: 14.1+ KB\n"
     ]
    }
   ],
   "source": [
    "all_seasons_player_average_tackle_points.info()"
   ]
  },
  {
   "cell_type": "markdown",
   "metadata": {},
   "source": [
    "###### Generate Super Tackles Data for each player and load to dataframe"
   ]
  },
  {
   "cell_type": "code",
   "execution_count": 428,
   "metadata": {},
   "outputs": [],
   "source": [
    "category = driver.find_element_by_id(\"si_dropdown\")\n",
    "category.send_keys(\"Super tackles\")\n",
    "time.sleep(10)\n",
    "\n",
    "element = driver.find_element_by_id('load_more')\n",
    "while (driver.find_element_by_id('load_more')):\n",
    "       try:\n",
    "              element.click()\n",
    "       except Exception as e:\n",
    "           break\n",
    "\n",
    "time.sleep(5)\n",
    "\n",
    "player_name=[]\n",
    "soup = BeautifulSoup(driver.page_source)\n",
    "player_name = soup.findAll('div',attrs={'class':'sipk-lb-playerName'})\n",
    "x_player_name = list()\n",
    "for i in range(0, len(player_name)):\n",
    "    x_player_name.append(player_name[i].span.string.strip())\n",
    "\n",
    "\n",
    "player_rank=[]\n",
    "soup = BeautifulSoup(driver.page_source)\n",
    "player_rank = soup.findAll('div',attrs={'class':'sipk-lb-rank'})\n",
    "x_player_rank = list()\n",
    "for i in range(0, len(player_rank)):\n",
    "    x_player_rank.append(player_rank[i].span.string.strip())\n",
    "    \n",
    "player_matches_played=[]\n",
    "soup = BeautifulSoup(driver.page_source)\n",
    "player_matches_played = soup.findAll('div',attrs={'class':'sipk-lb-matchedPlayed'})\n",
    "x_player_matches_played = list()\n",
    "for i in range(0, len(player_matches_played)):\n",
    "    x_player_matches_played.append(player_matches_played[i].span.string.strip())\n",
    "    \n",
    "player_super_tackles=[]\n",
    "soup = BeautifulSoup(driver.page_source)\n",
    "player_super_tackles = soup.findAll('div',attrs={'class':'sipk-lb-raidPoints'})\n",
    "x_player_super_tackles = list()\n",
    "for i in range(0, len(player_super_tackles)):\n",
    "    x_player_super_tackles.append(player_super_tackles[i].span.string.strip())\n",
    "    \n",
    "player_latest_team=[]\n",
    "soup = BeautifulSoup(driver.page_source)\n",
    "player_latest_team = soup.findAll('a',attrs={'class':'sipk-lb-detailBlock sipk-lb-team'})\n",
    "x_player_latest_team = list()\n",
    "for i in range(0, len(player_latest_team)):\n",
    "    x_player_latest_team.append(player_latest_team[i].attrs['href'])\n",
    "for i in range(0, len(x_player_latest_team)):\n",
    "    if (x_player_latest_team[i].find('patna') != -1):\n",
    "        x_player_latest_team[i] = 'Patna Pirates'\n",
    "    elif (x_player_latest_team[i].find('tamil') != -1):\n",
    "        x_player_latest_team[i] = 'Tamil Thalaivas'\n",
    "    elif (x_player_latest_team[i].find('bengaluru') != -1):\n",
    "        x_player_latest_team[i] = 'Bengaluru Bulls'\n",
    "    elif (x_player_latest_team[i].find('jaipur') != -1):\n",
    "        x_player_latest_team[i] = 'Jaipur Pink Panthers'\n",
    "    elif (x_player_latest_team[i].find('bengal') != -1):\n",
    "        x_player_latest_team[i] = 'Bengal Warriors'\n",
    "    elif (x_player_latest_team[i].find('up-yoddha') != -1):\n",
    "        x_player_latest_team[i] = 'UP Yoddhas'\n",
    "    elif (x_player_latest_team[i].find('u-mumba') != -1):\n",
    "        x_player_latest_team[i] = 'U Mumba'\n",
    "    elif (x_player_latest_team[i].find('gujarat') != -1):\n",
    "        x_player_latest_team[i] = 'Gujarat Fortune Giants'\n",
    "    elif (x_player_latest_team[i].find('puneri') != -1):\n",
    "        x_player_latest_team[i] = 'Puneri Paltan'\n",
    "    elif (x_player_latest_team[i].find('dabang') != -1):\n",
    "        x_player_latest_team[i] = 'Delhi Dabangs'\n",
    "    elif (x_player_latest_team[i].find('haryana') != -1):\n",
    "        x_player_latest_team[i] = 'Haryana Steelers'\n",
    "    elif (x_player_latest_team[i].find('telugu') != -1):\n",
    "        x_player_latest_team[i] = 'Telugu Titans'\n",
    "\n",
    "all_seasons_player_super_tackles = pd.DataFrame()\n",
    "all_seasons_player_super_tackles['Player Rank'] = x_player_rank\n",
    "all_seasons_player_super_tackles['Player Name'] = x_player_name\n",
    "all_seasons_player_super_tackles['Latest Team'] = x_player_latest_team\n",
    "all_seasons_player_super_tackles['Matches Played'] = x_player_matches_played\n",
    "all_seasons_player_super_tackles['Super Tackles'] = x_player_super_tackles\n",
    "\n",
    "all_seasons_player_super_tackles['Player Rank'] = all_seasons_player_super_tackles['Player Rank'].astype('float64')\n",
    "all_seasons_player_super_tackles['Player Rank'] = all_seasons_player_super_tackles['Player Rank'].astype('int64')\n",
    "all_seasons_player_super_tackles['Matches Played'] = all_seasons_player_super_tackles['Matches Played'].astype('int64')\n",
    "all_seasons_player_super_tackles['Super Tackles'] = all_seasons_player_super_tackles['Super Tackles'].astype('int64')"
   ]
  },
  {
   "cell_type": "code",
   "execution_count": 429,
   "metadata": {},
   "outputs": [
    {
     "data": {
      "text/html": [
       "<div>\n",
       "<style scoped>\n",
       "    .dataframe tbody tr th:only-of-type {\n",
       "        vertical-align: middle;\n",
       "    }\n",
       "\n",
       "    .dataframe tbody tr th {\n",
       "        vertical-align: top;\n",
       "    }\n",
       "\n",
       "    .dataframe thead th {\n",
       "        text-align: right;\n",
       "    }\n",
       "</style>\n",
       "<table border=\"1\" class=\"dataframe\">\n",
       "  <thead>\n",
       "    <tr style=\"text-align: right;\">\n",
       "      <th></th>\n",
       "      <th>Player Rank</th>\n",
       "      <th>Player Name</th>\n",
       "      <th>Latest Team</th>\n",
       "      <th>Matches Played</th>\n",
       "      <th>Super Tackles</th>\n",
       "    </tr>\n",
       "  </thead>\n",
       "  <tbody>\n",
       "    <tr>\n",
       "      <th>0</th>\n",
       "      <td>1</td>\n",
       "      <td>Sandeep Narwal</td>\n",
       "      <td>U Mumba</td>\n",
       "      <td>117</td>\n",
       "      <td>28</td>\n",
       "    </tr>\n",
       "    <tr>\n",
       "      <th>1</th>\n",
       "      <td>2</td>\n",
       "      <td>Dharmaraj Cheralathan</td>\n",
       "      <td>Haryana Steelers</td>\n",
       "      <td>114</td>\n",
       "      <td>24</td>\n",
       "    </tr>\n",
       "    <tr>\n",
       "      <th>2</th>\n",
       "      <td>3</td>\n",
       "      <td>Mohit Chhillar</td>\n",
       "      <td>Tamil Thalaivas</td>\n",
       "      <td>107</td>\n",
       "      <td>23</td>\n",
       "    </tr>\n",
       "    <tr>\n",
       "      <th>3</th>\n",
       "      <td>4</td>\n",
       "      <td>Jeeva Kumar</td>\n",
       "      <td>Bengal Warriors</td>\n",
       "      <td>108</td>\n",
       "      <td>22</td>\n",
       "    </tr>\n",
       "    <tr>\n",
       "      <th>4</th>\n",
       "      <td>5</td>\n",
       "      <td>Vishal Bhardwaj</td>\n",
       "      <td>Telugu Titans</td>\n",
       "      <td>56</td>\n",
       "      <td>21</td>\n",
       "    </tr>\n",
       "  </tbody>\n",
       "</table>\n",
       "</div>"
      ],
      "text/plain": [
       "   Player Rank            Player Name       Latest Team  Matches Played  \\\n",
       "0            1         Sandeep Narwal           U Mumba             117   \n",
       "1            2  Dharmaraj Cheralathan  Haryana Steelers             114   \n",
       "2            3         Mohit Chhillar   Tamil Thalaivas             107   \n",
       "3            4            Jeeva Kumar   Bengal Warriors             108   \n",
       "4            5        Vishal Bhardwaj     Telugu Titans              56   \n",
       "\n",
       "   Super Tackles  \n",
       "0             28  \n",
       "1             24  \n",
       "2             23  \n",
       "3             22  \n",
       "4             21  "
      ]
     },
     "execution_count": 429,
     "metadata": {},
     "output_type": "execute_result"
    }
   ],
   "source": [
    "all_seasons_player_super_tackles.head()"
   ]
  },
  {
   "cell_type": "code",
   "execution_count": 430,
   "metadata": {},
   "outputs": [
    {
     "name": "stdout",
     "output_type": "stream",
     "text": [
      "<class 'pandas.core.frame.DataFrame'>\n",
      "RangeIndex: 210 entries, 0 to 209\n",
      "Data columns (total 5 columns):\n",
      "Player Rank       210 non-null int64\n",
      "Player Name       210 non-null object\n",
      "Latest Team       210 non-null object\n",
      "Matches Played    210 non-null int64\n",
      "Super Tackles     210 non-null int64\n",
      "dtypes: int64(3), object(2)\n",
      "memory usage: 8.3+ KB\n"
     ]
    }
   ],
   "source": [
    "all_seasons_player_super_tackles.info()"
   ]
  },
  {
   "cell_type": "code",
   "execution_count": 431,
   "metadata": {},
   "outputs": [],
   "source": [
    "del x_player_rank, player_rank, x_player_name, player_name, x_player_latest_team, player_latest_team, x_player_matches_played, player_matches_played, x_player_super_tackles, player_super_tackles"
   ]
  },
  {
   "cell_type": "code",
   "execution_count": 432,
   "metadata": {},
   "outputs": [
    {
     "data": {
      "text/plain": [
       "False    201\n",
       "True       9\n",
       "dtype: int64"
      ]
     },
     "execution_count": 432,
     "metadata": {},
     "output_type": "execute_result"
    }
   ],
   "source": [
    "all_seasons_player_super_tackles[['Player Name']].duplicated().value_counts()"
   ]
  },
  {
   "cell_type": "code",
   "execution_count": 433,
   "metadata": {},
   "outputs": [
    {
     "data": {
      "text/plain": [
       "False    209\n",
       "True       1\n",
       "dtype: int64"
      ]
     },
     "execution_count": 433,
     "metadata": {},
     "output_type": "execute_result"
    }
   ],
   "source": [
    "all_seasons_player_super_tackles[['Player Name', 'Matches Played']].duplicated().value_counts()"
   ]
  },
  {
   "cell_type": "markdown",
   "metadata": {},
   "source": [
    "###### Drop last duplicate row"
   ]
  },
  {
   "cell_type": "code",
   "execution_count": 434,
   "metadata": {},
   "outputs": [],
   "source": [
    "all_seasons_player_super_tackles.drop_duplicates(subset=['Player Name', 'Matches Played'], keep='first', inplace=True)"
   ]
  },
  {
   "cell_type": "code",
   "execution_count": 435,
   "metadata": {},
   "outputs": [
    {
     "data": {
      "text/plain": [
       "False    209\n",
       "dtype: int64"
      ]
     },
     "execution_count": 435,
     "metadata": {},
     "output_type": "execute_result"
    }
   ],
   "source": [
    "all_seasons_player_super_tackles[['Player Name', 'Matches Played']].duplicated().value_counts()"
   ]
  },
  {
   "cell_type": "code",
   "execution_count": 436,
   "metadata": {},
   "outputs": [
    {
     "name": "stdout",
     "output_type": "stream",
     "text": [
      "<class 'pandas.core.frame.DataFrame'>\n",
      "Int64Index: 209 entries, 0 to 208\n",
      "Data columns (total 5 columns):\n",
      "Player Rank       209 non-null int64\n",
      "Player Name       209 non-null object\n",
      "Latest Team       209 non-null object\n",
      "Matches Played    209 non-null int64\n",
      "Super Tackles     209 non-null int64\n",
      "dtypes: int64(3), object(2)\n",
      "memory usage: 9.8+ KB\n"
     ]
    }
   ],
   "source": [
    "all_seasons_player_super_tackles.info()"
   ]
  },
  {
   "cell_type": "markdown",
   "metadata": {},
   "source": [
    "###### Generate High 5s Tackles Data for each player and load to dataframe"
   ]
  },
  {
   "cell_type": "code",
   "execution_count": 437,
   "metadata": {},
   "outputs": [],
   "source": [
    "category = driver.find_element_by_id(\"si_dropdown\")\n",
    "category.send_keys(\"High 5s\")\n",
    "time.sleep(10)\n",
    "\n",
    "element = driver.find_element_by_id('load_more')\n",
    "while (driver.find_element_by_id('load_more')):\n",
    "       try:\n",
    "              element.click()\n",
    "       except Exception as e:\n",
    "           break\n",
    "\n",
    "time.sleep(5)\n",
    "\n",
    "player_name=[]\n",
    "soup = BeautifulSoup(driver.page_source)\n",
    "player_name = soup.findAll('div',attrs={'class':'sipk-lb-playerName'})\n",
    "x_player_name = list()\n",
    "for i in range(0, len(player_name)):\n",
    "    x_player_name.append(player_name[i].span.string.strip())\n",
    "\n",
    "\n",
    "player_rank=[]\n",
    "soup = BeautifulSoup(driver.page_source)\n",
    "player_rank = soup.findAll('div',attrs={'class':'sipk-lb-rank'})\n",
    "x_player_rank = list()\n",
    "for i in range(0, len(player_rank)):\n",
    "    x_player_rank.append(player_rank[i].span.string.strip())\n",
    "    \n",
    "player_matches_played=[]\n",
    "soup = BeautifulSoup(driver.page_source)\n",
    "player_matches_played = soup.findAll('div',attrs={'class':'sipk-lb-matchedPlayed'})\n",
    "x_player_matches_played = list()\n",
    "for i in range(0, len(player_matches_played)):\n",
    "    x_player_matches_played.append(player_matches_played[i].span.string.strip())\n",
    "    \n",
    "player_high_5s=[]\n",
    "soup = BeautifulSoup(driver.page_source)\n",
    "player_high_5s = soup.findAll('div',attrs={'class':'sipk-lb-raidPoints'})\n",
    "x_player_high_5s = list()\n",
    "for i in range(0, len(player_high_5s)):\n",
    "    x_player_high_5s.append(player_high_5s[i].span.string.strip())\n",
    "    \n",
    "player_latest_team=[]\n",
    "soup = BeautifulSoup(driver.page_source)\n",
    "player_latest_team = soup.findAll('a',attrs={'class':'sipk-lb-detailBlock sipk-lb-team'})\n",
    "x_player_latest_team = list()\n",
    "for i in range(0, len(player_latest_team)):\n",
    "    x_player_latest_team.append(player_latest_team[i].attrs['href'])\n",
    "for i in range(0, len(x_player_latest_team)):\n",
    "    if (x_player_latest_team[i].find('patna') != -1):\n",
    "        x_player_latest_team[i] = 'Patna Pirates'\n",
    "    elif (x_player_latest_team[i].find('tamil') != -1):\n",
    "        x_player_latest_team[i] = 'Tamil Thalaivas'\n",
    "    elif (x_player_latest_team[i].find('bengaluru') != -1):\n",
    "        x_player_latest_team[i] = 'Bengaluru Bulls'\n",
    "    elif (x_player_latest_team[i].find('jaipur') != -1):\n",
    "        x_player_latest_team[i] = 'Jaipur Pink Panthers'\n",
    "    elif (x_player_latest_team[i].find('bengal') != -1):\n",
    "        x_player_latest_team[i] = 'Bengal Warriors'\n",
    "    elif (x_player_latest_team[i].find('up-yoddha') != -1):\n",
    "        x_player_latest_team[i] = 'UP Yoddhas'\n",
    "    elif (x_player_latest_team[i].find('u-mumba') != -1):\n",
    "        x_player_latest_team[i] = 'U Mumba'\n",
    "    elif (x_player_latest_team[i].find('gujarat') != -1):\n",
    "        x_player_latest_team[i] = 'Gujarat Fortune Giants'\n",
    "    elif (x_player_latest_team[i].find('puneri') != -1):\n",
    "        x_player_latest_team[i] = 'Puneri Paltan'\n",
    "    elif (x_player_latest_team[i].find('dabang') != -1):\n",
    "        x_player_latest_team[i] = 'Delhi Dabangs'\n",
    "    elif (x_player_latest_team[i].find('haryana') != -1):\n",
    "        x_player_latest_team[i] = 'Haryana Steelers'\n",
    "    elif (x_player_latest_team[i].find('telugu') != -1):\n",
    "        x_player_latest_team[i] = 'Telugu Titans'\n",
    "\n",
    "all_seasons_player_high_5s = pd.DataFrame()\n",
    "all_seasons_player_high_5s['Player Rank'] = x_player_rank\n",
    "all_seasons_player_high_5s['Player Name'] = x_player_name\n",
    "all_seasons_player_high_5s['Latest Team'] = x_player_latest_team\n",
    "all_seasons_player_high_5s['Matches Played'] = x_player_matches_played\n",
    "all_seasons_player_high_5s['High 5s'] = x_player_high_5s\n",
    "\n",
    "all_seasons_player_high_5s['Player Rank'] = all_seasons_player_high_5s['Player Rank'].astype('float64')\n",
    "all_seasons_player_high_5s['Player Rank'] = all_seasons_player_high_5s['Player Rank'].astype('int64')\n",
    "all_seasons_player_high_5s['Matches Played'] = all_seasons_player_high_5s['Matches Played'].astype('int64')\n",
    "all_seasons_player_high_5s['High 5s'] = all_seasons_player_high_5s['High 5s'].astype('int64')"
   ]
  },
  {
   "cell_type": "code",
   "execution_count": 438,
   "metadata": {},
   "outputs": [
    {
     "data": {
      "text/html": [
       "<div>\n",
       "<style scoped>\n",
       "    .dataframe tbody tr th:only-of-type {\n",
       "        vertical-align: middle;\n",
       "    }\n",
       "\n",
       "    .dataframe tbody tr th {\n",
       "        vertical-align: top;\n",
       "    }\n",
       "\n",
       "    .dataframe thead th {\n",
       "        text-align: right;\n",
       "    }\n",
       "</style>\n",
       "<table border=\"1\" class=\"dataframe\">\n",
       "  <thead>\n",
       "    <tr style=\"text-align: right;\">\n",
       "      <th></th>\n",
       "      <th>Player Rank</th>\n",
       "      <th>Player Name</th>\n",
       "      <th>Latest Team</th>\n",
       "      <th>Matches Played</th>\n",
       "      <th>High 5s</th>\n",
       "    </tr>\n",
       "  </thead>\n",
       "  <tbody>\n",
       "    <tr>\n",
       "      <th>0</th>\n",
       "      <td>1</td>\n",
       "      <td>PO Surjeet Singh</td>\n",
       "      <td>Puneri Paltan</td>\n",
       "      <td>90</td>\n",
       "      <td>24</td>\n",
       "    </tr>\n",
       "    <tr>\n",
       "      <th>1</th>\n",
       "      <td>2</td>\n",
       "      <td>Manjeet Chhillar</td>\n",
       "      <td>Tamil Thalaivas</td>\n",
       "      <td>107</td>\n",
       "      <td>23</td>\n",
       "    </tr>\n",
       "    <tr>\n",
       "      <th>2</th>\n",
       "      <td>3</td>\n",
       "      <td>Ravinder Pahal</td>\n",
       "      <td>Delhi Dabangs</td>\n",
       "      <td>105</td>\n",
       "      <td>22</td>\n",
       "    </tr>\n",
       "    <tr>\n",
       "      <th>3</th>\n",
       "      <td>4</td>\n",
       "      <td>Surender Nada</td>\n",
       "      <td>Haryana Steelers</td>\n",
       "      <td>71</td>\n",
       "      <td>19</td>\n",
       "    </tr>\n",
       "    <tr>\n",
       "      <th>4</th>\n",
       "      <td>4</td>\n",
       "      <td>Fazel Atrachali</td>\n",
       "      <td>U Mumba</td>\n",
       "      <td>95</td>\n",
       "      <td>19</td>\n",
       "    </tr>\n",
       "  </tbody>\n",
       "</table>\n",
       "</div>"
      ],
      "text/plain": [
       "   Player Rank       Player Name       Latest Team  Matches Played  High 5s\n",
       "0            1  PO Surjeet Singh     Puneri Paltan              90       24\n",
       "1            2  Manjeet Chhillar   Tamil Thalaivas             107       23\n",
       "2            3    Ravinder Pahal     Delhi Dabangs             105       22\n",
       "3            4     Surender Nada  Haryana Steelers              71       19\n",
       "4            4   Fazel Atrachali           U Mumba              95       19"
      ]
     },
     "execution_count": 438,
     "metadata": {},
     "output_type": "execute_result"
    }
   ],
   "source": [
    "all_seasons_player_high_5s.head()"
   ]
  },
  {
   "cell_type": "code",
   "execution_count": 439,
   "metadata": {},
   "outputs": [
    {
     "name": "stdout",
     "output_type": "stream",
     "text": [
      "<class 'pandas.core.frame.DataFrame'>\n",
      "RangeIndex: 99 entries, 0 to 98\n",
      "Data columns (total 5 columns):\n",
      "Player Rank       99 non-null int64\n",
      "Player Name       99 non-null object\n",
      "Latest Team       99 non-null object\n",
      "Matches Played    99 non-null int64\n",
      "High 5s           99 non-null int64\n",
      "dtypes: int64(3), object(2)\n",
      "memory usage: 3.9+ KB\n"
     ]
    }
   ],
   "source": [
    "all_seasons_player_high_5s.info()"
   ]
  },
  {
   "cell_type": "code",
   "execution_count": 440,
   "metadata": {},
   "outputs": [],
   "source": [
    "del x_player_rank, player_rank, x_player_name, player_name, x_player_latest_team, player_latest_team, x_player_matches_played, player_matches_played, x_player_high_5s, player_high_5s"
   ]
  },
  {
   "cell_type": "code",
   "execution_count": 441,
   "metadata": {},
   "outputs": [
    {
     "data": {
      "text/plain": [
       "False    95\n",
       "True      4\n",
       "dtype: int64"
      ]
     },
     "execution_count": 441,
     "metadata": {},
     "output_type": "execute_result"
    }
   ],
   "source": [
    "all_seasons_player_high_5s[['Player Name']].duplicated().value_counts()"
   ]
  },
  {
   "cell_type": "code",
   "execution_count": 443,
   "metadata": {},
   "outputs": [
    {
     "data": {
      "text/plain": [
       "False    99\n",
       "dtype: int64"
      ]
     },
     "execution_count": 443,
     "metadata": {},
     "output_type": "execute_result"
    }
   ],
   "source": [
    "all_seasons_player_high_5s[['Player Name', 'Matches Played']].duplicated().value_counts()"
   ]
  },
  {
   "cell_type": "markdown",
   "metadata": {},
   "source": [
    "###### Start merging dataframes on the basis of player name and matches played (unique combination) to avoid duplication"
   ]
  },
  {
   "cell_type": "code",
   "execution_count": 444,
   "metadata": {},
   "outputs": [],
   "source": [
    "master_frame=pd.merge(all_seasons_player_total_points, all_seasons_player_successful_raids, how=\"left\", left_on=['Player Name', 'Matches Played'], right_on=['Player Name', 'Matches Played'])\n",
    "master_frame.drop(columns = ['Player Rank_y', 'Latest Team_y'], inplace = True)"
   ]
  },
  {
   "cell_type": "code",
   "execution_count": 445,
   "metadata": {},
   "outputs": [
    {
     "data": {
      "text/html": [
       "<div>\n",
       "<style scoped>\n",
       "    .dataframe tbody tr th:only-of-type {\n",
       "        vertical-align: middle;\n",
       "    }\n",
       "\n",
       "    .dataframe tbody tr th {\n",
       "        vertical-align: top;\n",
       "    }\n",
       "\n",
       "    .dataframe thead th {\n",
       "        text-align: right;\n",
       "    }\n",
       "</style>\n",
       "<table border=\"1\" class=\"dataframe\">\n",
       "  <thead>\n",
       "    <tr style=\"text-align: right;\">\n",
       "      <th></th>\n",
       "      <th>Player Rank_x</th>\n",
       "      <th>Player Name</th>\n",
       "      <th>Latest Team_x</th>\n",
       "      <th>Matches Played</th>\n",
       "      <th>Total Points</th>\n",
       "      <th>Successful Raids</th>\n",
       "    </tr>\n",
       "  </thead>\n",
       "  <tbody>\n",
       "    <tr>\n",
       "      <th>0</th>\n",
       "      <td>1</td>\n",
       "      <td>Pardeep Narwal</td>\n",
       "      <td>Patna Pirates</td>\n",
       "      <td>101</td>\n",
       "      <td>1055</td>\n",
       "      <td>798.0</td>\n",
       "    </tr>\n",
       "    <tr>\n",
       "      <th>1</th>\n",
       "      <td>2</td>\n",
       "      <td>Rahul Chaudhari</td>\n",
       "      <td>Tamil Thalaivas</td>\n",
       "      <td>117</td>\n",
       "      <td>991</td>\n",
       "      <td>766.0</td>\n",
       "    </tr>\n",
       "    <tr>\n",
       "      <th>2</th>\n",
       "      <td>3</td>\n",
       "      <td>Deepak Niwas Hooda</td>\n",
       "      <td>Jaipur Pink Panthers</td>\n",
       "      <td>119</td>\n",
       "      <td>905</td>\n",
       "      <td>670.0</td>\n",
       "    </tr>\n",
       "    <tr>\n",
       "      <th>3</th>\n",
       "      <td>4</td>\n",
       "      <td>Ajay Thakur</td>\n",
       "      <td>Tamil Thalaivas</td>\n",
       "      <td>115</td>\n",
       "      <td>811</td>\n",
       "      <td>640.0</td>\n",
       "    </tr>\n",
       "    <tr>\n",
       "      <th>4</th>\n",
       "      <td>5</td>\n",
       "      <td>Rohit Kumar</td>\n",
       "      <td>Bengaluru Bulls</td>\n",
       "      <td>88</td>\n",
       "      <td>689</td>\n",
       "      <td>535.0</td>\n",
       "    </tr>\n",
       "  </tbody>\n",
       "</table>\n",
       "</div>"
      ],
      "text/plain": [
       "   Player Rank_x         Player Name         Latest Team_x  Matches Played  \\\n",
       "0              1      Pardeep Narwal         Patna Pirates             101   \n",
       "1              2     Rahul Chaudhari       Tamil Thalaivas             117   \n",
       "2              3  Deepak Niwas Hooda  Jaipur Pink Panthers             119   \n",
       "3              4         Ajay Thakur       Tamil Thalaivas             115   \n",
       "4              5         Rohit Kumar       Bengaluru Bulls              88   \n",
       "\n",
       "   Total Points  Successful Raids  \n",
       "0          1055             798.0  \n",
       "1           991             766.0  \n",
       "2           905             670.0  \n",
       "3           811             640.0  \n",
       "4           689             535.0  "
      ]
     },
     "execution_count": 445,
     "metadata": {},
     "output_type": "execute_result"
    }
   ],
   "source": [
    "master_frame.head()"
   ]
  },
  {
   "cell_type": "code",
   "execution_count": 446,
   "metadata": {},
   "outputs": [
    {
     "name": "stdout",
     "output_type": "stream",
     "text": [
      "<class 'pandas.core.frame.DataFrame'>\n",
      "Int64Index: 388 entries, 0 to 387\n",
      "Data columns (total 6 columns):\n",
      "Player Rank_x       388 non-null int64\n",
      "Player Name         388 non-null object\n",
      "Latest Team_x       388 non-null object\n",
      "Matches Played      388 non-null int64\n",
      "Total Points        388 non-null int64\n",
      "Successful Raids    269 non-null float64\n",
      "dtypes: float64(1), int64(3), object(2)\n",
      "memory usage: 21.2+ KB\n"
     ]
    }
   ],
   "source": [
    "master_frame.info()"
   ]
  },
  {
   "cell_type": "code",
   "execution_count": 447,
   "metadata": {},
   "outputs": [],
   "source": [
    "master_frame=pd.merge(master_frame, all_seasons_player_raid_points, how=\"left\", left_on=['Player Name', 'Matches Played'], right_on=['Player Name', 'Matches Played'])\n",
    "master_frame.drop(columns = ['Player Rank', 'Latest Team'], inplace = True)\n",
    "\n",
    "master_frame=pd.merge(master_frame, all_seasons_player_average_raid_points, how=\"left\", left_on=['Player Name', 'Matches Played'], right_on=['Player Name', 'Matches Played'])\n",
    "master_frame.drop(columns = ['Player Rank', 'Latest Team'], inplace = True)\n",
    "\n",
    "master_frame=pd.merge(master_frame, all_seasons_player_do_or_die_raid_points, how=\"left\", left_on=['Player Name', 'Matches Played'], right_on=['Player Name', 'Matches Played'])\n",
    "master_frame.drop(columns = ['Player Rank', 'Latest Team'], inplace = True)\t\n",
    "\n",
    "master_frame=pd.merge(master_frame, all_seasons_player_super_raids, how=\"left\", left_on=['Player Name', 'Matches Played'], right_on=['Player Name', 'Matches Played'])\n",
    "master_frame.drop(columns = ['Player Rank', 'Latest Team'], inplace = True)\t\n",
    "\n",
    "master_frame=pd.merge(master_frame, all_seasons_player_super_10s, how=\"left\", left_on=['Player Name', 'Matches Played'], right_on=['Player Name', 'Matches Played'])\n",
    "master_frame.drop(columns = ['Player Rank', 'Latest Team'], inplace = True)\t\n",
    "\n",
    "master_frame=pd.merge(master_frame, all_seasons_player_successful_tackles, how=\"left\", left_on=['Player Name', 'Matches Played'], right_on=['Player Name', 'Matches Played'])\n",
    "master_frame.drop(columns = ['Player Rank', 'Latest Team'], inplace = True)\t\n",
    "\n",
    "master_frame=pd.merge(master_frame, all_seasons_player_tackle_points, how=\"left\", left_on=['Player Name', 'Matches Played'], right_on=['Player Name', 'Matches Played'])\n",
    "master_frame.drop(columns = ['Player Rank', 'Latest Team'], inplace = True)\n",
    "\n",
    "master_frame=pd.merge(master_frame, all_seasons_player_average_tackle_points, how=\"left\", left_on=['Player Name', 'Matches Played'], right_on=['Player Name', 'Matches Played'])\n",
    "master_frame.drop(columns = ['Player Rank', 'Latest Team'], inplace = True)\n",
    "\n",
    "master_frame=pd.merge(master_frame, all_seasons_player_super_tackles, how=\"left\", left_on=['Player Name', 'Matches Played'], right_on=['Player Name', 'Matches Played'])\n",
    "master_frame.drop(columns = ['Player Rank', 'Latest Team'], inplace = True)\n",
    "\n",
    "master_frame=pd.merge(master_frame, all_seasons_player_high_5s, how=\"left\", left_on=['Player Name', 'Matches Played'], right_on=['Player Name', 'Matches Played'])\n",
    "master_frame.drop(columns = ['Player Rank', 'Latest Team'], inplace = True)"
   ]
  },
  {
   "cell_type": "code",
   "execution_count": 448,
   "metadata": {},
   "outputs": [
    {
     "data": {
      "text/html": [
       "<div>\n",
       "<style scoped>\n",
       "    .dataframe tbody tr th:only-of-type {\n",
       "        vertical-align: middle;\n",
       "    }\n",
       "\n",
       "    .dataframe tbody tr th {\n",
       "        vertical-align: top;\n",
       "    }\n",
       "\n",
       "    .dataframe thead th {\n",
       "        text-align: right;\n",
       "    }\n",
       "</style>\n",
       "<table border=\"1\" class=\"dataframe\">\n",
       "  <thead>\n",
       "    <tr style=\"text-align: right;\">\n",
       "      <th></th>\n",
       "      <th>Player Rank_x</th>\n",
       "      <th>Player Name</th>\n",
       "      <th>Latest Team_x</th>\n",
       "      <th>Matches Played</th>\n",
       "      <th>Total Points</th>\n",
       "      <th>Successful Raids</th>\n",
       "      <th>Raid Points</th>\n",
       "      <th>Average Raid Points</th>\n",
       "      <th>Do or Die Raid Points</th>\n",
       "      <th>Super Raids</th>\n",
       "      <th>Super 10s</th>\n",
       "      <th>Successful Tackles</th>\n",
       "      <th>Tackle Points</th>\n",
       "      <th>Average Tackle Points</th>\n",
       "      <th>Super Tackles</th>\n",
       "      <th>High 5s</th>\n",
       "    </tr>\n",
       "  </thead>\n",
       "  <tbody>\n",
       "    <tr>\n",
       "      <th>0</th>\n",
       "      <td>1</td>\n",
       "      <td>Pardeep Narwal</td>\n",
       "      <td>Patna Pirates</td>\n",
       "      <td>101</td>\n",
       "      <td>1055</td>\n",
       "      <td>798.0</td>\n",
       "      <td>1048.0</td>\n",
       "      <td>10.48</td>\n",
       "      <td>133.0</td>\n",
       "      <td>46.0</td>\n",
       "      <td>54.0</td>\n",
       "      <td>6.0</td>\n",
       "      <td>7.0</td>\n",
       "      <td>0.07</td>\n",
       "      <td>1.0</td>\n",
       "      <td>NaN</td>\n",
       "    </tr>\n",
       "    <tr>\n",
       "      <th>1</th>\n",
       "      <td>2</td>\n",
       "      <td>Rahul Chaudhari</td>\n",
       "      <td>Tamil Thalaivas</td>\n",
       "      <td>117</td>\n",
       "      <td>991</td>\n",
       "      <td>766.0</td>\n",
       "      <td>933.0</td>\n",
       "      <td>7.97</td>\n",
       "      <td>161.0</td>\n",
       "      <td>24.0</td>\n",
       "      <td>40.0</td>\n",
       "      <td>53.0</td>\n",
       "      <td>58.0</td>\n",
       "      <td>0.50</td>\n",
       "      <td>5.0</td>\n",
       "      <td>NaN</td>\n",
       "    </tr>\n",
       "    <tr>\n",
       "      <th>2</th>\n",
       "      <td>3</td>\n",
       "      <td>Deepak Niwas Hooda</td>\n",
       "      <td>Jaipur Pink Panthers</td>\n",
       "      <td>119</td>\n",
       "      <td>905</td>\n",
       "      <td>670.0</td>\n",
       "      <td>820.0</td>\n",
       "      <td>6.89</td>\n",
       "      <td>161.0</td>\n",
       "      <td>20.0</td>\n",
       "      <td>29.0</td>\n",
       "      <td>77.0</td>\n",
       "      <td>85.0</td>\n",
       "      <td>0.71</td>\n",
       "      <td>8.0</td>\n",
       "      <td>4.0</td>\n",
       "    </tr>\n",
       "    <tr>\n",
       "      <th>3</th>\n",
       "      <td>4</td>\n",
       "      <td>Ajay Thakur</td>\n",
       "      <td>Tamil Thalaivas</td>\n",
       "      <td>115</td>\n",
       "      <td>811</td>\n",
       "      <td>640.0</td>\n",
       "      <td>790.0</td>\n",
       "      <td>6.87</td>\n",
       "      <td>163.0</td>\n",
       "      <td>23.0</td>\n",
       "      <td>29.0</td>\n",
       "      <td>21.0</td>\n",
       "      <td>21.0</td>\n",
       "      <td>0.18</td>\n",
       "      <td>NaN</td>\n",
       "      <td>NaN</td>\n",
       "    </tr>\n",
       "    <tr>\n",
       "      <th>4</th>\n",
       "      <td>5</td>\n",
       "      <td>Rohit Kumar</td>\n",
       "      <td>Bengaluru Bulls</td>\n",
       "      <td>88</td>\n",
       "      <td>689</td>\n",
       "      <td>535.0</td>\n",
       "      <td>650.0</td>\n",
       "      <td>7.47</td>\n",
       "      <td>106.0</td>\n",
       "      <td>14.0</td>\n",
       "      <td>25.0</td>\n",
       "      <td>37.0</td>\n",
       "      <td>39.0</td>\n",
       "      <td>0.44</td>\n",
       "      <td>2.0</td>\n",
       "      <td>1.0</td>\n",
       "    </tr>\n",
       "  </tbody>\n",
       "</table>\n",
       "</div>"
      ],
      "text/plain": [
       "   Player Rank_x         Player Name         Latest Team_x  Matches Played  \\\n",
       "0              1      Pardeep Narwal         Patna Pirates             101   \n",
       "1              2     Rahul Chaudhari       Tamil Thalaivas             117   \n",
       "2              3  Deepak Niwas Hooda  Jaipur Pink Panthers             119   \n",
       "3              4         Ajay Thakur       Tamil Thalaivas             115   \n",
       "4              5         Rohit Kumar       Bengaluru Bulls              88   \n",
       "\n",
       "   Total Points  Successful Raids  Raid Points  Average Raid Points  \\\n",
       "0          1055             798.0       1048.0                10.48   \n",
       "1           991             766.0        933.0                 7.97   \n",
       "2           905             670.0        820.0                 6.89   \n",
       "3           811             640.0        790.0                 6.87   \n",
       "4           689             535.0        650.0                 7.47   \n",
       "\n",
       "   Do or Die Raid Points  Super Raids  Super 10s  Successful Tackles  \\\n",
       "0                  133.0         46.0       54.0                 6.0   \n",
       "1                  161.0         24.0       40.0                53.0   \n",
       "2                  161.0         20.0       29.0                77.0   \n",
       "3                  163.0         23.0       29.0                21.0   \n",
       "4                  106.0         14.0       25.0                37.0   \n",
       "\n",
       "   Tackle Points  Average Tackle Points  Super Tackles  High 5s  \n",
       "0            7.0                   0.07            1.0      NaN  \n",
       "1           58.0                   0.50            5.0      NaN  \n",
       "2           85.0                   0.71            8.0      4.0  \n",
       "3           21.0                   0.18            NaN      NaN  \n",
       "4           39.0                   0.44            2.0      1.0  "
      ]
     },
     "execution_count": 448,
     "metadata": {},
     "output_type": "execute_result"
    }
   ],
   "source": [
    "master_frame.head()"
   ]
  },
  {
   "cell_type": "code",
   "execution_count": 449,
   "metadata": {},
   "outputs": [
    {
     "name": "stdout",
     "output_type": "stream",
     "text": [
      "<class 'pandas.core.frame.DataFrame'>\n",
      "Int64Index: 388 entries, 0 to 387\n",
      "Data columns (total 16 columns):\n",
      "Player Rank_x            388 non-null int64\n",
      "Player Name              388 non-null object\n",
      "Latest Team_x            388 non-null object\n",
      "Matches Played           388 non-null int64\n",
      "Total Points             388 non-null int64\n",
      "Successful Raids         269 non-null float64\n",
      "Raid Points              284 non-null float64\n",
      "Average Raid Points      252 non-null float64\n",
      "Do or Die Raid Points    199 non-null float64\n",
      "Super Raids              112 non-null float64\n",
      "Super 10s                69 non-null float64\n",
      "Successful Tackles       327 non-null float64\n",
      "Tackle Points            327 non-null float64\n",
      "Average Tackle Points    297 non-null float64\n",
      "Super Tackles            209 non-null float64\n",
      "High 5s                  99 non-null float64\n",
      "dtypes: float64(11), int64(3), object(2)\n",
      "memory usage: 51.5+ KB\n"
     ]
    }
   ],
   "source": [
    "master_frame.info()"
   ]
  },
  {
   "cell_type": "markdown",
   "metadata": {},
   "source": [
    "###### Replace Null values with 0 for the columns: Successful Raids, Raid Points, Average Raid Points, Do or Die Raid Points, Super Raids, Super 10s"
   ]
  },
  {
   "cell_type": "code",
   "execution_count": 450,
   "metadata": {},
   "outputs": [],
   "source": [
    "master_frame.fillna(value=0, inplace=True)"
   ]
  },
  {
   "cell_type": "code",
   "execution_count": 451,
   "metadata": {},
   "outputs": [
    {
     "data": {
      "text/html": [
       "<div>\n",
       "<style scoped>\n",
       "    .dataframe tbody tr th:only-of-type {\n",
       "        vertical-align: middle;\n",
       "    }\n",
       "\n",
       "    .dataframe tbody tr th {\n",
       "        vertical-align: top;\n",
       "    }\n",
       "\n",
       "    .dataframe thead th {\n",
       "        text-align: right;\n",
       "    }\n",
       "</style>\n",
       "<table border=\"1\" class=\"dataframe\">\n",
       "  <thead>\n",
       "    <tr style=\"text-align: right;\">\n",
       "      <th></th>\n",
       "      <th>Player Rank_x</th>\n",
       "      <th>Player Name</th>\n",
       "      <th>Latest Team_x</th>\n",
       "      <th>Matches Played</th>\n",
       "      <th>Total Points</th>\n",
       "      <th>Successful Raids</th>\n",
       "      <th>Raid Points</th>\n",
       "      <th>Average Raid Points</th>\n",
       "      <th>Do or Die Raid Points</th>\n",
       "      <th>Super Raids</th>\n",
       "      <th>Super 10s</th>\n",
       "      <th>Successful Tackles</th>\n",
       "      <th>Tackle Points</th>\n",
       "      <th>Average Tackle Points</th>\n",
       "      <th>Super Tackles</th>\n",
       "      <th>High 5s</th>\n",
       "    </tr>\n",
       "  </thead>\n",
       "  <tbody>\n",
       "    <tr>\n",
       "      <th>0</th>\n",
       "      <td>1</td>\n",
       "      <td>Pardeep Narwal</td>\n",
       "      <td>Patna Pirates</td>\n",
       "      <td>101</td>\n",
       "      <td>1055</td>\n",
       "      <td>798.0</td>\n",
       "      <td>1048.0</td>\n",
       "      <td>10.48</td>\n",
       "      <td>133.0</td>\n",
       "      <td>46.0</td>\n",
       "      <td>54.0</td>\n",
       "      <td>6.0</td>\n",
       "      <td>7.0</td>\n",
       "      <td>0.07</td>\n",
       "      <td>1.0</td>\n",
       "      <td>0.0</td>\n",
       "    </tr>\n",
       "    <tr>\n",
       "      <th>1</th>\n",
       "      <td>2</td>\n",
       "      <td>Rahul Chaudhari</td>\n",
       "      <td>Tamil Thalaivas</td>\n",
       "      <td>117</td>\n",
       "      <td>991</td>\n",
       "      <td>766.0</td>\n",
       "      <td>933.0</td>\n",
       "      <td>7.97</td>\n",
       "      <td>161.0</td>\n",
       "      <td>24.0</td>\n",
       "      <td>40.0</td>\n",
       "      <td>53.0</td>\n",
       "      <td>58.0</td>\n",
       "      <td>0.50</td>\n",
       "      <td>5.0</td>\n",
       "      <td>0.0</td>\n",
       "    </tr>\n",
       "    <tr>\n",
       "      <th>2</th>\n",
       "      <td>3</td>\n",
       "      <td>Deepak Niwas Hooda</td>\n",
       "      <td>Jaipur Pink Panthers</td>\n",
       "      <td>119</td>\n",
       "      <td>905</td>\n",
       "      <td>670.0</td>\n",
       "      <td>820.0</td>\n",
       "      <td>6.89</td>\n",
       "      <td>161.0</td>\n",
       "      <td>20.0</td>\n",
       "      <td>29.0</td>\n",
       "      <td>77.0</td>\n",
       "      <td>85.0</td>\n",
       "      <td>0.71</td>\n",
       "      <td>8.0</td>\n",
       "      <td>4.0</td>\n",
       "    </tr>\n",
       "    <tr>\n",
       "      <th>3</th>\n",
       "      <td>4</td>\n",
       "      <td>Ajay Thakur</td>\n",
       "      <td>Tamil Thalaivas</td>\n",
       "      <td>115</td>\n",
       "      <td>811</td>\n",
       "      <td>640.0</td>\n",
       "      <td>790.0</td>\n",
       "      <td>6.87</td>\n",
       "      <td>163.0</td>\n",
       "      <td>23.0</td>\n",
       "      <td>29.0</td>\n",
       "      <td>21.0</td>\n",
       "      <td>21.0</td>\n",
       "      <td>0.18</td>\n",
       "      <td>0.0</td>\n",
       "      <td>0.0</td>\n",
       "    </tr>\n",
       "    <tr>\n",
       "      <th>4</th>\n",
       "      <td>5</td>\n",
       "      <td>Rohit Kumar</td>\n",
       "      <td>Bengaluru Bulls</td>\n",
       "      <td>88</td>\n",
       "      <td>689</td>\n",
       "      <td>535.0</td>\n",
       "      <td>650.0</td>\n",
       "      <td>7.47</td>\n",
       "      <td>106.0</td>\n",
       "      <td>14.0</td>\n",
       "      <td>25.0</td>\n",
       "      <td>37.0</td>\n",
       "      <td>39.0</td>\n",
       "      <td>0.44</td>\n",
       "      <td>2.0</td>\n",
       "      <td>1.0</td>\n",
       "    </tr>\n",
       "  </tbody>\n",
       "</table>\n",
       "</div>"
      ],
      "text/plain": [
       "   Player Rank_x         Player Name         Latest Team_x  Matches Played  \\\n",
       "0              1      Pardeep Narwal         Patna Pirates             101   \n",
       "1              2     Rahul Chaudhari       Tamil Thalaivas             117   \n",
       "2              3  Deepak Niwas Hooda  Jaipur Pink Panthers             119   \n",
       "3              4         Ajay Thakur       Tamil Thalaivas             115   \n",
       "4              5         Rohit Kumar       Bengaluru Bulls              88   \n",
       "\n",
       "   Total Points  Successful Raids  Raid Points  Average Raid Points  \\\n",
       "0          1055             798.0       1048.0                10.48   \n",
       "1           991             766.0        933.0                 7.97   \n",
       "2           905             670.0        820.0                 6.89   \n",
       "3           811             640.0        790.0                 6.87   \n",
       "4           689             535.0        650.0                 7.47   \n",
       "\n",
       "   Do or Die Raid Points  Super Raids  Super 10s  Successful Tackles  \\\n",
       "0                  133.0         46.0       54.0                 6.0   \n",
       "1                  161.0         24.0       40.0                53.0   \n",
       "2                  161.0         20.0       29.0                77.0   \n",
       "3                  163.0         23.0       29.0                21.0   \n",
       "4                  106.0         14.0       25.0                37.0   \n",
       "\n",
       "   Tackle Points  Average Tackle Points  Super Tackles  High 5s  \n",
       "0            7.0                   0.07            1.0      0.0  \n",
       "1           58.0                   0.50            5.0      0.0  \n",
       "2           85.0                   0.71            8.0      4.0  \n",
       "3           21.0                   0.18            0.0      0.0  \n",
       "4           39.0                   0.44            2.0      1.0  "
      ]
     },
     "execution_count": 451,
     "metadata": {},
     "output_type": "execute_result"
    }
   ],
   "source": [
    "master_frame.head()"
   ]
  },
  {
   "cell_type": "code",
   "execution_count": 452,
   "metadata": {},
   "outputs": [],
   "source": [
    "master_frame['Successful Raids'] = master_frame['Successful Raids'].astype('int64')\n",
    "master_frame['Raid Points'] = master_frame['Raid Points'].astype('int64')\n",
    "master_frame['Do or Die Raid Points'] = master_frame['Do or Die Raid Points'].astype('int64')\n",
    "master_frame['Super Raids'] = master_frame['Super Raids'].astype('int64')\n",
    "master_frame['Super 10s'] = master_frame['Super 10s'].astype('int64')\n",
    "master_frame['Successful Tackles'] = master_frame['Super 10s'].astype('int64')\n",
    "master_frame['Tackle Points'] = master_frame['Tackle Points'].astype('int64')\n",
    "master_frame['Super Tackles'] = master_frame['Super Tackles'].astype('int64')\n",
    "master_frame['High 5s'] = master_frame['High 5s'].astype('int64')"
   ]
  },
  {
   "cell_type": "code",
   "execution_count": 453,
   "metadata": {},
   "outputs": [],
   "source": [
    " master_frame.rename(columns={\"Player Rank_x\": \"Player Rank\", \"Latest Team_x\": \"Latest Team\"}, inplace = True)"
   ]
  },
  {
   "cell_type": "code",
   "execution_count": 454,
   "metadata": {},
   "outputs": [
    {
     "name": "stdout",
     "output_type": "stream",
     "text": [
      "<class 'pandas.core.frame.DataFrame'>\n",
      "Int64Index: 388 entries, 0 to 387\n",
      "Data columns (total 16 columns):\n",
      "Player Rank              388 non-null int64\n",
      "Player Name              388 non-null object\n",
      "Latest Team              388 non-null object\n",
      "Matches Played           388 non-null int64\n",
      "Total Points             388 non-null int64\n",
      "Successful Raids         388 non-null int64\n",
      "Raid Points              388 non-null int64\n",
      "Average Raid Points      388 non-null float64\n",
      "Do or Die Raid Points    388 non-null int64\n",
      "Super Raids              388 non-null int64\n",
      "Super 10s                388 non-null int64\n",
      "Successful Tackles       388 non-null int64\n",
      "Tackle Points            388 non-null int64\n",
      "Average Tackle Points    388 non-null float64\n",
      "Super Tackles            388 non-null int64\n",
      "High 5s                  388 non-null int64\n",
      "dtypes: float64(2), int64(12), object(2)\n",
      "memory usage: 51.5+ KB\n"
     ]
    }
   ],
   "source": [
    "master_frame.info()"
   ]
  },
  {
   "cell_type": "code",
   "execution_count": 455,
   "metadata": {},
   "outputs": [
    {
     "data": {
      "text/html": [
       "<div>\n",
       "<style scoped>\n",
       "    .dataframe tbody tr th:only-of-type {\n",
       "        vertical-align: middle;\n",
       "    }\n",
       "\n",
       "    .dataframe tbody tr th {\n",
       "        vertical-align: top;\n",
       "    }\n",
       "\n",
       "    .dataframe thead th {\n",
       "        text-align: right;\n",
       "    }\n",
       "</style>\n",
       "<table border=\"1\" class=\"dataframe\">\n",
       "  <thead>\n",
       "    <tr style=\"text-align: right;\">\n",
       "      <th></th>\n",
       "      <th>Player Rank</th>\n",
       "      <th>Player Name</th>\n",
       "      <th>Latest Team</th>\n",
       "      <th>Matches Played</th>\n",
       "      <th>Total Points</th>\n",
       "      <th>Successful Raids</th>\n",
       "      <th>Raid Points</th>\n",
       "      <th>Average Raid Points</th>\n",
       "      <th>Do or Die Raid Points</th>\n",
       "      <th>Super Raids</th>\n",
       "      <th>Super 10s</th>\n",
       "      <th>Successful Tackles</th>\n",
       "      <th>Tackle Points</th>\n",
       "      <th>Average Tackle Points</th>\n",
       "      <th>Super Tackles</th>\n",
       "      <th>High 5s</th>\n",
       "    </tr>\n",
       "  </thead>\n",
       "  <tbody>\n",
       "    <tr>\n",
       "      <th>0</th>\n",
       "      <td>1</td>\n",
       "      <td>Pardeep Narwal</td>\n",
       "      <td>Patna Pirates</td>\n",
       "      <td>101</td>\n",
       "      <td>1055</td>\n",
       "      <td>798</td>\n",
       "      <td>1048</td>\n",
       "      <td>10.48</td>\n",
       "      <td>133</td>\n",
       "      <td>46</td>\n",
       "      <td>54</td>\n",
       "      <td>54</td>\n",
       "      <td>7</td>\n",
       "      <td>0.07</td>\n",
       "      <td>1</td>\n",
       "      <td>0</td>\n",
       "    </tr>\n",
       "    <tr>\n",
       "      <th>1</th>\n",
       "      <td>2</td>\n",
       "      <td>Rahul Chaudhari</td>\n",
       "      <td>Tamil Thalaivas</td>\n",
       "      <td>117</td>\n",
       "      <td>991</td>\n",
       "      <td>766</td>\n",
       "      <td>933</td>\n",
       "      <td>7.97</td>\n",
       "      <td>161</td>\n",
       "      <td>24</td>\n",
       "      <td>40</td>\n",
       "      <td>40</td>\n",
       "      <td>58</td>\n",
       "      <td>0.50</td>\n",
       "      <td>5</td>\n",
       "      <td>0</td>\n",
       "    </tr>\n",
       "    <tr>\n",
       "      <th>2</th>\n",
       "      <td>3</td>\n",
       "      <td>Deepak Niwas Hooda</td>\n",
       "      <td>Jaipur Pink Panthers</td>\n",
       "      <td>119</td>\n",
       "      <td>905</td>\n",
       "      <td>670</td>\n",
       "      <td>820</td>\n",
       "      <td>6.89</td>\n",
       "      <td>161</td>\n",
       "      <td>20</td>\n",
       "      <td>29</td>\n",
       "      <td>29</td>\n",
       "      <td>85</td>\n",
       "      <td>0.71</td>\n",
       "      <td>8</td>\n",
       "      <td>4</td>\n",
       "    </tr>\n",
       "    <tr>\n",
       "      <th>3</th>\n",
       "      <td>4</td>\n",
       "      <td>Ajay Thakur</td>\n",
       "      <td>Tamil Thalaivas</td>\n",
       "      <td>115</td>\n",
       "      <td>811</td>\n",
       "      <td>640</td>\n",
       "      <td>790</td>\n",
       "      <td>6.87</td>\n",
       "      <td>163</td>\n",
       "      <td>23</td>\n",
       "      <td>29</td>\n",
       "      <td>29</td>\n",
       "      <td>21</td>\n",
       "      <td>0.18</td>\n",
       "      <td>0</td>\n",
       "      <td>0</td>\n",
       "    </tr>\n",
       "    <tr>\n",
       "      <th>4</th>\n",
       "      <td>5</td>\n",
       "      <td>Rohit Kumar</td>\n",
       "      <td>Bengaluru Bulls</td>\n",
       "      <td>88</td>\n",
       "      <td>689</td>\n",
       "      <td>535</td>\n",
       "      <td>650</td>\n",
       "      <td>7.47</td>\n",
       "      <td>106</td>\n",
       "      <td>14</td>\n",
       "      <td>25</td>\n",
       "      <td>25</td>\n",
       "      <td>39</td>\n",
       "      <td>0.44</td>\n",
       "      <td>2</td>\n",
       "      <td>1</td>\n",
       "    </tr>\n",
       "  </tbody>\n",
       "</table>\n",
       "</div>"
      ],
      "text/plain": [
       "   Player Rank         Player Name           Latest Team  Matches Played  \\\n",
       "0            1      Pardeep Narwal         Patna Pirates             101   \n",
       "1            2     Rahul Chaudhari       Tamil Thalaivas             117   \n",
       "2            3  Deepak Niwas Hooda  Jaipur Pink Panthers             119   \n",
       "3            4         Ajay Thakur       Tamil Thalaivas             115   \n",
       "4            5         Rohit Kumar       Bengaluru Bulls              88   \n",
       "\n",
       "   Total Points  Successful Raids  Raid Points  Average Raid Points  \\\n",
       "0          1055               798         1048                10.48   \n",
       "1           991               766          933                 7.97   \n",
       "2           905               670          820                 6.89   \n",
       "3           811               640          790                 6.87   \n",
       "4           689               535          650                 7.47   \n",
       "\n",
       "   Do or Die Raid Points  Super Raids  Super 10s  Successful Tackles  \\\n",
       "0                    133           46         54                  54   \n",
       "1                    161           24         40                  40   \n",
       "2                    161           20         29                  29   \n",
       "3                    163           23         29                  29   \n",
       "4                    106           14         25                  25   \n",
       "\n",
       "   Tackle Points  Average Tackle Points  Super Tackles  High 5s  \n",
       "0              7                   0.07              1        0  \n",
       "1             58                   0.50              5        0  \n",
       "2             85                   0.71              8        4  \n",
       "3             21                   0.18              0        0  \n",
       "4             39                   0.44              2        1  "
      ]
     },
     "execution_count": 455,
     "metadata": {},
     "output_type": "execute_result"
    }
   ],
   "source": [
    "master_frame.head()"
   ]
  },
  {
   "cell_type": "markdown",
   "metadata": {},
   "source": [
    "###### Delete other non required data frames"
   ]
  },
  {
   "cell_type": "code",
   "execution_count": 456,
   "metadata": {},
   "outputs": [],
   "source": [
    "del all_seasons_player_total_points\n",
    "del all_seasons_player_successful_raids\n",
    "del all_seasons_player_raid_points\n",
    "del all_seasons_player_average_raid_points\n",
    "del all_seasons_player_do_or_die_raid_points\n",
    "del all_seasons_player_super_raids\n",
    "del all_seasons_player_super_10s\n",
    "del all_seasons_player_successful_tackles\n",
    "del all_seasons_player_tackle_points\n",
    "del all_seasons_player_average_tackle_points\n",
    "del all_seasons_player_super_tackles\n",
    "del all_seasons_player_high_5s"
   ]
  },
  {
   "cell_type": "markdown",
   "metadata": {},
   "source": [
    "###### Quit the web browser"
   ]
  },
  {
   "cell_type": "code",
   "execution_count": 457,
   "metadata": {},
   "outputs": [],
   "source": [
    "driver.quit()"
   ]
  },
  {
   "cell_type": "code",
   "execution_count": 458,
   "metadata": {},
   "outputs": [],
   "source": [
    "master_frame.to_csv('player_data.csv', sep=',')"
   ]
  },
  {
   "cell_type": "code",
   "execution_count": null,
   "metadata": {},
   "outputs": [],
   "source": []
  }
 ],
 "metadata": {
  "kernelspec": {
   "display_name": "Python 3",
   "language": "python",
   "name": "python3"
  },
  "language_info": {
   "codemirror_mode": {
    "name": "ipython",
    "version": 3
   },
   "file_extension": ".py",
   "mimetype": "text/x-python",
   "name": "python",
   "nbconvert_exporter": "python",
   "pygments_lexer": "ipython3",
   "version": "3.7.3"
  }
 },
 "nbformat": 4,
 "nbformat_minor": 2
}
