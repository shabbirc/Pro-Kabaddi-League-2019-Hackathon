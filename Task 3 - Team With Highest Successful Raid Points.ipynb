{
 "cells": [
  {
   "cell_type": "code",
   "execution_count": 1,
   "metadata": {},
   "outputs": [],
   "source": [
    "import numpy as np\n",
    "import pandas as pd\n",
    "import matplotlib.pyplot as plt\n",
    "import seaborn as sns\n",
    "import warnings\n",
    "import requests\n",
    "import time \n",
    "import math\n",
    "\n",
    "import sklearn\n",
    "from sklearn.model_selection import train_test_split\n",
    "from sklearn.preprocessing import MinMaxScaler\n",
    "from sklearn.metrics import r2_score\n",
    "from sklearn.preprocessing import OneHotEncoder\n",
    "\n",
    "import statsmodels.api as sm\n",
    "from statsmodels.stats.outliers_influence import variance_inflation_factor\n",
    "\n",
    "from sklearn.feature_selection import RFE\n",
    "from sklearn.linear_model import LinearRegression\n",
    "from sklearn.metrics import mean_squared_error\n",
    "from sklearn.metrics import r2_score\n",
    "\n",
    "warnings.filterwarnings('ignore')\n",
    "pd.set_option('display.max_columns', 100)\n",
    "pd.set_option('display.max_rows', 100)"
   ]
  },
  {
   "cell_type": "markdown",
   "metadata": {},
   "source": [
    "###### Read Train and Test Data. Test data is current season (2019) data which will be used for testing the model & making predictions. Train data is old season data (2014 to 2018) and will be used to build the model"
   ]
  },
  {
   "cell_type": "code",
   "execution_count": 2,
   "metadata": {},
   "outputs": [],
   "source": [
    "df_train = pd.read_csv('Train_Team Complete Data.csv', sep = ',')\n",
    "df_test = pd.read_csv('Test_Team Complete Data.csv', sep = ',')"
   ]
  },
  {
   "cell_type": "code",
   "execution_count": 3,
   "metadata": {},
   "outputs": [
    {
     "data": {
      "text/html": [
       "<div>\n",
       "<style scoped>\n",
       "    .dataframe tbody tr th:only-of-type {\n",
       "        vertical-align: middle;\n",
       "    }\n",
       "\n",
       "    .dataframe tbody tr th {\n",
       "        vertical-align: top;\n",
       "    }\n",
       "\n",
       "    .dataframe thead th {\n",
       "        text-align: right;\n",
       "    }\n",
       "</style>\n",
       "<table border=\"1\" class=\"dataframe\">\n",
       "  <thead>\n",
       "    <tr style=\"text-align: right;\">\n",
       "      <th></th>\n",
       "      <th>Unnamed: 0</th>\n",
       "      <th>Season</th>\n",
       "      <th>Team</th>\n",
       "      <th>Matches Played</th>\n",
       "      <th>Total points scored</th>\n",
       "      <th>Total points conceded</th>\n",
       "      <th>Avg points scored</th>\n",
       "      <th>Successful raids</th>\n",
       "      <th>Raid points</th>\n",
       "      <th>Avg raid points</th>\n",
       "      <th>Successful tackles</th>\n",
       "      <th>Tackle points</th>\n",
       "      <th>Avg tackle points</th>\n",
       "      <th>Super raids</th>\n",
       "      <th>Super tackles</th>\n",
       "      <th>Do-or-Die raid points</th>\n",
       "      <th>All-outs inflicted</th>\n",
       "      <th>All-outs conceded</th>\n",
       "    </tr>\n",
       "  </thead>\n",
       "  <tbody>\n",
       "    <tr>\n",
       "      <th>0</th>\n",
       "      <td>0</td>\n",
       "      <td>Season 1</td>\n",
       "      <td>Puneri Paltan</td>\n",
       "      <td>14</td>\n",
       "      <td>536</td>\n",
       "      <td>536</td>\n",
       "      <td>26.85</td>\n",
       "      <td>204</td>\n",
       "      <td>269</td>\n",
       "      <td>19.21</td>\n",
       "      <td>93</td>\n",
       "      <td>107</td>\n",
       "      <td>7.64</td>\n",
       "      <td>11</td>\n",
       "      <td>14</td>\n",
       "      <td>48</td>\n",
       "      <td>12</td>\n",
       "      <td>26</td>\n",
       "    </tr>\n",
       "    <tr>\n",
       "      <th>1</th>\n",
       "      <td>1</td>\n",
       "      <td>Season 1</td>\n",
       "      <td>Bengal Warriors</td>\n",
       "      <td>14</td>\n",
       "      <td>515</td>\n",
       "      <td>515</td>\n",
       "      <td>28.92</td>\n",
       "      <td>213</td>\n",
       "      <td>283</td>\n",
       "      <td>20.21</td>\n",
       "      <td>106</td>\n",
       "      <td>122</td>\n",
       "      <td>8.71</td>\n",
       "      <td>11</td>\n",
       "      <td>16</td>\n",
       "      <td>30</td>\n",
       "      <td>11</td>\n",
       "      <td>25</td>\n",
       "    </tr>\n",
       "    <tr>\n",
       "      <th>2</th>\n",
       "      <td>2</td>\n",
       "      <td>Season 1</td>\n",
       "      <td>Dabang Delhi K.C.</td>\n",
       "      <td>14</td>\n",
       "      <td>471</td>\n",
       "      <td>471</td>\n",
       "      <td>29.92</td>\n",
       "      <td>246</td>\n",
       "      <td>285</td>\n",
       "      <td>20.36</td>\n",
       "      <td>124</td>\n",
       "      <td>134</td>\n",
       "      <td>9.57</td>\n",
       "      <td>5</td>\n",
       "      <td>10</td>\n",
       "      <td>31</td>\n",
       "      <td>18</td>\n",
       "      <td>23</td>\n",
       "    </tr>\n",
       "    <tr>\n",
       "      <th>3</th>\n",
       "      <td>3</td>\n",
       "      <td>Season 1</td>\n",
       "      <td>U Mumba</td>\n",
       "      <td>16</td>\n",
       "      <td>499</td>\n",
       "      <td>499</td>\n",
       "      <td>31.50</td>\n",
       "      <td>270</td>\n",
       "      <td>347</td>\n",
       "      <td>21.69</td>\n",
       "      <td>145</td>\n",
       "      <td>157</td>\n",
       "      <td>9.81</td>\n",
       "      <td>12</td>\n",
       "      <td>12</td>\n",
       "      <td>40</td>\n",
       "      <td>21</td>\n",
       "      <td>19</td>\n",
       "    </tr>\n",
       "    <tr>\n",
       "      <th>4</th>\n",
       "      <td>4</td>\n",
       "      <td>Season 1</td>\n",
       "      <td>Patna Pirates</td>\n",
       "      <td>16</td>\n",
       "      <td>487</td>\n",
       "      <td>487</td>\n",
       "      <td>28.62</td>\n",
       "      <td>253</td>\n",
       "      <td>316</td>\n",
       "      <td>19.75</td>\n",
       "      <td>124</td>\n",
       "      <td>142</td>\n",
       "      <td>8.88</td>\n",
       "      <td>13</td>\n",
       "      <td>18</td>\n",
       "      <td>42</td>\n",
       "      <td>18</td>\n",
       "      <td>17</td>\n",
       "    </tr>\n",
       "  </tbody>\n",
       "</table>\n",
       "</div>"
      ],
      "text/plain": [
       "   Unnamed: 0    Season               Team  Matches Played  \\\n",
       "0           0  Season 1      Puneri Paltan              14   \n",
       "1           1  Season 1    Bengal Warriors              14   \n",
       "2           2  Season 1  Dabang Delhi K.C.              14   \n",
       "3           3  Season 1            U Mumba              16   \n",
       "4           4  Season 1      Patna Pirates              16   \n",
       "\n",
       "   Total points scored  Total points conceded  Avg points scored  \\\n",
       "0                  536                    536              26.85   \n",
       "1                  515                    515              28.92   \n",
       "2                  471                    471              29.92   \n",
       "3                  499                    499              31.50   \n",
       "4                  487                    487              28.62   \n",
       "\n",
       "   Successful raids  Raid points  Avg raid points  Successful tackles  \\\n",
       "0               204          269            19.21                  93   \n",
       "1               213          283            20.21                 106   \n",
       "2               246          285            20.36                 124   \n",
       "3               270          347            21.69                 145   \n",
       "4               253          316            19.75                 124   \n",
       "\n",
       "   Tackle points  Avg tackle points  Super raids  Super tackles  \\\n",
       "0            107               7.64           11             14   \n",
       "1            122               8.71           11             16   \n",
       "2            134               9.57            5             10   \n",
       "3            157               9.81           12             12   \n",
       "4            142               8.88           13             18   \n",
       "\n",
       "   Do-or-Die raid points  All-outs inflicted  All-outs conceded  \n",
       "0                     48                  12                 26  \n",
       "1                     30                  11                 25  \n",
       "2                     31                  18                 23  \n",
       "3                     40                  21                 19  \n",
       "4                     42                  18                 17  "
      ]
     },
     "execution_count": 3,
     "metadata": {},
     "output_type": "execute_result"
    }
   ],
   "source": [
    "df_train.head()"
   ]
  },
  {
   "cell_type": "code",
   "execution_count": 4,
   "metadata": {},
   "outputs": [
    {
     "data": {
      "text/html": [
       "<div>\n",
       "<style scoped>\n",
       "    .dataframe tbody tr th:only-of-type {\n",
       "        vertical-align: middle;\n",
       "    }\n",
       "\n",
       "    .dataframe tbody tr th {\n",
       "        vertical-align: top;\n",
       "    }\n",
       "\n",
       "    .dataframe thead th {\n",
       "        text-align: right;\n",
       "    }\n",
       "</style>\n",
       "<table border=\"1\" class=\"dataframe\">\n",
       "  <thead>\n",
       "    <tr style=\"text-align: right;\">\n",
       "      <th></th>\n",
       "      <th>Unnamed: 0</th>\n",
       "      <th>Season</th>\n",
       "      <th>Team</th>\n",
       "      <th>Matches Played</th>\n",
       "      <th>Total points scored</th>\n",
       "      <th>Total points conceded</th>\n",
       "      <th>Avg points scored</th>\n",
       "      <th>Successful raids</th>\n",
       "      <th>Raid points</th>\n",
       "      <th>Avg raid points</th>\n",
       "      <th>Successful tackles</th>\n",
       "      <th>Tackle points</th>\n",
       "      <th>Avg tackle points</th>\n",
       "      <th>Super raids</th>\n",
       "      <th>Super tackles</th>\n",
       "      <th>Do-or-Die raid points</th>\n",
       "      <th>All-outs inflicted</th>\n",
       "      <th>All-outs conceded</th>\n",
       "    </tr>\n",
       "  </thead>\n",
       "  <tbody>\n",
       "    <tr>\n",
       "      <th>0</th>\n",
       "      <td>0</td>\n",
       "      <td>Season 7</td>\n",
       "      <td>Puneri Paltan</td>\n",
       "      <td>18</td>\n",
       "      <td>578</td>\n",
       "      <td>620</td>\n",
       "      <td>28.83</td>\n",
       "      <td>254</td>\n",
       "      <td>308</td>\n",
       "      <td>17.11</td>\n",
       "      <td>189</td>\n",
       "      <td>211</td>\n",
       "      <td>11.72</td>\n",
       "      <td>6</td>\n",
       "      <td>22</td>\n",
       "      <td>60</td>\n",
       "      <td>17</td>\n",
       "      <td>27</td>\n",
       "    </tr>\n",
       "    <tr>\n",
       "      <th>1</th>\n",
       "      <td>1</td>\n",
       "      <td>Season 7</td>\n",
       "      <td>Tamil Thalaivas</td>\n",
       "      <td>18</td>\n",
       "      <td>525</td>\n",
       "      <td>609</td>\n",
       "      <td>26.00</td>\n",
       "      <td>248</td>\n",
       "      <td>313</td>\n",
       "      <td>17.39</td>\n",
       "      <td>144</td>\n",
       "      <td>155</td>\n",
       "      <td>8.61</td>\n",
       "      <td>4</td>\n",
       "      <td>13</td>\n",
       "      <td>51</td>\n",
       "      <td>13</td>\n",
       "      <td>26</td>\n",
       "    </tr>\n",
       "    <tr>\n",
       "      <th>2</th>\n",
       "      <td>2</td>\n",
       "      <td>Season 7</td>\n",
       "      <td>U.P. Yoddha</td>\n",
       "      <td>17</td>\n",
       "      <td>514</td>\n",
       "      <td>540</td>\n",
       "      <td>26.41</td>\n",
       "      <td>208</td>\n",
       "      <td>269</td>\n",
       "      <td>15.82</td>\n",
       "      <td>167</td>\n",
       "      <td>180</td>\n",
       "      <td>10.59</td>\n",
       "      <td>4</td>\n",
       "      <td>14</td>\n",
       "      <td>64</td>\n",
       "      <td>20</td>\n",
       "      <td>21</td>\n",
       "    </tr>\n",
       "    <tr>\n",
       "      <th>3</th>\n",
       "      <td>3</td>\n",
       "      <td>Season 7</td>\n",
       "      <td>Bengaluru Bulls</td>\n",
       "      <td>17</td>\n",
       "      <td>582</td>\n",
       "      <td>572</td>\n",
       "      <td>30.70</td>\n",
       "      <td>278</td>\n",
       "      <td>351</td>\n",
       "      <td>20.65</td>\n",
       "      <td>148</td>\n",
       "      <td>171</td>\n",
       "      <td>10.06</td>\n",
       "      <td>7</td>\n",
       "      <td>25</td>\n",
       "      <td>35</td>\n",
       "      <td>18</td>\n",
       "      <td>21</td>\n",
       "    </tr>\n",
       "    <tr>\n",
       "      <th>4</th>\n",
       "      <td>4</td>\n",
       "      <td>Season 7</td>\n",
       "      <td>Telugu Titans</td>\n",
       "      <td>16</td>\n",
       "      <td>474</td>\n",
       "      <td>532</td>\n",
       "      <td>27.06</td>\n",
       "      <td>228</td>\n",
       "      <td>270</td>\n",
       "      <td>16.88</td>\n",
       "      <td>143</td>\n",
       "      <td>163</td>\n",
       "      <td>10.19</td>\n",
       "      <td>5</td>\n",
       "      <td>21</td>\n",
       "      <td>35</td>\n",
       "      <td>9</td>\n",
       "      <td>20</td>\n",
       "    </tr>\n",
       "  </tbody>\n",
       "</table>\n",
       "</div>"
      ],
      "text/plain": [
       "   Unnamed: 0    Season             Team  Matches Played  Total points scored  \\\n",
       "0           0  Season 7    Puneri Paltan              18                  578   \n",
       "1           1  Season 7  Tamil Thalaivas              18                  525   \n",
       "2           2  Season 7      U.P. Yoddha              17                  514   \n",
       "3           3  Season 7  Bengaluru Bulls              17                  582   \n",
       "4           4  Season 7    Telugu Titans              16                  474   \n",
       "\n",
       "   Total points conceded  Avg points scored  Successful raids  Raid points  \\\n",
       "0                    620              28.83               254          308   \n",
       "1                    609              26.00               248          313   \n",
       "2                    540              26.41               208          269   \n",
       "3                    572              30.70               278          351   \n",
       "4                    532              27.06               228          270   \n",
       "\n",
       "   Avg raid points  Successful tackles  Tackle points  Avg tackle points  \\\n",
       "0            17.11                 189            211              11.72   \n",
       "1            17.39                 144            155               8.61   \n",
       "2            15.82                 167            180              10.59   \n",
       "3            20.65                 148            171              10.06   \n",
       "4            16.88                 143            163              10.19   \n",
       "\n",
       "   Super raids  Super tackles  Do-or-Die raid points  All-outs inflicted  \\\n",
       "0            6             22                     60                  17   \n",
       "1            4             13                     51                  13   \n",
       "2            4             14                     64                  20   \n",
       "3            7             25                     35                  18   \n",
       "4            5             21                     35                   9   \n",
       "\n",
       "   All-outs conceded  \n",
       "0                 27  \n",
       "1                 26  \n",
       "2                 21  \n",
       "3                 21  \n",
       "4                 20  "
      ]
     },
     "execution_count": 4,
     "metadata": {},
     "output_type": "execute_result"
    }
   ],
   "source": [
    "df_test.head()"
   ]
  },
  {
   "cell_type": "code",
   "execution_count": 5,
   "metadata": {},
   "outputs": [
    {
     "name": "stdout",
     "output_type": "stream",
     "text": [
      "<class 'pandas.core.frame.DataFrame'>\n",
      "RangeIndex: 56 entries, 0 to 55\n",
      "Data columns (total 18 columns):\n",
      "Unnamed: 0               56 non-null int64\n",
      "Season                   56 non-null object\n",
      "Team                     56 non-null object\n",
      "Matches Played           56 non-null int64\n",
      "Total points scored      56 non-null int64\n",
      "Total points conceded    56 non-null int64\n",
      "Avg points scored        56 non-null float64\n",
      "Successful raids         56 non-null int64\n",
      "Raid points              56 non-null int64\n",
      "Avg raid points          56 non-null float64\n",
      "Successful tackles       56 non-null int64\n",
      "Tackle points            56 non-null int64\n",
      "Avg tackle points        56 non-null float64\n",
      "Super raids              56 non-null int64\n",
      "Super tackles            56 non-null int64\n",
      "Do-or-Die raid points    56 non-null int64\n",
      "All-outs inflicted       56 non-null int64\n",
      "All-outs conceded        56 non-null int64\n",
      "dtypes: float64(3), int64(13), object(2)\n",
      "memory usage: 8.0+ KB\n"
     ]
    }
   ],
   "source": [
    "df_train.info()"
   ]
  },
  {
   "cell_type": "code",
   "execution_count": 6,
   "metadata": {},
   "outputs": [
    {
     "name": "stdout",
     "output_type": "stream",
     "text": [
      "<class 'pandas.core.frame.DataFrame'>\n",
      "RangeIndex: 12 entries, 0 to 11\n",
      "Data columns (total 18 columns):\n",
      "Unnamed: 0               12 non-null int64\n",
      "Season                   12 non-null object\n",
      "Team                     12 non-null object\n",
      "Matches Played           12 non-null int64\n",
      "Total points scored      12 non-null int64\n",
      "Total points conceded    12 non-null int64\n",
      "Avg points scored        12 non-null float64\n",
      "Successful raids         12 non-null int64\n",
      "Raid points              12 non-null int64\n",
      "Avg raid points          12 non-null float64\n",
      "Successful tackles       12 non-null int64\n",
      "Tackle points            12 non-null int64\n",
      "Avg tackle points        12 non-null float64\n",
      "Super raids              12 non-null int64\n",
      "Super tackles            12 non-null int64\n",
      "Do-or-Die raid points    12 non-null int64\n",
      "All-outs inflicted       12 non-null int64\n",
      "All-outs conceded        12 non-null int64\n",
      "dtypes: float64(3), int64(13), object(2)\n",
      "memory usage: 1.8+ KB\n"
     ]
    }
   ],
   "source": [
    "df_test.info()"
   ]
  },
  {
   "cell_type": "markdown",
   "metadata": {},
   "source": [
    "### Proceed with Task 3: Predict the team with the highest points for successful raids (Raid Points)"
   ]
  },
  {
   "cell_type": "markdown",
   "metadata": {},
   "source": [
    "###### Drop columns not required for this analysis: \"Unnamed: 0\", \"Total points conceded\", \"Successful tackles\", \"Tackle points\", \"Avg tackle points\", \"Super tackles\"from both train and test dataframes."
   ]
  },
  {
   "cell_type": "code",
   "execution_count": 7,
   "metadata": {},
   "outputs": [],
   "source": [
    "df_train.drop(columns = [\"Unnamed: 0\", \"Total points conceded\", \"Successful tackles\", \"Tackle points\", \"Avg tackle points\", \"Super tackles\", \"All-outs conceded\"], inplace = True)\n",
    "df_test.drop(columns = [\"Unnamed: 0\", \"Total points conceded\", \"Successful tackles\", \"Tackle points\", \"Avg tackle points\", \"Super tackles\", \"All-outs conceded\"], inplace = True)"
   ]
  },
  {
   "cell_type": "code",
   "execution_count": 8,
   "metadata": {},
   "outputs": [
    {
     "name": "stdout",
     "output_type": "stream",
     "text": [
      "<class 'pandas.core.frame.DataFrame'>\n",
      "RangeIndex: 56 entries, 0 to 55\n",
      "Data columns (total 11 columns):\n",
      "Season                   56 non-null object\n",
      "Team                     56 non-null object\n",
      "Matches Played           56 non-null int64\n",
      "Total points scored      56 non-null int64\n",
      "Avg points scored        56 non-null float64\n",
      "Successful raids         56 non-null int64\n",
      "Raid points              56 non-null int64\n",
      "Avg raid points          56 non-null float64\n",
      "Super raids              56 non-null int64\n",
      "Do-or-Die raid points    56 non-null int64\n",
      "All-outs inflicted       56 non-null int64\n",
      "dtypes: float64(2), int64(7), object(2)\n",
      "memory usage: 4.9+ KB\n"
     ]
    }
   ],
   "source": [
    "df_train.info()"
   ]
  },
  {
   "cell_type": "code",
   "execution_count": 9,
   "metadata": {},
   "outputs": [
    {
     "name": "stdout",
     "output_type": "stream",
     "text": [
      "<class 'pandas.core.frame.DataFrame'>\n",
      "RangeIndex: 12 entries, 0 to 11\n",
      "Data columns (total 11 columns):\n",
      "Season                   12 non-null object\n",
      "Team                     12 non-null object\n",
      "Matches Played           12 non-null int64\n",
      "Total points scored      12 non-null int64\n",
      "Avg points scored        12 non-null float64\n",
      "Successful raids         12 non-null int64\n",
      "Raid points              12 non-null int64\n",
      "Avg raid points          12 non-null float64\n",
      "Super raids              12 non-null int64\n",
      "Do-or-Die raid points    12 non-null int64\n",
      "All-outs inflicted       12 non-null int64\n",
      "dtypes: float64(2), int64(7), object(2)\n",
      "memory usage: 1.1+ KB\n"
     ]
    }
   ],
   "source": [
    "df_test.info()"
   ]
  },
  {
   "cell_type": "code",
   "execution_count": 10,
   "metadata": {},
   "outputs": [
    {
     "data": {
      "text/html": [
       "<div>\n",
       "<style scoped>\n",
       "    .dataframe tbody tr th:only-of-type {\n",
       "        vertical-align: middle;\n",
       "    }\n",
       "\n",
       "    .dataframe tbody tr th {\n",
       "        vertical-align: top;\n",
       "    }\n",
       "\n",
       "    .dataframe thead th {\n",
       "        text-align: right;\n",
       "    }\n",
       "</style>\n",
       "<table border=\"1\" class=\"dataframe\">\n",
       "  <thead>\n",
       "    <tr style=\"text-align: right;\">\n",
       "      <th></th>\n",
       "      <th>Season</th>\n",
       "      <th>Team</th>\n",
       "      <th>Matches Played</th>\n",
       "      <th>Total points scored</th>\n",
       "      <th>Avg points scored</th>\n",
       "      <th>Successful raids</th>\n",
       "      <th>Raid points</th>\n",
       "      <th>Avg raid points</th>\n",
       "      <th>Super raids</th>\n",
       "      <th>Do-or-Die raid points</th>\n",
       "      <th>All-outs inflicted</th>\n",
       "    </tr>\n",
       "  </thead>\n",
       "  <tbody>\n",
       "    <tr>\n",
       "      <th>0</th>\n",
       "      <td>Season 1</td>\n",
       "      <td>Puneri Paltan</td>\n",
       "      <td>14</td>\n",
       "      <td>536</td>\n",
       "      <td>26.85</td>\n",
       "      <td>204</td>\n",
       "      <td>269</td>\n",
       "      <td>19.21</td>\n",
       "      <td>11</td>\n",
       "      <td>48</td>\n",
       "      <td>12</td>\n",
       "    </tr>\n",
       "    <tr>\n",
       "      <th>1</th>\n",
       "      <td>Season 1</td>\n",
       "      <td>Bengal Warriors</td>\n",
       "      <td>14</td>\n",
       "      <td>515</td>\n",
       "      <td>28.92</td>\n",
       "      <td>213</td>\n",
       "      <td>283</td>\n",
       "      <td>20.21</td>\n",
       "      <td>11</td>\n",
       "      <td>30</td>\n",
       "      <td>11</td>\n",
       "    </tr>\n",
       "    <tr>\n",
       "      <th>2</th>\n",
       "      <td>Season 1</td>\n",
       "      <td>Dabang Delhi K.C.</td>\n",
       "      <td>14</td>\n",
       "      <td>471</td>\n",
       "      <td>29.92</td>\n",
       "      <td>246</td>\n",
       "      <td>285</td>\n",
       "      <td>20.36</td>\n",
       "      <td>5</td>\n",
       "      <td>31</td>\n",
       "      <td>18</td>\n",
       "    </tr>\n",
       "    <tr>\n",
       "      <th>3</th>\n",
       "      <td>Season 1</td>\n",
       "      <td>U Mumba</td>\n",
       "      <td>16</td>\n",
       "      <td>499</td>\n",
       "      <td>31.50</td>\n",
       "      <td>270</td>\n",
       "      <td>347</td>\n",
       "      <td>21.69</td>\n",
       "      <td>12</td>\n",
       "      <td>40</td>\n",
       "      <td>21</td>\n",
       "    </tr>\n",
       "    <tr>\n",
       "      <th>4</th>\n",
       "      <td>Season 1</td>\n",
       "      <td>Patna Pirates</td>\n",
       "      <td>16</td>\n",
       "      <td>487</td>\n",
       "      <td>28.62</td>\n",
       "      <td>253</td>\n",
       "      <td>316</td>\n",
       "      <td>19.75</td>\n",
       "      <td>13</td>\n",
       "      <td>42</td>\n",
       "      <td>18</td>\n",
       "    </tr>\n",
       "  </tbody>\n",
       "</table>\n",
       "</div>"
      ],
      "text/plain": [
       "     Season               Team  Matches Played  Total points scored  \\\n",
       "0  Season 1      Puneri Paltan              14                  536   \n",
       "1  Season 1    Bengal Warriors              14                  515   \n",
       "2  Season 1  Dabang Delhi K.C.              14                  471   \n",
       "3  Season 1            U Mumba              16                  499   \n",
       "4  Season 1      Patna Pirates              16                  487   \n",
       "\n",
       "   Avg points scored  Successful raids  Raid points  Avg raid points  \\\n",
       "0              26.85               204          269            19.21   \n",
       "1              28.92               213          283            20.21   \n",
       "2              29.92               246          285            20.36   \n",
       "3              31.50               270          347            21.69   \n",
       "4              28.62               253          316            19.75   \n",
       "\n",
       "   Super raids  Do-or-Die raid points  All-outs inflicted  \n",
       "0           11                     48                  12  \n",
       "1           11                     30                  11  \n",
       "2            5                     31                  18  \n",
       "3           12                     40                  21  \n",
       "4           13                     42                  18  "
      ]
     },
     "execution_count": 10,
     "metadata": {},
     "output_type": "execute_result"
    }
   ],
   "source": [
    "df_train.head()"
   ]
  },
  {
   "cell_type": "code",
   "execution_count": 11,
   "metadata": {},
   "outputs": [
    {
     "data": {
      "text/html": [
       "<div>\n",
       "<style scoped>\n",
       "    .dataframe tbody tr th:only-of-type {\n",
       "        vertical-align: middle;\n",
       "    }\n",
       "\n",
       "    .dataframe tbody tr th {\n",
       "        vertical-align: top;\n",
       "    }\n",
       "\n",
       "    .dataframe thead th {\n",
       "        text-align: right;\n",
       "    }\n",
       "</style>\n",
       "<table border=\"1\" class=\"dataframe\">\n",
       "  <thead>\n",
       "    <tr style=\"text-align: right;\">\n",
       "      <th></th>\n",
       "      <th>Season</th>\n",
       "      <th>Team</th>\n",
       "      <th>Matches Played</th>\n",
       "      <th>Total points scored</th>\n",
       "      <th>Avg points scored</th>\n",
       "      <th>Successful raids</th>\n",
       "      <th>Raid points</th>\n",
       "      <th>Avg raid points</th>\n",
       "      <th>Super raids</th>\n",
       "      <th>Do-or-Die raid points</th>\n",
       "      <th>All-outs inflicted</th>\n",
       "    </tr>\n",
       "  </thead>\n",
       "  <tbody>\n",
       "    <tr>\n",
       "      <th>0</th>\n",
       "      <td>Season 7</td>\n",
       "      <td>Puneri Paltan</td>\n",
       "      <td>18</td>\n",
       "      <td>578</td>\n",
       "      <td>28.83</td>\n",
       "      <td>254</td>\n",
       "      <td>308</td>\n",
       "      <td>17.11</td>\n",
       "      <td>6</td>\n",
       "      <td>60</td>\n",
       "      <td>17</td>\n",
       "    </tr>\n",
       "    <tr>\n",
       "      <th>1</th>\n",
       "      <td>Season 7</td>\n",
       "      <td>Tamil Thalaivas</td>\n",
       "      <td>18</td>\n",
       "      <td>525</td>\n",
       "      <td>26.00</td>\n",
       "      <td>248</td>\n",
       "      <td>313</td>\n",
       "      <td>17.39</td>\n",
       "      <td>4</td>\n",
       "      <td>51</td>\n",
       "      <td>13</td>\n",
       "    </tr>\n",
       "    <tr>\n",
       "      <th>2</th>\n",
       "      <td>Season 7</td>\n",
       "      <td>U.P. Yoddha</td>\n",
       "      <td>17</td>\n",
       "      <td>514</td>\n",
       "      <td>26.41</td>\n",
       "      <td>208</td>\n",
       "      <td>269</td>\n",
       "      <td>15.82</td>\n",
       "      <td>4</td>\n",
       "      <td>64</td>\n",
       "      <td>20</td>\n",
       "    </tr>\n",
       "    <tr>\n",
       "      <th>3</th>\n",
       "      <td>Season 7</td>\n",
       "      <td>Bengaluru Bulls</td>\n",
       "      <td>17</td>\n",
       "      <td>582</td>\n",
       "      <td>30.70</td>\n",
       "      <td>278</td>\n",
       "      <td>351</td>\n",
       "      <td>20.65</td>\n",
       "      <td>7</td>\n",
       "      <td>35</td>\n",
       "      <td>18</td>\n",
       "    </tr>\n",
       "    <tr>\n",
       "      <th>4</th>\n",
       "      <td>Season 7</td>\n",
       "      <td>Telugu Titans</td>\n",
       "      <td>16</td>\n",
       "      <td>474</td>\n",
       "      <td>27.06</td>\n",
       "      <td>228</td>\n",
       "      <td>270</td>\n",
       "      <td>16.88</td>\n",
       "      <td>5</td>\n",
       "      <td>35</td>\n",
       "      <td>9</td>\n",
       "    </tr>\n",
       "  </tbody>\n",
       "</table>\n",
       "</div>"
      ],
      "text/plain": [
       "     Season             Team  Matches Played  Total points scored  \\\n",
       "0  Season 7    Puneri Paltan              18                  578   \n",
       "1  Season 7  Tamil Thalaivas              18                  525   \n",
       "2  Season 7      U.P. Yoddha              17                  514   \n",
       "3  Season 7  Bengaluru Bulls              17                  582   \n",
       "4  Season 7    Telugu Titans              16                  474   \n",
       "\n",
       "   Avg points scored  Successful raids  Raid points  Avg raid points  \\\n",
       "0              28.83               254          308            17.11   \n",
       "1              26.00               248          313            17.39   \n",
       "2              26.41               208          269            15.82   \n",
       "3              30.70               278          351            20.65   \n",
       "4              27.06               228          270            16.88   \n",
       "\n",
       "   Super raids  Do-or-Die raid points  All-outs inflicted  \n",
       "0            6                     60                  17  \n",
       "1            4                     51                  13  \n",
       "2            4                     64                  20  \n",
       "3            7                     35                  18  \n",
       "4            5                     35                   9  "
      ]
     },
     "execution_count": 11,
     "metadata": {},
     "output_type": "execute_result"
    }
   ],
   "source": [
    "df_test.head()"
   ]
  },
  {
   "cell_type": "markdown",
   "metadata": {},
   "source": [
    "###### Drop the columns \"Avg points scored\", \"Avg raid points\" from both train and test dataframes as they are derived from existing data"
   ]
  },
  {
   "cell_type": "code",
   "execution_count": 12,
   "metadata": {},
   "outputs": [],
   "source": [
    "df_train.drop(columns = [\"Avg raid points\", \"Avg points scored\"], inplace = True)\n",
    "df_test.drop(columns = [\"Avg raid points\", \"Avg points scored\"], inplace = True)"
   ]
  },
  {
   "cell_type": "code",
   "execution_count": 13,
   "metadata": {},
   "outputs": [
    {
     "name": "stdout",
     "output_type": "stream",
     "text": [
      "<class 'pandas.core.frame.DataFrame'>\n",
      "RangeIndex: 56 entries, 0 to 55\n",
      "Data columns (total 9 columns):\n",
      "Season                   56 non-null object\n",
      "Team                     56 non-null object\n",
      "Matches Played           56 non-null int64\n",
      "Total points scored      56 non-null int64\n",
      "Successful raids         56 non-null int64\n",
      "Raid points              56 non-null int64\n",
      "Super raids              56 non-null int64\n",
      "Do-or-Die raid points    56 non-null int64\n",
      "All-outs inflicted       56 non-null int64\n",
      "dtypes: int64(7), object(2)\n",
      "memory usage: 4.0+ KB\n"
     ]
    }
   ],
   "source": [
    "df_train.info()"
   ]
  },
  {
   "cell_type": "code",
   "execution_count": 14,
   "metadata": {},
   "outputs": [
    {
     "name": "stdout",
     "output_type": "stream",
     "text": [
      "<class 'pandas.core.frame.DataFrame'>\n",
      "RangeIndex: 12 entries, 0 to 11\n",
      "Data columns (total 9 columns):\n",
      "Season                   12 non-null object\n",
      "Team                     12 non-null object\n",
      "Matches Played           12 non-null int64\n",
      "Total points scored      12 non-null int64\n",
      "Successful raids         12 non-null int64\n",
      "Raid points              12 non-null int64\n",
      "Super raids              12 non-null int64\n",
      "Do-or-Die raid points    12 non-null int64\n",
      "All-outs inflicted       12 non-null int64\n",
      "dtypes: int64(7), object(2)\n",
      "memory usage: 944.0+ bytes\n"
     ]
    }
   ],
   "source": [
    "df_test.info()"
   ]
  },
  {
   "cell_type": "code",
   "execution_count": 15,
   "metadata": {},
   "outputs": [
    {
     "data": {
      "text/html": [
       "<div>\n",
       "<style scoped>\n",
       "    .dataframe tbody tr th:only-of-type {\n",
       "        vertical-align: middle;\n",
       "    }\n",
       "\n",
       "    .dataframe tbody tr th {\n",
       "        vertical-align: top;\n",
       "    }\n",
       "\n",
       "    .dataframe thead th {\n",
       "        text-align: right;\n",
       "    }\n",
       "</style>\n",
       "<table border=\"1\" class=\"dataframe\">\n",
       "  <thead>\n",
       "    <tr style=\"text-align: right;\">\n",
       "      <th></th>\n",
       "      <th>Season</th>\n",
       "      <th>Team</th>\n",
       "      <th>Matches Played</th>\n",
       "      <th>Total points scored</th>\n",
       "      <th>Successful raids</th>\n",
       "      <th>Raid points</th>\n",
       "      <th>Super raids</th>\n",
       "      <th>Do-or-Die raid points</th>\n",
       "      <th>All-outs inflicted</th>\n",
       "    </tr>\n",
       "  </thead>\n",
       "  <tbody>\n",
       "    <tr>\n",
       "      <th>0</th>\n",
       "      <td>Season 1</td>\n",
       "      <td>Puneri Paltan</td>\n",
       "      <td>14</td>\n",
       "      <td>536</td>\n",
       "      <td>204</td>\n",
       "      <td>269</td>\n",
       "      <td>11</td>\n",
       "      <td>48</td>\n",
       "      <td>12</td>\n",
       "    </tr>\n",
       "    <tr>\n",
       "      <th>1</th>\n",
       "      <td>Season 1</td>\n",
       "      <td>Bengal Warriors</td>\n",
       "      <td>14</td>\n",
       "      <td>515</td>\n",
       "      <td>213</td>\n",
       "      <td>283</td>\n",
       "      <td>11</td>\n",
       "      <td>30</td>\n",
       "      <td>11</td>\n",
       "    </tr>\n",
       "    <tr>\n",
       "      <th>2</th>\n",
       "      <td>Season 1</td>\n",
       "      <td>Dabang Delhi K.C.</td>\n",
       "      <td>14</td>\n",
       "      <td>471</td>\n",
       "      <td>246</td>\n",
       "      <td>285</td>\n",
       "      <td>5</td>\n",
       "      <td>31</td>\n",
       "      <td>18</td>\n",
       "    </tr>\n",
       "    <tr>\n",
       "      <th>3</th>\n",
       "      <td>Season 1</td>\n",
       "      <td>U Mumba</td>\n",
       "      <td>16</td>\n",
       "      <td>499</td>\n",
       "      <td>270</td>\n",
       "      <td>347</td>\n",
       "      <td>12</td>\n",
       "      <td>40</td>\n",
       "      <td>21</td>\n",
       "    </tr>\n",
       "    <tr>\n",
       "      <th>4</th>\n",
       "      <td>Season 1</td>\n",
       "      <td>Patna Pirates</td>\n",
       "      <td>16</td>\n",
       "      <td>487</td>\n",
       "      <td>253</td>\n",
       "      <td>316</td>\n",
       "      <td>13</td>\n",
       "      <td>42</td>\n",
       "      <td>18</td>\n",
       "    </tr>\n",
       "  </tbody>\n",
       "</table>\n",
       "</div>"
      ],
      "text/plain": [
       "     Season               Team  Matches Played  Total points scored  \\\n",
       "0  Season 1      Puneri Paltan              14                  536   \n",
       "1  Season 1    Bengal Warriors              14                  515   \n",
       "2  Season 1  Dabang Delhi K.C.              14                  471   \n",
       "3  Season 1            U Mumba              16                  499   \n",
       "4  Season 1      Patna Pirates              16                  487   \n",
       "\n",
       "   Successful raids  Raid points  Super raids  Do-or-Die raid points  \\\n",
       "0               204          269           11                     48   \n",
       "1               213          283           11                     30   \n",
       "2               246          285            5                     31   \n",
       "3               270          347           12                     40   \n",
       "4               253          316           13                     42   \n",
       "\n",
       "   All-outs inflicted  \n",
       "0                  12  \n",
       "1                  11  \n",
       "2                  18  \n",
       "3                  21  \n",
       "4                  18  "
      ]
     },
     "execution_count": 15,
     "metadata": {},
     "output_type": "execute_result"
    }
   ],
   "source": [
    "df_train.head()"
   ]
  },
  {
   "cell_type": "code",
   "execution_count": 16,
   "metadata": {},
   "outputs": [
    {
     "data": {
      "text/html": [
       "<div>\n",
       "<style scoped>\n",
       "    .dataframe tbody tr th:only-of-type {\n",
       "        vertical-align: middle;\n",
       "    }\n",
       "\n",
       "    .dataframe tbody tr th {\n",
       "        vertical-align: top;\n",
       "    }\n",
       "\n",
       "    .dataframe thead th {\n",
       "        text-align: right;\n",
       "    }\n",
       "</style>\n",
       "<table border=\"1\" class=\"dataframe\">\n",
       "  <thead>\n",
       "    <tr style=\"text-align: right;\">\n",
       "      <th></th>\n",
       "      <th>Season</th>\n",
       "      <th>Team</th>\n",
       "      <th>Matches Played</th>\n",
       "      <th>Total points scored</th>\n",
       "      <th>Successful raids</th>\n",
       "      <th>Raid points</th>\n",
       "      <th>Super raids</th>\n",
       "      <th>Do-or-Die raid points</th>\n",
       "      <th>All-outs inflicted</th>\n",
       "    </tr>\n",
       "  </thead>\n",
       "  <tbody>\n",
       "    <tr>\n",
       "      <th>0</th>\n",
       "      <td>Season 7</td>\n",
       "      <td>Puneri Paltan</td>\n",
       "      <td>18</td>\n",
       "      <td>578</td>\n",
       "      <td>254</td>\n",
       "      <td>308</td>\n",
       "      <td>6</td>\n",
       "      <td>60</td>\n",
       "      <td>17</td>\n",
       "    </tr>\n",
       "    <tr>\n",
       "      <th>1</th>\n",
       "      <td>Season 7</td>\n",
       "      <td>Tamil Thalaivas</td>\n",
       "      <td>18</td>\n",
       "      <td>525</td>\n",
       "      <td>248</td>\n",
       "      <td>313</td>\n",
       "      <td>4</td>\n",
       "      <td>51</td>\n",
       "      <td>13</td>\n",
       "    </tr>\n",
       "    <tr>\n",
       "      <th>2</th>\n",
       "      <td>Season 7</td>\n",
       "      <td>U.P. Yoddha</td>\n",
       "      <td>17</td>\n",
       "      <td>514</td>\n",
       "      <td>208</td>\n",
       "      <td>269</td>\n",
       "      <td>4</td>\n",
       "      <td>64</td>\n",
       "      <td>20</td>\n",
       "    </tr>\n",
       "    <tr>\n",
       "      <th>3</th>\n",
       "      <td>Season 7</td>\n",
       "      <td>Bengaluru Bulls</td>\n",
       "      <td>17</td>\n",
       "      <td>582</td>\n",
       "      <td>278</td>\n",
       "      <td>351</td>\n",
       "      <td>7</td>\n",
       "      <td>35</td>\n",
       "      <td>18</td>\n",
       "    </tr>\n",
       "    <tr>\n",
       "      <th>4</th>\n",
       "      <td>Season 7</td>\n",
       "      <td>Telugu Titans</td>\n",
       "      <td>16</td>\n",
       "      <td>474</td>\n",
       "      <td>228</td>\n",
       "      <td>270</td>\n",
       "      <td>5</td>\n",
       "      <td>35</td>\n",
       "      <td>9</td>\n",
       "    </tr>\n",
       "  </tbody>\n",
       "</table>\n",
       "</div>"
      ],
      "text/plain": [
       "     Season             Team  Matches Played  Total points scored  \\\n",
       "0  Season 7    Puneri Paltan              18                  578   \n",
       "1  Season 7  Tamil Thalaivas              18                  525   \n",
       "2  Season 7      U.P. Yoddha              17                  514   \n",
       "3  Season 7  Bengaluru Bulls              17                  582   \n",
       "4  Season 7    Telugu Titans              16                  474   \n",
       "\n",
       "   Successful raids  Raid points  Super raids  Do-or-Die raid points  \\\n",
       "0               254          308            6                     60   \n",
       "1               248          313            4                     51   \n",
       "2               208          269            4                     64   \n",
       "3               278          351            7                     35   \n",
       "4               228          270            5                     35   \n",
       "\n",
       "   All-outs inflicted  \n",
       "0                  17  \n",
       "1                  13  \n",
       "2                  20  \n",
       "3                  18  \n",
       "4                   9  "
      ]
     },
     "execution_count": 16,
     "metadata": {},
     "output_type": "execute_result"
    }
   ],
   "source": [
    "df_test.head()"
   ]
  },
  {
   "cell_type": "markdown",
   "metadata": {},
   "source": [
    "###### Copy the df_test datframe to df_final_raid_points_prediction dataframe"
   ]
  },
  {
   "cell_type": "code",
   "execution_count": 17,
   "metadata": {},
   "outputs": [],
   "source": [
    "df_final_raid_points_prediction = df_test.copy()"
   ]
  },
  {
   "cell_type": "markdown",
   "metadata": {},
   "source": [
    "###### From the train & test dataframes, drop the columns: \"Season\", \"Team\""
   ]
  },
  {
   "cell_type": "code",
   "execution_count": 18,
   "metadata": {},
   "outputs": [],
   "source": [
    "df_train.drop(columns = [\"Season\", \"Team\"], inplace = True)\n",
    "df_test.drop(columns = [\"Season\", \"Team\"], inplace = True)"
   ]
  },
  {
   "cell_type": "code",
   "execution_count": 19,
   "metadata": {},
   "outputs": [
    {
     "name": "stdout",
     "output_type": "stream",
     "text": [
      "<class 'pandas.core.frame.DataFrame'>\n",
      "RangeIndex: 12 entries, 0 to 11\n",
      "Data columns (total 7 columns):\n",
      "Matches Played           12 non-null int64\n",
      "Total points scored      12 non-null int64\n",
      "Successful raids         12 non-null int64\n",
      "Raid points              12 non-null int64\n",
      "Super raids              12 non-null int64\n",
      "Do-or-Die raid points    12 non-null int64\n",
      "All-outs inflicted       12 non-null int64\n",
      "dtypes: int64(7)\n",
      "memory usage: 752.0 bytes\n"
     ]
    }
   ],
   "source": [
    "df_test.info()"
   ]
  },
  {
   "cell_type": "code",
   "execution_count": 20,
   "metadata": {},
   "outputs": [
    {
     "name": "stdout",
     "output_type": "stream",
     "text": [
      "<class 'pandas.core.frame.DataFrame'>\n",
      "RangeIndex: 56 entries, 0 to 55\n",
      "Data columns (total 7 columns):\n",
      "Matches Played           56 non-null int64\n",
      "Total points scored      56 non-null int64\n",
      "Successful raids         56 non-null int64\n",
      "Raid points              56 non-null int64\n",
      "Super raids              56 non-null int64\n",
      "Do-or-Die raid points    56 non-null int64\n",
      "All-outs inflicted       56 non-null int64\n",
      "dtypes: int64(7)\n",
      "memory usage: 3.1 KB\n"
     ]
    }
   ],
   "source": [
    "df_train.info()"
   ]
  },
  {
   "cell_type": "code",
   "execution_count": 21,
   "metadata": {},
   "outputs": [
    {
     "data": {
      "text/html": [
       "<div>\n",
       "<style scoped>\n",
       "    .dataframe tbody tr th:only-of-type {\n",
       "        vertical-align: middle;\n",
       "    }\n",
       "\n",
       "    .dataframe tbody tr th {\n",
       "        vertical-align: top;\n",
       "    }\n",
       "\n",
       "    .dataframe thead th {\n",
       "        text-align: right;\n",
       "    }\n",
       "</style>\n",
       "<table border=\"1\" class=\"dataframe\">\n",
       "  <thead>\n",
       "    <tr style=\"text-align: right;\">\n",
       "      <th></th>\n",
       "      <th>Matches Played</th>\n",
       "      <th>Total points scored</th>\n",
       "      <th>Successful raids</th>\n",
       "      <th>Raid points</th>\n",
       "      <th>Super raids</th>\n",
       "      <th>Do-or-Die raid points</th>\n",
       "      <th>All-outs inflicted</th>\n",
       "    </tr>\n",
       "  </thead>\n",
       "  <tbody>\n",
       "    <tr>\n",
       "      <th>0</th>\n",
       "      <td>18</td>\n",
       "      <td>578</td>\n",
       "      <td>254</td>\n",
       "      <td>308</td>\n",
       "      <td>6</td>\n",
       "      <td>60</td>\n",
       "      <td>17</td>\n",
       "    </tr>\n",
       "    <tr>\n",
       "      <th>1</th>\n",
       "      <td>18</td>\n",
       "      <td>525</td>\n",
       "      <td>248</td>\n",
       "      <td>313</td>\n",
       "      <td>4</td>\n",
       "      <td>51</td>\n",
       "      <td>13</td>\n",
       "    </tr>\n",
       "    <tr>\n",
       "      <th>2</th>\n",
       "      <td>17</td>\n",
       "      <td>514</td>\n",
       "      <td>208</td>\n",
       "      <td>269</td>\n",
       "      <td>4</td>\n",
       "      <td>64</td>\n",
       "      <td>20</td>\n",
       "    </tr>\n",
       "    <tr>\n",
       "      <th>3</th>\n",
       "      <td>17</td>\n",
       "      <td>582</td>\n",
       "      <td>278</td>\n",
       "      <td>351</td>\n",
       "      <td>7</td>\n",
       "      <td>35</td>\n",
       "      <td>18</td>\n",
       "    </tr>\n",
       "    <tr>\n",
       "      <th>4</th>\n",
       "      <td>16</td>\n",
       "      <td>474</td>\n",
       "      <td>228</td>\n",
       "      <td>270</td>\n",
       "      <td>5</td>\n",
       "      <td>35</td>\n",
       "      <td>9</td>\n",
       "    </tr>\n",
       "  </tbody>\n",
       "</table>\n",
       "</div>"
      ],
      "text/plain": [
       "   Matches Played  Total points scored  Successful raids  Raid points  \\\n",
       "0              18                  578               254          308   \n",
       "1              18                  525               248          313   \n",
       "2              17                  514               208          269   \n",
       "3              17                  582               278          351   \n",
       "4              16                  474               228          270   \n",
       "\n",
       "   Super raids  Do-or-Die raid points  All-outs inflicted  \n",
       "0            6                     60                  17  \n",
       "1            4                     51                  13  \n",
       "2            4                     64                  20  \n",
       "3            7                     35                  18  \n",
       "4            5                     35                   9  "
      ]
     },
     "execution_count": 21,
     "metadata": {},
     "output_type": "execute_result"
    }
   ],
   "source": [
    "df_test.head()"
   ]
  },
  {
   "cell_type": "code",
   "execution_count": 22,
   "metadata": {},
   "outputs": [
    {
     "data": {
      "text/html": [
       "<div>\n",
       "<style scoped>\n",
       "    .dataframe tbody tr th:only-of-type {\n",
       "        vertical-align: middle;\n",
       "    }\n",
       "\n",
       "    .dataframe tbody tr th {\n",
       "        vertical-align: top;\n",
       "    }\n",
       "\n",
       "    .dataframe thead th {\n",
       "        text-align: right;\n",
       "    }\n",
       "</style>\n",
       "<table border=\"1\" class=\"dataframe\">\n",
       "  <thead>\n",
       "    <tr style=\"text-align: right;\">\n",
       "      <th></th>\n",
       "      <th>Matches Played</th>\n",
       "      <th>Total points scored</th>\n",
       "      <th>Successful raids</th>\n",
       "      <th>Raid points</th>\n",
       "      <th>Super raids</th>\n",
       "      <th>Do-or-Die raid points</th>\n",
       "      <th>All-outs inflicted</th>\n",
       "    </tr>\n",
       "  </thead>\n",
       "  <tbody>\n",
       "    <tr>\n",
       "      <th>0</th>\n",
       "      <td>14</td>\n",
       "      <td>536</td>\n",
       "      <td>204</td>\n",
       "      <td>269</td>\n",
       "      <td>11</td>\n",
       "      <td>48</td>\n",
       "      <td>12</td>\n",
       "    </tr>\n",
       "    <tr>\n",
       "      <th>1</th>\n",
       "      <td>14</td>\n",
       "      <td>515</td>\n",
       "      <td>213</td>\n",
       "      <td>283</td>\n",
       "      <td>11</td>\n",
       "      <td>30</td>\n",
       "      <td>11</td>\n",
       "    </tr>\n",
       "    <tr>\n",
       "      <th>2</th>\n",
       "      <td>14</td>\n",
       "      <td>471</td>\n",
       "      <td>246</td>\n",
       "      <td>285</td>\n",
       "      <td>5</td>\n",
       "      <td>31</td>\n",
       "      <td>18</td>\n",
       "    </tr>\n",
       "    <tr>\n",
       "      <th>3</th>\n",
       "      <td>16</td>\n",
       "      <td>499</td>\n",
       "      <td>270</td>\n",
       "      <td>347</td>\n",
       "      <td>12</td>\n",
       "      <td>40</td>\n",
       "      <td>21</td>\n",
       "    </tr>\n",
       "    <tr>\n",
       "      <th>4</th>\n",
       "      <td>16</td>\n",
       "      <td>487</td>\n",
       "      <td>253</td>\n",
       "      <td>316</td>\n",
       "      <td>13</td>\n",
       "      <td>42</td>\n",
       "      <td>18</td>\n",
       "    </tr>\n",
       "  </tbody>\n",
       "</table>\n",
       "</div>"
      ],
      "text/plain": [
       "   Matches Played  Total points scored  Successful raids  Raid points  \\\n",
       "0              14                  536               204          269   \n",
       "1              14                  515               213          283   \n",
       "2              14                  471               246          285   \n",
       "3              16                  499               270          347   \n",
       "4              16                  487               253          316   \n",
       "\n",
       "   Super raids  Do-or-Die raid points  All-outs inflicted  \n",
       "0           11                     48                  12  \n",
       "1           11                     30                  11  \n",
       "2            5                     31                  18  \n",
       "3           12                     40                  21  \n",
       "4           13                     42                  18  "
      ]
     },
     "execution_count": 22,
     "metadata": {},
     "output_type": "execute_result"
    }
   ],
   "source": [
    "df_train.head()"
   ]
  },
  {
   "cell_type": "markdown",
   "metadata": {},
   "source": [
    "###### Rescale Features using Min Max Scaler"
   ]
  },
  {
   "cell_type": "code",
   "execution_count": 23,
   "metadata": {},
   "outputs": [
    {
     "data": {
      "text/html": [
       "<div>\n",
       "<style scoped>\n",
       "    .dataframe tbody tr th:only-of-type {\n",
       "        vertical-align: middle;\n",
       "    }\n",
       "\n",
       "    .dataframe tbody tr th {\n",
       "        vertical-align: top;\n",
       "    }\n",
       "\n",
       "    .dataframe thead th {\n",
       "        text-align: right;\n",
       "    }\n",
       "</style>\n",
       "<table border=\"1\" class=\"dataframe\">\n",
       "  <thead>\n",
       "    <tr style=\"text-align: right;\">\n",
       "      <th></th>\n",
       "      <th>Matches Played</th>\n",
       "      <th>Total points scored</th>\n",
       "      <th>Successful raids</th>\n",
       "      <th>Raid points</th>\n",
       "      <th>Super raids</th>\n",
       "      <th>Do-or-Die raid points</th>\n",
       "      <th>All-outs inflicted</th>\n",
       "    </tr>\n",
       "  </thead>\n",
       "  <tbody>\n",
       "    <tr>\n",
       "      <th>0</th>\n",
       "      <td>0.000000</td>\n",
       "      <td>0.255072</td>\n",
       "      <td>0.198300</td>\n",
       "      <td>0.187638</td>\n",
       "      <td>0.347826</td>\n",
       "      <td>0.202247</td>\n",
       "      <td>0.065217</td>\n",
       "    </tr>\n",
       "    <tr>\n",
       "      <th>1</th>\n",
       "      <td>0.000000</td>\n",
       "      <td>0.224638</td>\n",
       "      <td>0.223796</td>\n",
       "      <td>0.218543</td>\n",
       "      <td>0.347826</td>\n",
       "      <td>0.000000</td>\n",
       "      <td>0.043478</td>\n",
       "    </tr>\n",
       "    <tr>\n",
       "      <th>2</th>\n",
       "      <td>0.000000</td>\n",
       "      <td>0.160870</td>\n",
       "      <td>0.317280</td>\n",
       "      <td>0.222958</td>\n",
       "      <td>0.086957</td>\n",
       "      <td>0.011236</td>\n",
       "      <td>0.195652</td>\n",
       "    </tr>\n",
       "    <tr>\n",
       "      <th>3</th>\n",
       "      <td>0.166667</td>\n",
       "      <td>0.201449</td>\n",
       "      <td>0.385269</td>\n",
       "      <td>0.359823</td>\n",
       "      <td>0.391304</td>\n",
       "      <td>0.112360</td>\n",
       "      <td>0.260870</td>\n",
       "    </tr>\n",
       "    <tr>\n",
       "      <th>4</th>\n",
       "      <td>0.166667</td>\n",
       "      <td>0.184058</td>\n",
       "      <td>0.337110</td>\n",
       "      <td>0.291391</td>\n",
       "      <td>0.434783</td>\n",
       "      <td>0.134831</td>\n",
       "      <td>0.195652</td>\n",
       "    </tr>\n",
       "  </tbody>\n",
       "</table>\n",
       "</div>"
      ],
      "text/plain": [
       "   Matches Played  Total points scored  Successful raids  Raid points  \\\n",
       "0        0.000000             0.255072          0.198300     0.187638   \n",
       "1        0.000000             0.224638          0.223796     0.218543   \n",
       "2        0.000000             0.160870          0.317280     0.222958   \n",
       "3        0.166667             0.201449          0.385269     0.359823   \n",
       "4        0.166667             0.184058          0.337110     0.291391   \n",
       "\n",
       "   Super raids  Do-or-Die raid points  All-outs inflicted  \n",
       "0     0.347826               0.202247            0.065217  \n",
       "1     0.347826               0.000000            0.043478  \n",
       "2     0.086957               0.011236            0.195652  \n",
       "3     0.391304               0.112360            0.260870  \n",
       "4     0.434783               0.134831            0.195652  "
      ]
     },
     "execution_count": 23,
     "metadata": {},
     "output_type": "execute_result"
    }
   ],
   "source": [
    "scaler = MinMaxScaler()\n",
    "num_vars = ['Matches Played', 'Total points scored', 'Successful raids', 'Raid points', 'Super raids', 'Do-or-Die raid points', 'All-outs inflicted']\n",
    "df_train[num_vars] = scaler.fit_transform(df_train[num_vars])\n",
    "\n",
    "df_train.head()"
   ]
  },
  {
   "cell_type": "markdown",
   "metadata": {},
   "source": [
    "###### Divide into X & Y. Y = 'Raid Points' (Column to be predicted)"
   ]
  },
  {
   "cell_type": "code",
   "execution_count": 24,
   "metadata": {},
   "outputs": [],
   "source": [
    "y_train = df_train.pop('Raid points')\n",
    "X_train = df_train"
   ]
  },
  {
   "cell_type": "code",
   "execution_count": 25,
   "metadata": {},
   "outputs": [
    {
     "data": {
      "text/plain": [
       "0    0.187638\n",
       "1    0.218543\n",
       "2    0.222958\n",
       "3    0.359823\n",
       "4    0.291391\n",
       "Name: Raid points, dtype: float64"
      ]
     },
     "execution_count": 25,
     "metadata": {},
     "output_type": "execute_result"
    }
   ],
   "source": [
    "y_train.head()"
   ]
  },
  {
   "cell_type": "code",
   "execution_count": 26,
   "metadata": {},
   "outputs": [
    {
     "name": "stdout",
     "output_type": "stream",
     "text": [
      "<class 'pandas.core.frame.DataFrame'>\n",
      "RangeIndex: 56 entries, 0 to 55\n",
      "Data columns (total 6 columns):\n",
      "Matches Played           56 non-null float64\n",
      "Total points scored      56 non-null float64\n",
      "Successful raids         56 non-null float64\n",
      "Super raids              56 non-null float64\n",
      "Do-or-Die raid points    56 non-null float64\n",
      "All-outs inflicted       56 non-null float64\n",
      "dtypes: float64(6)\n",
      "memory usage: 2.7 KB\n"
     ]
    }
   ],
   "source": [
    "X_train.info()"
   ]
  },
  {
   "cell_type": "code",
   "execution_count": 27,
   "metadata": {},
   "outputs": [
    {
     "data": {
      "text/html": [
       "<div>\n",
       "<style scoped>\n",
       "    .dataframe tbody tr th:only-of-type {\n",
       "        vertical-align: middle;\n",
       "    }\n",
       "\n",
       "    .dataframe tbody tr th {\n",
       "        vertical-align: top;\n",
       "    }\n",
       "\n",
       "    .dataframe thead th {\n",
       "        text-align: right;\n",
       "    }\n",
       "</style>\n",
       "<table border=\"1\" class=\"dataframe\">\n",
       "  <thead>\n",
       "    <tr style=\"text-align: right;\">\n",
       "      <th></th>\n",
       "      <th>Matches Played</th>\n",
       "      <th>Total points scored</th>\n",
       "      <th>Successful raids</th>\n",
       "      <th>Super raids</th>\n",
       "      <th>Do-or-Die raid points</th>\n",
       "      <th>All-outs inflicted</th>\n",
       "    </tr>\n",
       "  </thead>\n",
       "  <tbody>\n",
       "    <tr>\n",
       "      <th>0</th>\n",
       "      <td>0.000000</td>\n",
       "      <td>0.255072</td>\n",
       "      <td>0.198300</td>\n",
       "      <td>0.347826</td>\n",
       "      <td>0.202247</td>\n",
       "      <td>0.065217</td>\n",
       "    </tr>\n",
       "    <tr>\n",
       "      <th>1</th>\n",
       "      <td>0.000000</td>\n",
       "      <td>0.224638</td>\n",
       "      <td>0.223796</td>\n",
       "      <td>0.347826</td>\n",
       "      <td>0.000000</td>\n",
       "      <td>0.043478</td>\n",
       "    </tr>\n",
       "    <tr>\n",
       "      <th>2</th>\n",
       "      <td>0.000000</td>\n",
       "      <td>0.160870</td>\n",
       "      <td>0.317280</td>\n",
       "      <td>0.086957</td>\n",
       "      <td>0.011236</td>\n",
       "      <td>0.195652</td>\n",
       "    </tr>\n",
       "    <tr>\n",
       "      <th>3</th>\n",
       "      <td>0.166667</td>\n",
       "      <td>0.201449</td>\n",
       "      <td>0.385269</td>\n",
       "      <td>0.391304</td>\n",
       "      <td>0.112360</td>\n",
       "      <td>0.260870</td>\n",
       "    </tr>\n",
       "    <tr>\n",
       "      <th>4</th>\n",
       "      <td>0.166667</td>\n",
       "      <td>0.184058</td>\n",
       "      <td>0.337110</td>\n",
       "      <td>0.434783</td>\n",
       "      <td>0.134831</td>\n",
       "      <td>0.195652</td>\n",
       "    </tr>\n",
       "  </tbody>\n",
       "</table>\n",
       "</div>"
      ],
      "text/plain": [
       "   Matches Played  Total points scored  Successful raids  Super raids  \\\n",
       "0        0.000000             0.255072          0.198300     0.347826   \n",
       "1        0.000000             0.224638          0.223796     0.347826   \n",
       "2        0.000000             0.160870          0.317280     0.086957   \n",
       "3        0.166667             0.201449          0.385269     0.391304   \n",
       "4        0.166667             0.184058          0.337110     0.434783   \n",
       "\n",
       "   Do-or-Die raid points  All-outs inflicted  \n",
       "0               0.202247            0.065217  \n",
       "1               0.000000            0.043478  \n",
       "2               0.011236            0.195652  \n",
       "3               0.112360            0.260870  \n",
       "4               0.134831            0.195652  "
      ]
     },
     "execution_count": 27,
     "metadata": {},
     "output_type": "execute_result"
    }
   ],
   "source": [
    "X_train.head()"
   ]
  },
  {
   "cell_type": "markdown",
   "metadata": {},
   "source": [
    "###### Model Selection using RFE "
   ]
  },
  {
   "cell_type": "code",
   "execution_count": 28,
   "metadata": {},
   "outputs": [],
   "source": [
    "# Run RFE with the output number of the variable equal to 6\n",
    "lm = LinearRegression()\n",
    "lm.fit(X_train, y_train)\n",
    "\n",
    "rfe = RFE(lm, 6)\n",
    "rfe = rfe.fit(X_train, y_train)"
   ]
  },
  {
   "cell_type": "code",
   "execution_count": 29,
   "metadata": {},
   "outputs": [
    {
     "data": {
      "text/plain": [
       "[('Matches Played', True, 1),\n",
       " ('Total points scored', True, 1),\n",
       " ('Successful raids', True, 1),\n",
       " ('Super raids', True, 1),\n",
       " ('Do-or-Die raid points', True, 1),\n",
       " ('All-outs inflicted', True, 1)]"
      ]
     },
     "execution_count": 29,
     "metadata": {},
     "output_type": "execute_result"
    }
   ],
   "source": [
    "list(zip(X_train.columns,rfe.support_,rfe.ranking_))"
   ]
  },
  {
   "cell_type": "code",
   "execution_count": 30,
   "metadata": {},
   "outputs": [
    {
     "data": {
      "text/plain": [
       "Index(['Matches Played', 'Total points scored', 'Successful raids',\n",
       "       'Super raids', 'Do-or-Die raid points', 'All-outs inflicted'],\n",
       "      dtype='object')"
      ]
     },
     "execution_count": 30,
     "metadata": {},
     "output_type": "execute_result"
    }
   ],
   "source": [
    "col = X_train.columns[rfe.support_]\n",
    "col"
   ]
  },
  {
   "cell_type": "code",
   "execution_count": 31,
   "metadata": {},
   "outputs": [
    {
     "data": {
      "text/plain": [
       "Index([], dtype='object')"
      ]
     },
     "execution_count": 31,
     "metadata": {},
     "output_type": "execute_result"
    }
   ],
   "source": [
    "X_train.columns[~rfe.support_]"
   ]
  },
  {
   "cell_type": "markdown",
   "metadata": {},
   "source": [
    "###### Build our model using statsmodel, for the detailed statistics"
   ]
  },
  {
   "cell_type": "code",
   "execution_count": 32,
   "metadata": {},
   "outputs": [],
   "source": [
    "# Creating X_test dataframe with RFE selected variables\n",
    "X_train_rfe = X_train[col]"
   ]
  },
  {
   "cell_type": "code",
   "execution_count": 33,
   "metadata": {},
   "outputs": [],
   "source": [
    "# Adding a constant variable \n",
    "X_train_rfe = sm.add_constant(X_train_rfe)"
   ]
  },
  {
   "cell_type": "code",
   "execution_count": 34,
   "metadata": {},
   "outputs": [
    {
     "name": "stdout",
     "output_type": "stream",
     "text": [
      "                            OLS Regression Results                            \n",
      "==============================================================================\n",
      "Dep. Variable:            Raid points   R-squared:                       0.994\n",
      "Model:                            OLS   Adj. R-squared:                  0.994\n",
      "Method:                 Least Squares   F-statistic:                     1460.\n",
      "Date:                Sun, 22 Sep 2019   Prob (F-statistic):           1.93e-53\n",
      "Time:                        13:23:39   Log-Likelihood:                 149.44\n",
      "No. Observations:                  56   AIC:                            -284.9\n",
      "Df Residuals:                      49   BIC:                            -270.7\n",
      "Df Model:                           6                                         \n",
      "Covariance Type:            nonrobust                                         \n",
      "=========================================================================================\n",
      "                            coef    std err          t      P>|t|      [0.025      0.975]\n",
      "-----------------------------------------------------------------------------------------\n",
      "const                    -0.0288      0.010     -2.751      0.008      -0.050      -0.008\n",
      "Matches Played           -0.0264      0.036     -0.730      0.469      -0.099       0.046\n",
      "Total points scored       0.0881      0.055      1.596      0.117      -0.023       0.199\n",
      "Successful raids          0.8408      0.049     17.208      0.000       0.743       0.939\n",
      "Super raids               0.1158      0.017      6.755      0.000       0.081       0.150\n",
      "Do-or-Die raid points    -0.0108      0.022     -0.481      0.632      -0.056       0.034\n",
      "All-outs inflicted       -0.0140      0.027     -0.520      0.606      -0.068       0.040\n",
      "==============================================================================\n",
      "Omnibus:                        5.871   Durbin-Watson:                   2.071\n",
      "Prob(Omnibus):                  0.053   Jarque-Bera (JB):                4.983\n",
      "Skew:                           0.703   Prob(JB):                       0.0828\n",
      "Kurtosis:                       3.398   Cond. No.                         35.7\n",
      "==============================================================================\n",
      "\n",
      "Warnings:\n",
      "[1] Standard Errors assume that the covariance matrix of the errors is correctly specified.\n"
     ]
    }
   ],
   "source": [
    "# Run the linear model\n",
    "lm = sm.OLS(y_train,X_train_rfe).fit()\n",
    "print(lm.summary())"
   ]
  },
  {
   "cell_type": "code",
   "execution_count": 35,
   "metadata": {},
   "outputs": [],
   "source": [
    "X_train_new = X_train_rfe.drop(['const'], axis=1)"
   ]
  },
  {
   "cell_type": "code",
   "execution_count": 36,
   "metadata": {},
   "outputs": [
    {
     "data": {
      "text/html": [
       "<div>\n",
       "<style scoped>\n",
       "    .dataframe tbody tr th:only-of-type {\n",
       "        vertical-align: middle;\n",
       "    }\n",
       "\n",
       "    .dataframe tbody tr th {\n",
       "        vertical-align: top;\n",
       "    }\n",
       "\n",
       "    .dataframe thead th {\n",
       "        text-align: right;\n",
       "    }\n",
       "</style>\n",
       "<table border=\"1\" class=\"dataframe\">\n",
       "  <thead>\n",
       "    <tr style=\"text-align: right;\">\n",
       "      <th></th>\n",
       "      <th>Features</th>\n",
       "      <th>VIF</th>\n",
       "    </tr>\n",
       "  </thead>\n",
       "  <tbody>\n",
       "    <tr>\n",
       "      <th>1</th>\n",
       "      <td>Total points scored</td>\n",
       "      <td>85.34</td>\n",
       "    </tr>\n",
       "    <tr>\n",
       "      <th>2</th>\n",
       "      <td>Successful raids</td>\n",
       "      <td>32.39</td>\n",
       "    </tr>\n",
       "    <tr>\n",
       "      <th>0</th>\n",
       "      <td>Matches Played</td>\n",
       "      <td>31.59</td>\n",
       "    </tr>\n",
       "    <tr>\n",
       "      <th>5</th>\n",
       "      <td>All-outs inflicted</td>\n",
       "      <td>12.34</td>\n",
       "    </tr>\n",
       "    <tr>\n",
       "      <th>3</th>\n",
       "      <td>Super raids</td>\n",
       "      <td>6.55</td>\n",
       "    </tr>\n",
       "    <tr>\n",
       "      <th>4</th>\n",
       "      <td>Do-or-Die raid points</td>\n",
       "      <td>5.28</td>\n",
       "    </tr>\n",
       "  </tbody>\n",
       "</table>\n",
       "</div>"
      ],
      "text/plain": [
       "                Features    VIF\n",
       "1    Total points scored  85.34\n",
       "2       Successful raids  32.39\n",
       "0         Matches Played  31.59\n",
       "5     All-outs inflicted  12.34\n",
       "3            Super raids   6.55\n",
       "4  Do-or-Die raid points   5.28"
      ]
     },
     "execution_count": 36,
     "metadata": {},
     "output_type": "execute_result"
    }
   ],
   "source": [
    "# Calculate the VIFs for the new model\n",
    "\n",
    "vif = pd.DataFrame()\n",
    "X = X_train_new\n",
    "vif['Features'] = X.columns\n",
    "vif['VIF'] = [variance_inflation_factor(X.values, i) for i in range(X.shape[1])]\n",
    "vif['VIF'] = round(vif['VIF'], 2)\n",
    "vif = vif.sort_values(by = \"VIF\", ascending = False)\n",
    "vif"
   ]
  },
  {
   "cell_type": "code",
   "execution_count": 37,
   "metadata": {},
   "outputs": [],
   "source": [
    "# Drop the column \"All-outs inflicted\" (P-Value: 0.606 & VIF: 12.34)\n",
    "X_train_new = X_train_new.drop([\"All-outs inflicted\"], axis = 1)"
   ]
  },
  {
   "cell_type": "code",
   "execution_count": 38,
   "metadata": {},
   "outputs": [
    {
     "name": "stdout",
     "output_type": "stream",
     "text": [
      "                            OLS Regression Results                            \n",
      "==============================================================================\n",
      "Dep. Variable:            Raid points   R-squared:                       0.994\n",
      "Model:                            OLS   Adj. R-squared:                  0.994\n",
      "Method:                 Least Squares   F-statistic:                     1778.\n",
      "Date:                Sun, 22 Sep 2019   Prob (F-statistic):           4.95e-55\n",
      "Time:                        13:23:40   Log-Likelihood:                 149.28\n",
      "No. Observations:                  56   AIC:                            -286.6\n",
      "Df Residuals:                      50   BIC:                            -274.4\n",
      "Df Model:                           5                                         \n",
      "Covariance Type:            nonrobust                                         \n",
      "=========================================================================================\n",
      "                            coef    std err          t      P>|t|      [0.025      0.975]\n",
      "-----------------------------------------------------------------------------------------\n",
      "const                    -0.0268      0.010     -2.775      0.008      -0.046      -0.007\n",
      "Matches Played           -0.0154      0.029     -0.529      0.599      -0.074       0.043\n",
      "Total points scored       0.0759      0.050      1.530      0.132      -0.024       0.176\n",
      "Successful raids          0.8315      0.045     18.425      0.000       0.741       0.922\n",
      "Super raids               0.1159      0.017      6.809      0.000       0.082       0.150\n",
      "Do-or-Die raid points    -0.0165      0.019     -0.847      0.401      -0.056       0.023\n",
      "==============================================================================\n",
      "Omnibus:                        5.913   Durbin-Watson:                   2.097\n",
      "Prob(Omnibus):                  0.052   Jarque-Bera (JB):                4.945\n",
      "Skew:                           0.685   Prob(JB):                       0.0844\n",
      "Kurtosis:                       3.492   Cond. No.                         34.6\n",
      "==============================================================================\n",
      "\n",
      "Warnings:\n",
      "[1] Standard Errors assume that the covariance matrix of the errors is correctly specified.\n"
     ]
    }
   ],
   "source": [
    "# Run the linear model\n",
    "X_train_lm = sm.add_constant(X_train_new)\n",
    "lm = sm.OLS(y_train,X_train_lm).fit()\n",
    "print(lm.summary())"
   ]
  },
  {
   "cell_type": "code",
   "execution_count": 39,
   "metadata": {},
   "outputs": [
    {
     "data": {
      "text/html": [
       "<div>\n",
       "<style scoped>\n",
       "    .dataframe tbody tr th:only-of-type {\n",
       "        vertical-align: middle;\n",
       "    }\n",
       "\n",
       "    .dataframe tbody tr th {\n",
       "        vertical-align: top;\n",
       "    }\n",
       "\n",
       "    .dataframe thead th {\n",
       "        text-align: right;\n",
       "    }\n",
       "</style>\n",
       "<table border=\"1\" class=\"dataframe\">\n",
       "  <thead>\n",
       "    <tr style=\"text-align: right;\">\n",
       "      <th></th>\n",
       "      <th>Features</th>\n",
       "      <th>VIF</th>\n",
       "    </tr>\n",
       "  </thead>\n",
       "  <tbody>\n",
       "    <tr>\n",
       "      <th>1</th>\n",
       "      <td>Total points scored</td>\n",
       "      <td>64.71</td>\n",
       "    </tr>\n",
       "    <tr>\n",
       "      <th>2</th>\n",
       "      <td>Successful raids</td>\n",
       "      <td>31.82</td>\n",
       "    </tr>\n",
       "    <tr>\n",
       "      <th>0</th>\n",
       "      <td>Matches Played</td>\n",
       "      <td>24.12</td>\n",
       "    </tr>\n",
       "    <tr>\n",
       "      <th>3</th>\n",
       "      <td>Super raids</td>\n",
       "      <td>6.55</td>\n",
       "    </tr>\n",
       "    <tr>\n",
       "      <th>4</th>\n",
       "      <td>Do-or-Die raid points</td>\n",
       "      <td>4.61</td>\n",
       "    </tr>\n",
       "  </tbody>\n",
       "</table>\n",
       "</div>"
      ],
      "text/plain": [
       "                Features    VIF\n",
       "1    Total points scored  64.71\n",
       "2       Successful raids  31.82\n",
       "0         Matches Played  24.12\n",
       "3            Super raids   6.55\n",
       "4  Do-or-Die raid points   4.61"
      ]
     },
     "execution_count": 39,
     "metadata": {},
     "output_type": "execute_result"
    }
   ],
   "source": [
    "# Calculate the VIFs for the new model\n",
    "\n",
    "vif = pd.DataFrame()\n",
    "X = X_train_new\n",
    "vif['Features'] = X.columns\n",
    "vif['VIF'] = [variance_inflation_factor(X.values, i) for i in range(X.shape[1])]\n",
    "vif['VIF'] = round(vif['VIF'], 2)\n",
    "vif = vif.sort_values(by = \"VIF\", ascending = False)\n",
    "vif"
   ]
  },
  {
   "cell_type": "code",
   "execution_count": 40,
   "metadata": {},
   "outputs": [],
   "source": [
    "# Drop the column \"Matches Played\" (P-Value: 0.599 & VIF: 24.12)\n",
    "X_train_new = X_train_new.drop([\"Matches Played\"], axis = 1)"
   ]
  },
  {
   "cell_type": "code",
   "execution_count": 41,
   "metadata": {},
   "outputs": [
    {
     "name": "stdout",
     "output_type": "stream",
     "text": [
      "                            OLS Regression Results                            \n",
      "==============================================================================\n",
      "Dep. Variable:            Raid points   R-squared:                       0.994\n",
      "Model:                            OLS   Adj. R-squared:                  0.994\n",
      "Method:                 Least Squares   F-statistic:                     2254.\n",
      "Date:                Sun, 22 Sep 2019   Prob (F-statistic):           1.12e-56\n",
      "Time:                        13:23:40   Log-Likelihood:                 149.13\n",
      "No. Observations:                  56   AIC:                            -288.3\n",
      "Df Residuals:                      51   BIC:                            -278.1\n",
      "Df Model:                           4                                         \n",
      "Covariance Type:            nonrobust                                         \n",
      "=========================================================================================\n",
      "                            coef    std err          t      P>|t|      [0.025      0.975]\n",
      "-----------------------------------------------------------------------------------------\n",
      "const                    -0.0237      0.008     -3.099      0.003      -0.039      -0.008\n",
      "Total points scored       0.0669      0.046      1.446      0.154      -0.026       0.160\n",
      "Successful raids          0.8207      0.040     20.542      0.000       0.740       0.901\n",
      "Super raids               0.1195      0.015      7.729      0.000       0.088       0.151\n",
      "Do-or-Die raid points    -0.0230      0.015     -1.529      0.132      -0.053       0.007\n",
      "==============================================================================\n",
      "Omnibus:                        6.017   Durbin-Watson:                   2.119\n",
      "Prob(Omnibus):                  0.049   Jarque-Bera (JB):                5.082\n",
      "Skew:                           0.701   Prob(JB):                       0.0788\n",
      "Kurtosis:                       3.460   Cond. No.                         32.7\n",
      "==============================================================================\n",
      "\n",
      "Warnings:\n",
      "[1] Standard Errors assume that the covariance matrix of the errors is correctly specified.\n"
     ]
    }
   ],
   "source": [
    "# Run the linear model\n",
    "X_train_lm = sm.add_constant(X_train_new)\n",
    "lm = sm.OLS(y_train,X_train_lm).fit()\n",
    "print(lm.summary())"
   ]
  },
  {
   "cell_type": "code",
   "execution_count": 42,
   "metadata": {},
   "outputs": [
    {
     "data": {
      "text/html": [
       "<div>\n",
       "<style scoped>\n",
       "    .dataframe tbody tr th:only-of-type {\n",
       "        vertical-align: middle;\n",
       "    }\n",
       "\n",
       "    .dataframe tbody tr th {\n",
       "        vertical-align: top;\n",
       "    }\n",
       "\n",
       "    .dataframe thead th {\n",
       "        text-align: right;\n",
       "    }\n",
       "</style>\n",
       "<table border=\"1\" class=\"dataframe\">\n",
       "  <thead>\n",
       "    <tr style=\"text-align: right;\">\n",
       "      <th></th>\n",
       "      <th>Features</th>\n",
       "      <th>VIF</th>\n",
       "    </tr>\n",
       "  </thead>\n",
       "  <tbody>\n",
       "    <tr>\n",
       "      <th>0</th>\n",
       "      <td>Total points scored</td>\n",
       "      <td>35.53</td>\n",
       "    </tr>\n",
       "    <tr>\n",
       "      <th>1</th>\n",
       "      <td>Successful raids</td>\n",
       "      <td>31.82</td>\n",
       "    </tr>\n",
       "    <tr>\n",
       "      <th>2</th>\n",
       "      <td>Super raids</td>\n",
       "      <td>4.61</td>\n",
       "    </tr>\n",
       "    <tr>\n",
       "      <th>3</th>\n",
       "      <td>Do-or-Die raid points</td>\n",
       "      <td>4.25</td>\n",
       "    </tr>\n",
       "  </tbody>\n",
       "</table>\n",
       "</div>"
      ],
      "text/plain": [
       "                Features    VIF\n",
       "0    Total points scored  35.53\n",
       "1       Successful raids  31.82\n",
       "2            Super raids   4.61\n",
       "3  Do-or-Die raid points   4.25"
      ]
     },
     "execution_count": 42,
     "metadata": {},
     "output_type": "execute_result"
    }
   ],
   "source": [
    "# Calculate the VIFs for the new model\n",
    "\n",
    "vif = pd.DataFrame()\n",
    "X = X_train_new\n",
    "vif['Features'] = X.columns\n",
    "vif['VIF'] = [variance_inflation_factor(X.values, i) for i in range(X.shape[1])]\n",
    "vif['VIF'] = round(vif['VIF'], 2)\n",
    "vif = vif.sort_values(by = \"VIF\", ascending = False)\n",
    "vif"
   ]
  },
  {
   "cell_type": "code",
   "execution_count": 43,
   "metadata": {},
   "outputs": [],
   "source": [
    "# Drop the column \"Total points scored\" (P-Value: 0.154 & VIF: 35.53)\n",
    "X_train_new = X_train_new.drop([\"Total points scored\"], axis = 1)"
   ]
  },
  {
   "cell_type": "code",
   "execution_count": 44,
   "metadata": {},
   "outputs": [
    {
     "name": "stdout",
     "output_type": "stream",
     "text": [
      "                            OLS Regression Results                            \n",
      "==============================================================================\n",
      "Dep. Variable:            Raid points   R-squared:                       0.994\n",
      "Model:                            OLS   Adj. R-squared:                  0.994\n",
      "Method:                 Least Squares   F-statistic:                     2943.\n",
      "Date:                Sun, 22 Sep 2019   Prob (F-statistic):           5.28e-58\n",
      "Time:                        13:23:40   Log-Likelihood:                 148.00\n",
      "No. Observations:                  56   AIC:                            -288.0\n",
      "Df Residuals:                      52   BIC:                            -279.9\n",
      "Df Model:                           3                                         \n",
      "Covariance Type:            nonrobust                                         \n",
      "=========================================================================================\n",
      "                            coef    std err          t      P>|t|      [0.025      0.975]\n",
      "-----------------------------------------------------------------------------------------\n",
      "const                    -0.0309      0.006     -5.292      0.000      -0.043      -0.019\n",
      "Successful raids          0.8755      0.013     68.562      0.000       0.850       0.901\n",
      "Super raids               0.1275      0.015      8.749      0.000       0.098       0.157\n",
      "Do-or-Die raid points    -0.0094      0.012     -0.791      0.432      -0.033       0.014\n",
      "==============================================================================\n",
      "Omnibus:                        5.363   Durbin-Watson:                   2.101\n",
      "Prob(Omnibus):                  0.068   Jarque-Bera (JB):                4.384\n",
      "Skew:                           0.645   Prob(JB):                        0.112\n",
      "Kurtosis:                       3.463   Cond. No.                         8.59\n",
      "==============================================================================\n",
      "\n",
      "Warnings:\n",
      "[1] Standard Errors assume that the covariance matrix of the errors is correctly specified.\n"
     ]
    }
   ],
   "source": [
    "# Run the linear model\n",
    "X_train_lm = sm.add_constant(X_train_new)\n",
    "lm = sm.OLS(y_train,X_train_lm).fit()\n",
    "print(lm.summary())"
   ]
  },
  {
   "cell_type": "code",
   "execution_count": 45,
   "metadata": {},
   "outputs": [
    {
     "data": {
      "text/html": [
       "<div>\n",
       "<style scoped>\n",
       "    .dataframe tbody tr th:only-of-type {\n",
       "        vertical-align: middle;\n",
       "    }\n",
       "\n",
       "    .dataframe tbody tr th {\n",
       "        vertical-align: top;\n",
       "    }\n",
       "\n",
       "    .dataframe thead th {\n",
       "        text-align: right;\n",
       "    }\n",
       "</style>\n",
       "<table border=\"1\" class=\"dataframe\">\n",
       "  <thead>\n",
       "    <tr style=\"text-align: right;\">\n",
       "      <th></th>\n",
       "      <th>Features</th>\n",
       "      <th>VIF</th>\n",
       "    </tr>\n",
       "  </thead>\n",
       "  <tbody>\n",
       "    <tr>\n",
       "      <th>0</th>\n",
       "      <td>Successful raids</td>\n",
       "      <td>5.49</td>\n",
       "    </tr>\n",
       "    <tr>\n",
       "      <th>1</th>\n",
       "      <td>Super raids</td>\n",
       "      <td>4.52</td>\n",
       "    </tr>\n",
       "    <tr>\n",
       "      <th>2</th>\n",
       "      <td>Do-or-Die raid points</td>\n",
       "      <td>3.94</td>\n",
       "    </tr>\n",
       "  </tbody>\n",
       "</table>\n",
       "</div>"
      ],
      "text/plain": [
       "                Features   VIF\n",
       "0       Successful raids  5.49\n",
       "1            Super raids  4.52\n",
       "2  Do-or-Die raid points  3.94"
      ]
     },
     "execution_count": 45,
     "metadata": {},
     "output_type": "execute_result"
    }
   ],
   "source": [
    "# Calculate the VIFs for the new model\n",
    "\n",
    "vif = pd.DataFrame()\n",
    "X = X_train_new\n",
    "vif['Features'] = X.columns\n",
    "vif['VIF'] = [variance_inflation_factor(X.values, i) for i in range(X.shape[1])]\n",
    "vif['VIF'] = round(vif['VIF'], 2)\n",
    "vif = vif.sort_values(by = \"VIF\", ascending = False)\n",
    "vif"
   ]
  },
  {
   "cell_type": "code",
   "execution_count": 46,
   "metadata": {},
   "outputs": [],
   "source": [
    "# Drop the column \"Do-or-Die raid points\" (P-Value: 0.432 ).\n",
    "X_train_new = X_train_new.drop([\"Do-or-Die raid points\"], axis = 1)"
   ]
  },
  {
   "cell_type": "code",
   "execution_count": 47,
   "metadata": {},
   "outputs": [
    {
     "name": "stdout",
     "output_type": "stream",
     "text": [
      "                            OLS Regression Results                            \n",
      "==============================================================================\n",
      "Dep. Variable:            Raid points   R-squared:                       0.994\n",
      "Model:                            OLS   Adj. R-squared:                  0.994\n",
      "Method:                 Least Squares   F-statistic:                     4445.\n",
      "Date:                Sun, 22 Sep 2019   Prob (F-statistic):           9.53e-60\n",
      "Time:                        13:23:41   Log-Likelihood:                 147.67\n",
      "No. Observations:                  56   AIC:                            -289.3\n",
      "Df Residuals:                      53   BIC:                            -283.3\n",
      "Df Model:                           2                                         \n",
      "Covariance Type:            nonrobust                                         \n",
      "====================================================================================\n",
      "                       coef    std err          t      P>|t|      [0.025      0.975]\n",
      "------------------------------------------------------------------------------------\n",
      "const               -0.0337      0.005     -7.121      0.000      -0.043      -0.024\n",
      "Successful raids     0.8725      0.012     71.802      0.000       0.848       0.897\n",
      "Super raids          0.1265      0.014      8.744      0.000       0.097       0.156\n",
      "==============================================================================\n",
      "Omnibus:                        4.568   Durbin-Watson:                   2.085\n",
      "Prob(Omnibus):                  0.102   Jarque-Bera (JB):                3.818\n",
      "Skew:                           0.631   Prob(JB):                        0.148\n",
      "Kurtosis:                       3.213   Cond. No.                         7.90\n",
      "==============================================================================\n",
      "\n",
      "Warnings:\n",
      "[1] Standard Errors assume that the covariance matrix of the errors is correctly specified.\n"
     ]
    }
   ],
   "source": [
    "# Run the linear model\n",
    "X_train_lm = sm.add_constant(X_train_new)\n",
    "lm = sm.OLS(y_train,X_train_lm).fit()\n",
    "print(lm.summary())"
   ]
  },
  {
   "cell_type": "code",
   "execution_count": 48,
   "metadata": {},
   "outputs": [
    {
     "data": {
      "text/html": [
       "<div>\n",
       "<style scoped>\n",
       "    .dataframe tbody tr th:only-of-type {\n",
       "        vertical-align: middle;\n",
       "    }\n",
       "\n",
       "    .dataframe tbody tr th {\n",
       "        vertical-align: top;\n",
       "    }\n",
       "\n",
       "    .dataframe thead th {\n",
       "        text-align: right;\n",
       "    }\n",
       "</style>\n",
       "<table border=\"1\" class=\"dataframe\">\n",
       "  <thead>\n",
       "    <tr style=\"text-align: right;\">\n",
       "      <th></th>\n",
       "      <th>Features</th>\n",
       "      <th>VIF</th>\n",
       "    </tr>\n",
       "  </thead>\n",
       "  <tbody>\n",
       "    <tr>\n",
       "      <th>0</th>\n",
       "      <td>Successful raids</td>\n",
       "      <td>4.15</td>\n",
       "    </tr>\n",
       "    <tr>\n",
       "      <th>1</th>\n",
       "      <td>Super raids</td>\n",
       "      <td>4.15</td>\n",
       "    </tr>\n",
       "  </tbody>\n",
       "</table>\n",
       "</div>"
      ],
      "text/plain": [
       "           Features   VIF\n",
       "0  Successful raids  4.15\n",
       "1       Super raids  4.15"
      ]
     },
     "execution_count": 48,
     "metadata": {},
     "output_type": "execute_result"
    }
   ],
   "source": [
    "# Calculate the VIFs for the new model\n",
    "\n",
    "vif = pd.DataFrame()\n",
    "X = X_train_new\n",
    "vif['Features'] = X.columns\n",
    "vif['VIF'] = [variance_inflation_factor(X.values, i) for i in range(X.shape[1])]\n",
    "vif['VIF'] = round(vif['VIF'], 2)\n",
    "vif = vif.sort_values(by = \"VIF\", ascending = False)\n",
    "vif"
   ]
  },
  {
   "cell_type": "markdown",
   "metadata": {},
   "source": [
    "###### The two variables remaining are statisitcally signifcant with VIF  < 5 "
   ]
  },
  {
   "cell_type": "markdown",
   "metadata": {},
   "source": [
    "###### We now derive an initial linear model with R-Squared: 0.994, adjusted R-Squared: 0.994, F-Statistic Probability practically 0, AIC: -289 & BIC: -283. "
   ]
  },
  {
   "cell_type": "markdown",
   "metadata": {},
   "source": [
    "###### The equation of the initial linear model is: Raid Points = ( -0.03 + [ (0.87 * Successful raids ] + [ (0.13) * Super raids ] )"
   ]
  },
  {
   "cell_type": "markdown",
   "metadata": {},
   "source": [
    "###### Residual Analysis of the train data\n",
    "\n",
    "So, now to check if the error terms are also normally distributed (which is infact, one of the major assumptions of linear regression), let us plot the histogram of the error terms and see what it looks like."
   ]
  },
  {
   "cell_type": "code",
   "execution_count": 49,
   "metadata": {},
   "outputs": [],
   "source": [
    "y_train_points = lm.predict(X_train_lm)"
   ]
  },
  {
   "cell_type": "code",
   "execution_count": 50,
   "metadata": {},
   "outputs": [
    {
     "data": {
      "text/plain": [
       "Text(0.5, 0, 'Errors')"
      ]
     },
     "execution_count": 50,
     "metadata": {},
     "output_type": "execute_result"
    },
    {
     "data": {
      "image/png": "[encoded data removed]",
      "text/plain": [
       "<Figure size 432x288 with 1 Axes>"
      ]
     },
     "metadata": {
      "needs_background": "light"
     },
     "output_type": "display_data"
    }
   ],
   "source": [
    "# Plot the histogram of the error terms\n",
    "fig = plt.figure()\n",
    "sns.distplot((y_train - y_train_points), bins = 20)\n",
    "fig.suptitle('Error Terms', fontsize = 20)                  # Plot heading \n",
    "plt.xlabel('Errors', fontsize = 18)                         # X-label"
   ]
  },
  {
   "cell_type": "markdown",
   "metadata": {},
   "source": [
    "###### Error terms are normally distributed with mean centered around 0. We now proceed with "
   ]
  },
  {
   "cell_type": "markdown",
   "metadata": {},
   "source": [
    "###### We will now proceed with making predictions on the test dataset"
   ]
  },
  {
   "cell_type": "code",
   "execution_count": 51,
   "metadata": {},
   "outputs": [
    {
     "data": {
      "text/html": [
       "<div>\n",
       "<style scoped>\n",
       "    .dataframe tbody tr th:only-of-type {\n",
       "        vertical-align: middle;\n",
       "    }\n",
       "\n",
       "    .dataframe tbody tr th {\n",
       "        vertical-align: top;\n",
       "    }\n",
       "\n",
       "    .dataframe thead th {\n",
       "        text-align: right;\n",
       "    }\n",
       "</style>\n",
       "<table border=\"1\" class=\"dataframe\">\n",
       "  <thead>\n",
       "    <tr style=\"text-align: right;\">\n",
       "      <th></th>\n",
       "      <th>Matches Played</th>\n",
       "      <th>Total points scored</th>\n",
       "      <th>Successful raids</th>\n",
       "      <th>Raid points</th>\n",
       "      <th>Super raids</th>\n",
       "      <th>Do-or-Die raid points</th>\n",
       "      <th>All-outs inflicted</th>\n",
       "    </tr>\n",
       "  </thead>\n",
       "  <tbody>\n",
       "    <tr>\n",
       "      <th>0</th>\n",
       "      <td>0.333333</td>\n",
       "      <td>0.315942</td>\n",
       "      <td>0.339943</td>\n",
       "      <td>0.273731</td>\n",
       "      <td>0.130435</td>\n",
       "      <td>0.337079</td>\n",
       "      <td>0.173913</td>\n",
       "    </tr>\n",
       "    <tr>\n",
       "      <th>1</th>\n",
       "      <td>0.333333</td>\n",
       "      <td>0.239130</td>\n",
       "      <td>0.322946</td>\n",
       "      <td>0.284768</td>\n",
       "      <td>0.043478</td>\n",
       "      <td>0.235955</td>\n",
       "      <td>0.086957</td>\n",
       "    </tr>\n",
       "    <tr>\n",
       "      <th>2</th>\n",
       "      <td>0.250000</td>\n",
       "      <td>0.223188</td>\n",
       "      <td>0.209632</td>\n",
       "      <td>0.187638</td>\n",
       "      <td>0.043478</td>\n",
       "      <td>0.382022</td>\n",
       "      <td>0.239130</td>\n",
       "    </tr>\n",
       "    <tr>\n",
       "      <th>3</th>\n",
       "      <td>0.250000</td>\n",
       "      <td>0.321739</td>\n",
       "      <td>0.407932</td>\n",
       "      <td>0.368653</td>\n",
       "      <td>0.173913</td>\n",
       "      <td>0.056180</td>\n",
       "      <td>0.195652</td>\n",
       "    </tr>\n",
       "    <tr>\n",
       "      <th>4</th>\n",
       "      <td>0.166667</td>\n",
       "      <td>0.165217</td>\n",
       "      <td>0.266289</td>\n",
       "      <td>0.189845</td>\n",
       "      <td>0.086957</td>\n",
       "      <td>0.056180</td>\n",
       "      <td>0.000000</td>\n",
       "    </tr>\n",
       "  </tbody>\n",
       "</table>\n",
       "</div>"
      ],
      "text/plain": [
       "   Matches Played  Total points scored  Successful raids  Raid points  \\\n",
       "0        0.333333             0.315942          0.339943     0.273731   \n",
       "1        0.333333             0.239130          0.322946     0.284768   \n",
       "2        0.250000             0.223188          0.209632     0.187638   \n",
       "3        0.250000             0.321739          0.407932     0.368653   \n",
       "4        0.166667             0.165217          0.266289     0.189845   \n",
       "\n",
       "   Super raids  Do-or-Die raid points  All-outs inflicted  \n",
       "0     0.130435               0.337079            0.173913  \n",
       "1     0.043478               0.235955            0.086957  \n",
       "2     0.043478               0.382022            0.239130  \n",
       "3     0.173913               0.056180            0.195652  \n",
       "4     0.086957               0.056180            0.000000  "
      ]
     },
     "execution_count": 51,
     "metadata": {},
     "output_type": "execute_result"
    }
   ],
   "source": [
    "num_vars = ['Matches Played', 'Total points scored', 'Successful raids', 'Raid points', 'Super raids', 'Do-or-Die raid points', 'All-outs inflicted']\n",
    "\n",
    "df_test[num_vars] = scaler.transform(df_test[num_vars])\n",
    "df_test.head()"
   ]
  },
  {
   "cell_type": "code",
   "execution_count": 52,
   "metadata": {},
   "outputs": [],
   "source": [
    "y_test = df_test.pop('Raid points')\n",
    "X_test = df_test"
   ]
  },
  {
   "cell_type": "code",
   "execution_count": 53,
   "metadata": {},
   "outputs": [],
   "source": [
    "# Now let's use our model to make predictions.\n",
    "\n",
    "# Creating X_test_new dataframe by dropping variables from X_test\n",
    "X_test_new = X_test[X_train_new.columns]\n",
    "\n",
    "# Adding a constant variable \n",
    "X_test_new = sm.add_constant(X_test_new)"
   ]
  },
  {
   "cell_type": "code",
   "execution_count": 54,
   "metadata": {},
   "outputs": [],
   "source": [
    "y_pred = lm.predict(X_test_new)"
   ]
  },
  {
   "cell_type": "code",
   "execution_count": 55,
   "metadata": {},
   "outputs": [
    {
     "data": {
      "text/plain": [
       "0    0.279444\n",
       "1    0.253614\n",
       "2    0.154748\n",
       "3    0.344264\n",
       "4    0.209681\n",
       "dtype: float64"
      ]
     },
     "execution_count": 55,
     "metadata": {},
     "output_type": "execute_result"
    }
   ],
   "source": [
    "y_pred.head()"
   ]
  },
  {
   "cell_type": "code",
   "execution_count": 56,
   "metadata": {},
   "outputs": [
    {
     "data": {
      "text/plain": [
       "12"
      ]
     },
     "execution_count": 56,
     "metadata": {},
     "output_type": "execute_result"
    }
   ],
   "source": [
    "y_pred.count()"
   ]
  },
  {
   "cell_type": "code",
   "execution_count": 57,
   "metadata": {},
   "outputs": [
    {
     "data": {
      "text/plain": [
       "Text(0, 0.5, 'y_pred')"
      ]
     },
     "execution_count": 57,
     "metadata": {},
     "output_type": "execute_result"
    },
    {
     "data": {
      "image/png": "[encoded data removed]",
      "text/plain": [
       "<Figure size 432x288 with 1 Axes>"
      ]
     },
     "metadata": {
      "needs_background": "light"
     },
     "output_type": "display_data"
    }
   ],
   "source": [
    "fig = plt.figure()\n",
    "plt.scatter(y_test,y_pred)\n",
    "fig.suptitle('y_test vs y_pred', fontsize=20)              # Plot heading \n",
    "plt.xlabel('y_test', fontsize=18)                          # X-label\n",
    "plt.ylabel('y_pred', fontsize=16)                          # Y-label"
   ]
  },
  {
   "cell_type": "markdown",
   "metadata": {},
   "source": [
    "###### Our Final Equation will be: Raid Points = ( -0.03 + [ (0.87 * Successful raids ] + [ (0.13) * Super raids ] )"
   ]
  },
  {
   "cell_type": "code",
   "execution_count": 58,
   "metadata": {},
   "outputs": [
    {
     "data": {
      "text/html": [
       "<div>\n",
       "<style scoped>\n",
       "    .dataframe tbody tr th:only-of-type {\n",
       "        vertical-align: middle;\n",
       "    }\n",
       "\n",
       "    .dataframe tbody tr th {\n",
       "        vertical-align: top;\n",
       "    }\n",
       "\n",
       "    .dataframe thead th {\n",
       "        text-align: right;\n",
       "    }\n",
       "</style>\n",
       "<table border=\"1\" class=\"dataframe\">\n",
       "  <thead>\n",
       "    <tr style=\"text-align: right;\">\n",
       "      <th></th>\n",
       "      <th>Season</th>\n",
       "      <th>Team</th>\n",
       "      <th>Matches Played</th>\n",
       "      <th>Total points scored</th>\n",
       "      <th>Successful raids</th>\n",
       "      <th>Raid points</th>\n",
       "      <th>Super raids</th>\n",
       "      <th>Do-or-Die raid points</th>\n",
       "      <th>All-outs inflicted</th>\n",
       "    </tr>\n",
       "  </thead>\n",
       "  <tbody>\n",
       "    <tr>\n",
       "      <th>0</th>\n",
       "      <td>Season 7</td>\n",
       "      <td>Puneri Paltan</td>\n",
       "      <td>18</td>\n",
       "      <td>578</td>\n",
       "      <td>254</td>\n",
       "      <td>308</td>\n",
       "      <td>6</td>\n",
       "      <td>60</td>\n",
       "      <td>17</td>\n",
       "    </tr>\n",
       "    <tr>\n",
       "      <th>1</th>\n",
       "      <td>Season 7</td>\n",
       "      <td>Tamil Thalaivas</td>\n",
       "      <td>18</td>\n",
       "      <td>525</td>\n",
       "      <td>248</td>\n",
       "      <td>313</td>\n",
       "      <td>4</td>\n",
       "      <td>51</td>\n",
       "      <td>13</td>\n",
       "    </tr>\n",
       "    <tr>\n",
       "      <th>2</th>\n",
       "      <td>Season 7</td>\n",
       "      <td>U.P. Yoddha</td>\n",
       "      <td>17</td>\n",
       "      <td>514</td>\n",
       "      <td>208</td>\n",
       "      <td>269</td>\n",
       "      <td>4</td>\n",
       "      <td>64</td>\n",
       "      <td>20</td>\n",
       "    </tr>\n",
       "    <tr>\n",
       "      <th>3</th>\n",
       "      <td>Season 7</td>\n",
       "      <td>Bengaluru Bulls</td>\n",
       "      <td>17</td>\n",
       "      <td>582</td>\n",
       "      <td>278</td>\n",
       "      <td>351</td>\n",
       "      <td>7</td>\n",
       "      <td>35</td>\n",
       "      <td>18</td>\n",
       "    </tr>\n",
       "    <tr>\n",
       "      <th>4</th>\n",
       "      <td>Season 7</td>\n",
       "      <td>Telugu Titans</td>\n",
       "      <td>16</td>\n",
       "      <td>474</td>\n",
       "      <td>228</td>\n",
       "      <td>270</td>\n",
       "      <td>5</td>\n",
       "      <td>35</td>\n",
       "      <td>9</td>\n",
       "    </tr>\n",
       "  </tbody>\n",
       "</table>\n",
       "</div>"
      ],
      "text/plain": [
       "     Season             Team  Matches Played  Total points scored  \\\n",
       "0  Season 7    Puneri Paltan              18                  578   \n",
       "1  Season 7  Tamil Thalaivas              18                  525   \n",
       "2  Season 7      U.P. Yoddha              17                  514   \n",
       "3  Season 7  Bengaluru Bulls              17                  582   \n",
       "4  Season 7    Telugu Titans              16                  474   \n",
       "\n",
       "   Successful raids  Raid points  Super raids  Do-or-Die raid points  \\\n",
       "0               254          308            6                     60   \n",
       "1               248          313            4                     51   \n",
       "2               208          269            4                     64   \n",
       "3               278          351            7                     35   \n",
       "4               228          270            5                     35   \n",
       "\n",
       "   All-outs inflicted  \n",
       "0                  17  \n",
       "1                  13  \n",
       "2                  20  \n",
       "3                  18  \n",
       "4                   9  "
      ]
     },
     "execution_count": 58,
     "metadata": {},
     "output_type": "execute_result"
    }
   ],
   "source": [
    "df_final_raid_points_prediction.head()"
   ]
  },
  {
   "cell_type": "code",
   "execution_count": 59,
   "metadata": {},
   "outputs": [],
   "source": [
    "df_final_raid_points_prediction = df_final_raid_points_prediction[['Season', 'Team', 'Successful raids', 'Super raids']]"
   ]
  },
  {
   "cell_type": "code",
   "execution_count": 60,
   "metadata": {},
   "outputs": [
    {
     "data": {
      "text/html": [
       "<div>\n",
       "<style scoped>\n",
       "    .dataframe tbody tr th:only-of-type {\n",
       "        vertical-align: middle;\n",
       "    }\n",
       "\n",
       "    .dataframe tbody tr th {\n",
       "        vertical-align: top;\n",
       "    }\n",
       "\n",
       "    .dataframe thead th {\n",
       "        text-align: right;\n",
       "    }\n",
       "</style>\n",
       "<table border=\"1\" class=\"dataframe\">\n",
       "  <thead>\n",
       "    <tr style=\"text-align: right;\">\n",
       "      <th></th>\n",
       "      <th>Season</th>\n",
       "      <th>Team</th>\n",
       "      <th>Successful raids</th>\n",
       "      <th>Super raids</th>\n",
       "    </tr>\n",
       "  </thead>\n",
       "  <tbody>\n",
       "    <tr>\n",
       "      <th>0</th>\n",
       "      <td>Season 7</td>\n",
       "      <td>Puneri Paltan</td>\n",
       "      <td>254</td>\n",
       "      <td>6</td>\n",
       "    </tr>\n",
       "    <tr>\n",
       "      <th>1</th>\n",
       "      <td>Season 7</td>\n",
       "      <td>Tamil Thalaivas</td>\n",
       "      <td>248</td>\n",
       "      <td>4</td>\n",
       "    </tr>\n",
       "    <tr>\n",
       "      <th>2</th>\n",
       "      <td>Season 7</td>\n",
       "      <td>U.P. Yoddha</td>\n",
       "      <td>208</td>\n",
       "      <td>4</td>\n",
       "    </tr>\n",
       "    <tr>\n",
       "      <th>3</th>\n",
       "      <td>Season 7</td>\n",
       "      <td>Bengaluru Bulls</td>\n",
       "      <td>278</td>\n",
       "      <td>7</td>\n",
       "    </tr>\n",
       "    <tr>\n",
       "      <th>4</th>\n",
       "      <td>Season 7</td>\n",
       "      <td>Telugu Titans</td>\n",
       "      <td>228</td>\n",
       "      <td>5</td>\n",
       "    </tr>\n",
       "  </tbody>\n",
       "</table>\n",
       "</div>"
      ],
      "text/plain": [
       "     Season             Team  Successful raids  Super raids\n",
       "0  Season 7    Puneri Paltan               254            6\n",
       "1  Season 7  Tamil Thalaivas               248            4\n",
       "2  Season 7      U.P. Yoddha               208            4\n",
       "3  Season 7  Bengaluru Bulls               278            7\n",
       "4  Season 7    Telugu Titans               228            5"
      ]
     },
     "execution_count": 60,
     "metadata": {},
     "output_type": "execute_result"
    }
   ],
   "source": [
    "df_final_raid_points_prediction.head()"
   ]
  },
  {
   "cell_type": "code",
   "execution_count": 61,
   "metadata": {},
   "outputs": [],
   "source": [
    "df_final_raid_points_prediction['Raid Points Projected'] = round((\n",
    "    -0.03 \n",
    "    + (0.87 * df_final_raid_points_prediction['Successful raids']) \n",
    "    + (0.13 * df_final_raid_points_prediction['Super raids']) \n",
    "), 0)"
   ]
  },
  {
   "cell_type": "code",
   "execution_count": 62,
   "metadata": {},
   "outputs": [],
   "source": [
    "df_final_raid_points_prediction['Raid Points Projected'] = df_final_raid_points_prediction['Raid Points Projected'].astype('int64')"
   ]
  },
  {
   "cell_type": "code",
   "execution_count": 63,
   "metadata": {},
   "outputs": [],
   "source": [
    "df_final_raid_points_prediction = df_final_raid_points_prediction.sort_values(by = 'Raid Points Projected', ascending = False)"
   ]
  },
  {
   "cell_type": "code",
   "execution_count": 64,
   "metadata": {},
   "outputs": [
    {
     "data": {
      "text/plain": [
       "10    Bengal Warriors\n",
       "Name: Team, dtype: object"
      ]
     },
     "execution_count": 64,
     "metadata": {},
     "output_type": "execute_result"
    }
   ],
   "source": [
    "df_final_raid_points_prediction['Team'].head(1)"
   ]
  },
  {
   "cell_type": "markdown",
   "metadata": {},
   "source": [
    "### Final prediction: BENGAL WARRIORS will top the raid points chart."
   ]
  }
 ],
 "metadata": {
  "kernelspec": {
   "display_name": "Python 3",
   "language": "python",
   "name": "python3"
  },
  "language_info": {
   "codemirror_mode": {
    "name": "ipython",
    "version": 3
   },
   "file_extension": ".py",
   "mimetype": "text/x-python",
   "name": "python",
   "nbconvert_exporter": "python",
   "pygments_lexer": "ipython3",
   "version": "3.7.3"
  }
 },
 "nbformat": 4,
 "nbformat_minor": 2
}
