{
 "cells": [
  {
   "cell_type": "code",
   "execution_count": 1,
   "metadata": {},
   "outputs": [],
   "source": [
    "import numpy as np\n",
    "import pandas as pd\n",
    "import matplotlib.pyplot as plt\n",
    "import seaborn as sns\n",
    "import warnings\n",
    "import requests\n",
    "import time \n",
    "import math\n",
    "\n",
    "import sklearn\n",
    "from sklearn.model_selection import train_test_split\n",
    "from sklearn.preprocessing import MinMaxScaler\n",
    "from sklearn.metrics import r2_score\n",
    "from sklearn.preprocessing import OneHotEncoder\n",
    "\n",
    "import statsmodels.api as sm\n",
    "from statsmodels.stats.outliers_influence import variance_inflation_factor\n",
    "\n",
    "from sklearn.feature_selection import RFE\n",
    "from sklearn.linear_model import LinearRegression\n",
    "from sklearn.metrics import mean_squared_error\n",
    "from sklearn.metrics import r2_score\n",
    "\n",
    "warnings.filterwarnings('ignore')\n",
    "pd.set_option('display.max_columns', 100)\n",
    "pd.set_option('display.max_rows', 100)"
   ]
  },
  {
   "cell_type": "markdown",
   "metadata": {},
   "source": [
    "###### Read Train and Test Data. Test data is current season (2019) data which will be used for testing the model & making predictions. Train data is old season data (2014 to 2018) and will be used to build the model"
   ]
  },
  {
   "cell_type": "code",
   "execution_count": 2,
   "metadata": {},
   "outputs": [],
   "source": [
    "df_train = pd.read_csv('Train_Team Complete Data.csv', sep = ',')\n",
    "df_test = pd.read_csv('Test_Team Complete Data.csv', sep = ',')"
   ]
  },
  {
   "cell_type": "code",
   "execution_count": 3,
   "metadata": {},
   "outputs": [
    {
     "name": "stdout",
     "output_type": "stream",
     "text": [
      "<class 'pandas.core.frame.DataFrame'>\n",
      "RangeIndex: 12 entries, 0 to 11\n",
      "Data columns (total 18 columns):\n",
      "Unnamed: 0               12 non-null int64\n",
      "Season                   12 non-null object\n",
      "Team                     12 non-null object\n",
      "Matches Played           12 non-null int64\n",
      "Total points scored      12 non-null int64\n",
      "Total points conceded    12 non-null int64\n",
      "Avg points scored        12 non-null float64\n",
      "Successful raids         12 non-null int64\n",
      "Raid points              12 non-null int64\n",
      "Avg raid points          12 non-null float64\n",
      "Successful tackles       12 non-null int64\n",
      "Tackle points            12 non-null int64\n",
      "Avg tackle points        12 non-null float64\n",
      "Super raids              12 non-null int64\n",
      "Super tackles            12 non-null int64\n",
      "Do-or-Die raid points    12 non-null int64\n",
      "All-outs inflicted       12 non-null int64\n",
      "All-outs conceded        12 non-null int64\n",
      "dtypes: float64(3), int64(13), object(2)\n",
      "memory usage: 1.8+ KB\n"
     ]
    }
   ],
   "source": [
    "df_test.info()"
   ]
  },
  {
   "cell_type": "code",
   "execution_count": 4,
   "metadata": {},
   "outputs": [
    {
     "name": "stdout",
     "output_type": "stream",
     "text": [
      "<class 'pandas.core.frame.DataFrame'>\n",
      "RangeIndex: 56 entries, 0 to 55\n",
      "Data columns (total 18 columns):\n",
      "Unnamed: 0               56 non-null int64\n",
      "Season                   56 non-null object\n",
      "Team                     56 non-null object\n",
      "Matches Played           56 non-null int64\n",
      "Total points scored      56 non-null int64\n",
      "Total points conceded    56 non-null int64\n",
      "Avg points scored        56 non-null float64\n",
      "Successful raids         56 non-null int64\n",
      "Raid points              56 non-null int64\n",
      "Avg raid points          56 non-null float64\n",
      "Successful tackles       56 non-null int64\n",
      "Tackle points            56 non-null int64\n",
      "Avg tackle points        56 non-null float64\n",
      "Super raids              56 non-null int64\n",
      "Super tackles            56 non-null int64\n",
      "Do-or-Die raid points    56 non-null int64\n",
      "All-outs inflicted       56 non-null int64\n",
      "All-outs conceded        56 non-null int64\n",
      "dtypes: float64(3), int64(13), object(2)\n",
      "memory usage: 8.0+ KB\n"
     ]
    }
   ],
   "source": [
    "df_train.info()"
   ]
  },
  {
   "cell_type": "code",
   "execution_count": 5,
   "metadata": {},
   "outputs": [
    {
     "data": {
      "text/html": [
       "<div>\n",
       "<style scoped>\n",
       "    .dataframe tbody tr th:only-of-type {\n",
       "        vertical-align: middle;\n",
       "    }\n",
       "\n",
       "    .dataframe tbody tr th {\n",
       "        vertical-align: top;\n",
       "    }\n",
       "\n",
       "    .dataframe thead th {\n",
       "        text-align: right;\n",
       "    }\n",
       "</style>\n",
       "<table border=\"1\" class=\"dataframe\">\n",
       "  <thead>\n",
       "    <tr style=\"text-align: right;\">\n",
       "      <th></th>\n",
       "      <th>Unnamed: 0</th>\n",
       "      <th>Season</th>\n",
       "      <th>Team</th>\n",
       "      <th>Matches Played</th>\n",
       "      <th>Total points scored</th>\n",
       "      <th>Total points conceded</th>\n",
       "      <th>Avg points scored</th>\n",
       "      <th>Successful raids</th>\n",
       "      <th>Raid points</th>\n",
       "      <th>Avg raid points</th>\n",
       "      <th>Successful tackles</th>\n",
       "      <th>Tackle points</th>\n",
       "      <th>Avg tackle points</th>\n",
       "      <th>Super raids</th>\n",
       "      <th>Super tackles</th>\n",
       "      <th>Do-or-Die raid points</th>\n",
       "      <th>All-outs inflicted</th>\n",
       "      <th>All-outs conceded</th>\n",
       "    </tr>\n",
       "  </thead>\n",
       "  <tbody>\n",
       "    <tr>\n",
       "      <th>0</th>\n",
       "      <td>0</td>\n",
       "      <td>Season 7</td>\n",
       "      <td>Puneri Paltan</td>\n",
       "      <td>18</td>\n",
       "      <td>578</td>\n",
       "      <td>620</td>\n",
       "      <td>28.83</td>\n",
       "      <td>254</td>\n",
       "      <td>308</td>\n",
       "      <td>17.11</td>\n",
       "      <td>189</td>\n",
       "      <td>211</td>\n",
       "      <td>11.72</td>\n",
       "      <td>6</td>\n",
       "      <td>22</td>\n",
       "      <td>60</td>\n",
       "      <td>17</td>\n",
       "      <td>27</td>\n",
       "    </tr>\n",
       "    <tr>\n",
       "      <th>1</th>\n",
       "      <td>1</td>\n",
       "      <td>Season 7</td>\n",
       "      <td>Tamil Thalaivas</td>\n",
       "      <td>18</td>\n",
       "      <td>525</td>\n",
       "      <td>609</td>\n",
       "      <td>26.00</td>\n",
       "      <td>248</td>\n",
       "      <td>313</td>\n",
       "      <td>17.39</td>\n",
       "      <td>144</td>\n",
       "      <td>155</td>\n",
       "      <td>8.61</td>\n",
       "      <td>4</td>\n",
       "      <td>13</td>\n",
       "      <td>51</td>\n",
       "      <td>13</td>\n",
       "      <td>26</td>\n",
       "    </tr>\n",
       "    <tr>\n",
       "      <th>2</th>\n",
       "      <td>2</td>\n",
       "      <td>Season 7</td>\n",
       "      <td>U.P. Yoddha</td>\n",
       "      <td>17</td>\n",
       "      <td>514</td>\n",
       "      <td>540</td>\n",
       "      <td>26.41</td>\n",
       "      <td>208</td>\n",
       "      <td>269</td>\n",
       "      <td>15.82</td>\n",
       "      <td>167</td>\n",
       "      <td>180</td>\n",
       "      <td>10.59</td>\n",
       "      <td>4</td>\n",
       "      <td>14</td>\n",
       "      <td>64</td>\n",
       "      <td>20</td>\n",
       "      <td>21</td>\n",
       "    </tr>\n",
       "    <tr>\n",
       "      <th>3</th>\n",
       "      <td>3</td>\n",
       "      <td>Season 7</td>\n",
       "      <td>Bengaluru Bulls</td>\n",
       "      <td>17</td>\n",
       "      <td>582</td>\n",
       "      <td>572</td>\n",
       "      <td>30.70</td>\n",
       "      <td>278</td>\n",
       "      <td>351</td>\n",
       "      <td>20.65</td>\n",
       "      <td>148</td>\n",
       "      <td>171</td>\n",
       "      <td>10.06</td>\n",
       "      <td>7</td>\n",
       "      <td>25</td>\n",
       "      <td>35</td>\n",
       "      <td>18</td>\n",
       "      <td>21</td>\n",
       "    </tr>\n",
       "    <tr>\n",
       "      <th>4</th>\n",
       "      <td>4</td>\n",
       "      <td>Season 7</td>\n",
       "      <td>Telugu Titans</td>\n",
       "      <td>16</td>\n",
       "      <td>474</td>\n",
       "      <td>532</td>\n",
       "      <td>27.06</td>\n",
       "      <td>228</td>\n",
       "      <td>270</td>\n",
       "      <td>16.88</td>\n",
       "      <td>143</td>\n",
       "      <td>163</td>\n",
       "      <td>10.19</td>\n",
       "      <td>5</td>\n",
       "      <td>21</td>\n",
       "      <td>35</td>\n",
       "      <td>9</td>\n",
       "      <td>20</td>\n",
       "    </tr>\n",
       "  </tbody>\n",
       "</table>\n",
       "</div>"
      ],
      "text/plain": [
       "   Unnamed: 0    Season             Team  Matches Played  Total points scored  \\\n",
       "0           0  Season 7    Puneri Paltan              18                  578   \n",
       "1           1  Season 7  Tamil Thalaivas              18                  525   \n",
       "2           2  Season 7      U.P. Yoddha              17                  514   \n",
       "3           3  Season 7  Bengaluru Bulls              17                  582   \n",
       "4           4  Season 7    Telugu Titans              16                  474   \n",
       "\n",
       "   Total points conceded  Avg points scored  Successful raids  Raid points  \\\n",
       "0                    620              28.83               254          308   \n",
       "1                    609              26.00               248          313   \n",
       "2                    540              26.41               208          269   \n",
       "3                    572              30.70               278          351   \n",
       "4                    532              27.06               228          270   \n",
       "\n",
       "   Avg raid points  Successful tackles  Tackle points  Avg tackle points  \\\n",
       "0            17.11                 189            211              11.72   \n",
       "1            17.39                 144            155               8.61   \n",
       "2            15.82                 167            180              10.59   \n",
       "3            20.65                 148            171              10.06   \n",
       "4            16.88                 143            163              10.19   \n",
       "\n",
       "   Super raids  Super tackles  Do-or-Die raid points  All-outs inflicted  \\\n",
       "0            6             22                     60                  17   \n",
       "1            4             13                     51                  13   \n",
       "2            4             14                     64                  20   \n",
       "3            7             25                     35                  18   \n",
       "4            5             21                     35                   9   \n",
       "\n",
       "   All-outs conceded  \n",
       "0                 27  \n",
       "1                 26  \n",
       "2                 21  \n",
       "3                 21  \n",
       "4                 20  "
      ]
     },
     "execution_count": 5,
     "metadata": {},
     "output_type": "execute_result"
    }
   ],
   "source": [
    "df_test.head()"
   ]
  },
  {
   "cell_type": "code",
   "execution_count": 6,
   "metadata": {},
   "outputs": [
    {
     "data": {
      "text/html": [
       "<div>\n",
       "<style scoped>\n",
       "    .dataframe tbody tr th:only-of-type {\n",
       "        vertical-align: middle;\n",
       "    }\n",
       "\n",
       "    .dataframe tbody tr th {\n",
       "        vertical-align: top;\n",
       "    }\n",
       "\n",
       "    .dataframe thead th {\n",
       "        text-align: right;\n",
       "    }\n",
       "</style>\n",
       "<table border=\"1\" class=\"dataframe\">\n",
       "  <thead>\n",
       "    <tr style=\"text-align: right;\">\n",
       "      <th></th>\n",
       "      <th>Unnamed: 0</th>\n",
       "      <th>Season</th>\n",
       "      <th>Team</th>\n",
       "      <th>Matches Played</th>\n",
       "      <th>Total points scored</th>\n",
       "      <th>Total points conceded</th>\n",
       "      <th>Avg points scored</th>\n",
       "      <th>Successful raids</th>\n",
       "      <th>Raid points</th>\n",
       "      <th>Avg raid points</th>\n",
       "      <th>Successful tackles</th>\n",
       "      <th>Tackle points</th>\n",
       "      <th>Avg tackle points</th>\n",
       "      <th>Super raids</th>\n",
       "      <th>Super tackles</th>\n",
       "      <th>Do-or-Die raid points</th>\n",
       "      <th>All-outs inflicted</th>\n",
       "      <th>All-outs conceded</th>\n",
       "    </tr>\n",
       "  </thead>\n",
       "  <tbody>\n",
       "    <tr>\n",
       "      <th>0</th>\n",
       "      <td>0</td>\n",
       "      <td>Season 1</td>\n",
       "      <td>Puneri Paltan</td>\n",
       "      <td>14</td>\n",
       "      <td>536</td>\n",
       "      <td>536</td>\n",
       "      <td>26.85</td>\n",
       "      <td>204</td>\n",
       "      <td>269</td>\n",
       "      <td>19.21</td>\n",
       "      <td>93</td>\n",
       "      <td>107</td>\n",
       "      <td>7.64</td>\n",
       "      <td>11</td>\n",
       "      <td>14</td>\n",
       "      <td>48</td>\n",
       "      <td>12</td>\n",
       "      <td>26</td>\n",
       "    </tr>\n",
       "    <tr>\n",
       "      <th>1</th>\n",
       "      <td>1</td>\n",
       "      <td>Season 1</td>\n",
       "      <td>Bengal Warriors</td>\n",
       "      <td>14</td>\n",
       "      <td>515</td>\n",
       "      <td>515</td>\n",
       "      <td>28.92</td>\n",
       "      <td>213</td>\n",
       "      <td>283</td>\n",
       "      <td>20.21</td>\n",
       "      <td>106</td>\n",
       "      <td>122</td>\n",
       "      <td>8.71</td>\n",
       "      <td>11</td>\n",
       "      <td>16</td>\n",
       "      <td>30</td>\n",
       "      <td>11</td>\n",
       "      <td>25</td>\n",
       "    </tr>\n",
       "    <tr>\n",
       "      <th>2</th>\n",
       "      <td>2</td>\n",
       "      <td>Season 1</td>\n",
       "      <td>Dabang Delhi K.C.</td>\n",
       "      <td>14</td>\n",
       "      <td>471</td>\n",
       "      <td>471</td>\n",
       "      <td>29.92</td>\n",
       "      <td>246</td>\n",
       "      <td>285</td>\n",
       "      <td>20.36</td>\n",
       "      <td>124</td>\n",
       "      <td>134</td>\n",
       "      <td>9.57</td>\n",
       "      <td>5</td>\n",
       "      <td>10</td>\n",
       "      <td>31</td>\n",
       "      <td>18</td>\n",
       "      <td>23</td>\n",
       "    </tr>\n",
       "    <tr>\n",
       "      <th>3</th>\n",
       "      <td>3</td>\n",
       "      <td>Season 1</td>\n",
       "      <td>U Mumba</td>\n",
       "      <td>16</td>\n",
       "      <td>499</td>\n",
       "      <td>499</td>\n",
       "      <td>31.50</td>\n",
       "      <td>270</td>\n",
       "      <td>347</td>\n",
       "      <td>21.69</td>\n",
       "      <td>145</td>\n",
       "      <td>157</td>\n",
       "      <td>9.81</td>\n",
       "      <td>12</td>\n",
       "      <td>12</td>\n",
       "      <td>40</td>\n",
       "      <td>21</td>\n",
       "      <td>19</td>\n",
       "    </tr>\n",
       "    <tr>\n",
       "      <th>4</th>\n",
       "      <td>4</td>\n",
       "      <td>Season 1</td>\n",
       "      <td>Patna Pirates</td>\n",
       "      <td>16</td>\n",
       "      <td>487</td>\n",
       "      <td>487</td>\n",
       "      <td>28.62</td>\n",
       "      <td>253</td>\n",
       "      <td>316</td>\n",
       "      <td>19.75</td>\n",
       "      <td>124</td>\n",
       "      <td>142</td>\n",
       "      <td>8.88</td>\n",
       "      <td>13</td>\n",
       "      <td>18</td>\n",
       "      <td>42</td>\n",
       "      <td>18</td>\n",
       "      <td>17</td>\n",
       "    </tr>\n",
       "  </tbody>\n",
       "</table>\n",
       "</div>"
      ],
      "text/plain": [
       "   Unnamed: 0    Season               Team  Matches Played  \\\n",
       "0           0  Season 1      Puneri Paltan              14   \n",
       "1           1  Season 1    Bengal Warriors              14   \n",
       "2           2  Season 1  Dabang Delhi K.C.              14   \n",
       "3           3  Season 1            U Mumba              16   \n",
       "4           4  Season 1      Patna Pirates              16   \n",
       "\n",
       "   Total points scored  Total points conceded  Avg points scored  \\\n",
       "0                  536                    536              26.85   \n",
       "1                  515                    515              28.92   \n",
       "2                  471                    471              29.92   \n",
       "3                  499                    499              31.50   \n",
       "4                  487                    487              28.62   \n",
       "\n",
       "   Successful raids  Raid points  Avg raid points  Successful tackles  \\\n",
       "0               204          269            19.21                  93   \n",
       "1               213          283            20.21                 106   \n",
       "2               246          285            20.36                 124   \n",
       "3               270          347            21.69                 145   \n",
       "4               253          316            19.75                 124   \n",
       "\n",
       "   Tackle points  Avg tackle points  Super raids  Super tackles  \\\n",
       "0            107               7.64           11             14   \n",
       "1            122               8.71           11             16   \n",
       "2            134               9.57            5             10   \n",
       "3            157               9.81           12             12   \n",
       "4            142               8.88           13             18   \n",
       "\n",
       "   Do-or-Die raid points  All-outs inflicted  All-outs conceded  \n",
       "0                     48                  12                 26  \n",
       "1                     30                  11                 25  \n",
       "2                     31                  18                 23  \n",
       "3                     40                  21                 19  \n",
       "4                     42                  18                 17  "
      ]
     },
     "execution_count": 6,
     "metadata": {},
     "output_type": "execute_result"
    }
   ],
   "source": [
    "df_train.head()"
   ]
  },
  {
   "cell_type": "markdown",
   "metadata": {},
   "source": [
    "### Proceed with Task 4: Predict the team with the highest points for successful tackles (Tackle Points)"
   ]
  },
  {
   "cell_type": "markdown",
   "metadata": {},
   "source": [
    "###### Drop columns not required for this analysis: \"Unnamed: 0\", \"Total points conceded\", \"Successful raids\", \"Raid points\", \"Avg raid points\", \"Super raids\", \"Do-or-Die raid points\" from both train and test dataframes."
   ]
  },
  {
   "cell_type": "code",
   "execution_count": 7,
   "metadata": {},
   "outputs": [],
   "source": [
    "df_train.drop(columns = [\"Unnamed: 0\", \"Total points conceded\", \"Successful raids\", \"Raid points\", \"Avg raid points\", \"Super raids\", \"Do-or-Die raid points\"], inplace = True)\n",
    "df_test.drop(columns = [\"Unnamed: 0\", \"Total points conceded\", \"Successful raids\", \"Raid points\", \"Avg raid points\", \"Super raids\", \"Do-or-Die raid points\"], inplace = True)"
   ]
  },
  {
   "cell_type": "code",
   "execution_count": 8,
   "metadata": {},
   "outputs": [
    {
     "name": "stdout",
     "output_type": "stream",
     "text": [
      "<class 'pandas.core.frame.DataFrame'>\n",
      "RangeIndex: 12 entries, 0 to 11\n",
      "Data columns (total 11 columns):\n",
      "Season                 12 non-null object\n",
      "Team                   12 non-null object\n",
      "Matches Played         12 non-null int64\n",
      "Total points scored    12 non-null int64\n",
      "Avg points scored      12 non-null float64\n",
      "Successful tackles     12 non-null int64\n",
      "Tackle points          12 non-null int64\n",
      "Avg tackle points      12 non-null float64\n",
      "Super tackles          12 non-null int64\n",
      "All-outs inflicted     12 non-null int64\n",
      "All-outs conceded      12 non-null int64\n",
      "dtypes: float64(2), int64(7), object(2)\n",
      "memory usage: 1.1+ KB\n"
     ]
    }
   ],
   "source": [
    "df_test.info()"
   ]
  },
  {
   "cell_type": "code",
   "execution_count": 9,
   "metadata": {},
   "outputs": [
    {
     "name": "stdout",
     "output_type": "stream",
     "text": [
      "<class 'pandas.core.frame.DataFrame'>\n",
      "RangeIndex: 56 entries, 0 to 55\n",
      "Data columns (total 11 columns):\n",
      "Season                 56 non-null object\n",
      "Team                   56 non-null object\n",
      "Matches Played         56 non-null int64\n",
      "Total points scored    56 non-null int64\n",
      "Avg points scored      56 non-null float64\n",
      "Successful tackles     56 non-null int64\n",
      "Tackle points          56 non-null int64\n",
      "Avg tackle points      56 non-null float64\n",
      "Super tackles          56 non-null int64\n",
      "All-outs inflicted     56 non-null int64\n",
      "All-outs conceded      56 non-null int64\n",
      "dtypes: float64(2), int64(7), object(2)\n",
      "memory usage: 4.9+ KB\n"
     ]
    }
   ],
   "source": [
    "df_train.info()"
   ]
  },
  {
   "cell_type": "code",
   "execution_count": 10,
   "metadata": {},
   "outputs": [
    {
     "data": {
      "text/html": [
       "<div>\n",
       "<style scoped>\n",
       "    .dataframe tbody tr th:only-of-type {\n",
       "        vertical-align: middle;\n",
       "    }\n",
       "\n",
       "    .dataframe tbody tr th {\n",
       "        vertical-align: top;\n",
       "    }\n",
       "\n",
       "    .dataframe thead th {\n",
       "        text-align: right;\n",
       "    }\n",
       "</style>\n",
       "<table border=\"1\" class=\"dataframe\">\n",
       "  <thead>\n",
       "    <tr style=\"text-align: right;\">\n",
       "      <th></th>\n",
       "      <th>Season</th>\n",
       "      <th>Team</th>\n",
       "      <th>Matches Played</th>\n",
       "      <th>Total points scored</th>\n",
       "      <th>Avg points scored</th>\n",
       "      <th>Successful tackles</th>\n",
       "      <th>Tackle points</th>\n",
       "      <th>Avg tackle points</th>\n",
       "      <th>Super tackles</th>\n",
       "      <th>All-outs inflicted</th>\n",
       "      <th>All-outs conceded</th>\n",
       "    </tr>\n",
       "  </thead>\n",
       "  <tbody>\n",
       "    <tr>\n",
       "      <th>0</th>\n",
       "      <td>Season 7</td>\n",
       "      <td>Puneri Paltan</td>\n",
       "      <td>18</td>\n",
       "      <td>578</td>\n",
       "      <td>28.83</td>\n",
       "      <td>189</td>\n",
       "      <td>211</td>\n",
       "      <td>11.72</td>\n",
       "      <td>22</td>\n",
       "      <td>17</td>\n",
       "      <td>27</td>\n",
       "    </tr>\n",
       "    <tr>\n",
       "      <th>1</th>\n",
       "      <td>Season 7</td>\n",
       "      <td>Tamil Thalaivas</td>\n",
       "      <td>18</td>\n",
       "      <td>525</td>\n",
       "      <td>26.00</td>\n",
       "      <td>144</td>\n",
       "      <td>155</td>\n",
       "      <td>8.61</td>\n",
       "      <td>13</td>\n",
       "      <td>13</td>\n",
       "      <td>26</td>\n",
       "    </tr>\n",
       "    <tr>\n",
       "      <th>2</th>\n",
       "      <td>Season 7</td>\n",
       "      <td>U.P. Yoddha</td>\n",
       "      <td>17</td>\n",
       "      <td>514</td>\n",
       "      <td>26.41</td>\n",
       "      <td>167</td>\n",
       "      <td>180</td>\n",
       "      <td>10.59</td>\n",
       "      <td>14</td>\n",
       "      <td>20</td>\n",
       "      <td>21</td>\n",
       "    </tr>\n",
       "    <tr>\n",
       "      <th>3</th>\n",
       "      <td>Season 7</td>\n",
       "      <td>Bengaluru Bulls</td>\n",
       "      <td>17</td>\n",
       "      <td>582</td>\n",
       "      <td>30.70</td>\n",
       "      <td>148</td>\n",
       "      <td>171</td>\n",
       "      <td>10.06</td>\n",
       "      <td>25</td>\n",
       "      <td>18</td>\n",
       "      <td>21</td>\n",
       "    </tr>\n",
       "    <tr>\n",
       "      <th>4</th>\n",
       "      <td>Season 7</td>\n",
       "      <td>Telugu Titans</td>\n",
       "      <td>16</td>\n",
       "      <td>474</td>\n",
       "      <td>27.06</td>\n",
       "      <td>143</td>\n",
       "      <td>163</td>\n",
       "      <td>10.19</td>\n",
       "      <td>21</td>\n",
       "      <td>9</td>\n",
       "      <td>20</td>\n",
       "    </tr>\n",
       "  </tbody>\n",
       "</table>\n",
       "</div>"
      ],
      "text/plain": [
       "     Season             Team  Matches Played  Total points scored  \\\n",
       "0  Season 7    Puneri Paltan              18                  578   \n",
       "1  Season 7  Tamil Thalaivas              18                  525   \n",
       "2  Season 7      U.P. Yoddha              17                  514   \n",
       "3  Season 7  Bengaluru Bulls              17                  582   \n",
       "4  Season 7    Telugu Titans              16                  474   \n",
       "\n",
       "   Avg points scored  Successful tackles  Tackle points  Avg tackle points  \\\n",
       "0              28.83                 189            211              11.72   \n",
       "1              26.00                 144            155               8.61   \n",
       "2              26.41                 167            180              10.59   \n",
       "3              30.70                 148            171              10.06   \n",
       "4              27.06                 143            163              10.19   \n",
       "\n",
       "   Super tackles  All-outs inflicted  All-outs conceded  \n",
       "0             22                  17                 27  \n",
       "1             13                  13                 26  \n",
       "2             14                  20                 21  \n",
       "3             25                  18                 21  \n",
       "4             21                   9                 20  "
      ]
     },
     "execution_count": 10,
     "metadata": {},
     "output_type": "execute_result"
    }
   ],
   "source": [
    "df_test.head()"
   ]
  },
  {
   "cell_type": "code",
   "execution_count": 11,
   "metadata": {},
   "outputs": [
    {
     "data": {
      "text/html": [
       "<div>\n",
       "<style scoped>\n",
       "    .dataframe tbody tr th:only-of-type {\n",
       "        vertical-align: middle;\n",
       "    }\n",
       "\n",
       "    .dataframe tbody tr th {\n",
       "        vertical-align: top;\n",
       "    }\n",
       "\n",
       "    .dataframe thead th {\n",
       "        text-align: right;\n",
       "    }\n",
       "</style>\n",
       "<table border=\"1\" class=\"dataframe\">\n",
       "  <thead>\n",
       "    <tr style=\"text-align: right;\">\n",
       "      <th></th>\n",
       "      <th>Season</th>\n",
       "      <th>Team</th>\n",
       "      <th>Matches Played</th>\n",
       "      <th>Total points scored</th>\n",
       "      <th>Avg points scored</th>\n",
       "      <th>Successful tackles</th>\n",
       "      <th>Tackle points</th>\n",
       "      <th>Avg tackle points</th>\n",
       "      <th>Super tackles</th>\n",
       "      <th>All-outs inflicted</th>\n",
       "      <th>All-outs conceded</th>\n",
       "    </tr>\n",
       "  </thead>\n",
       "  <tbody>\n",
       "    <tr>\n",
       "      <th>0</th>\n",
       "      <td>Season 1</td>\n",
       "      <td>Puneri Paltan</td>\n",
       "      <td>14</td>\n",
       "      <td>536</td>\n",
       "      <td>26.85</td>\n",
       "      <td>93</td>\n",
       "      <td>107</td>\n",
       "      <td>7.64</td>\n",
       "      <td>14</td>\n",
       "      <td>12</td>\n",
       "      <td>26</td>\n",
       "    </tr>\n",
       "    <tr>\n",
       "      <th>1</th>\n",
       "      <td>Season 1</td>\n",
       "      <td>Bengal Warriors</td>\n",
       "      <td>14</td>\n",
       "      <td>515</td>\n",
       "      <td>28.92</td>\n",
       "      <td>106</td>\n",
       "      <td>122</td>\n",
       "      <td>8.71</td>\n",
       "      <td>16</td>\n",
       "      <td>11</td>\n",
       "      <td>25</td>\n",
       "    </tr>\n",
       "    <tr>\n",
       "      <th>2</th>\n",
       "      <td>Season 1</td>\n",
       "      <td>Dabang Delhi K.C.</td>\n",
       "      <td>14</td>\n",
       "      <td>471</td>\n",
       "      <td>29.92</td>\n",
       "      <td>124</td>\n",
       "      <td>134</td>\n",
       "      <td>9.57</td>\n",
       "      <td>10</td>\n",
       "      <td>18</td>\n",
       "      <td>23</td>\n",
       "    </tr>\n",
       "    <tr>\n",
       "      <th>3</th>\n",
       "      <td>Season 1</td>\n",
       "      <td>U Mumba</td>\n",
       "      <td>16</td>\n",
       "      <td>499</td>\n",
       "      <td>31.50</td>\n",
       "      <td>145</td>\n",
       "      <td>157</td>\n",
       "      <td>9.81</td>\n",
       "      <td>12</td>\n",
       "      <td>21</td>\n",
       "      <td>19</td>\n",
       "    </tr>\n",
       "    <tr>\n",
       "      <th>4</th>\n",
       "      <td>Season 1</td>\n",
       "      <td>Patna Pirates</td>\n",
       "      <td>16</td>\n",
       "      <td>487</td>\n",
       "      <td>28.62</td>\n",
       "      <td>124</td>\n",
       "      <td>142</td>\n",
       "      <td>8.88</td>\n",
       "      <td>18</td>\n",
       "      <td>18</td>\n",
       "      <td>17</td>\n",
       "    </tr>\n",
       "  </tbody>\n",
       "</table>\n",
       "</div>"
      ],
      "text/plain": [
       "     Season               Team  Matches Played  Total points scored  \\\n",
       "0  Season 1      Puneri Paltan              14                  536   \n",
       "1  Season 1    Bengal Warriors              14                  515   \n",
       "2  Season 1  Dabang Delhi K.C.              14                  471   \n",
       "3  Season 1            U Mumba              16                  499   \n",
       "4  Season 1      Patna Pirates              16                  487   \n",
       "\n",
       "   Avg points scored  Successful tackles  Tackle points  Avg tackle points  \\\n",
       "0              26.85                  93            107               7.64   \n",
       "1              28.92                 106            122               8.71   \n",
       "2              29.92                 124            134               9.57   \n",
       "3              31.50                 145            157               9.81   \n",
       "4              28.62                 124            142               8.88   \n",
       "\n",
       "   Super tackles  All-outs inflicted  All-outs conceded  \n",
       "0             14                  12                 26  \n",
       "1             16                  11                 25  \n",
       "2             10                  18                 23  \n",
       "3             12                  21                 19  \n",
       "4             18                  18                 17  "
      ]
     },
     "execution_count": 11,
     "metadata": {},
     "output_type": "execute_result"
    }
   ],
   "source": [
    "df_train.head()"
   ]
  },
  {
   "cell_type": "markdown",
   "metadata": {},
   "source": [
    "###### Drop the columns \"Avg points scored\", \"Avg tackle points\" from both train and test dataframes as they are derived from existing data"
   ]
  },
  {
   "cell_type": "code",
   "execution_count": 12,
   "metadata": {},
   "outputs": [],
   "source": [
    "df_train.drop(columns = [\"Avg tackle points\", \"Avg points scored\"], inplace = True)\n",
    "df_test.drop(columns = [\"Avg tackle points\", \"Avg points scored\"], inplace = True)"
   ]
  },
  {
   "cell_type": "code",
   "execution_count": 13,
   "metadata": {},
   "outputs": [
    {
     "name": "stdout",
     "output_type": "stream",
     "text": [
      "<class 'pandas.core.frame.DataFrame'>\n",
      "RangeIndex: 12 entries, 0 to 11\n",
      "Data columns (total 9 columns):\n",
      "Season                 12 non-null object\n",
      "Team                   12 non-null object\n",
      "Matches Played         12 non-null int64\n",
      "Total points scored    12 non-null int64\n",
      "Successful tackles     12 non-null int64\n",
      "Tackle points          12 non-null int64\n",
      "Super tackles          12 non-null int64\n",
      "All-outs inflicted     12 non-null int64\n",
      "All-outs conceded      12 non-null int64\n",
      "dtypes: int64(7), object(2)\n",
      "memory usage: 944.0+ bytes\n"
     ]
    }
   ],
   "source": [
    "df_test.info()"
   ]
  },
  {
   "cell_type": "code",
   "execution_count": 14,
   "metadata": {},
   "outputs": [
    {
     "name": "stdout",
     "output_type": "stream",
     "text": [
      "<class 'pandas.core.frame.DataFrame'>\n",
      "RangeIndex: 56 entries, 0 to 55\n",
      "Data columns (total 9 columns):\n",
      "Season                 56 non-null object\n",
      "Team                   56 non-null object\n",
      "Matches Played         56 non-null int64\n",
      "Total points scored    56 non-null int64\n",
      "Successful tackles     56 non-null int64\n",
      "Tackle points          56 non-null int64\n",
      "Super tackles          56 non-null int64\n",
      "All-outs inflicted     56 non-null int64\n",
      "All-outs conceded      56 non-null int64\n",
      "dtypes: int64(7), object(2)\n",
      "memory usage: 4.0+ KB\n"
     ]
    }
   ],
   "source": [
    "df_train.info()"
   ]
  },
  {
   "cell_type": "code",
   "execution_count": 15,
   "metadata": {},
   "outputs": [
    {
     "data": {
      "text/html": [
       "<div>\n",
       "<style scoped>\n",
       "    .dataframe tbody tr th:only-of-type {\n",
       "        vertical-align: middle;\n",
       "    }\n",
       "\n",
       "    .dataframe tbody tr th {\n",
       "        vertical-align: top;\n",
       "    }\n",
       "\n",
       "    .dataframe thead th {\n",
       "        text-align: right;\n",
       "    }\n",
       "</style>\n",
       "<table border=\"1\" class=\"dataframe\">\n",
       "  <thead>\n",
       "    <tr style=\"text-align: right;\">\n",
       "      <th></th>\n",
       "      <th>Season</th>\n",
       "      <th>Team</th>\n",
       "      <th>Matches Played</th>\n",
       "      <th>Total points scored</th>\n",
       "      <th>Successful tackles</th>\n",
       "      <th>Tackle points</th>\n",
       "      <th>Super tackles</th>\n",
       "      <th>All-outs inflicted</th>\n",
       "      <th>All-outs conceded</th>\n",
       "    </tr>\n",
       "  </thead>\n",
       "  <tbody>\n",
       "    <tr>\n",
       "      <th>0</th>\n",
       "      <td>Season 7</td>\n",
       "      <td>Puneri Paltan</td>\n",
       "      <td>18</td>\n",
       "      <td>578</td>\n",
       "      <td>189</td>\n",
       "      <td>211</td>\n",
       "      <td>22</td>\n",
       "      <td>17</td>\n",
       "      <td>27</td>\n",
       "    </tr>\n",
       "    <tr>\n",
       "      <th>1</th>\n",
       "      <td>Season 7</td>\n",
       "      <td>Tamil Thalaivas</td>\n",
       "      <td>18</td>\n",
       "      <td>525</td>\n",
       "      <td>144</td>\n",
       "      <td>155</td>\n",
       "      <td>13</td>\n",
       "      <td>13</td>\n",
       "      <td>26</td>\n",
       "    </tr>\n",
       "    <tr>\n",
       "      <th>2</th>\n",
       "      <td>Season 7</td>\n",
       "      <td>U.P. Yoddha</td>\n",
       "      <td>17</td>\n",
       "      <td>514</td>\n",
       "      <td>167</td>\n",
       "      <td>180</td>\n",
       "      <td>14</td>\n",
       "      <td>20</td>\n",
       "      <td>21</td>\n",
       "    </tr>\n",
       "    <tr>\n",
       "      <th>3</th>\n",
       "      <td>Season 7</td>\n",
       "      <td>Bengaluru Bulls</td>\n",
       "      <td>17</td>\n",
       "      <td>582</td>\n",
       "      <td>148</td>\n",
       "      <td>171</td>\n",
       "      <td>25</td>\n",
       "      <td>18</td>\n",
       "      <td>21</td>\n",
       "    </tr>\n",
       "    <tr>\n",
       "      <th>4</th>\n",
       "      <td>Season 7</td>\n",
       "      <td>Telugu Titans</td>\n",
       "      <td>16</td>\n",
       "      <td>474</td>\n",
       "      <td>143</td>\n",
       "      <td>163</td>\n",
       "      <td>21</td>\n",
       "      <td>9</td>\n",
       "      <td>20</td>\n",
       "    </tr>\n",
       "  </tbody>\n",
       "</table>\n",
       "</div>"
      ],
      "text/plain": [
       "     Season             Team  Matches Played  Total points scored  \\\n",
       "0  Season 7    Puneri Paltan              18                  578   \n",
       "1  Season 7  Tamil Thalaivas              18                  525   \n",
       "2  Season 7      U.P. Yoddha              17                  514   \n",
       "3  Season 7  Bengaluru Bulls              17                  582   \n",
       "4  Season 7    Telugu Titans              16                  474   \n",
       "\n",
       "   Successful tackles  Tackle points  Super tackles  All-outs inflicted  \\\n",
       "0                 189            211             22                  17   \n",
       "1                 144            155             13                  13   \n",
       "2                 167            180             14                  20   \n",
       "3                 148            171             25                  18   \n",
       "4                 143            163             21                   9   \n",
       "\n",
       "   All-outs conceded  \n",
       "0                 27  \n",
       "1                 26  \n",
       "2                 21  \n",
       "3                 21  \n",
       "4                 20  "
      ]
     },
     "execution_count": 15,
     "metadata": {},
     "output_type": "execute_result"
    }
   ],
   "source": [
    "df_test.head()"
   ]
  },
  {
   "cell_type": "code",
   "execution_count": 16,
   "metadata": {},
   "outputs": [
    {
     "data": {
      "text/html": [
       "<div>\n",
       "<style scoped>\n",
       "    .dataframe tbody tr th:only-of-type {\n",
       "        vertical-align: middle;\n",
       "    }\n",
       "\n",
       "    .dataframe tbody tr th {\n",
       "        vertical-align: top;\n",
       "    }\n",
       "\n",
       "    .dataframe thead th {\n",
       "        text-align: right;\n",
       "    }\n",
       "</style>\n",
       "<table border=\"1\" class=\"dataframe\">\n",
       "  <thead>\n",
       "    <tr style=\"text-align: right;\">\n",
       "      <th></th>\n",
       "      <th>Season</th>\n",
       "      <th>Team</th>\n",
       "      <th>Matches Played</th>\n",
       "      <th>Total points scored</th>\n",
       "      <th>Successful tackles</th>\n",
       "      <th>Tackle points</th>\n",
       "      <th>Super tackles</th>\n",
       "      <th>All-outs inflicted</th>\n",
       "      <th>All-outs conceded</th>\n",
       "    </tr>\n",
       "  </thead>\n",
       "  <tbody>\n",
       "    <tr>\n",
       "      <th>0</th>\n",
       "      <td>Season 1</td>\n",
       "      <td>Puneri Paltan</td>\n",
       "      <td>14</td>\n",
       "      <td>536</td>\n",
       "      <td>93</td>\n",
       "      <td>107</td>\n",
       "      <td>14</td>\n",
       "      <td>12</td>\n",
       "      <td>26</td>\n",
       "    </tr>\n",
       "    <tr>\n",
       "      <th>1</th>\n",
       "      <td>Season 1</td>\n",
       "      <td>Bengal Warriors</td>\n",
       "      <td>14</td>\n",
       "      <td>515</td>\n",
       "      <td>106</td>\n",
       "      <td>122</td>\n",
       "      <td>16</td>\n",
       "      <td>11</td>\n",
       "      <td>25</td>\n",
       "    </tr>\n",
       "    <tr>\n",
       "      <th>2</th>\n",
       "      <td>Season 1</td>\n",
       "      <td>Dabang Delhi K.C.</td>\n",
       "      <td>14</td>\n",
       "      <td>471</td>\n",
       "      <td>124</td>\n",
       "      <td>134</td>\n",
       "      <td>10</td>\n",
       "      <td>18</td>\n",
       "      <td>23</td>\n",
       "    </tr>\n",
       "    <tr>\n",
       "      <th>3</th>\n",
       "      <td>Season 1</td>\n",
       "      <td>U Mumba</td>\n",
       "      <td>16</td>\n",
       "      <td>499</td>\n",
       "      <td>145</td>\n",
       "      <td>157</td>\n",
       "      <td>12</td>\n",
       "      <td>21</td>\n",
       "      <td>19</td>\n",
       "    </tr>\n",
       "    <tr>\n",
       "      <th>4</th>\n",
       "      <td>Season 1</td>\n",
       "      <td>Patna Pirates</td>\n",
       "      <td>16</td>\n",
       "      <td>487</td>\n",
       "      <td>124</td>\n",
       "      <td>142</td>\n",
       "      <td>18</td>\n",
       "      <td>18</td>\n",
       "      <td>17</td>\n",
       "    </tr>\n",
       "  </tbody>\n",
       "</table>\n",
       "</div>"
      ],
      "text/plain": [
       "     Season               Team  Matches Played  Total points scored  \\\n",
       "0  Season 1      Puneri Paltan              14                  536   \n",
       "1  Season 1    Bengal Warriors              14                  515   \n",
       "2  Season 1  Dabang Delhi K.C.              14                  471   \n",
       "3  Season 1            U Mumba              16                  499   \n",
       "4  Season 1      Patna Pirates              16                  487   \n",
       "\n",
       "   Successful tackles  Tackle points  Super tackles  All-outs inflicted  \\\n",
       "0                  93            107             14                  12   \n",
       "1                 106            122             16                  11   \n",
       "2                 124            134             10                  18   \n",
       "3                 145            157             12                  21   \n",
       "4                 124            142             18                  18   \n",
       "\n",
       "   All-outs conceded  \n",
       "0                 26  \n",
       "1                 25  \n",
       "2                 23  \n",
       "3                 19  \n",
       "4                 17  "
      ]
     },
     "execution_count": 16,
     "metadata": {},
     "output_type": "execute_result"
    }
   ],
   "source": [
    "df_train.head()"
   ]
  },
  {
   "cell_type": "markdown",
   "metadata": {},
   "source": [
    "###### Copy the df_test datframe to df_final_tackle_points_prediction dataframe"
   ]
  },
  {
   "cell_type": "code",
   "execution_count": 17,
   "metadata": {},
   "outputs": [],
   "source": [
    "df_final_tackle_points_prediction = df_test.copy()"
   ]
  },
  {
   "cell_type": "markdown",
   "metadata": {},
   "source": [
    "###### From the train & test dataframes, drop the columns: \"Season\", \"Team\""
   ]
  },
  {
   "cell_type": "code",
   "execution_count": 18,
   "metadata": {},
   "outputs": [],
   "source": [
    "df_train.drop(columns = [\"Season\", \"Team\"], inplace = True)\n",
    "df_test.drop(columns = [\"Season\", \"Team\"], inplace = True)"
   ]
  },
  {
   "cell_type": "code",
   "execution_count": 19,
   "metadata": {},
   "outputs": [
    {
     "name": "stdout",
     "output_type": "stream",
     "text": [
      "<class 'pandas.core.frame.DataFrame'>\n",
      "RangeIndex: 12 entries, 0 to 11\n",
      "Data columns (total 7 columns):\n",
      "Matches Played         12 non-null int64\n",
      "Total points scored    12 non-null int64\n",
      "Successful tackles     12 non-null int64\n",
      "Tackle points          12 non-null int64\n",
      "Super tackles          12 non-null int64\n",
      "All-outs inflicted     12 non-null int64\n",
      "All-outs conceded      12 non-null int64\n",
      "dtypes: int64(7)\n",
      "memory usage: 752.0 bytes\n"
     ]
    }
   ],
   "source": [
    "df_test.info()"
   ]
  },
  {
   "cell_type": "code",
   "execution_count": 20,
   "metadata": {},
   "outputs": [
    {
     "name": "stdout",
     "output_type": "stream",
     "text": [
      "<class 'pandas.core.frame.DataFrame'>\n",
      "RangeIndex: 56 entries, 0 to 55\n",
      "Data columns (total 7 columns):\n",
      "Matches Played         56 non-null int64\n",
      "Total points scored    56 non-null int64\n",
      "Successful tackles     56 non-null int64\n",
      "Tackle points          56 non-null int64\n",
      "Super tackles          56 non-null int64\n",
      "All-outs inflicted     56 non-null int64\n",
      "All-outs conceded      56 non-null int64\n",
      "dtypes: int64(7)\n",
      "memory usage: 3.1 KB\n"
     ]
    }
   ],
   "source": [
    "df_train.info()"
   ]
  },
  {
   "cell_type": "code",
   "execution_count": 21,
   "metadata": {},
   "outputs": [
    {
     "data": {
      "text/html": [
       "<div>\n",
       "<style scoped>\n",
       "    .dataframe tbody tr th:only-of-type {\n",
       "        vertical-align: middle;\n",
       "    }\n",
       "\n",
       "    .dataframe tbody tr th {\n",
       "        vertical-align: top;\n",
       "    }\n",
       "\n",
       "    .dataframe thead th {\n",
       "        text-align: right;\n",
       "    }\n",
       "</style>\n",
       "<table border=\"1\" class=\"dataframe\">\n",
       "  <thead>\n",
       "    <tr style=\"text-align: right;\">\n",
       "      <th></th>\n",
       "      <th>Matches Played</th>\n",
       "      <th>Total points scored</th>\n",
       "      <th>Successful tackles</th>\n",
       "      <th>Tackle points</th>\n",
       "      <th>Super tackles</th>\n",
       "      <th>All-outs inflicted</th>\n",
       "      <th>All-outs conceded</th>\n",
       "    </tr>\n",
       "  </thead>\n",
       "  <tbody>\n",
       "    <tr>\n",
       "      <th>0</th>\n",
       "      <td>18</td>\n",
       "      <td>578</td>\n",
       "      <td>189</td>\n",
       "      <td>211</td>\n",
       "      <td>22</td>\n",
       "      <td>17</td>\n",
       "      <td>27</td>\n",
       "    </tr>\n",
       "    <tr>\n",
       "      <th>1</th>\n",
       "      <td>18</td>\n",
       "      <td>525</td>\n",
       "      <td>144</td>\n",
       "      <td>155</td>\n",
       "      <td>13</td>\n",
       "      <td>13</td>\n",
       "      <td>26</td>\n",
       "    </tr>\n",
       "    <tr>\n",
       "      <th>2</th>\n",
       "      <td>17</td>\n",
       "      <td>514</td>\n",
       "      <td>167</td>\n",
       "      <td>180</td>\n",
       "      <td>14</td>\n",
       "      <td>20</td>\n",
       "      <td>21</td>\n",
       "    </tr>\n",
       "    <tr>\n",
       "      <th>3</th>\n",
       "      <td>17</td>\n",
       "      <td>582</td>\n",
       "      <td>148</td>\n",
       "      <td>171</td>\n",
       "      <td>25</td>\n",
       "      <td>18</td>\n",
       "      <td>21</td>\n",
       "    </tr>\n",
       "    <tr>\n",
       "      <th>4</th>\n",
       "      <td>16</td>\n",
       "      <td>474</td>\n",
       "      <td>143</td>\n",
       "      <td>163</td>\n",
       "      <td>21</td>\n",
       "      <td>9</td>\n",
       "      <td>20</td>\n",
       "    </tr>\n",
       "  </tbody>\n",
       "</table>\n",
       "</div>"
      ],
      "text/plain": [
       "   Matches Played  Total points scored  Successful tackles  Tackle points  \\\n",
       "0              18                  578                 189            211   \n",
       "1              18                  525                 144            155   \n",
       "2              17                  514                 167            180   \n",
       "3              17                  582                 148            171   \n",
       "4              16                  474                 143            163   \n",
       "\n",
       "   Super tackles  All-outs inflicted  All-outs conceded  \n",
       "0             22                  17                 27  \n",
       "1             13                  13                 26  \n",
       "2             14                  20                 21  \n",
       "3             25                  18                 21  \n",
       "4             21                   9                 20  "
      ]
     },
     "execution_count": 21,
     "metadata": {},
     "output_type": "execute_result"
    }
   ],
   "source": [
    "df_test.head()"
   ]
  },
  {
   "cell_type": "code",
   "execution_count": 22,
   "metadata": {},
   "outputs": [
    {
     "data": {
      "text/html": [
       "<div>\n",
       "<style scoped>\n",
       "    .dataframe tbody tr th:only-of-type {\n",
       "        vertical-align: middle;\n",
       "    }\n",
       "\n",
       "    .dataframe tbody tr th {\n",
       "        vertical-align: top;\n",
       "    }\n",
       "\n",
       "    .dataframe thead th {\n",
       "        text-align: right;\n",
       "    }\n",
       "</style>\n",
       "<table border=\"1\" class=\"dataframe\">\n",
       "  <thead>\n",
       "    <tr style=\"text-align: right;\">\n",
       "      <th></th>\n",
       "      <th>Matches Played</th>\n",
       "      <th>Total points scored</th>\n",
       "      <th>Successful tackles</th>\n",
       "      <th>Tackle points</th>\n",
       "      <th>Super tackles</th>\n",
       "      <th>All-outs inflicted</th>\n",
       "      <th>All-outs conceded</th>\n",
       "    </tr>\n",
       "  </thead>\n",
       "  <tbody>\n",
       "    <tr>\n",
       "      <th>0</th>\n",
       "      <td>14</td>\n",
       "      <td>536</td>\n",
       "      <td>93</td>\n",
       "      <td>107</td>\n",
       "      <td>14</td>\n",
       "      <td>12</td>\n",
       "      <td>26</td>\n",
       "    </tr>\n",
       "    <tr>\n",
       "      <th>1</th>\n",
       "      <td>14</td>\n",
       "      <td>515</td>\n",
       "      <td>106</td>\n",
       "      <td>122</td>\n",
       "      <td>16</td>\n",
       "      <td>11</td>\n",
       "      <td>25</td>\n",
       "    </tr>\n",
       "    <tr>\n",
       "      <th>2</th>\n",
       "      <td>14</td>\n",
       "      <td>471</td>\n",
       "      <td>124</td>\n",
       "      <td>134</td>\n",
       "      <td>10</td>\n",
       "      <td>18</td>\n",
       "      <td>23</td>\n",
       "    </tr>\n",
       "    <tr>\n",
       "      <th>3</th>\n",
       "      <td>16</td>\n",
       "      <td>499</td>\n",
       "      <td>145</td>\n",
       "      <td>157</td>\n",
       "      <td>12</td>\n",
       "      <td>21</td>\n",
       "      <td>19</td>\n",
       "    </tr>\n",
       "    <tr>\n",
       "      <th>4</th>\n",
       "      <td>16</td>\n",
       "      <td>487</td>\n",
       "      <td>124</td>\n",
       "      <td>142</td>\n",
       "      <td>18</td>\n",
       "      <td>18</td>\n",
       "      <td>17</td>\n",
       "    </tr>\n",
       "  </tbody>\n",
       "</table>\n",
       "</div>"
      ],
      "text/plain": [
       "   Matches Played  Total points scored  Successful tackles  Tackle points  \\\n",
       "0              14                  536                  93            107   \n",
       "1              14                  515                 106            122   \n",
       "2              14                  471                 124            134   \n",
       "3              16                  499                 145            157   \n",
       "4              16                  487                 124            142   \n",
       "\n",
       "   Super tackles  All-outs inflicted  All-outs conceded  \n",
       "0             14                  12                 26  \n",
       "1             16                  11                 25  \n",
       "2             10                  18                 23  \n",
       "3             12                  21                 19  \n",
       "4             18                  18                 17  "
      ]
     },
     "execution_count": 22,
     "metadata": {},
     "output_type": "execute_result"
    }
   ],
   "source": [
    "df_train.head()"
   ]
  },
  {
   "cell_type": "markdown",
   "metadata": {},
   "source": [
    "###### Rescale Features using Min Max Scaler"
   ]
  },
  {
   "cell_type": "code",
   "execution_count": 23,
   "metadata": {},
   "outputs": [
    {
     "data": {
      "text/html": [
       "<div>\n",
       "<style scoped>\n",
       "    .dataframe tbody tr th:only-of-type {\n",
       "        vertical-align: middle;\n",
       "    }\n",
       "\n",
       "    .dataframe tbody tr th {\n",
       "        vertical-align: top;\n",
       "    }\n",
       "\n",
       "    .dataframe thead th {\n",
       "        text-align: right;\n",
       "    }\n",
       "</style>\n",
       "<table border=\"1\" class=\"dataframe\">\n",
       "  <thead>\n",
       "    <tr style=\"text-align: right;\">\n",
       "      <th></th>\n",
       "      <th>Matches Played</th>\n",
       "      <th>Total points scored</th>\n",
       "      <th>Successful tackles</th>\n",
       "      <th>Tackle points</th>\n",
       "      <th>Super tackles</th>\n",
       "      <th>All-outs inflicted</th>\n",
       "      <th>All-outs conceded</th>\n",
       "    </tr>\n",
       "  </thead>\n",
       "  <tbody>\n",
       "    <tr>\n",
       "      <th>0</th>\n",
       "      <td>0.000000</td>\n",
       "      <td>0.255072</td>\n",
       "      <td>0.000000</td>\n",
       "      <td>0.037037</td>\n",
       "      <td>0.310345</td>\n",
       "      <td>0.065217</td>\n",
       "      <td>0.583333</td>\n",
       "    </tr>\n",
       "    <tr>\n",
       "      <th>1</th>\n",
       "      <td>0.000000</td>\n",
       "      <td>0.224638</td>\n",
       "      <td>0.071823</td>\n",
       "      <td>0.116402</td>\n",
       "      <td>0.379310</td>\n",
       "      <td>0.043478</td>\n",
       "      <td>0.541667</td>\n",
       "    </tr>\n",
       "    <tr>\n",
       "      <th>2</th>\n",
       "      <td>0.000000</td>\n",
       "      <td>0.160870</td>\n",
       "      <td>0.171271</td>\n",
       "      <td>0.179894</td>\n",
       "      <td>0.172414</td>\n",
       "      <td>0.195652</td>\n",
       "      <td>0.458333</td>\n",
       "    </tr>\n",
       "    <tr>\n",
       "      <th>3</th>\n",
       "      <td>0.166667</td>\n",
       "      <td>0.201449</td>\n",
       "      <td>0.287293</td>\n",
       "      <td>0.301587</td>\n",
       "      <td>0.241379</td>\n",
       "      <td>0.260870</td>\n",
       "      <td>0.291667</td>\n",
       "    </tr>\n",
       "    <tr>\n",
       "      <th>4</th>\n",
       "      <td>0.166667</td>\n",
       "      <td>0.184058</td>\n",
       "      <td>0.171271</td>\n",
       "      <td>0.222222</td>\n",
       "      <td>0.448276</td>\n",
       "      <td>0.195652</td>\n",
       "      <td>0.208333</td>\n",
       "    </tr>\n",
       "  </tbody>\n",
       "</table>\n",
       "</div>"
      ],
      "text/plain": [
       "   Matches Played  Total points scored  Successful tackles  Tackle points  \\\n",
       "0        0.000000             0.255072            0.000000       0.037037   \n",
       "1        0.000000             0.224638            0.071823       0.116402   \n",
       "2        0.000000             0.160870            0.171271       0.179894   \n",
       "3        0.166667             0.201449            0.287293       0.301587   \n",
       "4        0.166667             0.184058            0.171271       0.222222   \n",
       "\n",
       "   Super tackles  All-outs inflicted  All-outs conceded  \n",
       "0       0.310345            0.065217           0.583333  \n",
       "1       0.379310            0.043478           0.541667  \n",
       "2       0.172414            0.195652           0.458333  \n",
       "3       0.241379            0.260870           0.291667  \n",
       "4       0.448276            0.195652           0.208333  "
      ]
     },
     "execution_count": 23,
     "metadata": {},
     "output_type": "execute_result"
    }
   ],
   "source": [
    "scaler = MinMaxScaler()\n",
    "num_vars = ['Matches Played', 'Total points scored', 'Successful tackles', 'Tackle points', 'Super tackles', 'All-outs inflicted', 'All-outs conceded']\n",
    "df_train[num_vars] = scaler.fit_transform(df_train[num_vars])\n",
    "\n",
    "df_train.head()"
   ]
  },
  {
   "cell_type": "markdown",
   "metadata": {},
   "source": [
    "###### Divide into X & Y. Y = 'Tackle Points' (Column to be predicted)"
   ]
  },
  {
   "cell_type": "code",
   "execution_count": 24,
   "metadata": {},
   "outputs": [],
   "source": [
    "y_train = df_train.pop('Tackle points')\n",
    "X_train = df_train"
   ]
  },
  {
   "cell_type": "code",
   "execution_count": 25,
   "metadata": {},
   "outputs": [
    {
     "data": {
      "text/plain": [
       "0    0.037037\n",
       "1    0.116402\n",
       "2    0.179894\n",
       "3    0.301587\n",
       "4    0.222222\n",
       "Name: Tackle points, dtype: float64"
      ]
     },
     "execution_count": 25,
     "metadata": {},
     "output_type": "execute_result"
    }
   ],
   "source": [
    "y_train.head()"
   ]
  },
  {
   "cell_type": "code",
   "execution_count": 26,
   "metadata": {},
   "outputs": [
    {
     "name": "stdout",
     "output_type": "stream",
     "text": [
      "<class 'pandas.core.frame.DataFrame'>\n",
      "RangeIndex: 56 entries, 0 to 55\n",
      "Data columns (total 6 columns):\n",
      "Matches Played         56 non-null float64\n",
      "Total points scored    56 non-null float64\n",
      "Successful tackles     56 non-null float64\n",
      "Super tackles          56 non-null float64\n",
      "All-outs inflicted     56 non-null float64\n",
      "All-outs conceded      56 non-null float64\n",
      "dtypes: float64(6)\n",
      "memory usage: 2.7 KB\n"
     ]
    }
   ],
   "source": [
    "X_train.info()"
   ]
  },
  {
   "cell_type": "code",
   "execution_count": 27,
   "metadata": {},
   "outputs": [
    {
     "data": {
      "text/html": [
       "<div>\n",
       "<style scoped>\n",
       "    .dataframe tbody tr th:only-of-type {\n",
       "        vertical-align: middle;\n",
       "    }\n",
       "\n",
       "    .dataframe tbody tr th {\n",
       "        vertical-align: top;\n",
       "    }\n",
       "\n",
       "    .dataframe thead th {\n",
       "        text-align: right;\n",
       "    }\n",
       "</style>\n",
       "<table border=\"1\" class=\"dataframe\">\n",
       "  <thead>\n",
       "    <tr style=\"text-align: right;\">\n",
       "      <th></th>\n",
       "      <th>Matches Played</th>\n",
       "      <th>Total points scored</th>\n",
       "      <th>Successful tackles</th>\n",
       "      <th>Super tackles</th>\n",
       "      <th>All-outs inflicted</th>\n",
       "      <th>All-outs conceded</th>\n",
       "    </tr>\n",
       "  </thead>\n",
       "  <tbody>\n",
       "    <tr>\n",
       "      <th>0</th>\n",
       "      <td>0.000000</td>\n",
       "      <td>0.255072</td>\n",
       "      <td>0.000000</td>\n",
       "      <td>0.310345</td>\n",
       "      <td>0.065217</td>\n",
       "      <td>0.583333</td>\n",
       "    </tr>\n",
       "    <tr>\n",
       "      <th>1</th>\n",
       "      <td>0.000000</td>\n",
       "      <td>0.224638</td>\n",
       "      <td>0.071823</td>\n",
       "      <td>0.379310</td>\n",
       "      <td>0.043478</td>\n",
       "      <td>0.541667</td>\n",
       "    </tr>\n",
       "    <tr>\n",
       "      <th>2</th>\n",
       "      <td>0.000000</td>\n",
       "      <td>0.160870</td>\n",
       "      <td>0.171271</td>\n",
       "      <td>0.172414</td>\n",
       "      <td>0.195652</td>\n",
       "      <td>0.458333</td>\n",
       "    </tr>\n",
       "    <tr>\n",
       "      <th>3</th>\n",
       "      <td>0.166667</td>\n",
       "      <td>0.201449</td>\n",
       "      <td>0.287293</td>\n",
       "      <td>0.241379</td>\n",
       "      <td>0.260870</td>\n",
       "      <td>0.291667</td>\n",
       "    </tr>\n",
       "    <tr>\n",
       "      <th>4</th>\n",
       "      <td>0.166667</td>\n",
       "      <td>0.184058</td>\n",
       "      <td>0.171271</td>\n",
       "      <td>0.448276</td>\n",
       "      <td>0.195652</td>\n",
       "      <td>0.208333</td>\n",
       "    </tr>\n",
       "  </tbody>\n",
       "</table>\n",
       "</div>"
      ],
      "text/plain": [
       "   Matches Played  Total points scored  Successful tackles  Super tackles  \\\n",
       "0        0.000000             0.255072            0.000000       0.310345   \n",
       "1        0.000000             0.224638            0.071823       0.379310   \n",
       "2        0.000000             0.160870            0.171271       0.172414   \n",
       "3        0.166667             0.201449            0.287293       0.241379   \n",
       "4        0.166667             0.184058            0.171271       0.448276   \n",
       "\n",
       "   All-outs inflicted  All-outs conceded  \n",
       "0            0.065217           0.583333  \n",
       "1            0.043478           0.541667  \n",
       "2            0.195652           0.458333  \n",
       "3            0.260870           0.291667  \n",
       "4            0.195652           0.208333  "
      ]
     },
     "execution_count": 27,
     "metadata": {},
     "output_type": "execute_result"
    }
   ],
   "source": [
    "X_train.head()"
   ]
  },
  {
   "cell_type": "code",
   "execution_count": 28,
   "metadata": {},
   "outputs": [
    {
     "data": {
      "text/html": [
       "<div>\n",
       "<style scoped>\n",
       "    .dataframe tbody tr th:only-of-type {\n",
       "        vertical-align: middle;\n",
       "    }\n",
       "\n",
       "    .dataframe tbody tr th {\n",
       "        vertical-align: top;\n",
       "    }\n",
       "\n",
       "    .dataframe thead th {\n",
       "        text-align: right;\n",
       "    }\n",
       "</style>\n",
       "<table border=\"1\" class=\"dataframe\">\n",
       "  <thead>\n",
       "    <tr style=\"text-align: right;\">\n",
       "      <th></th>\n",
       "      <th>Matches Played</th>\n",
       "      <th>Total points scored</th>\n",
       "      <th>Successful tackles</th>\n",
       "      <th>Super tackles</th>\n",
       "      <th>All-outs inflicted</th>\n",
       "      <th>All-outs conceded</th>\n",
       "    </tr>\n",
       "  </thead>\n",
       "  <tbody>\n",
       "    <tr>\n",
       "      <th>0</th>\n",
       "      <td>0.000000</td>\n",
       "      <td>0.255072</td>\n",
       "      <td>0.000000</td>\n",
       "      <td>0.310345</td>\n",
       "      <td>0.065217</td>\n",
       "      <td>0.583333</td>\n",
       "    </tr>\n",
       "    <tr>\n",
       "      <th>1</th>\n",
       "      <td>0.000000</td>\n",
       "      <td>0.224638</td>\n",
       "      <td>0.071823</td>\n",
       "      <td>0.379310</td>\n",
       "      <td>0.043478</td>\n",
       "      <td>0.541667</td>\n",
       "    </tr>\n",
       "    <tr>\n",
       "      <th>2</th>\n",
       "      <td>0.000000</td>\n",
       "      <td>0.160870</td>\n",
       "      <td>0.171271</td>\n",
       "      <td>0.172414</td>\n",
       "      <td>0.195652</td>\n",
       "      <td>0.458333</td>\n",
       "    </tr>\n",
       "    <tr>\n",
       "      <th>3</th>\n",
       "      <td>0.166667</td>\n",
       "      <td>0.201449</td>\n",
       "      <td>0.287293</td>\n",
       "      <td>0.241379</td>\n",
       "      <td>0.260870</td>\n",
       "      <td>0.291667</td>\n",
       "    </tr>\n",
       "    <tr>\n",
       "      <th>4</th>\n",
       "      <td>0.166667</td>\n",
       "      <td>0.184058</td>\n",
       "      <td>0.171271</td>\n",
       "      <td>0.448276</td>\n",
       "      <td>0.195652</td>\n",
       "      <td>0.208333</td>\n",
       "    </tr>\n",
       "  </tbody>\n",
       "</table>\n",
       "</div>"
      ],
      "text/plain": [
       "   Matches Played  Total points scored  Successful tackles  Super tackles  \\\n",
       "0        0.000000             0.255072            0.000000       0.310345   \n",
       "1        0.000000             0.224638            0.071823       0.379310   \n",
       "2        0.000000             0.160870            0.171271       0.172414   \n",
       "3        0.166667             0.201449            0.287293       0.241379   \n",
       "4        0.166667             0.184058            0.171271       0.448276   \n",
       "\n",
       "   All-outs inflicted  All-outs conceded  \n",
       "0            0.065217           0.583333  \n",
       "1            0.043478           0.541667  \n",
       "2            0.195652           0.458333  \n",
       "3            0.260870           0.291667  \n",
       "4            0.195652           0.208333  "
      ]
     },
     "execution_count": 28,
     "metadata": {},
     "output_type": "execute_result"
    }
   ],
   "source": [
    "X_train.head()"
   ]
  },
  {
   "cell_type": "markdown",
   "metadata": {},
   "source": [
    "###### Model Selection using RFE "
   ]
  },
  {
   "cell_type": "code",
   "execution_count": 29,
   "metadata": {},
   "outputs": [],
   "source": [
    "# Run RFE with the output number of the variable equal to 6\n",
    "lm = LinearRegression()\n",
    "lm.fit(X_train, y_train)\n",
    "\n",
    "rfe = RFE(lm, 6)\n",
    "rfe = rfe.fit(X_train, y_train)"
   ]
  },
  {
   "cell_type": "code",
   "execution_count": 30,
   "metadata": {},
   "outputs": [
    {
     "data": {
      "text/plain": [
       "[('Matches Played', True, 1),\n",
       " ('Total points scored', True, 1),\n",
       " ('Successful tackles', True, 1),\n",
       " ('Super tackles', True, 1),\n",
       " ('All-outs inflicted', True, 1),\n",
       " ('All-outs conceded', True, 1)]"
      ]
     },
     "execution_count": 30,
     "metadata": {},
     "output_type": "execute_result"
    }
   ],
   "source": [
    "list(zip(X_train.columns,rfe.support_,rfe.ranking_))"
   ]
  },
  {
   "cell_type": "code",
   "execution_count": 31,
   "metadata": {},
   "outputs": [
    {
     "data": {
      "text/plain": [
       "Index(['Matches Played', 'Total points scored', 'Successful tackles',\n",
       "       'Super tackles', 'All-outs inflicted', 'All-outs conceded'],\n",
       "      dtype='object')"
      ]
     },
     "execution_count": 31,
     "metadata": {},
     "output_type": "execute_result"
    }
   ],
   "source": [
    "col = X_train.columns[rfe.support_]\n",
    "col"
   ]
  },
  {
   "cell_type": "code",
   "execution_count": 32,
   "metadata": {},
   "outputs": [
    {
     "data": {
      "text/plain": [
       "Index([], dtype='object')"
      ]
     },
     "execution_count": 32,
     "metadata": {},
     "output_type": "execute_result"
    }
   ],
   "source": [
    "X_train.columns[~rfe.support_]"
   ]
  },
  {
   "cell_type": "markdown",
   "metadata": {},
   "source": [
    "###### Build our model using statsmodel, for the detailed statistics"
   ]
  },
  {
   "cell_type": "code",
   "execution_count": 33,
   "metadata": {},
   "outputs": [],
   "source": [
    "# Creating X_test dataframe with RFE selected variables\n",
    "X_train_rfe = X_train[col]"
   ]
  },
  {
   "cell_type": "code",
   "execution_count": 34,
   "metadata": {},
   "outputs": [],
   "source": [
    "# Adding a constant variable \n",
    "X_train_rfe = sm.add_constant(X_train_rfe)"
   ]
  },
  {
   "cell_type": "code",
   "execution_count": 35,
   "metadata": {},
   "outputs": [
    {
     "name": "stdout",
     "output_type": "stream",
     "text": [
      "                            OLS Regression Results                            \n",
      "==============================================================================\n",
      "Dep. Variable:          Tackle points   R-squared:                       1.000\n",
      "Model:                            OLS   Adj. R-squared:                  1.000\n",
      "Method:                 Least Squares   F-statistic:                 3.657e+04\n",
      "Date:                Sun, 22 Sep 2019   Prob (F-statistic):           1.19e-87\n",
      "Time:                        14:01:18   Log-Likelihood:                 233.05\n",
      "No. Observations:                  56   AIC:                            -452.1\n",
      "Df Residuals:                      49   BIC:                            -437.9\n",
      "Df Model:                           6                                         \n",
      "Covariance Type:            nonrobust                                         \n",
      "=======================================================================================\n",
      "                          coef    std err          t      P>|t|      [0.025      0.975]\n",
      "---------------------------------------------------------------------------------------\n",
      "const                  -0.0117      0.002     -5.511      0.000      -0.016      -0.007\n",
      "Matches Played         -0.0079      0.007     -1.173      0.246      -0.021       0.006\n",
      "Total points scored     0.0006      0.011      0.058      0.954      -0.021       0.022\n",
      "Successful tackles      0.9569      0.007    147.146      0.000       0.944       0.970\n",
      "Super tackles           0.1459      0.003     48.361      0.000       0.140       0.152\n",
      "All-outs inflicted      0.0080      0.008      1.025      0.310      -0.008       0.024\n",
      "All-outs conceded       0.0020      0.004      0.484      0.630      -0.006       0.010\n",
      "==============================================================================\n",
      "Omnibus:                        1.028   Durbin-Watson:                   2.044\n",
      "Prob(Omnibus):                  0.598   Jarque-Bera (JB):                0.953\n",
      "Skew:                          -0.305   Prob(JB):                        0.621\n",
      "Kurtosis:                       2.808   Cond. No.                         32.7\n",
      "==============================================================================\n",
      "\n",
      "Warnings:\n",
      "[1] Standard Errors assume that the covariance matrix of the errors is correctly specified.\n"
     ]
    }
   ],
   "source": [
    "# Run the linear model\n",
    "lm = sm.OLS(y_train,X_train_rfe).fit()\n",
    "print(lm.summary())"
   ]
  },
  {
   "cell_type": "code",
   "execution_count": 36,
   "metadata": {},
   "outputs": [],
   "source": [
    "X_train_new = X_train_rfe.drop(['const'], axis=1)"
   ]
  },
  {
   "cell_type": "code",
   "execution_count": 37,
   "metadata": {},
   "outputs": [
    {
     "data": {
      "text/html": [
       "<div>\n",
       "<style scoped>\n",
       "    .dataframe tbody tr th:only-of-type {\n",
       "        vertical-align: middle;\n",
       "    }\n",
       "\n",
       "    .dataframe tbody tr th {\n",
       "        vertical-align: top;\n",
       "    }\n",
       "\n",
       "    .dataframe thead th {\n",
       "        text-align: right;\n",
       "    }\n",
       "</style>\n",
       "<table border=\"1\" class=\"dataframe\">\n",
       "  <thead>\n",
       "    <tr style=\"text-align: right;\">\n",
       "      <th></th>\n",
       "      <th>Features</th>\n",
       "      <th>VIF</th>\n",
       "    </tr>\n",
       "  </thead>\n",
       "  <tbody>\n",
       "    <tr>\n",
       "      <th>1</th>\n",
       "      <td>Total points scored</td>\n",
       "      <td>57.72</td>\n",
       "    </tr>\n",
       "    <tr>\n",
       "      <th>0</th>\n",
       "      <td>Matches Played</td>\n",
       "      <td>29.49</td>\n",
       "    </tr>\n",
       "    <tr>\n",
       "      <th>2</th>\n",
       "      <td>Successful tackles</td>\n",
       "      <td>21.38</td>\n",
       "    </tr>\n",
       "    <tr>\n",
       "      <th>4</th>\n",
       "      <td>All-outs inflicted</td>\n",
       "      <td>17.25</td>\n",
       "    </tr>\n",
       "    <tr>\n",
       "      <th>5</th>\n",
       "      <td>All-outs conceded</td>\n",
       "      <td>5.76</td>\n",
       "    </tr>\n",
       "    <tr>\n",
       "      <th>3</th>\n",
       "      <td>Super tackles</td>\n",
       "      <td>4.74</td>\n",
       "    </tr>\n",
       "  </tbody>\n",
       "</table>\n",
       "</div>"
      ],
      "text/plain": [
       "              Features    VIF\n",
       "1  Total points scored  57.72\n",
       "0       Matches Played  29.49\n",
       "2   Successful tackles  21.38\n",
       "4   All-outs inflicted  17.25\n",
       "5    All-outs conceded   5.76\n",
       "3        Super tackles   4.74"
      ]
     },
     "execution_count": 37,
     "metadata": {},
     "output_type": "execute_result"
    }
   ],
   "source": [
    "# Calculate the VIFs for the new model\n",
    "\n",
    "vif = pd.DataFrame()\n",
    "X = X_train_new\n",
    "vif['Features'] = X.columns\n",
    "vif['VIF'] = [variance_inflation_factor(X.values, i) for i in range(X.shape[1])]\n",
    "vif['VIF'] = round(vif['VIF'], 2)\n",
    "vif = vif.sort_values(by = \"VIF\", ascending = False)\n",
    "vif"
   ]
  },
  {
   "cell_type": "code",
   "execution_count": 38,
   "metadata": {},
   "outputs": [],
   "source": [
    "# Drop the column \"Total points scored\" (P-Value: 0.954 & VIF: 57.72)\n",
    "X_train_new = X_train_new.drop([\"Total points scored\"], axis = 1)"
   ]
  },
  {
   "cell_type": "code",
   "execution_count": 39,
   "metadata": {},
   "outputs": [
    {
     "name": "stdout",
     "output_type": "stream",
     "text": [
      "                            OLS Regression Results                            \n",
      "==============================================================================\n",
      "Dep. Variable:          Tackle points   R-squared:                       1.000\n",
      "Model:                            OLS   Adj. R-squared:                  1.000\n",
      "Method:                 Least Squares   F-statistic:                 4.477e+04\n",
      "Date:                Sun, 22 Sep 2019   Prob (F-statistic):           5.33e-90\n",
      "Time:                        14:01:18   Log-Likelihood:                 233.04\n",
      "No. Observations:                  56   AIC:                            -454.1\n",
      "Df Residuals:                      50   BIC:                            -441.9\n",
      "Df Model:                           5                                         \n",
      "Covariance Type:            nonrobust                                         \n",
      "======================================================================================\n",
      "                         coef    std err          t      P>|t|      [0.025      0.975]\n",
      "--------------------------------------------------------------------------------------\n",
      "const                 -0.0117      0.002     -5.786      0.000      -0.016      -0.008\n",
      "Matches Played        -0.0077      0.006     -1.320      0.193      -0.020       0.004\n",
      "Successful tackles     0.9569      0.006    149.347      0.000       0.944       0.970\n",
      "Super tackles          0.1460      0.003     50.102      0.000       0.140       0.152\n",
      "All-outs inflicted     0.0083      0.005      1.628      0.110      -0.002       0.019\n",
      "All-outs conceded      0.0021      0.004      0.563      0.576      -0.005       0.010\n",
      "==============================================================================\n",
      "Omnibus:                        1.032   Durbin-Watson:                   2.046\n",
      "Prob(Omnibus):                  0.597   Jarque-Bera (JB):                0.962\n",
      "Skew:                          -0.306   Prob(JB):                        0.618\n",
      "Kurtosis:                       2.803   Cond. No.                         21.7\n",
      "==============================================================================\n",
      "\n",
      "Warnings:\n",
      "[1] Standard Errors assume that the covariance matrix of the errors is correctly specified.\n"
     ]
    }
   ],
   "source": [
    "# Run the linear model\n",
    "X_train_lm = sm.add_constant(X_train_new)\n",
    "lm = sm.OLS(y_train,X_train_lm).fit()\n",
    "print(lm.summary())"
   ]
  },
  {
   "cell_type": "code",
   "execution_count": 40,
   "metadata": {},
   "outputs": [
    {
     "data": {
      "text/html": [
       "<div>\n",
       "<style scoped>\n",
       "    .dataframe tbody tr th:only-of-type {\n",
       "        vertical-align: middle;\n",
       "    }\n",
       "\n",
       "    .dataframe tbody tr th {\n",
       "        vertical-align: top;\n",
       "    }\n",
       "\n",
       "    .dataframe thead th {\n",
       "        text-align: right;\n",
       "    }\n",
       "</style>\n",
       "<table border=\"1\" class=\"dataframe\">\n",
       "  <thead>\n",
       "    <tr style=\"text-align: right;\">\n",
       "      <th></th>\n",
       "      <th>Features</th>\n",
       "      <th>VIF</th>\n",
       "    </tr>\n",
       "  </thead>\n",
       "  <tbody>\n",
       "    <tr>\n",
       "      <th>1</th>\n",
       "      <td>Successful tackles</td>\n",
       "      <td>21.33</td>\n",
       "    </tr>\n",
       "    <tr>\n",
       "      <th>0</th>\n",
       "      <td>Matches Played</td>\n",
       "      <td>13.28</td>\n",
       "    </tr>\n",
       "    <tr>\n",
       "      <th>3</th>\n",
       "      <td>All-outs inflicted</td>\n",
       "      <td>7.73</td>\n",
       "    </tr>\n",
       "    <tr>\n",
       "      <th>4</th>\n",
       "      <td>All-outs conceded</td>\n",
       "      <td>5.10</td>\n",
       "    </tr>\n",
       "    <tr>\n",
       "      <th>2</th>\n",
       "      <td>Super tackles</td>\n",
       "      <td>4.66</td>\n",
       "    </tr>\n",
       "  </tbody>\n",
       "</table>\n",
       "</div>"
      ],
      "text/plain": [
       "             Features    VIF\n",
       "1  Successful tackles  21.33\n",
       "0      Matches Played  13.28\n",
       "3  All-outs inflicted   7.73\n",
       "4   All-outs conceded   5.10\n",
       "2       Super tackles   4.66"
      ]
     },
     "execution_count": 40,
     "metadata": {},
     "output_type": "execute_result"
    }
   ],
   "source": [
    "# Calculate the VIFs for the new model\n",
    "\n",
    "vif = pd.DataFrame()\n",
    "X = X_train_new\n",
    "vif['Features'] = X.columns\n",
    "vif['VIF'] = [variance_inflation_factor(X.values, i) for i in range(X.shape[1])]\n",
    "vif['VIF'] = round(vif['VIF'], 2)\n",
    "vif = vif.sort_values(by = \"VIF\", ascending = False)\n",
    "vif"
   ]
  },
  {
   "cell_type": "code",
   "execution_count": 41,
   "metadata": {},
   "outputs": [],
   "source": [
    "# Drop the column \"All-outs conceded\" (P-Value: 0.576 & VIF: 5.10)\n",
    "X_train_new = X_train_new.drop([\"All-outs conceded\"], axis = 1)"
   ]
  },
  {
   "cell_type": "code",
   "execution_count": 42,
   "metadata": {},
   "outputs": [
    {
     "name": "stdout",
     "output_type": "stream",
     "text": [
      "                            OLS Regression Results                            \n",
      "==============================================================================\n",
      "Dep. Variable:          Tackle points   R-squared:                       1.000\n",
      "Model:                            OLS   Adj. R-squared:                  1.000\n",
      "Method:                 Least Squares   F-statistic:                 5.673e+04\n",
      "Date:                Sun, 22 Sep 2019   Prob (F-statistic):           2.45e-92\n",
      "Time:                        14:01:18   Log-Likelihood:                 232.87\n",
      "No. Observations:                  56   AIC:                            -455.7\n",
      "Df Residuals:                      51   BIC:                            -445.6\n",
      "Df Model:                           4                                         \n",
      "Covariance Type:            nonrobust                                         \n",
      "======================================================================================\n",
      "                         coef    std err          t      P>|t|      [0.025      0.975]\n",
      "--------------------------------------------------------------------------------------\n",
      "const                 -0.0109      0.001     -8.189      0.000      -0.014      -0.008\n",
      "Matches Played        -0.0051      0.003     -1.486      0.143      -0.012       0.002\n",
      "Successful tackles     0.9550      0.005    178.401      0.000       0.944       0.966\n",
      "Super tackles          0.1461      0.003     50.627      0.000       0.140       0.152\n",
      "All-outs inflicted     0.0072      0.005      1.539      0.130      -0.002       0.017\n",
      "==============================================================================\n",
      "Omnibus:                        1.065   Durbin-Watson:                   2.031\n",
      "Prob(Omnibus):                  0.587   Jarque-Bera (JB):                0.935\n",
      "Skew:                          -0.308   Prob(JB):                        0.627\n",
      "Kurtosis:                       2.854   Cond. No.                         15.4\n",
      "==============================================================================\n",
      "\n",
      "Warnings:\n",
      "[1] Standard Errors assume that the covariance matrix of the errors is correctly specified.\n"
     ]
    }
   ],
   "source": [
    "# Run the linear model\n",
    "X_train_lm = sm.add_constant(X_train_new)\n",
    "lm = sm.OLS(y_train,X_train_lm).fit()\n",
    "print(lm.summary())"
   ]
  },
  {
   "cell_type": "code",
   "execution_count": 43,
   "metadata": {},
   "outputs": [
    {
     "data": {
      "text/html": [
       "<div>\n",
       "<style scoped>\n",
       "    .dataframe tbody tr th:only-of-type {\n",
       "        vertical-align: middle;\n",
       "    }\n",
       "\n",
       "    .dataframe tbody tr th {\n",
       "        vertical-align: top;\n",
       "    }\n",
       "\n",
       "    .dataframe thead th {\n",
       "        text-align: right;\n",
       "    }\n",
       "</style>\n",
       "<table border=\"1\" class=\"dataframe\">\n",
       "  <thead>\n",
       "    <tr style=\"text-align: right;\">\n",
       "      <th></th>\n",
       "      <th>Features</th>\n",
       "      <th>VIF</th>\n",
       "    </tr>\n",
       "  </thead>\n",
       "  <tbody>\n",
       "    <tr>\n",
       "      <th>1</th>\n",
       "      <td>Successful tackles</td>\n",
       "      <td>19.90</td>\n",
       "    </tr>\n",
       "    <tr>\n",
       "      <th>0</th>\n",
       "      <td>Matches Played</td>\n",
       "      <td>9.04</td>\n",
       "    </tr>\n",
       "    <tr>\n",
       "      <th>3</th>\n",
       "      <td>All-outs inflicted</td>\n",
       "      <td>7.73</td>\n",
       "    </tr>\n",
       "    <tr>\n",
       "      <th>2</th>\n",
       "      <td>Super tackles</td>\n",
       "      <td>3.12</td>\n",
       "    </tr>\n",
       "  </tbody>\n",
       "</table>\n",
       "</div>"
      ],
      "text/plain": [
       "             Features    VIF\n",
       "1  Successful tackles  19.90\n",
       "0      Matches Played   9.04\n",
       "3  All-outs inflicted   7.73\n",
       "2       Super tackles   3.12"
      ]
     },
     "execution_count": 43,
     "metadata": {},
     "output_type": "execute_result"
    }
   ],
   "source": [
    "# Calculate the VIFs for the new model\n",
    "\n",
    "vif = pd.DataFrame()\n",
    "X = X_train_new\n",
    "vif['Features'] = X.columns\n",
    "vif['VIF'] = [variance_inflation_factor(X.values, i) for i in range(X.shape[1])]\n",
    "vif['VIF'] = round(vif['VIF'], 2)\n",
    "vif = vif.sort_values(by = \"VIF\", ascending = False)\n",
    "vif"
   ]
  },
  {
   "cell_type": "code",
   "execution_count": 44,
   "metadata": {},
   "outputs": [],
   "source": [
    "# Drop the column \"Matches Played\" (P-Value: 0.143 & VIF: 9.04)\n",
    "X_train_new = X_train_new.drop([\"Matches Played\"], axis = 1)"
   ]
  },
  {
   "cell_type": "code",
   "execution_count": 45,
   "metadata": {},
   "outputs": [
    {
     "name": "stdout",
     "output_type": "stream",
     "text": [
      "                            OLS Regression Results                            \n",
      "==============================================================================\n",
      "Dep. Variable:          Tackle points   R-squared:                       1.000\n",
      "Model:                            OLS   Adj. R-squared:                  1.000\n",
      "Method:                 Least Squares   F-statistic:                 7.392e+04\n",
      "Date:                Sun, 22 Sep 2019   Prob (F-statistic):           2.44e-94\n",
      "Time:                        14:01:19   Log-Likelihood:                 231.68\n",
      "No. Observations:                  56   AIC:                            -455.4\n",
      "Df Residuals:                      52   BIC:                            -447.3\n",
      "Df Model:                           3                                         \n",
      "Covariance Type:            nonrobust                                         \n",
      "======================================================================================\n",
      "                         coef    std err          t      P>|t|      [0.025      0.975]\n",
      "--------------------------------------------------------------------------------------\n",
      "const                 -0.0101      0.001     -8.128      0.000      -0.013      -0.008\n",
      "Successful tackles     0.9495      0.004    242.437      0.000       0.942       0.957\n",
      "Super tackles          0.1449      0.003     51.660      0.000       0.139       0.151\n",
      "All-outs inflicted     0.0069      0.005      1.449      0.153      -0.003       0.016\n",
      "==============================================================================\n",
      "Omnibus:                        1.906   Durbin-Watson:                   2.040\n",
      "Prob(Omnibus):                  0.385   Jarque-Bera (JB):                1.859\n",
      "Skew:                          -0.381   Prob(JB):                        0.395\n",
      "Kurtosis:                       2.534   Cond. No.                         13.2\n",
      "==============================================================================\n",
      "\n",
      "Warnings:\n",
      "[1] Standard Errors assume that the covariance matrix of the errors is correctly specified.\n"
     ]
    }
   ],
   "source": [
    "# Run the linear model\n",
    "X_train_lm = sm.add_constant(X_train_new)\n",
    "lm = sm.OLS(y_train,X_train_lm).fit()\n",
    "print(lm.summary())"
   ]
  },
  {
   "cell_type": "code",
   "execution_count": 46,
   "metadata": {},
   "outputs": [
    {
     "data": {
      "text/html": [
       "<div>\n",
       "<style scoped>\n",
       "    .dataframe tbody tr th:only-of-type {\n",
       "        vertical-align: middle;\n",
       "    }\n",
       "\n",
       "    .dataframe tbody tr th {\n",
       "        vertical-align: top;\n",
       "    }\n",
       "\n",
       "    .dataframe thead th {\n",
       "        text-align: right;\n",
       "    }\n",
       "</style>\n",
       "<table border=\"1\" class=\"dataframe\">\n",
       "  <thead>\n",
       "    <tr style=\"text-align: right;\">\n",
       "      <th></th>\n",
       "      <th>Features</th>\n",
       "      <th>VIF</th>\n",
       "    </tr>\n",
       "  </thead>\n",
       "  <tbody>\n",
       "    <tr>\n",
       "      <th>0</th>\n",
       "      <td>Successful tackles</td>\n",
       "      <td>10.89</td>\n",
       "    </tr>\n",
       "    <tr>\n",
       "      <th>2</th>\n",
       "      <td>All-outs inflicted</td>\n",
       "      <td>7.66</td>\n",
       "    </tr>\n",
       "    <tr>\n",
       "      <th>1</th>\n",
       "      <td>Super tackles</td>\n",
       "      <td>3.12</td>\n",
       "    </tr>\n",
       "  </tbody>\n",
       "</table>\n",
       "</div>"
      ],
      "text/plain": [
       "             Features    VIF\n",
       "0  Successful tackles  10.89\n",
       "2  All-outs inflicted   7.66\n",
       "1       Super tackles   3.12"
      ]
     },
     "execution_count": 46,
     "metadata": {},
     "output_type": "execute_result"
    }
   ],
   "source": [
    "# Calculate the VIFs for the new model\n",
    "\n",
    "vif = pd.DataFrame()\n",
    "X = X_train_new\n",
    "vif['Features'] = X.columns\n",
    "vif['VIF'] = [variance_inflation_factor(X.values, i) for i in range(X.shape[1])]\n",
    "vif['VIF'] = round(vif['VIF'], 2)\n",
    "vif = vif.sort_values(by = \"VIF\", ascending = False)\n",
    "vif"
   ]
  },
  {
   "cell_type": "code",
   "execution_count": 47,
   "metadata": {},
   "outputs": [],
   "source": [
    "# Drop the column \"All-outs inflicted\" (P-Value: 0.153 & VIF: 7.66)\n",
    "X_train_new = X_train_new.drop([\"All-outs inflicted\"], axis = 1)"
   ]
  },
  {
   "cell_type": "code",
   "execution_count": 48,
   "metadata": {},
   "outputs": [
    {
     "name": "stdout",
     "output_type": "stream",
     "text": [
      "                            OLS Regression Results                            \n",
      "==============================================================================\n",
      "Dep. Variable:          Tackle points   R-squared:                       1.000\n",
      "Model:                            OLS   Adj. R-squared:                  1.000\n",
      "Method:                 Least Squares   F-statistic:                 1.086e+05\n",
      "Date:                Sun, 22 Sep 2019   Prob (F-statistic):           1.83e-96\n",
      "Time:                        14:01:19   Log-Likelihood:                 230.57\n",
      "No. Observations:                  56   AIC:                            -455.1\n",
      "Df Residuals:                      53   BIC:                            -449.1\n",
      "Df Model:                           2                                         \n",
      "Covariance Type:            nonrobust                                         \n",
      "======================================================================================\n",
      "                         coef    std err          t      P>|t|      [0.025      0.975]\n",
      "--------------------------------------------------------------------------------------\n",
      "const                 -0.0095      0.001     -8.084      0.000      -0.012      -0.007\n",
      "Successful tackles     0.9541      0.002    410.470      0.000       0.949       0.959\n",
      "Super tackles          0.1435      0.003     53.836      0.000       0.138       0.149\n",
      "==============================================================================\n",
      "Omnibus:                        2.826   Durbin-Watson:                   1.982\n",
      "Prob(Omnibus):                  0.243   Jarque-Bera (JB):                2.724\n",
      "Skew:                          -0.511   Prob(JB):                        0.256\n",
      "Kurtosis:                       2.651   Cond. No.                         6.22\n",
      "==============================================================================\n",
      "\n",
      "Warnings:\n",
      "[1] Standard Errors assume that the covariance matrix of the errors is correctly specified.\n"
     ]
    }
   ],
   "source": [
    "# Run the linear model\n",
    "X_train_lm = sm.add_constant(X_train_new)\n",
    "lm = sm.OLS(y_train,X_train_lm).fit()\n",
    "print(lm.summary())"
   ]
  },
  {
   "cell_type": "code",
   "execution_count": 49,
   "metadata": {},
   "outputs": [
    {
     "data": {
      "text/html": [
       "<div>\n",
       "<style scoped>\n",
       "    .dataframe tbody tr th:only-of-type {\n",
       "        vertical-align: middle;\n",
       "    }\n",
       "\n",
       "    .dataframe tbody tr th {\n",
       "        vertical-align: top;\n",
       "    }\n",
       "\n",
       "    .dataframe thead th {\n",
       "        text-align: right;\n",
       "    }\n",
       "</style>\n",
       "<table border=\"1\" class=\"dataframe\">\n",
       "  <thead>\n",
       "    <tr style=\"text-align: right;\">\n",
       "      <th></th>\n",
       "      <th>Features</th>\n",
       "      <th>VIF</th>\n",
       "    </tr>\n",
       "  </thead>\n",
       "  <tbody>\n",
       "    <tr>\n",
       "      <th>0</th>\n",
       "      <td>Successful tackles</td>\n",
       "      <td>3.04</td>\n",
       "    </tr>\n",
       "    <tr>\n",
       "      <th>1</th>\n",
       "      <td>Super tackles</td>\n",
       "      <td>3.04</td>\n",
       "    </tr>\n",
       "  </tbody>\n",
       "</table>\n",
       "</div>"
      ],
      "text/plain": [
       "             Features   VIF\n",
       "0  Successful tackles  3.04\n",
       "1       Super tackles  3.04"
      ]
     },
     "execution_count": 49,
     "metadata": {},
     "output_type": "execute_result"
    }
   ],
   "source": [
    "# Calculate the VIFs for the new model\n",
    "\n",
    "vif = pd.DataFrame()\n",
    "X = X_train_new\n",
    "vif['Features'] = X.columns\n",
    "vif['VIF'] = [variance_inflation_factor(X.values, i) for i in range(X.shape[1])]\n",
    "vif['VIF'] = round(vif['VIF'], 2)\n",
    "vif = vif.sort_values(by = \"VIF\", ascending = False)\n",
    "vif"
   ]
  },
  {
   "cell_type": "markdown",
   "metadata": {},
   "source": [
    "###### The two variables remaining are statisitcally signifcant with VIF  < 5 "
   ]
  },
  {
   "cell_type": "markdown",
   "metadata": {},
   "source": [
    "###### We now derive an initial linear model with R-Squared: 1, adjusted R-Squared: 1, F-Statistic Probability practically 0, AIC: -455 & BIC: -449. "
   ]
  },
  {
   "cell_type": "markdown",
   "metadata": {},
   "source": [
    "###### The equation of the initial linear model is: Tackle Points = ( -0.01 + [ (0.95 *\tSuccessful tackles ] + [ (0.14) * Super tackles ] )"
   ]
  },
  {
   "cell_type": "markdown",
   "metadata": {},
   "source": [
    "###### Residual Analysis of the train data\n",
    "\n",
    "So, now to check if the error terms are also normally distributed (which is infact, one of the major assumptions of linear regression), let us plot the histogram of the error terms and see what it looks like."
   ]
  },
  {
   "cell_type": "code",
   "execution_count": 50,
   "metadata": {},
   "outputs": [],
   "source": [
    "y_train_points = lm.predict(X_train_lm)"
   ]
  },
  {
   "cell_type": "code",
   "execution_count": 51,
   "metadata": {},
   "outputs": [
    {
     "data": {
      "text/plain": [
       "Text(0.5, 0, 'Errors')"
      ]
     },
     "execution_count": 51,
     "metadata": {},
     "output_type": "execute_result"
    },
    {
     "data": {
      "image/png": "[encoded data removed]",
      "text/plain": [
       "<Figure size 432x288 with 1 Axes>"
      ]
     },
     "metadata": {
      "needs_background": "light"
     },
     "output_type": "display_data"
    }
   ],
   "source": [
    "# Plot the histogram of the error terms\n",
    "fig = plt.figure()\n",
    "sns.distplot((y_train - y_train_points), bins = 20)\n",
    "fig.suptitle('Error Terms', fontsize = 20)                  # Plot heading \n",
    "plt.xlabel('Errors', fontsize = 18)                         # X-label"
   ]
  },
  {
   "cell_type": "markdown",
   "metadata": {},
   "source": [
    "###### Error terms are normally distributed with mean centered around 0"
   ]
  },
  {
   "cell_type": "markdown",
   "metadata": {},
   "source": [
    "###### We will now proceed with making predictions on the test dataset"
   ]
  },
  {
   "cell_type": "code",
   "execution_count": 52,
   "metadata": {},
   "outputs": [
    {
     "data": {
      "text/html": [
       "<div>\n",
       "<style scoped>\n",
       "    .dataframe tbody tr th:only-of-type {\n",
       "        vertical-align: middle;\n",
       "    }\n",
       "\n",
       "    .dataframe tbody tr th {\n",
       "        vertical-align: top;\n",
       "    }\n",
       "\n",
       "    .dataframe thead th {\n",
       "        text-align: right;\n",
       "    }\n",
       "</style>\n",
       "<table border=\"1\" class=\"dataframe\">\n",
       "  <thead>\n",
       "    <tr style=\"text-align: right;\">\n",
       "      <th></th>\n",
       "      <th>Matches Played</th>\n",
       "      <th>Total points scored</th>\n",
       "      <th>Successful tackles</th>\n",
       "      <th>Tackle points</th>\n",
       "      <th>Super tackles</th>\n",
       "      <th>All-outs inflicted</th>\n",
       "      <th>All-outs conceded</th>\n",
       "    </tr>\n",
       "  </thead>\n",
       "  <tbody>\n",
       "    <tr>\n",
       "      <th>0</th>\n",
       "      <td>0.333333</td>\n",
       "      <td>0.315942</td>\n",
       "      <td>0.530387</td>\n",
       "      <td>0.587302</td>\n",
       "      <td>0.586207</td>\n",
       "      <td>0.173913</td>\n",
       "      <td>0.625000</td>\n",
       "    </tr>\n",
       "    <tr>\n",
       "      <th>1</th>\n",
       "      <td>0.333333</td>\n",
       "      <td>0.239130</td>\n",
       "      <td>0.281768</td>\n",
       "      <td>0.291005</td>\n",
       "      <td>0.275862</td>\n",
       "      <td>0.086957</td>\n",
       "      <td>0.583333</td>\n",
       "    </tr>\n",
       "    <tr>\n",
       "      <th>2</th>\n",
       "      <td>0.250000</td>\n",
       "      <td>0.223188</td>\n",
       "      <td>0.408840</td>\n",
       "      <td>0.423280</td>\n",
       "      <td>0.310345</td>\n",
       "      <td>0.239130</td>\n",
       "      <td>0.375000</td>\n",
       "    </tr>\n",
       "    <tr>\n",
       "      <th>3</th>\n",
       "      <td>0.250000</td>\n",
       "      <td>0.321739</td>\n",
       "      <td>0.303867</td>\n",
       "      <td>0.375661</td>\n",
       "      <td>0.689655</td>\n",
       "      <td>0.195652</td>\n",
       "      <td>0.375000</td>\n",
       "    </tr>\n",
       "    <tr>\n",
       "      <th>4</th>\n",
       "      <td>0.166667</td>\n",
       "      <td>0.165217</td>\n",
       "      <td>0.276243</td>\n",
       "      <td>0.333333</td>\n",
       "      <td>0.551724</td>\n",
       "      <td>0.000000</td>\n",
       "      <td>0.333333</td>\n",
       "    </tr>\n",
       "  </tbody>\n",
       "</table>\n",
       "</div>"
      ],
      "text/plain": [
       "   Matches Played  Total points scored  Successful tackles  Tackle points  \\\n",
       "0        0.333333             0.315942            0.530387       0.587302   \n",
       "1        0.333333             0.239130            0.281768       0.291005   \n",
       "2        0.250000             0.223188            0.408840       0.423280   \n",
       "3        0.250000             0.321739            0.303867       0.375661   \n",
       "4        0.166667             0.165217            0.276243       0.333333   \n",
       "\n",
       "   Super tackles  All-outs inflicted  All-outs conceded  \n",
       "0       0.586207            0.173913           0.625000  \n",
       "1       0.275862            0.086957           0.583333  \n",
       "2       0.310345            0.239130           0.375000  \n",
       "3       0.689655            0.195652           0.375000  \n",
       "4       0.551724            0.000000           0.333333  "
      ]
     },
     "execution_count": 52,
     "metadata": {},
     "output_type": "execute_result"
    }
   ],
   "source": [
    "num_vars = ['Matches Played', 'Total points scored', 'Successful tackles', 'Tackle points', 'Super tackles', 'All-outs inflicted', 'All-outs conceded']\n",
    "\n",
    "df_test[num_vars] = scaler.transform(df_test[num_vars])\n",
    "df_test.head()"
   ]
  },
  {
   "cell_type": "code",
   "execution_count": 53,
   "metadata": {},
   "outputs": [],
   "source": [
    "y_test = df_test.pop('Tackle points')\n",
    "X_test = df_test"
   ]
  },
  {
   "cell_type": "code",
   "execution_count": 54,
   "metadata": {},
   "outputs": [],
   "source": [
    "# Now let's use our model to make predictions.\n",
    "\n",
    "# Creating X_test_new dataframe by dropping variables from X_test\n",
    "X_test_new = X_test[X_train_new.columns]\n",
    "\n",
    "# Adding a constant variable \n",
    "X_test_new = sm.add_constant(X_test_new)"
   ]
  },
  {
   "cell_type": "code",
   "execution_count": 55,
   "metadata": {},
   "outputs": [],
   "source": [
    "y_pred = lm.predict(X_test_new)"
   ]
  },
  {
   "cell_type": "code",
   "execution_count": 56,
   "metadata": {},
   "outputs": [
    {
     "data": {
      "text/plain": [
       "12"
      ]
     },
     "execution_count": 56,
     "metadata": {},
     "output_type": "execute_result"
    }
   ],
   "source": [
    "y_pred.count()"
   ]
  },
  {
   "cell_type": "code",
   "execution_count": 57,
   "metadata": {},
   "outputs": [
    {
     "data": {
      "text/plain": [
       "Text(0, 0.5, 'y_pred')"
      ]
     },
     "execution_count": 57,
     "metadata": {},
     "output_type": "execute_result"
    },
    {
     "data": {
      "image/png": "[encoded data removed]",
      "text/plain": [
       "<Figure size 432x288 with 1 Axes>"
      ]
     },
     "metadata": {
      "needs_background": "light"
     },
     "output_type": "display_data"
    }
   ],
   "source": [
    "fig = plt.figure()\n",
    "plt.scatter(y_test,y_pred)\n",
    "fig.suptitle('y_test vs y_pred', fontsize=20)              # Plot heading \n",
    "plt.xlabel('y_test', fontsize=18)                          # X-label\n",
    "plt.ylabel('y_pred', fontsize=16)                          # Y-label"
   ]
  },
  {
   "cell_type": "markdown",
   "metadata": {},
   "source": [
    "###### Our Final Equation will be: Tackle Points = ( -0.01 + [ (0.95 *\tSuccessful tackles ] + [ (0.14) * Super tackles ] )"
   ]
  },
  {
   "cell_type": "code",
   "execution_count": 58,
   "metadata": {},
   "outputs": [
    {
     "data": {
      "text/html": [
       "<div>\n",
       "<style scoped>\n",
       "    .dataframe tbody tr th:only-of-type {\n",
       "        vertical-align: middle;\n",
       "    }\n",
       "\n",
       "    .dataframe tbody tr th {\n",
       "        vertical-align: top;\n",
       "    }\n",
       "\n",
       "    .dataframe thead th {\n",
       "        text-align: right;\n",
       "    }\n",
       "</style>\n",
       "<table border=\"1\" class=\"dataframe\">\n",
       "  <thead>\n",
       "    <tr style=\"text-align: right;\">\n",
       "      <th></th>\n",
       "      <th>Season</th>\n",
       "      <th>Team</th>\n",
       "      <th>Matches Played</th>\n",
       "      <th>Total points scored</th>\n",
       "      <th>Successful tackles</th>\n",
       "      <th>Tackle points</th>\n",
       "      <th>Super tackles</th>\n",
       "      <th>All-outs inflicted</th>\n",
       "      <th>All-outs conceded</th>\n",
       "    </tr>\n",
       "  </thead>\n",
       "  <tbody>\n",
       "    <tr>\n",
       "      <th>0</th>\n",
       "      <td>Season 7</td>\n",
       "      <td>Puneri Paltan</td>\n",
       "      <td>18</td>\n",
       "      <td>578</td>\n",
       "      <td>189</td>\n",
       "      <td>211</td>\n",
       "      <td>22</td>\n",
       "      <td>17</td>\n",
       "      <td>27</td>\n",
       "    </tr>\n",
       "    <tr>\n",
       "      <th>1</th>\n",
       "      <td>Season 7</td>\n",
       "      <td>Tamil Thalaivas</td>\n",
       "      <td>18</td>\n",
       "      <td>525</td>\n",
       "      <td>144</td>\n",
       "      <td>155</td>\n",
       "      <td>13</td>\n",
       "      <td>13</td>\n",
       "      <td>26</td>\n",
       "    </tr>\n",
       "    <tr>\n",
       "      <th>2</th>\n",
       "      <td>Season 7</td>\n",
       "      <td>U.P. Yoddha</td>\n",
       "      <td>17</td>\n",
       "      <td>514</td>\n",
       "      <td>167</td>\n",
       "      <td>180</td>\n",
       "      <td>14</td>\n",
       "      <td>20</td>\n",
       "      <td>21</td>\n",
       "    </tr>\n",
       "    <tr>\n",
       "      <th>3</th>\n",
       "      <td>Season 7</td>\n",
       "      <td>Bengaluru Bulls</td>\n",
       "      <td>17</td>\n",
       "      <td>582</td>\n",
       "      <td>148</td>\n",
       "      <td>171</td>\n",
       "      <td>25</td>\n",
       "      <td>18</td>\n",
       "      <td>21</td>\n",
       "    </tr>\n",
       "    <tr>\n",
       "      <th>4</th>\n",
       "      <td>Season 7</td>\n",
       "      <td>Telugu Titans</td>\n",
       "      <td>16</td>\n",
       "      <td>474</td>\n",
       "      <td>143</td>\n",
       "      <td>163</td>\n",
       "      <td>21</td>\n",
       "      <td>9</td>\n",
       "      <td>20</td>\n",
       "    </tr>\n",
       "  </tbody>\n",
       "</table>\n",
       "</div>"
      ],
      "text/plain": [
       "     Season             Team  Matches Played  Total points scored  \\\n",
       "0  Season 7    Puneri Paltan              18                  578   \n",
       "1  Season 7  Tamil Thalaivas              18                  525   \n",
       "2  Season 7      U.P. Yoddha              17                  514   \n",
       "3  Season 7  Bengaluru Bulls              17                  582   \n",
       "4  Season 7    Telugu Titans              16                  474   \n",
       "\n",
       "   Successful tackles  Tackle points  Super tackles  All-outs inflicted  \\\n",
       "0                 189            211             22                  17   \n",
       "1                 144            155             13                  13   \n",
       "2                 167            180             14                  20   \n",
       "3                 148            171             25                  18   \n",
       "4                 143            163             21                   9   \n",
       "\n",
       "   All-outs conceded  \n",
       "0                 27  \n",
       "1                 26  \n",
       "2                 21  \n",
       "3                 21  \n",
       "4                 20  "
      ]
     },
     "execution_count": 58,
     "metadata": {},
     "output_type": "execute_result"
    }
   ],
   "source": [
    "df_final_tackle_points_prediction.head()"
   ]
  },
  {
   "cell_type": "code",
   "execution_count": 59,
   "metadata": {},
   "outputs": [],
   "source": [
    "df_final_tackle_points_prediction = df_final_tackle_points_prediction[['Season', 'Team', 'Successful tackles', 'Super tackles']]"
   ]
  },
  {
   "cell_type": "code",
   "execution_count": 60,
   "metadata": {},
   "outputs": [
    {
     "data": {
      "text/html": [
       "<div>\n",
       "<style scoped>\n",
       "    .dataframe tbody tr th:only-of-type {\n",
       "        vertical-align: middle;\n",
       "    }\n",
       "\n",
       "    .dataframe tbody tr th {\n",
       "        vertical-align: top;\n",
       "    }\n",
       "\n",
       "    .dataframe thead th {\n",
       "        text-align: right;\n",
       "    }\n",
       "</style>\n",
       "<table border=\"1\" class=\"dataframe\">\n",
       "  <thead>\n",
       "    <tr style=\"text-align: right;\">\n",
       "      <th></th>\n",
       "      <th>Season</th>\n",
       "      <th>Team</th>\n",
       "      <th>Successful tackles</th>\n",
       "      <th>Super tackles</th>\n",
       "    </tr>\n",
       "  </thead>\n",
       "  <tbody>\n",
       "    <tr>\n",
       "      <th>0</th>\n",
       "      <td>Season 7</td>\n",
       "      <td>Puneri Paltan</td>\n",
       "      <td>189</td>\n",
       "      <td>22</td>\n",
       "    </tr>\n",
       "    <tr>\n",
       "      <th>1</th>\n",
       "      <td>Season 7</td>\n",
       "      <td>Tamil Thalaivas</td>\n",
       "      <td>144</td>\n",
       "      <td>13</td>\n",
       "    </tr>\n",
       "    <tr>\n",
       "      <th>2</th>\n",
       "      <td>Season 7</td>\n",
       "      <td>U.P. Yoddha</td>\n",
       "      <td>167</td>\n",
       "      <td>14</td>\n",
       "    </tr>\n",
       "    <tr>\n",
       "      <th>3</th>\n",
       "      <td>Season 7</td>\n",
       "      <td>Bengaluru Bulls</td>\n",
       "      <td>148</td>\n",
       "      <td>25</td>\n",
       "    </tr>\n",
       "    <tr>\n",
       "      <th>4</th>\n",
       "      <td>Season 7</td>\n",
       "      <td>Telugu Titans</td>\n",
       "      <td>143</td>\n",
       "      <td>21</td>\n",
       "    </tr>\n",
       "  </tbody>\n",
       "</table>\n",
       "</div>"
      ],
      "text/plain": [
       "     Season             Team  Successful tackles  Super tackles\n",
       "0  Season 7    Puneri Paltan                 189             22\n",
       "1  Season 7  Tamil Thalaivas                 144             13\n",
       "2  Season 7      U.P. Yoddha                 167             14\n",
       "3  Season 7  Bengaluru Bulls                 148             25\n",
       "4  Season 7    Telugu Titans                 143             21"
      ]
     },
     "execution_count": 60,
     "metadata": {},
     "output_type": "execute_result"
    }
   ],
   "source": [
    "df_final_tackle_points_prediction.head()"
   ]
  },
  {
   "cell_type": "code",
   "execution_count": 61,
   "metadata": {},
   "outputs": [],
   "source": [
    "df_final_tackle_points_prediction['Tackle Points Projected'] = round((\n",
    "    -0.01 \n",
    "    + (0.95 * df_final_tackle_points_prediction['Successful tackles']) \n",
    "    + (0.14 * df_final_tackle_points_prediction['Super tackles']) \n",
    "), 0)"
   ]
  },
  {
   "cell_type": "code",
   "execution_count": 62,
   "metadata": {},
   "outputs": [],
   "source": [
    "df_final_tackle_points_prediction['Tackle Points Projected'] = df_final_tackle_points_prediction['Tackle Points Projected'].astype('int64')"
   ]
  },
  {
   "cell_type": "code",
   "execution_count": 63,
   "metadata": {},
   "outputs": [
    {
     "data": {
      "text/plain": [
       "0    Puneri Paltan\n",
       "Name: Team, dtype: object"
      ]
     },
     "execution_count": 63,
     "metadata": {},
     "output_type": "execute_result"
    }
   ],
   "source": [
    "df_final_tackle_points_prediction['Team'].head(1)"
   ]
  },
  {
   "cell_type": "markdown",
   "metadata": {},
   "source": [
    "### Final prediction: PUNERI PALTAN will top the tackle points chart "
   ]
  }
 ],
 "metadata": {
  "kernelspec": {
   "display_name": "Python 3",
   "language": "python",
   "name": "python3"
  },
  "language_info": {
   "codemirror_mode": {
    "name": "ipython",
    "version": 3
   },
   "file_extension": ".py",
   "mimetype": "text/x-python",
   "name": "python",
   "nbconvert_exporter": "python",
   "pygments_lexer": "ipython3",
   "version": "3.7.3"
  }
 },
 "nbformat": 4,
 "nbformat_minor": 2
}
